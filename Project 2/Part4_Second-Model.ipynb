{
 "cells": [
  {
   "cell_type": "code",
   "execution_count": 150,
   "metadata": {
    "collapsed": false
   },
   "outputs": [],
   "source": [
    "# Importing the libraries\n",
    "import numpy as np\n",
    "import matplotlib.pyplot as plt\n",
    "import pandas as pd\n",
    "# all of the imports\n",
    "import pandas as pd\n",
    "import numpy as np\n",
    "import pickle \n",
    "import patsy\n",
    "import statsmodels.api as sm\n",
    "import statsmodels.formula.api as smf\n",
    "import matplotlib.pyplot as plt\n",
    "import seaborn as sns\n",
    "from sklearn.linear_model import LinearRegression\n",
    "from sklearn import metrics\n",
    "from sklearn.preprocessing import PolynomialFeatures\n",
    "from sklearn.pipeline import make_pipeline\n",
    "from sklearn.cross_validation import train_test_split\n",
    "from sklearn.cross_validation import KFold\n",
    "from scipy import stats \n",
    "% matplotlib inline"
   ]
  },
  {
   "cell_type": "code",
   "execution_count": 181,
   "metadata": {
    "collapsed": false
   },
   "outputs": [
    {
     "data": {
      "text/html": [
       "<div>\n",
       "<style>\n",
       "    .dataframe thead tr:only-child th {\n",
       "        text-align: right;\n",
       "    }\n",
       "\n",
       "    .dataframe thead th {\n",
       "        text-align: left;\n",
       "    }\n",
       "\n",
       "    .dataframe tbody tr th {\n",
       "        vertical-align: top;\n",
       "    }\n",
       "</style>\n",
       "<table border=\"1\" class=\"dataframe\">\n",
       "  <thead>\n",
       "    <tr style=\"text-align: right;\">\n",
       "      <th></th>\n",
       "      <th>Unnamed: 0</th>\n",
       "      <th>Unnamed: 0.1</th>\n",
       "      <th>country</th>\n",
       "      <th>Percent_Obese</th>\n",
       "      <th>GDPper_cap</th>\n",
       "      <th>Insufficiently_active</th>\n",
       "      <th>Education</th>\n",
       "      <th>Region_Africa</th>\n",
       "      <th>Region_Arab_States</th>\n",
       "      <th>Region_Europe</th>\n",
       "      <th>...</th>\n",
       "      <th>Urbanization_Rate</th>\n",
       "      <th>Urban_Population</th>\n",
       "      <th>Imports</th>\n",
       "      <th>log(Imports)</th>\n",
       "      <th>log(Imports)*Asia</th>\n",
       "      <th>Asia*Urbanization</th>\n",
       "      <th>UrbanPop*ArabStates</th>\n",
       "      <th>Asia*Globalization</th>\n",
       "      <th>Urbanization*GDPpercap</th>\n",
       "      <th>Europe*GDPpercap</th>\n",
       "    </tr>\n",
       "  </thead>\n",
       "  <tbody>\n",
       "    <tr>\n",
       "      <th>0</th>\n",
       "      <td>0</td>\n",
       "      <td>0</td>\n",
       "      <td>Russia</td>\n",
       "      <td>24.1</td>\n",
       "      <td>26500</td>\n",
       "      <td>9.5</td>\n",
       "      <td>0.780</td>\n",
       "      <td>0</td>\n",
       "      <td>0</td>\n",
       "      <td>0</td>\n",
       "      <td>...</td>\n",
       "      <td>-0.13</td>\n",
       "      <td>74.0</td>\n",
       "      <td>1.651000e+11</td>\n",
       "      <td>25.829817</td>\n",
       "      <td>0.000000</td>\n",
       "      <td>-0.00</td>\n",
       "      <td>0.0</td>\n",
       "      <td>0.00</td>\n",
       "      <td>-1.324037</td>\n",
       "      <td>0</td>\n",
       "    </tr>\n",
       "    <tr>\n",
       "      <th>1</th>\n",
       "      <td>1</td>\n",
       "      <td>1</td>\n",
       "      <td>Qatar</td>\n",
       "      <td>42.3</td>\n",
       "      <td>127700</td>\n",
       "      <td>41.6</td>\n",
       "      <td>0.686</td>\n",
       "      <td>0</td>\n",
       "      <td>1</td>\n",
       "      <td>0</td>\n",
       "      <td>...</td>\n",
       "      <td>6.02</td>\n",
       "      <td>99.2</td>\n",
       "      <td>3.376000e+10</td>\n",
       "      <td>24.242543</td>\n",
       "      <td>0.000000</td>\n",
       "      <td>0.00</td>\n",
       "      <td>99.2</td>\n",
       "      <td>0.00</td>\n",
       "      <td>70.779783</td>\n",
       "      <td>0</td>\n",
       "    </tr>\n",
       "    <tr>\n",
       "      <th>2</th>\n",
       "      <td>2</td>\n",
       "      <td>2</td>\n",
       "      <td>Luxembourg</td>\n",
       "      <td>23.1</td>\n",
       "      <td>10400</td>\n",
       "      <td>28.5</td>\n",
       "      <td>0.762</td>\n",
       "      <td>0</td>\n",
       "      <td>0</td>\n",
       "      <td>1</td>\n",
       "      <td>...</td>\n",
       "      <td>1.71</td>\n",
       "      <td>90.2</td>\n",
       "      <td>1.833000e+10</td>\n",
       "      <td>23.631805</td>\n",
       "      <td>0.000000</td>\n",
       "      <td>0.00</td>\n",
       "      <td>0.0</td>\n",
       "      <td>0.00</td>\n",
       "      <td>15.816749</td>\n",
       "      <td>10400</td>\n",
       "    </tr>\n",
       "    <tr>\n",
       "      <th>3</th>\n",
       "      <td>3</td>\n",
       "      <td>3</td>\n",
       "      <td>Singapore</td>\n",
       "      <td>6.2</td>\n",
       "      <td>87900</td>\n",
       "      <td>33.1</td>\n",
       "      <td>0.768</td>\n",
       "      <td>0</td>\n",
       "      <td>0</td>\n",
       "      <td>0</td>\n",
       "      <td>...</td>\n",
       "      <td>2.02</td>\n",
       "      <td>100.0</td>\n",
       "      <td>2.713000e+11</td>\n",
       "      <td>26.326491</td>\n",
       "      <td>26.326491</td>\n",
       "      <td>2.02</td>\n",
       "      <td>0.0</td>\n",
       "      <td>78.63</td>\n",
       "      <td>22.995589</td>\n",
       "      <td>0</td>\n",
       "    </tr>\n",
       "    <tr>\n",
       "      <th>4</th>\n",
       "      <td>4</td>\n",
       "      <td>4</td>\n",
       "      <td>Kuwait</td>\n",
       "      <td>39.7</td>\n",
       "      <td>71900</td>\n",
       "      <td>56.6</td>\n",
       "      <td>0.646</td>\n",
       "      <td>0</td>\n",
       "      <td>1</td>\n",
       "      <td>0</td>\n",
       "      <td>...</td>\n",
       "      <td>3.63</td>\n",
       "      <td>98.3</td>\n",
       "      <td>2.832000e+10</td>\n",
       "      <td>24.066834</td>\n",
       "      <td>0.000000</td>\n",
       "      <td>0.00</td>\n",
       "      <td>98.3</td>\n",
       "      <td>0.00</td>\n",
       "      <td>40.594405</td>\n",
       "      <td>0</td>\n",
       "    </tr>\n",
       "  </tbody>\n",
       "</table>\n",
       "<p>5 rows × 24 columns</p>\n",
       "</div>"
      ],
      "text/plain": [
       "   Unnamed: 0  Unnamed: 0.1     country  Percent_Obese  GDPper_cap  \\\n",
       "0           0             0      Russia           24.1       26500   \n",
       "1           1             1       Qatar           42.3      127700   \n",
       "2           2             2  Luxembourg           23.1       10400   \n",
       "3           3             3   Singapore            6.2       87900   \n",
       "4           4             4      Kuwait           39.7       71900   \n",
       "\n",
       "   Insufficiently_active  Education  Region_Africa  Region_Arab_States  \\\n",
       "0                    9.5      0.780              0                   0   \n",
       "1                   41.6      0.686              0                   1   \n",
       "2                   28.5      0.762              0                   0   \n",
       "3                   33.1      0.768              0                   0   \n",
       "4                   56.6      0.646              0                   1   \n",
       "\n",
       "   Region_Europe        ...         Urbanization_Rate  Urban_Population  \\\n",
       "0              0        ...                     -0.13              74.0   \n",
       "1              0        ...                      6.02              99.2   \n",
       "2              1        ...                      1.71              90.2   \n",
       "3              0        ...                      2.02             100.0   \n",
       "4              0        ...                      3.63              98.3   \n",
       "\n",
       "        Imports  log(Imports)  log(Imports)*Asia  Asia*Urbanization  \\\n",
       "0  1.651000e+11     25.829817           0.000000              -0.00   \n",
       "1  3.376000e+10     24.242543           0.000000               0.00   \n",
       "2  1.833000e+10     23.631805           0.000000               0.00   \n",
       "3  2.713000e+11     26.326491          26.326491               2.02   \n",
       "4  2.832000e+10     24.066834           0.000000               0.00   \n",
       "\n",
       "   UrbanPop*ArabStates  Asia*Globalization  Urbanization*GDPpercap  \\\n",
       "0                  0.0                0.00               -1.324037   \n",
       "1                 99.2                0.00               70.779783   \n",
       "2                  0.0                0.00               15.816749   \n",
       "3                  0.0               78.63               22.995589   \n",
       "4                 98.3                0.00               40.594405   \n",
       "\n",
       "   Europe*GDPpercap  \n",
       "0                 0  \n",
       "1                 0  \n",
       "2             10400  \n",
       "3                 0  \n",
       "4                 0  \n",
       "\n",
       "[5 rows x 24 columns]"
      ]
     },
     "execution_count": 181,
     "metadata": {},
     "output_type": "execute_result"
    }
   ],
   "source": [
    "#This is my main dataframe for model, a combination of many others merged throughout this notebook\n",
    "df = pd.read_csv('./data/Countries_Obesity_data.csv') \n",
    "df.head()"
   ]
  },
  {
   "cell_type": "code",
   "execution_count": 152,
   "metadata": {
    "collapsed": false
   },
   "outputs": [
    {
     "data": {
      "text/plain": [
       "\"''\\nGlobalization was brought in as new variable. Was later merged to main dataframe\\n\""
      ]
     },
     "execution_count": 152,
     "metadata": {},
     "output_type": "execute_result"
    }
   ],
   "source": [
    "'''''''''''\n",
    "Globalization was brought in as new variable. Was later merged to main dataframe\n",
    "'''''''''''\n",
    "\n",
    "###df2 = pd.read_csv('Globalisation_Index.csv')"
   ]
  },
  {
   "cell_type": "code",
   "execution_count": 153,
   "metadata": {
    "collapsed": false
   },
   "outputs": [
    {
     "data": {
      "text/plain": [
       "(157, 23)"
      ]
     },
     "execution_count": 153,
     "metadata": {},
     "output_type": "execute_result"
    }
   ],
   "source": [
    "df.shape"
   ]
  },
  {
   "cell_type": "markdown",
   "metadata": {},
   "source": [
    "df3 = pd.merge(df1,df2,on='country') "
   ]
  },
  {
   "cell_type": "code",
   "execution_count": 154,
   "metadata": {
    "collapsed": false
   },
   "outputs": [],
   "source": [
    "#df3 = pd.merge(df,df2,on='country') "
   ]
  },
  {
   "cell_type": "code",
   "execution_count": 155,
   "metadata": {
    "collapsed": false
   },
   "outputs": [
    {
     "data": {
      "text/plain": [
       "Index(['Unnamed: 0', 'country', 'Percent_Obese', 'GDPper_cap',\n",
       "       'Insufficiently_active', 'Education', 'Region_Africa',\n",
       "       'Region_Arab_States', 'Region_Europe', 'Region_Asia_Pacific',\n",
       "       'Region_Latin_America', 'Region_CIS', 'Globalization_index',\n",
       "       'Urbanization_Rate', 'Urban_Population', 'Imports', 'log(Imports)',\n",
       "       'log(Imports)*Asia', 'Asia*Urbanization', 'UrbanPop*ArabStates',\n",
       "       'Asia*Globalization', 'Urbanization*GDPpercap', 'Europe*GDPpercap'],\n",
       "      dtype='object')"
      ]
     },
     "execution_count": 155,
     "metadata": {},
     "output_type": "execute_result"
    }
   ],
   "source": [
    "''''''''''\n",
    "Brought in Imports as new variable, stripped commas and $, finally merged with main dataframe\n",
    "'''''''''''\n",
    "#df_Imports = pd.read_csv('Imports.csv')\n",
    "#df_Imports['Imports_'] = df_Imports['Imports'].str.replace('$','')\n",
    "#df_Imports['Imports_'] = df_Imports['Imports_'].str.replace(',','')\n",
    "#df_Imports['Imports_'] =  pd.to_numeric(df_Imports['Imports_'])\n",
    "df.columns"
   ]
  },
  {
   "cell_type": "code",
   "execution_count": 156,
   "metadata": {
    "collapsed": false
   },
   "outputs": [
    {
     "data": {
      "text/plain": [
       "'\"\"\\nBrought in Urbanization rate as new variable, later merged with main dataframe\\n'"
      ]
     },
     "execution_count": 156,
     "metadata": {},
     "output_type": "execute_result"
    }
   ],
   "source": [
    "\"\"\"\"\"\"\"\"\"\"\"\n",
    "Brought in Urbanization rate as new variable, later merged with main dataframe\n",
    "\"\"\"\"\"\"\"\"\"\"\"\n",
    "\n",
    "#df_urban = pd.read_csv('Urbanization.csv')\n",
    "#df_urban.head()"
   ]
  },
  {
   "cell_type": "code",
   "execution_count": 157,
   "metadata": {
    "collapsed": false
   },
   "outputs": [
    {
     "data": {
      "text/plain": [
       "'\\nAttempted to use workforce by sector as a variable, none proved to be statisticalls signficant and all\\nvariables were removed from model\\n\\n'"
      ]
     },
     "execution_count": 157,
     "metadata": {},
     "output_type": "execute_result"
    }
   ],
   "source": [
    "'''''''''''''''\n",
    "Attempted to use workforce by sector as a variable, none proved to be statisticalls signficant and all\n",
    "variables were removed from model\n",
    "\n",
    "'''''''''''''''\n",
    "#df_workforce = pd.read_csv('Workforce.csv')\n",
    "#df_workforce['Agriculture'] =  pd.to_numeric(df_workforce['Agriculture'])\n",
    "#df_workforce['Industry'] =  pd.to_numeric(df_workforce['Industry'])\n",
    "#df_workforce['Service'] =  pd.to_numeric(df_workforce['Service'])\n",
    "#df_workforce.head()"
   ]
  },
  {
   "cell_type": "code",
   "execution_count": 158,
   "metadata": {
    "collapsed": false
   },
   "outputs": [],
   "source": [
    "#df5['Imports'] = df5['Imports_']"
   ]
  },
  {
   "cell_type": "code",
   "execution_count": 159,
   "metadata": {
    "collapsed": false
   },
   "outputs": [],
   "source": [
    "#df5 = pd.merge(df4,df_Imports,on='country')\n",
    "#df5.head()"
   ]
  },
  {
   "cell_type": "code",
   "execution_count": 160,
   "metadata": {
    "collapsed": false,
    "scrolled": true
   },
   "outputs": [],
   "source": [
    "### Changed Urbanization rate to numeric after stripping % signs\n",
    "\n",
    "#df4['Urbanization_Rate'] = pd.to_numeric(df4['Urbanization_Rate'])"
   ]
  },
  {
   "cell_type": "code",
   "execution_count": 161,
   "metadata": {
    "collapsed": false
   },
   "outputs": [],
   "source": [
    "#df2['Globalization_index'] = pd.to_numeric(df2['Globalisation Index, overall'])"
   ]
  },
  {
   "cell_type": "code",
   "execution_count": 162,
   "metadata": {
    "collapsed": false
   },
   "outputs": [
    {
     "data": {
      "text/html": [
       "<div>\n",
       "<style>\n",
       "    .dataframe thead tr:only-child th {\n",
       "        text-align: right;\n",
       "    }\n",
       "\n",
       "    .dataframe thead th {\n",
       "        text-align: left;\n",
       "    }\n",
       "\n",
       "    .dataframe tbody tr th {\n",
       "        vertical-align: top;\n",
       "    }\n",
       "</style>\n",
       "<table border=\"1\" class=\"dataframe\">\n",
       "  <thead>\n",
       "    <tr style=\"text-align: right;\">\n",
       "      <th></th>\n",
       "      <th>Unnamed: 0</th>\n",
       "      <th>country</th>\n",
       "      <th>Percent_Obese</th>\n",
       "      <th>GDPper_cap</th>\n",
       "      <th>Insufficiently_active</th>\n",
       "      <th>Education</th>\n",
       "      <th>Region_Africa</th>\n",
       "      <th>Region_Arab_States</th>\n",
       "      <th>Region_Europe</th>\n",
       "      <th>Region_Asia_Pacific</th>\n",
       "      <th>...</th>\n",
       "      <th>Urbanization_Rate</th>\n",
       "      <th>Urban_Population</th>\n",
       "      <th>Imports</th>\n",
       "      <th>log(Imports)</th>\n",
       "      <th>log(Imports)*Asia</th>\n",
       "      <th>Asia*Urbanization</th>\n",
       "      <th>UrbanPop*ArabStates</th>\n",
       "      <th>Asia*Globalization</th>\n",
       "      <th>Urbanization*GDPpercap</th>\n",
       "      <th>Europe*GDPpercap</th>\n",
       "    </tr>\n",
       "  </thead>\n",
       "  <tbody>\n",
       "    <tr>\n",
       "      <th>0</th>\n",
       "      <td>0</td>\n",
       "      <td>Russia</td>\n",
       "      <td>24.1</td>\n",
       "      <td>26500</td>\n",
       "      <td>9.5</td>\n",
       "      <td>0.780</td>\n",
       "      <td>0</td>\n",
       "      <td>0</td>\n",
       "      <td>0</td>\n",
       "      <td>0</td>\n",
       "      <td>...</td>\n",
       "      <td>-0.13</td>\n",
       "      <td>74.0</td>\n",
       "      <td>1.651000e+11</td>\n",
       "      <td>25.829817</td>\n",
       "      <td>0.000000</td>\n",
       "      <td>-0.00</td>\n",
       "      <td>0.0</td>\n",
       "      <td>0.00</td>\n",
       "      <td>-1.324037</td>\n",
       "      <td>0</td>\n",
       "    </tr>\n",
       "    <tr>\n",
       "      <th>1</th>\n",
       "      <td>1</td>\n",
       "      <td>Qatar</td>\n",
       "      <td>42.3</td>\n",
       "      <td>127700</td>\n",
       "      <td>41.6</td>\n",
       "      <td>0.686</td>\n",
       "      <td>0</td>\n",
       "      <td>1</td>\n",
       "      <td>0</td>\n",
       "      <td>0</td>\n",
       "      <td>...</td>\n",
       "      <td>6.02</td>\n",
       "      <td>99.2</td>\n",
       "      <td>3.376000e+10</td>\n",
       "      <td>24.242543</td>\n",
       "      <td>0.000000</td>\n",
       "      <td>0.00</td>\n",
       "      <td>99.2</td>\n",
       "      <td>0.00</td>\n",
       "      <td>70.779783</td>\n",
       "      <td>0</td>\n",
       "    </tr>\n",
       "    <tr>\n",
       "      <th>2</th>\n",
       "      <td>2</td>\n",
       "      <td>Luxembourg</td>\n",
       "      <td>23.1</td>\n",
       "      <td>10400</td>\n",
       "      <td>28.5</td>\n",
       "      <td>0.762</td>\n",
       "      <td>0</td>\n",
       "      <td>0</td>\n",
       "      <td>1</td>\n",
       "      <td>0</td>\n",
       "      <td>...</td>\n",
       "      <td>1.71</td>\n",
       "      <td>90.2</td>\n",
       "      <td>1.833000e+10</td>\n",
       "      <td>23.631805</td>\n",
       "      <td>0.000000</td>\n",
       "      <td>0.00</td>\n",
       "      <td>0.0</td>\n",
       "      <td>0.00</td>\n",
       "      <td>15.816749</td>\n",
       "      <td>10400</td>\n",
       "    </tr>\n",
       "    <tr>\n",
       "      <th>3</th>\n",
       "      <td>3</td>\n",
       "      <td>Singapore</td>\n",
       "      <td>6.2</td>\n",
       "      <td>87900</td>\n",
       "      <td>33.1</td>\n",
       "      <td>0.768</td>\n",
       "      <td>0</td>\n",
       "      <td>0</td>\n",
       "      <td>0</td>\n",
       "      <td>1</td>\n",
       "      <td>...</td>\n",
       "      <td>2.02</td>\n",
       "      <td>100.0</td>\n",
       "      <td>2.713000e+11</td>\n",
       "      <td>26.326491</td>\n",
       "      <td>26.326491</td>\n",
       "      <td>2.02</td>\n",
       "      <td>0.0</td>\n",
       "      <td>78.63</td>\n",
       "      <td>22.995589</td>\n",
       "      <td>0</td>\n",
       "    </tr>\n",
       "    <tr>\n",
       "      <th>4</th>\n",
       "      <td>4</td>\n",
       "      <td>Kuwait</td>\n",
       "      <td>39.7</td>\n",
       "      <td>71900</td>\n",
       "      <td>56.6</td>\n",
       "      <td>0.646</td>\n",
       "      <td>0</td>\n",
       "      <td>1</td>\n",
       "      <td>0</td>\n",
       "      <td>0</td>\n",
       "      <td>...</td>\n",
       "      <td>3.63</td>\n",
       "      <td>98.3</td>\n",
       "      <td>2.832000e+10</td>\n",
       "      <td>24.066834</td>\n",
       "      <td>0.000000</td>\n",
       "      <td>0.00</td>\n",
       "      <td>98.3</td>\n",
       "      <td>0.00</td>\n",
       "      <td>40.594405</td>\n",
       "      <td>0</td>\n",
       "    </tr>\n",
       "  </tbody>\n",
       "</table>\n",
       "<p>5 rows × 23 columns</p>\n",
       "</div>"
      ],
      "text/plain": [
       "   Unnamed: 0     country  Percent_Obese  GDPper_cap  Insufficiently_active  \\\n",
       "0           0      Russia           24.1       26500                    9.5   \n",
       "1           1       Qatar           42.3      127700                   41.6   \n",
       "2           2  Luxembourg           23.1       10400                   28.5   \n",
       "3           3   Singapore            6.2       87900                   33.1   \n",
       "4           4      Kuwait           39.7       71900                   56.6   \n",
       "\n",
       "   Education  Region_Africa  Region_Arab_States  Region_Europe  \\\n",
       "0      0.780              0                   0              0   \n",
       "1      0.686              0                   1              0   \n",
       "2      0.762              0                   0              1   \n",
       "3      0.768              0                   0              0   \n",
       "4      0.646              0                   1              0   \n",
       "\n",
       "   Region_Asia_Pacific        ...         Urbanization_Rate  Urban_Population  \\\n",
       "0                    0        ...                     -0.13              74.0   \n",
       "1                    0        ...                      6.02              99.2   \n",
       "2                    0        ...                      1.71              90.2   \n",
       "3                    1        ...                      2.02             100.0   \n",
       "4                    0        ...                      3.63              98.3   \n",
       "\n",
       "        Imports  log(Imports)  log(Imports)*Asia  Asia*Urbanization  \\\n",
       "0  1.651000e+11     25.829817           0.000000              -0.00   \n",
       "1  3.376000e+10     24.242543           0.000000               0.00   \n",
       "2  1.833000e+10     23.631805           0.000000               0.00   \n",
       "3  2.713000e+11     26.326491          26.326491               2.02   \n",
       "4  2.832000e+10     24.066834           0.000000               0.00   \n",
       "\n",
       "   UrbanPop*ArabStates  Asia*Globalization  Urbanization*GDPpercap  \\\n",
       "0                  0.0                0.00               -1.324037   \n",
       "1                 99.2                0.00               70.779783   \n",
       "2                  0.0                0.00               15.816749   \n",
       "3                  0.0               78.63               22.995589   \n",
       "4                 98.3                0.00               40.594405   \n",
       "\n",
       "   Europe*GDPpercap  \n",
       "0                 0  \n",
       "1                 0  \n",
       "2             10400  \n",
       "3                 0  \n",
       "4                 0  \n",
       "\n",
       "[5 rows x 23 columns]"
      ]
     },
     "execution_count": 162,
     "metadata": {},
     "output_type": "execute_result"
    }
   ],
   "source": [
    "df.head()"
   ]
  },
  {
   "cell_type": "code",
   "execution_count": 163,
   "metadata": {
    "collapsed": false
   },
   "outputs": [],
   "source": [
    "#df = pd.read_csv('Obese_model_data.csv')\n",
    "#df.shape"
   ]
  },
  {
   "cell_type": "code",
   "execution_count": 164,
   "metadata": {
    "collapsed": false
   },
   "outputs": [],
   "source": [
    "# all imports\n",
    "import pandas as pd\n",
    "import numpy as np\n",
    "import pickle \n",
    "import patsy\n",
    "from patsy import dmatrices\n",
    "import statsmodels.api as sm\n",
    "import statsmodels.formula.api as smf\n",
    "import matplotlib.pyplot as plt\n",
    "import seaborn as sns\n",
    "from sklearn.linear_model import LinearRegression\n",
    "from sklearn import metrics\n",
    "from sklearn.preprocessing import PolynomialFeatures\n",
    "from sklearn.pipeline import make_pipeline\n",
    "from sklearn.cross_validation import train_test_split\n",
    "from sklearn.cross_validation import KFold\n",
    "% matplotlib inline\n",
    "import statsmodels.api as sm\n",
    "import statsmodels.formula.api as smf\n",
    "import patsy"
   ]
  },
  {
   "cell_type": "code",
   "execution_count": 182,
   "metadata": {
    "collapsed": false,
    "scrolled": false
   },
   "outputs": [
    {
     "data": {
      "text/html": [
       "<table class=\"simpletable\">\n",
       "<caption>OLS Regression Results</caption>\n",
       "<tr>\n",
       "  <th>Dep. Variable:</th>      <td>Percent_Obese</td>  <th>  R-squared:         </th> <td>   0.739</td>\n",
       "</tr>\n",
       "<tr>\n",
       "  <th>Model:</th>                   <td>OLS</td>       <th>  Adj. R-squared:    </th> <td>   0.721</td>\n",
       "</tr>\n",
       "<tr>\n",
       "  <th>Method:</th>             <td>Least Squares</td>  <th>  F-statistic:       </th> <td>   40.96</td>\n",
       "</tr>\n",
       "<tr>\n",
       "  <th>Date:</th>             <td>Wed, 31 Jan 2018</td> <th>  Prob (F-statistic):</th> <td>2.31e-37</td>\n",
       "</tr>\n",
       "<tr>\n",
       "  <th>Time:</th>                 <td>21:04:58</td>     <th>  Log-Likelihood:    </th> <td> -478.47</td>\n",
       "</tr>\n",
       "<tr>\n",
       "  <th>No. Observations:</th>      <td>   156</td>      <th>  AIC:               </th> <td>   978.9</td>\n",
       "</tr>\n",
       "<tr>\n",
       "  <th>Df Residuals:</th>          <td>   145</td>      <th>  BIC:               </th> <td>   1012.</td>\n",
       "</tr>\n",
       "<tr>\n",
       "  <th>Df Model:</th>              <td>    10</td>      <th>                     </th>     <td> </td>   \n",
       "</tr>\n",
       "<tr>\n",
       "  <th>Covariance Type:</th>      <td>nonrobust</td>    <th>                     </th>     <td> </td>   \n",
       "</tr>\n",
       "</table>\n",
       "<table class=\"simpletable\">\n",
       "<tr>\n",
       "                     <td></td>                        <th>coef</th>     <th>std err</th>      <th>t</th>      <th>P>|t|</th>  <th>[0.025</th>    <th>0.975]</th>  \n",
       "</tr>\n",
       "<tr>\n",
       "  <th>Intercept</th>                               <td>   10.0592</td> <td>    4.873</td> <td>    2.064</td> <td> 0.041</td> <td>    0.428</td> <td>   19.691</td>\n",
       "</tr>\n",
       "<tr>\n",
       "  <th>Education</th>                               <td>   32.6549</td> <td>    4.989</td> <td>    6.545</td> <td> 0.000</td> <td>   22.794</td> <td>   42.516</td>\n",
       "</tr>\n",
       "<tr>\n",
       "  <th>np.log(Imports)</th>                         <td>   -0.5700</td> <td>    0.144</td> <td>   -3.946</td> <td> 0.000</td> <td>   -0.856</td> <td>   -0.285</td>\n",
       "</tr>\n",
       "<tr>\n",
       "  <th>Insufficiently_active</th>                   <td>    0.1493</td> <td>    0.048</td> <td>    3.122</td> <td> 0.002</td> <td>    0.055</td> <td>    0.244</td>\n",
       "</tr>\n",
       "<tr>\n",
       "  <th>Urban_Population:Region_Arab_States</th>     <td>    0.0746</td> <td>    0.023</td> <td>    3.210</td> <td> 0.002</td> <td>    0.029</td> <td>    0.121</td>\n",
       "</tr>\n",
       "<tr>\n",
       "  <th>Urbanization_Rate</th>                       <td>   -7.0291</td> <td>    1.674</td> <td>   -4.198</td> <td> 0.000</td> <td>  -10.338</td> <td>   -3.720</td>\n",
       "</tr>\n",
       "<tr>\n",
       "  <th>Region_Asia_Pacific</th>                     <td>   49.3095</td> <td>    6.217</td> <td>    7.931</td> <td> 0.000</td> <td>   37.021</td> <td>   61.598</td>\n",
       "</tr>\n",
       "<tr>\n",
       "  <th>Urbanization_Rate:Region_Asia_Pacific</th>   <td>   -4.2900</td> <td>    0.996</td> <td>   -4.307</td> <td> 0.000</td> <td>   -6.259</td> <td>   -2.321</td>\n",
       "</tr>\n",
       "<tr>\n",
       "  <th>GDPper_cap:Region_Europe</th>                <td>   -0.0001</td> <td> 3.57e-05</td> <td>   -3.214</td> <td> 0.002</td> <td>   -0.000</td> <td>-4.42e-05</td>\n",
       "</tr>\n",
       "<tr>\n",
       "  <th>Globalization_index:Region_Asia_Pacific</th> <td>   -0.7279</td> <td>    0.089</td> <td>   -8.223</td> <td> 0.000</td> <td>   -0.903</td> <td>   -0.553</td>\n",
       "</tr>\n",
       "<tr>\n",
       "  <th>Urbanization_Rate:np.log(GDPper_cap)</th>    <td>    0.7399</td> <td>    0.179</td> <td>    4.130</td> <td> 0.000</td> <td>    0.386</td> <td>    1.094</td>\n",
       "</tr>\n",
       "</table>\n",
       "<table class=\"simpletable\">\n",
       "<tr>\n",
       "  <th>Omnibus:</th>       <td>18.306</td> <th>  Durbin-Watson:     </th> <td>   1.867</td>\n",
       "</tr>\n",
       "<tr>\n",
       "  <th>Prob(Omnibus):</th> <td> 0.000</td> <th>  Jarque-Bera (JB):  </th> <td>  72.471</td>\n",
       "</tr>\n",
       "<tr>\n",
       "  <th>Skew:</th>          <td>-0.146</td> <th>  Prob(JB):          </th> <td>1.83e-16</td>\n",
       "</tr>\n",
       "<tr>\n",
       "  <th>Kurtosis:</th>      <td> 6.326</td> <th>  Cond. No.          </th> <td>2.83e+05</td>\n",
       "</tr>\n",
       "</table>"
      ],
      "text/plain": [
       "<class 'statsmodels.iolib.summary.Summary'>\n",
       "\"\"\"\n",
       "                            OLS Regression Results                            \n",
       "==============================================================================\n",
       "Dep. Variable:          Percent_Obese   R-squared:                       0.739\n",
       "Model:                            OLS   Adj. R-squared:                  0.721\n",
       "Method:                 Least Squares   F-statistic:                     40.96\n",
       "Date:                Wed, 31 Jan 2018   Prob (F-statistic):           2.31e-37\n",
       "Time:                        21:04:58   Log-Likelihood:                -478.47\n",
       "No. Observations:                 156   AIC:                             978.9\n",
       "Df Residuals:                     145   BIC:                             1012.\n",
       "Df Model:                          10                                         \n",
       "Covariance Type:            nonrobust                                         \n",
       "===========================================================================================================\n",
       "                                              coef    std err          t      P>|t|      [0.025      0.975]\n",
       "-----------------------------------------------------------------------------------------------------------\n",
       "Intercept                                  10.0592      4.873      2.064      0.041       0.428      19.691\n",
       "Education                                  32.6549      4.989      6.545      0.000      22.794      42.516\n",
       "np.log(Imports)                            -0.5700      0.144     -3.946      0.000      -0.856      -0.285\n",
       "Insufficiently_active                       0.1493      0.048      3.122      0.002       0.055       0.244\n",
       "Urban_Population:Region_Arab_States         0.0746      0.023      3.210      0.002       0.029       0.121\n",
       "Urbanization_Rate                          -7.0291      1.674     -4.198      0.000     -10.338      -3.720\n",
       "Region_Asia_Pacific                        49.3095      6.217      7.931      0.000      37.021      61.598\n",
       "Urbanization_Rate:Region_Asia_Pacific      -4.2900      0.996     -4.307      0.000      -6.259      -2.321\n",
       "GDPper_cap:Region_Europe                   -0.0001   3.57e-05     -3.214      0.002      -0.000   -4.42e-05\n",
       "Globalization_index:Region_Asia_Pacific    -0.7279      0.089     -8.223      0.000      -0.903      -0.553\n",
       "Urbanization_Rate:np.log(GDPper_cap)        0.7399      0.179      4.130      0.000       0.386       1.094\n",
       "==============================================================================\n",
       "Omnibus:                       18.306   Durbin-Watson:                   1.867\n",
       "Prob(Omnibus):                  0.000   Jarque-Bera (JB):               72.471\n",
       "Skew:                          -0.146   Prob(JB):                     1.83e-16\n",
       "Kurtosis:                       6.326   Cond. No.                     2.83e+05\n",
       "==============================================================================\n",
       "\n",
       "Warnings:\n",
       "[1] Standard Errors assume that the covariance matrix of the errors is correctly specified.\n",
       "[2] The condition number is large, 2.83e+05. This might indicate that there are\n",
       "strong multicollinearity or other numerical problems.\n",
       "\"\"\""
      ]
     },
     "execution_count": 182,
     "metadata": {},
     "output_type": "execute_result"
    }
   ],
   "source": [
    "y, X = patsy.dmatrices('Percent_Obese ~ Education + np.log(Imports) + Insufficiently_active + Urban_Population:Region_Arab_States + Urbanization_Rate*Region_Asia_Pacific  + GDPper_cap:Region_Europe + Globalization_index:Region_Asia_Pacific + Urbanization_Rate:np.log(GDPper_cap)', data=df, return_type=\"dataframe\")\n",
    "model = sm.OLS(y, X)\n",
    "\n",
    "# Fit your model to your training set\n",
    "fit = model.fit()\n",
    "\n",
    "# Print summary statistics of the model's performance\n",
    "fit.summary()"
   ]
  },
  {
   "cell_type": "code",
   "execution_count": 183,
   "metadata": {
    "collapsed": false
   },
   "outputs": [],
   "source": [
    "model = smf.ols(formula='Percent_Obese ~ Education + np.log(Imports) + Insufficiently_active + Urban_Population:Region_Arab_States + Urbanization_Rate*Region_Asia_Pacific + Globalization_index:Region_Asia_Pacific + GDPper_cap:Region_Europe + Urbanization_Rate:np.log(GDPper_cap)', data=df)\n",
    "model_fit = model.fit()\n",
    "#results_fr = model.fit_regularized(L1_wt=1, alpha=0.00001, start_params=model_fit.params)"
   ]
  },
  {
   "cell_type": "code",
   "execution_count": 188,
   "metadata": {
    "collapsed": false
   },
   "outputs": [
    {
     "ename": "AttributeError",
     "evalue": "'RegularizedResults' object has no attribute 'score'",
     "output_type": "error",
     "traceback": [
      "\u001b[0;31m---------------------------------------------------------------------------\u001b[0m",
      "\u001b[0;31mAttributeError\u001b[0m                            Traceback (most recent call last)",
      "\u001b[0;32m<ipython-input-188-572d007ce2c9>\u001b[0m in \u001b[0;36m<module>\u001b[0;34m()\u001b[0m\n\u001b[0;32m----> 1\u001b[0;31m \u001b[0mmodel_elast\u001b[0m\u001b[0;34m.\u001b[0m\u001b[0mscore\u001b[0m\u001b[0;34m\u001b[0m\u001b[0m\n\u001b[0m",
      "\u001b[0;32m/Users/hector/anaconda/lib/python3.6/site-packages/statsmodels/base/wrapper.py\u001b[0m in \u001b[0;36m__getattribute__\u001b[0;34m(self, attr)\u001b[0m\n\u001b[1;32m     33\u001b[0m             \u001b[0;32mpass\u001b[0m\u001b[0;34m\u001b[0m\u001b[0m\n\u001b[1;32m     34\u001b[0m \u001b[0;34m\u001b[0m\u001b[0m\n\u001b[0;32m---> 35\u001b[0;31m         \u001b[0mobj\u001b[0m \u001b[0;34m=\u001b[0m \u001b[0mgetattr\u001b[0m\u001b[0;34m(\u001b[0m\u001b[0mresults\u001b[0m\u001b[0;34m,\u001b[0m \u001b[0mattr\u001b[0m\u001b[0;34m)\u001b[0m\u001b[0;34m\u001b[0m\u001b[0m\n\u001b[0m\u001b[1;32m     36\u001b[0m         \u001b[0mdata\u001b[0m \u001b[0;34m=\u001b[0m \u001b[0mresults\u001b[0m\u001b[0;34m.\u001b[0m\u001b[0mmodel\u001b[0m\u001b[0;34m.\u001b[0m\u001b[0mdata\u001b[0m\u001b[0;34m\u001b[0m\u001b[0m\n\u001b[1;32m     37\u001b[0m         \u001b[0mhow\u001b[0m \u001b[0;34m=\u001b[0m \u001b[0mself\u001b[0m\u001b[0;34m.\u001b[0m\u001b[0m_wrap_attrs\u001b[0m\u001b[0;34m.\u001b[0m\u001b[0mget\u001b[0m\u001b[0;34m(\u001b[0m\u001b[0mattr\u001b[0m\u001b[0;34m)\u001b[0m\u001b[0;34m\u001b[0m\u001b[0m\n",
      "\u001b[0;31mAttributeError\u001b[0m: 'RegularizedResults' object has no attribute 'score'"
     ]
    }
   ],
   "source": []
  },
  {
   "cell_type": "code",
   "execution_count": 184,
   "metadata": {
    "collapsed": false
   },
   "outputs": [],
   "source": [
    "model_elast = model.fit_regularized(method='elastic_net', alpha=0.00001, L1_wt=1.0, start_params=None, profile_scale=False, refit=False)"
   ]
  },
  {
   "cell_type": "code",
   "execution_count": 185,
   "metadata": {
    "collapsed": false,
    "scrolled": true
   },
   "outputs": [
    {
     "data": {
      "text/plain": [
       "Intercept                                  16.506126\n",
       "Education                                  28.375734\n",
       "np.log(Imports)                            -0.735756\n",
       "Insufficiently_active                       0.151817\n",
       "Urban_Population:Region_Arab_States         0.099758\n",
       "Urbanization_Rate                          -5.360290\n",
       "Region_Asia_Pacific                        37.061396\n",
       "Urbanization_Rate:Region_Asia_Pacific      -3.616223\n",
       "Globalization_index:Region_Asia_Pacific    -0.531077\n",
       "GDPper_cap:Region_Europe                   -0.000074\n",
       "Urbanization_Rate:np.log(GDPper_cap)        0.514683\n",
       "dtype: float64"
      ]
     },
     "execution_count": 185,
     "metadata": {},
     "output_type": "execute_result"
    }
   ],
   "source": [
    "#No summary statistics yet exist for enet, used .params to analyze coefficients/model\n",
    "model_elast.params"
   ]
  },
  {
   "cell_type": "code",
   "execution_count": 176,
   "metadata": {
    "collapsed": false
   },
   "outputs": [
    {
     "data": {
      "image/png": "[encoded data removed]",
      "text/plain": [
       "<matplotlib.figure.Figure at 0x1223f7e10>"
      ]
     },
     "metadata": {},
     "output_type": "display_data"
    }
   ],
   "source": [
    "'''''''''\n",
    "fig, ax = plt.subplots()\n",
    "ax.scatter(df.HDI, df.Percent_Obese, edgecolors=(0, 0, 0))\n",
    "ax.plot([df.HDI.min(), df.HDI.max()], [df.Percent_Obese.min(), df.Percent_Obese.max()], 'k-', lw=2)\n",
    "ax.set_xlabel('HDI')\n",
    "ax.set_ylabel('Percent Obese')\n",
    "plt.show()\n",
    "'''''''''\n",
    "fig, ax = plt.subplots()\n",
    "ax.set_xlabel('Globalization_index')\n",
    "ax.set_ylabel('Percent Obese')\n",
    "m, b = np.polyfit(df.Globalization_index, df.Percent_Obese, 1)\n",
    "plt.plot(df.Globalization_index, df.Percent_Obese, '.')\n",
    "plt.plot(df.Globalization_index, m*df.Globalization_index + b, '-');"
   ]
  },
  {
   "cell_type": "code",
   "execution_count": 186,
   "metadata": {
    "collapsed": false
   },
   "outputs": [
    {
     "ename": "TypeError",
     "evalue": "Could not compare ['pinv'] with block values",
     "output_type": "error",
     "traceback": [
      "\u001b[0;31m---------------------------------------------------------------------------\u001b[0m",
      "\u001b[0;31mTypeError\u001b[0m                                 Traceback (most recent call last)",
      "\u001b[0;32m<ipython-input-186-74c78173f50d>\u001b[0m in \u001b[0;36m<module>\u001b[0;34m()\u001b[0m\n\u001b[1;32m      1\u001b[0m \u001b[0mX_train\u001b[0m\u001b[0;34m,\u001b[0m \u001b[0mX_test\u001b[0m\u001b[0;34m,\u001b[0m \u001b[0my_train\u001b[0m\u001b[0;34m,\u001b[0m \u001b[0my_test\u001b[0m \u001b[0;34m=\u001b[0m \u001b[0mtrain_test_split\u001b[0m\u001b[0;34m(\u001b[0m\u001b[0mX\u001b[0m\u001b[0;34m,\u001b[0m \u001b[0my\u001b[0m\u001b[0;34m,\u001b[0m \u001b[0mtest_size\u001b[0m \u001b[0;34m=\u001b[0m \u001b[0;36m1\u001b[0m\u001b[0;34m/\u001b[0m\u001b[0;36m4\u001b[0m\u001b[0;34m,\u001b[0m \u001b[0mrandom_state\u001b[0m \u001b[0;34m=\u001b[0m \u001b[0;36m1\u001b[0m\u001b[0;34m)\u001b[0m\u001b[0;34m\u001b[0m\u001b[0m\n\u001b[0;32m----> 2\u001b[0;31m \u001b[0mmodel\u001b[0m\u001b[0;34m.\u001b[0m\u001b[0mfit\u001b[0m\u001b[0;34m(\u001b[0m\u001b[0mX_train\u001b[0m\u001b[0;34m,\u001b[0m\u001b[0my_train\u001b[0m\u001b[0;34m)\u001b[0m\u001b[0;34m\u001b[0m\u001b[0m\n\u001b[0m\u001b[1;32m      3\u001b[0m \u001b[0mmodel\u001b[0m\u001b[0;34m.\u001b[0m\u001b[0mscore\u001b[0m\u001b[0;34m(\u001b[0m\u001b[0mX_test\u001b[0m\u001b[0;34m,\u001b[0m\u001b[0my_test\u001b[0m\u001b[0;34m)\u001b[0m\u001b[0;34m\u001b[0m\u001b[0m\n",
      "\u001b[0;32m/Users/hector/anaconda/lib/python3.6/site-packages/statsmodels/regression/linear_model.py\u001b[0m in \u001b[0;36mfit\u001b[0;34m(self, method, cov_type, cov_kwds, use_t, **kwargs)\u001b[0m\n\u001b[1;32m    183\u001b[0m         \u001b[0mto\u001b[0m \u001b[0msolve\u001b[0m \u001b[0mthe\u001b[0m \u001b[0mleast\u001b[0m \u001b[0msquares\u001b[0m \u001b[0mminimization\u001b[0m\u001b[0;34m.\u001b[0m\u001b[0;34m\u001b[0m\u001b[0m\n\u001b[1;32m    184\u001b[0m         \"\"\"\n\u001b[0;32m--> 185\u001b[0;31m         \u001b[0;32mif\u001b[0m \u001b[0mmethod\u001b[0m \u001b[0;34m==\u001b[0m \u001b[0;34m\"pinv\"\u001b[0m\u001b[0;34m:\u001b[0m\u001b[0;34m\u001b[0m\u001b[0m\n\u001b[0m\u001b[1;32m    186\u001b[0m             if ((not hasattr(self, 'pinv_wexog')) or\n\u001b[1;32m    187\u001b[0m                 \u001b[0;34m(\u001b[0m\u001b[0;32mnot\u001b[0m \u001b[0mhasattr\u001b[0m\u001b[0;34m(\u001b[0m\u001b[0mself\u001b[0m\u001b[0;34m,\u001b[0m \u001b[0;34m'normalized_cov_params'\u001b[0m\u001b[0;34m)\u001b[0m\u001b[0;34m)\u001b[0m \u001b[0;32mor\u001b[0m\u001b[0;34m\u001b[0m\u001b[0m\n",
      "\u001b[0;32m/Users/hector/anaconda/lib/python3.6/site-packages/pandas/core/ops.py\u001b[0m in \u001b[0;36mf\u001b[0;34m(self, other)\u001b[0m\n\u001b[1;32m   1302\u001b[0m             \u001b[0;31m# straight boolean comparisions we want to allow all columns\u001b[0m\u001b[0;34m\u001b[0m\u001b[0;34m\u001b[0m\u001b[0m\n\u001b[1;32m   1303\u001b[0m             \u001b[0;31m# (regardless of dtype to pass thru) See #4537 for discussion.\u001b[0m\u001b[0;34m\u001b[0m\u001b[0;34m\u001b[0m\u001b[0m\n\u001b[0;32m-> 1304\u001b[0;31m             \u001b[0mres\u001b[0m \u001b[0;34m=\u001b[0m \u001b[0mself\u001b[0m\u001b[0;34m.\u001b[0m\u001b[0m_combine_const\u001b[0m\u001b[0;34m(\u001b[0m\u001b[0mother\u001b[0m\u001b[0;34m,\u001b[0m \u001b[0mfunc\u001b[0m\u001b[0;34m,\u001b[0m \u001b[0mraise_on_error\u001b[0m\u001b[0;34m=\u001b[0m\u001b[0;32mFalse\u001b[0m\u001b[0;34m)\u001b[0m\u001b[0;34m\u001b[0m\u001b[0m\n\u001b[0m\u001b[1;32m   1305\u001b[0m             \u001b[0;32mreturn\u001b[0m \u001b[0mres\u001b[0m\u001b[0;34m.\u001b[0m\u001b[0mfillna\u001b[0m\u001b[0;34m(\u001b[0m\u001b[0;32mTrue\u001b[0m\u001b[0;34m)\u001b[0m\u001b[0;34m.\u001b[0m\u001b[0mastype\u001b[0m\u001b[0;34m(\u001b[0m\u001b[0mbool\u001b[0m\u001b[0;34m)\u001b[0m\u001b[0;34m\u001b[0m\u001b[0m\n\u001b[1;32m   1306\u001b[0m \u001b[0;34m\u001b[0m\u001b[0m\n",
      "\u001b[0;32m/Users/hector/anaconda/lib/python3.6/site-packages/pandas/core/frame.py\u001b[0m in \u001b[0;36m_combine_const\u001b[0;34m(self, other, func, raise_on_error)\u001b[0m\n\u001b[1;32m   3541\u001b[0m     \u001b[0;32mdef\u001b[0m \u001b[0m_combine_const\u001b[0m\u001b[0;34m(\u001b[0m\u001b[0mself\u001b[0m\u001b[0;34m,\u001b[0m \u001b[0mother\u001b[0m\u001b[0;34m,\u001b[0m \u001b[0mfunc\u001b[0m\u001b[0;34m,\u001b[0m \u001b[0mraise_on_error\u001b[0m\u001b[0;34m=\u001b[0m\u001b[0;32mTrue\u001b[0m\u001b[0;34m)\u001b[0m\u001b[0;34m:\u001b[0m\u001b[0;34m\u001b[0m\u001b[0m\n\u001b[1;32m   3542\u001b[0m         new_data = self._data.eval(func=func, other=other,\n\u001b[0;32m-> 3543\u001b[0;31m                                    raise_on_error=raise_on_error)\n\u001b[0m\u001b[1;32m   3544\u001b[0m         \u001b[0;32mreturn\u001b[0m \u001b[0mself\u001b[0m\u001b[0;34m.\u001b[0m\u001b[0m_constructor\u001b[0m\u001b[0;34m(\u001b[0m\u001b[0mnew_data\u001b[0m\u001b[0;34m)\u001b[0m\u001b[0;34m\u001b[0m\u001b[0m\n\u001b[1;32m   3545\u001b[0m \u001b[0;34m\u001b[0m\u001b[0m\n",
      "\u001b[0;32m/Users/hector/anaconda/lib/python3.6/site-packages/pandas/core/internals.py\u001b[0m in \u001b[0;36meval\u001b[0;34m(self, **kwargs)\u001b[0m\n\u001b[1;32m   3195\u001b[0m \u001b[0;34m\u001b[0m\u001b[0m\n\u001b[1;32m   3196\u001b[0m     \u001b[0;32mdef\u001b[0m \u001b[0meval\u001b[0m\u001b[0;34m(\u001b[0m\u001b[0mself\u001b[0m\u001b[0;34m,\u001b[0m \u001b[0;34m**\u001b[0m\u001b[0mkwargs\u001b[0m\u001b[0;34m)\u001b[0m\u001b[0;34m:\u001b[0m\u001b[0;34m\u001b[0m\u001b[0m\n\u001b[0;32m-> 3197\u001b[0;31m         \u001b[0;32mreturn\u001b[0m \u001b[0mself\u001b[0m\u001b[0;34m.\u001b[0m\u001b[0mapply\u001b[0m\u001b[0;34m(\u001b[0m\u001b[0;34m'eval'\u001b[0m\u001b[0;34m,\u001b[0m \u001b[0;34m**\u001b[0m\u001b[0mkwargs\u001b[0m\u001b[0;34m)\u001b[0m\u001b[0;34m\u001b[0m\u001b[0m\n\u001b[0m\u001b[1;32m   3198\u001b[0m \u001b[0;34m\u001b[0m\u001b[0m\n\u001b[1;32m   3199\u001b[0m     \u001b[0;32mdef\u001b[0m \u001b[0mquantile\u001b[0m\u001b[0;34m(\u001b[0m\u001b[0mself\u001b[0m\u001b[0;34m,\u001b[0m \u001b[0;34m**\u001b[0m\u001b[0mkwargs\u001b[0m\u001b[0;34m)\u001b[0m\u001b[0;34m:\u001b[0m\u001b[0;34m\u001b[0m\u001b[0m\n",
      "\u001b[0;32m/Users/hector/anaconda/lib/python3.6/site-packages/pandas/core/internals.py\u001b[0m in \u001b[0;36mapply\u001b[0;34m(self, f, axes, filter, do_integrity_check, consolidate, **kwargs)\u001b[0m\n\u001b[1;32m   3089\u001b[0m \u001b[0;34m\u001b[0m\u001b[0m\n\u001b[1;32m   3090\u001b[0m             \u001b[0mkwargs\u001b[0m\u001b[0;34m[\u001b[0m\u001b[0;34m'mgr'\u001b[0m\u001b[0;34m]\u001b[0m \u001b[0;34m=\u001b[0m \u001b[0mself\u001b[0m\u001b[0;34m\u001b[0m\u001b[0m\n\u001b[0;32m-> 3091\u001b[0;31m             \u001b[0mapplied\u001b[0m \u001b[0;34m=\u001b[0m \u001b[0mgetattr\u001b[0m\u001b[0;34m(\u001b[0m\u001b[0mb\u001b[0m\u001b[0;34m,\u001b[0m \u001b[0mf\u001b[0m\u001b[0;34m)\u001b[0m\u001b[0;34m(\u001b[0m\u001b[0;34m**\u001b[0m\u001b[0mkwargs\u001b[0m\u001b[0;34m)\u001b[0m\u001b[0;34m\u001b[0m\u001b[0m\n\u001b[0m\u001b[1;32m   3092\u001b[0m             \u001b[0mresult_blocks\u001b[0m \u001b[0;34m=\u001b[0m \u001b[0m_extend_blocks\u001b[0m\u001b[0;34m(\u001b[0m\u001b[0mapplied\u001b[0m\u001b[0;34m,\u001b[0m \u001b[0mresult_blocks\u001b[0m\u001b[0;34m)\u001b[0m\u001b[0;34m\u001b[0m\u001b[0m\n\u001b[1;32m   3093\u001b[0m \u001b[0;34m\u001b[0m\u001b[0m\n",
      "\u001b[0;32m/Users/hector/anaconda/lib/python3.6/site-packages/pandas/core/internals.py\u001b[0m in \u001b[0;36meval\u001b[0;34m(self, func, other, raise_on_error, try_cast, mgr)\u001b[0m\n\u001b[1;32m   1203\u001b[0m \u001b[0;34m\u001b[0m\u001b[0m\n\u001b[1;32m   1204\u001b[0m                 raise TypeError('Could not compare [%s] with block values' %\n\u001b[0;32m-> 1205\u001b[0;31m                                 repr(other))\n\u001b[0m\u001b[1;32m   1206\u001b[0m \u001b[0;34m\u001b[0m\u001b[0m\n\u001b[1;32m   1207\u001b[0m         \u001b[0;31m# transpose if needed\u001b[0m\u001b[0;34m\u001b[0m\u001b[0;34m\u001b[0m\u001b[0m\n",
      "\u001b[0;31mTypeError\u001b[0m: Could not compare ['pinv'] with block values"
     ]
    }
   ],
   "source": [
    "X_train, X_test, y_train, y_test = train_test_split(X, y, test_size = 1/4, random_state = 1)\n",
    "model.fit(X_train,y_train)\n",
    "model.score(X_test,y_test)"
   ]
  },
  {
   "cell_type": "code",
   "execution_count": null,
   "metadata": {
    "collapsed": false
   },
   "outputs": [],
   "source": [
    "# fitted values (need a constant term for intercept)\n",
    "model_fitted_y = model_fit.fittedvalues\n",
    "# model residuals\n",
    "model_residuals = model_fit.resid\n",
    "# normalized residuals\n",
    "model_norm_residuals = model_fit.get_influence().resid_studentized_internal\n",
    "# absolute squared normalized residuals\n",
    "model_norm_residuals_abs_sqrt = np.sqrt(np.abs(model_norm_residuals))\n",
    "# absolute residuals\n",
    "model_abs_resid = np.abs(model_residuals)\n",
    "# leverage, from statsmodels internals\n",
    "model_leverage = model_fit.get_influence().hat_matrix_diag\n",
    "# cook's distance, from statsmodels internals\n",
    "model_cooks = model_fit.get_influence().cooks_distance[0]"
   ]
  },
  {
   "cell_type": "code",
   "execution_count": null,
   "metadata": {
    "collapsed": false
   },
   "outputs": [],
   "source": [
    "plot_lm_1 = plt.figure(1)\n",
    "plot_lm_1.set_figheight(8)\n",
    "plot_lm_1.set_figwidth(12)\n",
    "plot_lm_1.axes[0] = sns.residplot(model_fitted_y, 'Percent_Obese', data=df, \n",
    "                          lowess=True, \n",
    "                          scatter_kws={'alpha': 0.5}, \n",
    "                          line_kws={'color': 'red', 'lw': 1, 'alpha': 0.8})\n",
    "plot_lm_1.axes[0].set_title('Residuals vs Fitted')\n",
    "plot_lm_1.axes[0].set_xlabel('Fitted values')\n",
    "plot_lm_1.axes[0].set_ylabel('Residuals')\n",
    "\n",
    "# annotations\n",
    "abs_resid = model_abs_resid.sort_values(ascending=False)\n",
    "abs_resid_top_3 = abs_resid[:3]\n",
    "for i in abs_resid_top_3.index:\n",
    "    plot_lm_1.axes[0].annotate(i, \n",
    "                               xy=(model_fitted_y[i], \n",
    "                                   model_residuals[i]));\n",
    "    "
   ]
  },
  {
   "cell_type": "code",
   "execution_count": null,
   "metadata": {
    "collapsed": true
   },
   "outputs": [],
   "source": [
    "plot_lm_4.savefig('residuals&leverage.png')"
   ]
  },
  {
   "cell_type": "code",
   "execution_count": null,
   "metadata": {
    "collapsed": false
   },
   "outputs": [],
   "source": [
    "plot_lm_4 = plt.figure(4)\n",
    "plot_lm_4.set_figheight(8)\n",
    "plot_lm_4.set_figwidth(12)\n",
    "plt.scatter(model_leverage, model_norm_residuals, alpha=0.5)\n",
    "sns.regplot(model_leverage, model_norm_residuals, \n",
    "            scatter=False, \n",
    "            ci=False, \n",
    "            lowess=True,\n",
    "            line_kws={'color': 'red', 'lw': 1, 'alpha': 0.8})\n",
    "plot_lm_4.axes[0].set_xlim(0, 0.20)\n",
    "plot_lm_4.axes[0].set_ylim(-3, 5)\n",
    "plot_lm_4.axes[0].set_title('Residuals vs Leverage')\n",
    "plot_lm_4.axes[0].set_xlabel('Leverage')\n",
    "plot_lm_4.axes[0].set_ylabel('Standardized Residuals')\n",
    "# annotations\n",
    "leverage_top_3 = np.flipud(np.argsort(model_cooks))[:3]\n",
    "for i in leverage_top_3:\n",
    "    plot_lm_4.axes[0].annotate(i, \n",
    "                               xy=(model_leverage[i], \n",
    "                                   model_norm_residuals[i]))\n",
    "# for cook's distance contours\n",
    "def graph(formula, x_range, label=None):\n",
    "    x = x_range\n",
    "    y = formula(x)\n",
    "    plt.plot(x, y, label=label, lw=1, ls='--', color='red')\n",
    "p = len(model_fit.params) # number of model parameters\n",
    "graph(lambda x: np.sqrt((0.5 * p * (1 - x)) / x), \n",
    "      np.linspace(0.001, 0.200, 50), \n",
    "      'Cook\\'s distance') # 0.5 line\n",
    "graph(lambda x: np.sqrt((1 * p * (1 - x)) / x), \n",
    "      np.linspace(0.001, 0.200, 50)) # 1 line\n",
    "plt.legend(loc='upper right');"
   ]
  },
  {
   "cell_type": "code",
   "execution_count": null,
   "metadata": {
    "collapsed": false
   },
   "outputs": [],
   "source": [
    "QQ = stats.probplot(model_norm_residuals)\n",
    "plot_lm_2 = QQ.qqplot(line='45', alpha=0.5, color='#4C72B0', lw=1)\n",
    "plot_lm_2.set_figheight(8)\n",
    "plot_lm_2.set_figwidth(12)\n",
    "plot_lm_2.axes[0].set_title('Normal Q-Q')\n",
    "plot_lm_2.axes[0].set_xlabel('Theoretical Quantiles')\n",
    "plot_lm_2.axes[0].set_ylabel('Standardized Residuals');\n",
    "# annotations\n",
    "abs_norm_resid = np.flipud(np.argsort(np.abs(model_norm_residuals)))\n",
    "abs_norm_resid_top_3 = abs_norm_resid[:3]\n",
    "for r, i in enumerate(abs_norm_resid_top_3):\n",
    "    plot_lm_2.axes[0].annotate(i, \n",
    "                               xy=(np.flipud(QQ.theoretical_quantiles)[r],\n",
    "                                   model_norm_residuals[i]));"
   ]
  },
  {
   "cell_type": "code",
   "execution_count": null,
   "metadata": {
    "collapsed": false
   },
   "outputs": [],
   "source": [
    "plot_lm_3 = plt.figure(3)\n",
    "plot_lm_3.set_figheight(8)\n",
    "plot_lm_3.set_figwidth(12)\n",
    "plt.scatter(model_fitted_y, model_norm_residuals_abs_sqrt, alpha=0.5)\n",
    "sns.regplot(model_fitted_y, model_norm_residuals_abs_sqrt, \n",
    "            scatter=False, \n",
    "            ci=False, \n",
    "            lowess=True,\n",
    "            line_kws={'color': 'red', 'lw': 1, 'alpha': 0.8})\n",
    "plot_lm_3.axes[0].set_title('Scale-Location')\n",
    "plot_lm_3.axes[0].set_xlabel('Fitted values')\n",
    "plot_lm_3.axes[0].set_ylabel('$\\sqrt{|Standardized Residuals|}$');\n",
    "# annotations\n",
    "abs_sq_norm_resid = np.flipud(np.argsort(model_norm_residuals_abs_sqrt))\n",
    "abs_sq_norm_resid_top_3 = abs_sq_norm_resid[:3]\n",
    "for i in abs_norm_resid_top_3:\n",
    "    plot_lm_3.axes[0].annotate(i, \n",
    "                               xy=(model_fitted_y[i], \n",
    "                                   model_norm_residuals_abs_sqrt[i]));\n"
   ]
  },
  {
   "cell_type": "code",
   "execution_count": null,
   "metadata": {
    "collapsed": false
   },
   "outputs": [],
   "source": []
  },
  {
   "cell_type": "code",
   "execution_count": null,
   "metadata": {
    "collapsed": true
   },
   "outputs": [],
   "source": [
    "regressor = LinearRegression()\n",
    "regressor.fit(X_train, y_train)\n",
    "\n",
    "# Predicting the Test set results\n",
    "y_pred = regressor.predict(X_test)"
   ]
  },
  {
   "cell_type": "code",
   "execution_count": null,
   "metadata": {
    "collapsed": false
   },
   "outputs": [],
   "source": [
    "plt.scatter(y_test, y_pred)\n",
    "plt.xlabel(\"True Values\")\n",
    "plt.ylabel(\"Predictions\")"
   ]
  },
  {
   "cell_type": "code",
   "execution_count": null,
   "metadata": {
    "collapsed": false
   },
   "outputs": [],
   "source": [
    "from sklearn.cross_validation import cross_val_score\n",
    "y = np.ravel(y)\n",
    "scores = cross_val_score(model, X, y, cv=100, scoring='neg_mean_squared_error')\n",
    "print('Stratified %i folds cross validation mean' + 'Folds: %i, mean squared error: %.2f std: %.2f'\n",
    "%(len(scores),np.mean(np.abs(scores)),np.std(scores)))"
   ]
  },
  {
   "cell_type": "code",
   "execution_count": 173,
   "metadata": {
    "collapsed": false
   },
   "outputs": [],
   "source": [
    "#df = pd.read_csv('Obese_model_data.csv')"
   ]
  },
  {
   "cell_type": "code",
   "execution_count": null,
   "metadata": {
    "collapsed": false
   },
   "outputs": [],
   "source": [
    "#df = df[['Percent_Obese', 'country','GDPper_cap','Insufficiently_active','HDI','Region_Africa','Region_Arab_States','Region_Europe','Region_Asia_Pacific','Region_Latin_America','Globalization_index','Urbanization_Rate','Urban_Population','Imports']]"
   ]
  },
  {
   "cell_type": "code",
   "execution_count": null,
   "metadata": {
    "collapsed": false
   },
   "outputs": [],
   "source": [
    "model = smf.ols(formula='Percent_Obese ~ Education + np.log(Imports) + Insufficiently_active + Urban_Population:Region_Arab_States + Urbanization_Rate*Region_Asia_Pacific + Globalization_index:Region_Asia_Pacific + GDPper_cap:Region_Europe + Urbanization_Rate:np.log(GDPper_cap)', data=df)\n",
    "model_fit = model.fit()"
   ]
  },
  {
   "cell_type": "code",
   "execution_count": null,
   "metadata": {
    "collapsed": false
   },
   "outputs": [],
   "source": [
    "import pylab\n",
    "fig = pylab.figure()\n",
    "model_fit.resid.plot(style='o', figsize=(12,8));\n",
    "plt.xlabel('Index')\n",
    "plt.ylabel('Error ($)')\n",
    "plt.title('Model Residuals');"
   ]
  },
  {
   "cell_type": "code",
   "execution_count": null,
   "metadata": {
    "collapsed": false
   },
   "outputs": [],
   "source": [
    "fig.savefig('resid.png')"
   ]
  },
  {
   "cell_type": "code",
   "execution_count": 180,
   "metadata": {
    "collapsed": false
   },
   "outputs": [],
   "source": [
    "df.to_csv('Countries_Obesity_data.csv')"
   ]
  },
  {
   "cell_type": "code",
   "execution_count": null,
   "metadata": {
    "collapsed": true
   },
   "outputs": [],
   "source": []
  }
 ],
 "metadata": {
  "kernelspec": {
   "display_name": "Python 3",
   "language": "python",
   "name": "python3"
  },
  "language_info": {
   "codemirror_mode": {
    "name": "ipython",
    "version": 3
   },
   "file_extension": ".py",
   "mimetype": "text/x-python",
   "name": "python",
   "nbconvert_exporter": "python",
   "pygments_lexer": "ipython3",
   "version": "3.6.0"
  }
 },
 "nbformat": 4,
 "nbformat_minor": 2
}
