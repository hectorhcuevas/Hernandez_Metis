{
 "cells": [
  {
   "cell_type": "code",
   "execution_count": 28,
   "metadata": {
    "collapsed": false
   },
   "outputs": [],
   "source": [
    "import numpy as np\n",
    "import matplotlib.pyplot as plt\n",
    "import pandas as pd\n",
    "# all of the imports\n",
    "import pandas as pd\n",
    "import numpy as np\n",
    "import pickle \n",
    "import patsy\n",
    "import statsmodels.api as sm\n",
    "import statsmodels.formula.api as smf\n",
    "import matplotlib.pyplot as plt\n",
    "import seaborn as sns\n",
    "from sklearn.linear_model import LinearRegression\n",
    "from sklearn import metrics\n",
    "from sklearn.preprocessing import PolynomialFeatures\n",
    "from sklearn.pipeline import make_pipeline\n",
    "from sklearn.cross_validation import train_test_split\n",
    "from sklearn.cross_validation import KFold\n",
    "% matplotlib inline"
   ]
  },
  {
   "cell_type": "code",
   "execution_count": 37,
   "metadata": {
    "collapsed": true
   },
   "outputs": [],
   "source": [
    "df = pd.read_csv('GDP_Obese_Inactive.csv')\n",
    "df2 = pd.read_csv('Countries_HDI.csv')"
   ]
  },
  {
   "cell_type": "code",
   "execution_count": 40,
   "metadata": {
    "collapsed": false
   },
   "outputs": [
    {
     "data": {
      "text/plain": [
       "(173, 6)"
      ]
     },
     "execution_count": 40,
     "metadata": {},
     "output_type": "execute_result"
    }
   ],
   "source": [
    "df.shape"
   ]
  },
  {
   "cell_type": "code",
   "execution_count": 31,
   "metadata": {
    "collapsed": true
   },
   "outputs": [],
   "source": [
    "df3 = pd.merge(df,df2,on='country')"
   ]
  },
  {
   "cell_type": "code",
   "execution_count": 9,
   "metadata": {
    "collapsed": false
   },
   "outputs": [
    {
     "data": {
      "text/html": [
       "<div>\n",
       "<table border=\"1\" class=\"dataframe\">\n",
       "  <thead>\n",
       "    <tr style=\"text-align: right;\">\n",
       "      <th></th>\n",
       "      <th>Unnamed: 0</th>\n",
       "      <th>country</th>\n",
       "      <th>GDPper_cap</th>\n",
       "      <th>Adult_Population</th>\n",
       "      <th>Insufficiently_active</th>\n",
       "      <th>Percent_Obese</th>\n",
       "      <th>HDI</th>\n",
       "    </tr>\n",
       "  </thead>\n",
       "  <tbody>\n",
       "    <tr>\n",
       "      <th>0</th>\n",
       "      <td>0</td>\n",
       "      <td>Qatar</td>\n",
       "      <td>127700</td>\n",
       "      <td>1783051</td>\n",
       "      <td>41.6</td>\n",
       "      <td>42.3</td>\n",
       "      <td>0.856</td>\n",
       "    </tr>\n",
       "    <tr>\n",
       "      <th>1</th>\n",
       "      <td>1</td>\n",
       "      <td>Luxembourg</td>\n",
       "      <td>10400</td>\n",
       "      <td>394182</td>\n",
       "      <td>28.5</td>\n",
       "      <td>23.1</td>\n",
       "      <td>0.898</td>\n",
       "    </tr>\n",
       "    <tr>\n",
       "      <th>2</th>\n",
       "      <td>2</td>\n",
       "      <td>Singapore</td>\n",
       "      <td>87900</td>\n",
       "      <td>3856895</td>\n",
       "      <td>33.1</td>\n",
       "      <td>6.2</td>\n",
       "      <td>0.925</td>\n",
       "    </tr>\n",
       "    <tr>\n",
       "      <th>3</th>\n",
       "      <td>3</td>\n",
       "      <td>Kuwait</td>\n",
       "      <td>71900</td>\n",
       "      <td>2794638</td>\n",
       "      <td>56.6</td>\n",
       "      <td>39.7</td>\n",
       "      <td>0.800</td>\n",
       "    </tr>\n",
       "    <tr>\n",
       "      <th>4</th>\n",
       "      <td>4</td>\n",
       "      <td>Ireland</td>\n",
       "      <td>69200</td>\n",
       "      <td>3216975</td>\n",
       "      <td>35.1</td>\n",
       "      <td>25.6</td>\n",
       "      <td>0.923</td>\n",
       "    </tr>\n",
       "  </tbody>\n",
       "</table>\n",
       "</div>"
      ],
      "text/plain": [
       "   Unnamed: 0     country  GDPper_cap  Adult_Population  \\\n",
       "0           0       Qatar      127700           1783051   \n",
       "1           1  Luxembourg       10400            394182   \n",
       "2           2   Singapore       87900           3856895   \n",
       "3           3      Kuwait       71900           2794638   \n",
       "4           4     Ireland       69200           3216975   \n",
       "\n",
       "   Insufficiently_active  Percent_Obese    HDI  \n",
       "0                   41.6           42.3  0.856  \n",
       "1                   28.5           23.1  0.898  \n",
       "2                   33.1            6.2  0.925  \n",
       "3                   56.6           39.7  0.800  \n",
       "4                   35.1           25.6  0.923  "
      ]
     },
     "execution_count": 9,
     "metadata": {},
     "output_type": "execute_result"
    }
   ],
   "source": [
    "df3.head()"
   ]
  },
  {
   "cell_type": "code",
   "execution_count": 11,
   "metadata": {
    "collapsed": false
   },
   "outputs": [
    {
     "data": {
      "text/html": [
       "<div>\n",
       "<table border=\"1\" class=\"dataframe\">\n",
       "  <thead>\n",
       "    <tr style=\"text-align: right;\">\n",
       "      <th></th>\n",
       "      <th>Unnamed: 0</th>\n",
       "      <th>GDPper_cap</th>\n",
       "      <th>Adult_Population</th>\n",
       "      <th>Insufficiently_active</th>\n",
       "      <th>Percent_Obese</th>\n",
       "      <th>HDI</th>\n",
       "    </tr>\n",
       "  </thead>\n",
       "  <tbody>\n",
       "    <tr>\n",
       "      <th>Unnamed: 0</th>\n",
       "      <td>1.000000</td>\n",
       "      <td>-0.846134</td>\n",
       "      <td>0.035811</td>\n",
       "      <td>-0.393449</td>\n",
       "      <td>-0.559949</td>\n",
       "      <td>-0.928666</td>\n",
       "    </tr>\n",
       "    <tr>\n",
       "      <th>GDPper_cap</th>\n",
       "      <td>-0.846134</td>\n",
       "      <td>1.000000</td>\n",
       "      <td>-0.067351</td>\n",
       "      <td>0.343941</td>\n",
       "      <td>0.440051</td>\n",
       "      <td>0.738431</td>\n",
       "    </tr>\n",
       "    <tr>\n",
       "      <th>Adult_Population</th>\n",
       "      <td>0.035811</td>\n",
       "      <td>-0.067351</td>\n",
       "      <td>1.000000</td>\n",
       "      <td>-0.077007</td>\n",
       "      <td>-0.216849</td>\n",
       "      <td>-0.029691</td>\n",
       "    </tr>\n",
       "    <tr>\n",
       "      <th>Insufficiently_active</th>\n",
       "      <td>-0.393449</td>\n",
       "      <td>0.343941</td>\n",
       "      <td>-0.077007</td>\n",
       "      <td>1.000000</td>\n",
       "      <td>0.415282</td>\n",
       "      <td>0.309325</td>\n",
       "    </tr>\n",
       "    <tr>\n",
       "      <th>Percent_Obese</th>\n",
       "      <td>-0.559949</td>\n",
       "      <td>0.440051</td>\n",
       "      <td>-0.216849</td>\n",
       "      <td>0.415282</td>\n",
       "      <td>1.000000</td>\n",
       "      <td>0.604290</td>\n",
       "    </tr>\n",
       "    <tr>\n",
       "      <th>HDI</th>\n",
       "      <td>-0.928666</td>\n",
       "      <td>0.738431</td>\n",
       "      <td>-0.029691</td>\n",
       "      <td>0.309325</td>\n",
       "      <td>0.604290</td>\n",
       "      <td>1.000000</td>\n",
       "    </tr>\n",
       "  </tbody>\n",
       "</table>\n",
       "</div>"
      ],
      "text/plain": [
       "                       Unnamed: 0  GDPper_cap  Adult_Population  \\\n",
       "Unnamed: 0               1.000000   -0.846134          0.035811   \n",
       "GDPper_cap              -0.846134    1.000000         -0.067351   \n",
       "Adult_Population         0.035811   -0.067351          1.000000   \n",
       "Insufficiently_active   -0.393449    0.343941         -0.077007   \n",
       "Percent_Obese           -0.559949    0.440051         -0.216849   \n",
       "HDI                     -0.928666    0.738431         -0.029691   \n",
       "\n",
       "                       Insufficiently_active  Percent_Obese       HDI  \n",
       "Unnamed: 0                         -0.393449      -0.559949 -0.928666  \n",
       "GDPper_cap                          0.343941       0.440051  0.738431  \n",
       "Adult_Population                   -0.077007      -0.216849 -0.029691  \n",
       "Insufficiently_active               1.000000       0.415282  0.309325  \n",
       "Percent_Obese                       0.415282       1.000000  0.604290  \n",
       "HDI                                 0.309325       0.604290  1.000000  "
      ]
     },
     "execution_count": 11,
     "metadata": {},
     "output_type": "execute_result"
    }
   ],
   "source": [
    "df3.corr()"
   ]
  },
  {
   "cell_type": "code",
   "execution_count": 12,
   "metadata": {
    "collapsed": false
   },
   "outputs": [
    {
     "data": {
      "text/html": [
       "<div>\n",
       "<table border=\"1\" class=\"dataframe\">\n",
       "  <thead>\n",
       "    <tr style=\"text-align: right;\">\n",
       "      <th></th>\n",
       "      <th>country</th>\n",
       "      <th>IHDI</th>\n",
       "    </tr>\n",
       "  </thead>\n",
       "  <tbody>\n",
       "    <tr>\n",
       "      <th>0</th>\n",
       "      <td>Venezuela</td>\n",
       "      <td>0.618</td>\n",
       "    </tr>\n",
       "    <tr>\n",
       "      <th>1</th>\n",
       "      <td>Uzbekistan</td>\n",
       "      <td>0.590</td>\n",
       "    </tr>\n",
       "    <tr>\n",
       "      <th>2</th>\n",
       "      <td>Uruguay</td>\n",
       "      <td>0.670</td>\n",
       "    </tr>\n",
       "    <tr>\n",
       "      <th>3</th>\n",
       "      <td>United States</td>\n",
       "      <td>0.796</td>\n",
       "    </tr>\n",
       "    <tr>\n",
       "      <th>4</th>\n",
       "      <td>United Kingdom</td>\n",
       "      <td>0.836</td>\n",
       "    </tr>\n",
       "  </tbody>\n",
       "</table>\n",
       "</div>"
      ],
      "text/plain": [
       "          country   IHDI\n",
       "0       Venezuela  0.618\n",
       "1      Uzbekistan  0.590\n",
       "2         Uruguay  0.670\n",
       "3   United States  0.796\n",
       "4  United Kingdom  0.836"
      ]
     },
     "execution_count": 12,
     "metadata": {},
     "output_type": "execute_result"
    }
   ],
   "source": [
    "df_IHDI = pd.read_csv('Countries_IHDI.csv')\n",
    "df_IHDI.head()"
   ]
  },
  {
   "cell_type": "code",
   "execution_count": 18,
   "metadata": {
    "collapsed": true
   },
   "outputs": [],
   "source": [
    "df3 = pd.merge(df3,df_IHDI,on='country')"
   ]
  },
  {
   "cell_type": "code",
   "execution_count": 19,
   "metadata": {
    "collapsed": false
   },
   "outputs": [
    {
     "data": {
      "text/html": [
       "<div>\n",
       "<table border=\"1\" class=\"dataframe\">\n",
       "  <thead>\n",
       "    <tr style=\"text-align: right;\">\n",
       "      <th></th>\n",
       "      <th>Unnamed: 0</th>\n",
       "      <th>country</th>\n",
       "      <th>GDPper_cap</th>\n",
       "      <th>Adult_Population</th>\n",
       "      <th>Insufficiently_active</th>\n",
       "      <th>Percent_Obese</th>\n",
       "      <th>HDI</th>\n",
       "      <th>IHDI</th>\n",
       "    </tr>\n",
       "  </thead>\n",
       "  <tbody>\n",
       "    <tr>\n",
       "      <th>0</th>\n",
       "      <td>1</td>\n",
       "      <td>Luxembourg</td>\n",
       "      <td>10400</td>\n",
       "      <td>394182</td>\n",
       "      <td>28.5</td>\n",
       "      <td>23.1</td>\n",
       "      <td>0.898</td>\n",
       "      <td>0.827</td>\n",
       "    </tr>\n",
       "    <tr>\n",
       "      <th>1</th>\n",
       "      <td>4</td>\n",
       "      <td>Ireland</td>\n",
       "      <td>69200</td>\n",
       "      <td>3216975</td>\n",
       "      <td>35.1</td>\n",
       "      <td>25.6</td>\n",
       "      <td>0.923</td>\n",
       "      <td>0.850</td>\n",
       "    </tr>\n",
       "    <tr>\n",
       "      <th>2</th>\n",
       "      <td>5</td>\n",
       "      <td>Norway</td>\n",
       "      <td>69200</td>\n",
       "      <td>3584317</td>\n",
       "      <td>25.8</td>\n",
       "      <td>23.1</td>\n",
       "      <td>0.949</td>\n",
       "      <td>0.898</td>\n",
       "    </tr>\n",
       "    <tr>\n",
       "      <th>3</th>\n",
       "      <td>7</td>\n",
       "      <td>Switzerland</td>\n",
       "      <td>59600</td>\n",
       "      <td>5726389</td>\n",
       "      <td>24.5</td>\n",
       "      <td>19.4</td>\n",
       "      <td>0.939</td>\n",
       "      <td>0.859</td>\n",
       "    </tr>\n",
       "    <tr>\n",
       "      <th>4</th>\n",
       "      <td>9</td>\n",
       "      <td>Netherlands</td>\n",
       "      <td>51000</td>\n",
       "      <td>11509480</td>\n",
       "      <td>15.5</td>\n",
       "      <td>19.8</td>\n",
       "      <td>0.924</td>\n",
       "      <td>0.861</td>\n",
       "    </tr>\n",
       "  </tbody>\n",
       "</table>\n",
       "</div>"
      ],
      "text/plain": [
       "   Unnamed: 0      country  GDPper_cap  Adult_Population  \\\n",
       "0           1   Luxembourg       10400            394182   \n",
       "1           4      Ireland       69200           3216975   \n",
       "2           5       Norway       69200           3584317   \n",
       "3           7  Switzerland       59600           5726389   \n",
       "4           9  Netherlands       51000          11509480   \n",
       "\n",
       "   Insufficiently_active  Percent_Obese    HDI   IHDI  \n",
       "0                   28.5           23.1  0.898  0.827  \n",
       "1                   35.1           25.6  0.923  0.850  \n",
       "2                   25.8           23.1  0.949  0.898  \n",
       "3                   24.5           19.4  0.939  0.859  \n",
       "4                   15.5           19.8  0.924  0.861  "
      ]
     },
     "execution_count": 19,
     "metadata": {},
     "output_type": "execute_result"
    }
   ],
   "source": [
    "df3.head()"
   ]
  },
  {
   "cell_type": "code",
   "execution_count": 20,
   "metadata": {
    "collapsed": false
   },
   "outputs": [
    {
     "data": {
      "text/html": [
       "<div>\n",
       "<table border=\"1\" class=\"dataframe\">\n",
       "  <thead>\n",
       "    <tr style=\"text-align: right;\">\n",
       "      <th></th>\n",
       "      <th>Unnamed: 0</th>\n",
       "      <th>GDPper_cap</th>\n",
       "      <th>Adult_Population</th>\n",
       "      <th>Insufficiently_active</th>\n",
       "      <th>Percent_Obese</th>\n",
       "      <th>HDI</th>\n",
       "      <th>IHDI</th>\n",
       "    </tr>\n",
       "  </thead>\n",
       "  <tbody>\n",
       "    <tr>\n",
       "      <th>Unnamed: 0</th>\n",
       "      <td>1.000000</td>\n",
       "      <td>-0.897720</td>\n",
       "      <td>0.054488</td>\n",
       "      <td>-0.283236</td>\n",
       "      <td>-0.606367</td>\n",
       "      <td>-0.953010</td>\n",
       "      <td>-0.929229</td>\n",
       "    </tr>\n",
       "    <tr>\n",
       "      <th>GDPper_cap</th>\n",
       "      <td>-0.897720</td>\n",
       "      <td>1.000000</td>\n",
       "      <td>-0.070887</td>\n",
       "      <td>0.188754</td>\n",
       "      <td>0.464196</td>\n",
       "      <td>0.848106</td>\n",
       "      <td>0.853806</td>\n",
       "    </tr>\n",
       "    <tr>\n",
       "      <th>Adult_Population</th>\n",
       "      <td>0.054488</td>\n",
       "      <td>-0.070887</td>\n",
       "      <td>1.000000</td>\n",
       "      <td>-0.087416</td>\n",
       "      <td>-0.207627</td>\n",
       "      <td>-0.052975</td>\n",
       "      <td>-0.077407</td>\n",
       "    </tr>\n",
       "    <tr>\n",
       "      <th>Insufficiently_active</th>\n",
       "      <td>-0.283236</td>\n",
       "      <td>0.188754</td>\n",
       "      <td>-0.087416</td>\n",
       "      <td>1.000000</td>\n",
       "      <td>0.386320</td>\n",
       "      <td>0.221959</td>\n",
       "      <td>0.156233</td>\n",
       "    </tr>\n",
       "    <tr>\n",
       "      <th>Percent_Obese</th>\n",
       "      <td>-0.606367</td>\n",
       "      <td>0.464196</td>\n",
       "      <td>-0.207627</td>\n",
       "      <td>0.386320</td>\n",
       "      <td>1.000000</td>\n",
       "      <td>0.650689</td>\n",
       "      <td>0.609018</td>\n",
       "    </tr>\n",
       "    <tr>\n",
       "      <th>HDI</th>\n",
       "      <td>-0.953010</td>\n",
       "      <td>0.848106</td>\n",
       "      <td>-0.052975</td>\n",
       "      <td>0.221959</td>\n",
       "      <td>0.650689</td>\n",
       "      <td>1.000000</td>\n",
       "      <td>0.981223</td>\n",
       "    </tr>\n",
       "    <tr>\n",
       "      <th>IHDI</th>\n",
       "      <td>-0.929229</td>\n",
       "      <td>0.853806</td>\n",
       "      <td>-0.077407</td>\n",
       "      <td>0.156233</td>\n",
       "      <td>0.609018</td>\n",
       "      <td>0.981223</td>\n",
       "      <td>1.000000</td>\n",
       "    </tr>\n",
       "  </tbody>\n",
       "</table>\n",
       "</div>"
      ],
      "text/plain": [
       "                       Unnamed: 0  GDPper_cap  Adult_Population  \\\n",
       "Unnamed: 0               1.000000   -0.897720          0.054488   \n",
       "GDPper_cap              -0.897720    1.000000         -0.070887   \n",
       "Adult_Population         0.054488   -0.070887          1.000000   \n",
       "Insufficiently_active   -0.283236    0.188754         -0.087416   \n",
       "Percent_Obese           -0.606367    0.464196         -0.207627   \n",
       "HDI                     -0.953010    0.848106         -0.052975   \n",
       "IHDI                    -0.929229    0.853806         -0.077407   \n",
       "\n",
       "                       Insufficiently_active  Percent_Obese       HDI  \\\n",
       "Unnamed: 0                         -0.283236      -0.606367 -0.953010   \n",
       "GDPper_cap                          0.188754       0.464196  0.848106   \n",
       "Adult_Population                   -0.087416      -0.207627 -0.052975   \n",
       "Insufficiently_active               1.000000       0.386320  0.221959   \n",
       "Percent_Obese                       0.386320       1.000000  0.650689   \n",
       "HDI                                 0.221959       0.650689  1.000000   \n",
       "IHDI                                0.156233       0.609018  0.981223   \n",
       "\n",
       "                           IHDI  \n",
       "Unnamed: 0            -0.929229  \n",
       "GDPper_cap             0.853806  \n",
       "Adult_Population      -0.077407  \n",
       "Insufficiently_active  0.156233  \n",
       "Percent_Obese          0.609018  \n",
       "HDI                    0.981223  \n",
       "IHDI                   1.000000  "
      ]
     },
     "execution_count": 20,
     "metadata": {},
     "output_type": "execute_result"
    }
   ],
   "source": [
    "df3.corr()"
   ]
  },
  {
   "cell_type": "code",
   "execution_count": 33,
   "metadata": {
    "collapsed": true
   },
   "outputs": [],
   "source": [
    "df3.to_csv('Obesity_HDI.csv')"
   ]
  },
  {
   "cell_type": "code",
   "execution_count": 26,
   "metadata": {
    "collapsed": false
   },
   "outputs": [],
   "source": [
    "df_HDI = df3[['country','GDPper_cap', 'Adult_Population','Insufficiently_active', 'Percent_Obese','HDI']]"
   ]
  },
  {
   "cell_type": "code",
   "execution_count": 34,
   "metadata": {
    "collapsed": false
   },
   "outputs": [
    {
     "data": {
      "text/plain": [
       "(128, 6)"
      ]
     },
     "execution_count": 34,
     "metadata": {},
     "output_type": "execute_result"
    }
   ],
   "source": [
    "df_HDI.shape"
   ]
  },
  {
   "cell_type": "code",
   "execution_count": null,
   "metadata": {
    "collapsed": true
   },
   "outputs": [],
   "source": []
  }
 ],
 "metadata": {
  "kernelspec": {
   "display_name": "Python 3",
   "language": "python",
   "name": "python3"
  },
  "language_info": {
   "codemirror_mode": {
    "name": "ipython",
    "version": 3
   },
   "file_extension": ".py",
   "mimetype": "text/x-python",
   "name": "python",
   "nbconvert_exporter": "python",
   "pygments_lexer": "ipython3",
   "version": "3.6.0"
  }
 },
 "nbformat": 4,
 "nbformat_minor": 2
}
