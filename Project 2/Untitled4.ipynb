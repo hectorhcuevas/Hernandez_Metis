{
 "cells": [
  {
   "cell_type": "code",
   "execution_count": 1,
   "metadata": {
    "collapsed": false
   },
   "outputs": [
    {
     "ename": "SyntaxError",
     "evalue": "unexpected EOF while parsing (<ipython-input-1-8c7113be279c>, line 2)",
     "output_type": "error",
     "traceback": [
      "\u001b[0;36m  File \u001b[0;32m\"<ipython-input-1-8c7113be279c>\"\u001b[0;36m, line \u001b[0;32m2\u001b[0m\n\u001b[0;31m    \u001b[0m\n\u001b[0m    ^\u001b[0m\n\u001b[0;31mSyntaxError\u001b[0m\u001b[0;31m:\u001b[0m unexpected EOF while parsing\n"
     ]
    }
   ],
   "source": [
    "for s in sentence:\n",
    "    count = 0\n",
    "    if \n",
    "        "
   ]
  },
  {
   "cell_type": "code",
   "execution_count": 3,
   "metadata": {
    "collapsed": false
   },
   "outputs": [],
   "source": [
    "s = 'ABbCCc'"
   ]
  },
  {
   "cell_type": "code",
   "execution_count": 16,
   "metadata": {
    "collapsed": false
   },
   "outputs": [],
   "source": [
    "def letter_to_num(s):\n",
    "    count = 0\n",
    "    for letter in s:\n",
    "        if letter.upper() in s == 'A':\n",
    "            count += 24\n",
    "        elif letter.upper() in s == 'B':\n",
    "            count += 25\n",
    "        elif letter.upper() in s =='C':\n",
    "            count += 26\n",
    "    print(count)"
   ]
  },
  {
   "cell_type": "code",
   "execution_count": 17,
   "metadata": {
    "collapsed": false
   },
   "outputs": [
    {
     "name": "stdout",
     "output_type": "stream",
     "text": [
      "0\n"
     ]
    }
   ],
   "source": [
    "letter_to_num(sentence)"
   ]
  },
  {
   "cell_type": "code",
   "execution_count": 18,
   "metadata": {
    "collapsed": false
   },
   "outputs": [
    {
     "ename": "NameError",
     "evalue": "name 'file' is not defined",
     "output_type": "error",
     "traceback": [
      "\u001b[0;31m---------------------------------------------------------------------------\u001b[0m",
      "\u001b[0;31mNameError\u001b[0m                                 Traceback (most recent call last)",
      "\u001b[0;32m<ipython-input-18-1f1b4de4eb6c>\u001b[0m in \u001b[0;36m<module>\u001b[0;34m()\u001b[0m\n\u001b[1;32m     18\u001b[0m    \u001b[0;32mreturn\u001b[0m \u001b[0mscore\u001b[0m\u001b[0;34m\u001b[0m\u001b[0m\n\u001b[1;32m     19\u001b[0m \u001b[0;34m\u001b[0m\u001b[0m\n\u001b[0;32m---> 20\u001b[0;31m \u001b[0;32mwith\u001b[0m \u001b[0mopen\u001b[0m\u001b[0;34m(\u001b[0m\u001b[0mfile\u001b[0m\u001b[0;34m,\u001b[0m\u001b[0;34m'r'\u001b[0m\u001b[0;34m)\u001b[0m \u001b[0;32mas\u001b[0m \u001b[0mf\u001b[0m\u001b[0;34m:\u001b[0m\u001b[0;34m\u001b[0m\u001b[0m\n\u001b[0m\u001b[1;32m     21\u001b[0m    \u001b[0;32mfor\u001b[0m \u001b[0mline\u001b[0m \u001b[0;32min\u001b[0m \u001b[0mf\u001b[0m\u001b[0;34m:\u001b[0m\u001b[0;34m\u001b[0m\u001b[0m\n\u001b[1;32m     22\u001b[0m        \u001b[0mprint\u001b[0m\u001b[0;34m(\u001b[0m\u001b[0mstring_beauty\u001b[0m\u001b[0;34m(\u001b[0m\u001b[0mline\u001b[0m\u001b[0;34m)\u001b[0m\u001b[0;34m)\u001b[0m\u001b[0;34m\u001b[0m\u001b[0m\n",
      "\u001b[0;31mNameError\u001b[0m: name 'file' is not defined"
     ]
    }
   ],
   "source": [
    "from collections import Counter\n",
    "import re\n",
    "\n",
    "def string_beauty(string):\n",
    "   string = string.lower()\n",
    "   string = ''.join(e for e in string if e.isalnum())\n",
    "   score = 0\n",
    "   i = 0\n",
    "\n",
    "   cnt = Counter(string)\n",
    "\n",
    "   while len(cnt.keys()) > 0:\n",
    "       e = max(cnt,key=cnt.get)\n",
    "       score += cnt[e] * (26 - i)\n",
    "       cnt.pop(e)\n",
    "       i += 1\n",
    "       \n",
    "   return score\n",
    "\n",
    "with open(file,'r') as f:\n",
    "   for line in f:\n",
    "       print(string_beauty(line))"
   ]
  },
  {
   "cell_type": "code",
   "execution_count": 19,
   "metadata": {
    "collapsed": false
   },
   "outputs": [
    {
     "name": "stdout",
     "output_type": "stream",
     "text": [
      "0 152\n",
      "1 754\n",
      "2 491\n",
      "3 729\n",
      "4 646\n"
     ]
    }
   ],
   "source": [
    "from collections import Counter\n",
    "import re\n",
    "\n",
    "strings = ['ABbCcc',\n",
    "'Good luck in the Facebook Hacker Cup this year!',\n",
    "'Ignore punctuation, please :)',\n",
    "'Sometimes test cases are hard to make up.',\n",
    "'So I just go consult Professor Dalves']\n",
    "\n",
    "def score_string(s):\n",
    "    s2 = ''   \n",
    "    # Make sure s2 is all lowercase\n",
    "    for c in s:\n",
    "        s2 = s2 + c.lower()\n",
    "    # Get rid of punctuation and spaces\n",
    "    s2 = re.sub(r'[^\\w]','',s2)  \n",
    "    # Count occurences of each character\n",
    "    s2dict = Counter(s2)\n",
    "    # Sort by value\n",
    "    s2sort = sorted(((v,k) for (k,v) in s2dict.items()), reverse = True)    \n",
    "    # Scores count down from 26 to give max value\n",
    "    scores = range(26,0,-1)\n",
    "    score = 0\n",
    "    # Calculate score for string\n",
    "    for i in range(0,len(s2sort)):\n",
    "        score += scores[i]*s2sort[i][0]\n",
    "    return score\n",
    "\n",
    "for i in range(len(strings)):\n",
    "    print(i, score_string(strings[i])) "
   ]
  },
  {
   "cell_type": "code",
   "execution_count": null,
   "metadata": {
    "collapsed": true
   },
   "outputs": [],
   "source": []
  }
 ],
 "metadata": {
  "kernelspec": {
   "display_name": "Python 3",
   "language": "python",
   "name": "python3"
  },
  "language_info": {
   "codemirror_mode": {
    "name": "ipython",
    "version": 3
   },
   "file_extension": ".py",
   "mimetype": "text/x-python",
   "name": "python",
   "nbconvert_exporter": "python",
   "pygments_lexer": "ipython3",
   "version": "3.6.0"
  }
 },
 "nbformat": 4,
 "nbformat_minor": 2
}
