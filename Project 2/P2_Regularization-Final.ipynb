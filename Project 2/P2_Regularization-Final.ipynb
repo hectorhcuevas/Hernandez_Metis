{
 "cells": [
  {
   "cell_type": "code",
   "execution_count": 188,
   "metadata": {
    "collapsed": false
   },
   "outputs": [],
   "source": [
    "# Python 2 & 3 Compatibility\n",
    "from __future__ import print_function, division\n",
    "\n",
    "# Importing the libraries\n",
    "import numpy as np\n",
    "import matplotlib.pyplot as plt\n",
    "import pandas as pd\n",
    "# all of the imports\n",
    "import pandas as pd\n",
    "import numpy as np\n",
    "import pickle \n",
    "import matplotlib.pyplot as plt\n",
    "import seaborn as sns\n",
    "from sklearn.linear_model import LinearRegression\n",
    "from sklearn import metrics\n",
    "from sklearn.preprocessing import PolynomialFeatures\n",
    "from sklearn.pipeline import make_pipeline\n",
    "from sklearn.cross_validation import train_test_split\n",
    "from sklearn.cross_validation import KFold\n",
    "from sklearn.cross_validation import cross_val_score\n",
    "from sklearn.linear_model import RidgeCV\n",
    "import pickle \n",
    "\n",
    "\n",
    "%matplotlib inline"
   ]
  },
  {
   "cell_type": "code",
   "execution_count": 138,
   "metadata": {
    "collapsed": false
   },
   "outputs": [],
   "source": [
    "## loaded in Education index & country as dataframe\n",
    "#df.to_csv('./data/Model_Data.csv')"
   ]
  },
  {
   "cell_type": "code",
   "execution_count": 140,
   "metadata": {
    "collapsed": false
   },
   "outputs": [
    {
     "data": {
      "text/plain": [
       "(154, 28)"
      ]
     },
     "execution_count": 140,
     "metadata": {},
     "output_type": "execute_result"
    }
   ],
   "source": [
    "df = pd.read_csv('./data/Model_Data.csv')# loaded in main dataframe \n",
    "df.shape"
   ]
  },
  {
   "cell_type": "code",
   "execution_count": 92,
   "metadata": {
    "collapsed": true
   },
   "outputs": [],
   "source": [
    "#merged on country with main dataframe \n",
    "#df_edu_obese = pd.merge(df,df_edu,on='country') "
   ]
  },
  {
   "cell_type": "code",
   "execution_count": 93,
   "metadata": {
    "collapsed": false
   },
   "outputs": [],
   "source": [
    "# filter df down to essential \n",
    "#df = df[['Country','Percent_Obese','GDPper_cap','Insufficiently_active','Education','Region_Africa','Region_Arab_States','Region_Europe','Region_Asia','Region_Oceania','Region_Latin_America','Region_CIS','Globalization_index','Urbanization_Rate','Urban_Population','Imports']]"
   ]
  },
  {
   "cell_type": "code",
   "execution_count": 94,
   "metadata": {
    "collapsed": false
   },
   "outputs": [],
   "source": [
    "#created new columns of interactions and/or log of variables\n",
    "df['log(Imports)'] = np.log(df['Imports'])\n",
    "df['log(GDPper_cap)'] = np.log(df['GDPper_cap'])\n",
    "df['log(Imports)*Asia'] = df['log(Imports)']*df['Region_Asia']\n",
    "df['Asia*Urbanization'] = df['Region_Asia']*df['Urbanization_Rate'] \n",
    "df['UrbanPop*ArabStates'] = df['Urban_Population']*df['Region_Arab_States']\n",
    "df['Asia*UrbanPop'] = df['Region_Asia']*df['Urban_Population']\n",
    "df['ArabStates*Globalization'] = df['Region_Arab_States']*df['Globalization_index']\n",
    "df['Urbanization*GDPpercap'] = df['Urbanization_Rate']*np.log(df['GDPper_cap'])\n",
    "df['Europe*GDPpercap'] = df['Region_Europe']*df['GDPper_cap']"
   ]
  },
  {
   "cell_type": "code",
   "execution_count": 95,
   "metadata": {
    "collapsed": false
   },
   "outputs": [],
   "source": [
    "#Save dataframe after transforming/creating variables to load and use from here on out\n",
    "#df.to_csv('./data/Obesity_Data.csv')"
   ]
  },
  {
   "cell_type": "code",
   "execution_count": 149,
   "metadata": {
    "collapsed": false
   },
   "outputs": [
    {
     "data": {
      "text/html": [
       "<div>\n",
       "<style>\n",
       "    .dataframe thead tr:only-child th {\n",
       "        text-align: right;\n",
       "    }\n",
       "\n",
       "    .dataframe thead th {\n",
       "        text-align: left;\n",
       "    }\n",
       "\n",
       "    .dataframe tbody tr th {\n",
       "        vertical-align: top;\n",
       "    }\n",
       "</style>\n",
       "<table border=\"1\" class=\"dataframe\">\n",
       "  <thead>\n",
       "    <tr style=\"text-align: right;\">\n",
       "      <th></th>\n",
       "      <th>log(Imports)</th>\n",
       "      <th>log(GDPper_cap)</th>\n",
       "      <th>Insufficiently_active</th>\n",
       "      <th>Education</th>\n",
       "      <th>Region_Oceania</th>\n",
       "      <th>ArabStates*Globalization</th>\n",
       "      <th>Asia*Globalization</th>\n",
       "      <th>Europe*GDPpercap</th>\n",
       "    </tr>\n",
       "  </thead>\n",
       "  <tbody>\n",
       "    <tr>\n",
       "      <th>0</th>\n",
       "      <td>25.829817</td>\n",
       "      <td>10.184900</td>\n",
       "      <td>9.5</td>\n",
       "      <td>0.780</td>\n",
       "      <td>0</td>\n",
       "      <td>0.00</td>\n",
       "      <td>0.00</td>\n",
       "      <td>0</td>\n",
       "    </tr>\n",
       "    <tr>\n",
       "      <th>1</th>\n",
       "      <td>24.242543</td>\n",
       "      <td>11.757439</td>\n",
       "      <td>41.6</td>\n",
       "      <td>0.686</td>\n",
       "      <td>0</td>\n",
       "      <td>74.39</td>\n",
       "      <td>0.00</td>\n",
       "      <td>0</td>\n",
       "    </tr>\n",
       "    <tr>\n",
       "      <th>2</th>\n",
       "      <td>23.631805</td>\n",
       "      <td>9.249561</td>\n",
       "      <td>28.5</td>\n",
       "      <td>0.762</td>\n",
       "      <td>0</td>\n",
       "      <td>0.00</td>\n",
       "      <td>0.00</td>\n",
       "      <td>10400</td>\n",
       "    </tr>\n",
       "    <tr>\n",
       "      <th>3</th>\n",
       "      <td>26.326491</td>\n",
       "      <td>11.383955</td>\n",
       "      <td>33.1</td>\n",
       "      <td>0.768</td>\n",
       "      <td>0</td>\n",
       "      <td>0.00</td>\n",
       "      <td>78.63</td>\n",
       "      <td>0</td>\n",
       "    </tr>\n",
       "    <tr>\n",
       "      <th>4</th>\n",
       "      <td>24.066834</td>\n",
       "      <td>11.183032</td>\n",
       "      <td>56.6</td>\n",
       "      <td>0.646</td>\n",
       "      <td>0</td>\n",
       "      <td>70.21</td>\n",
       "      <td>0.00</td>\n",
       "      <td>0</td>\n",
       "    </tr>\n",
       "    <tr>\n",
       "      <th>5</th>\n",
       "      <td>25.200716</td>\n",
       "      <td>11.144756</td>\n",
       "      <td>35.1</td>\n",
       "      <td>0.887</td>\n",
       "      <td>0</td>\n",
       "      <td>0.00</td>\n",
       "      <td>0.00</td>\n",
       "      <td>69200</td>\n",
       "    </tr>\n",
       "    <tr>\n",
       "      <th>6</th>\n",
       "      <td>25.013999</td>\n",
       "      <td>11.144756</td>\n",
       "      <td>25.8</td>\n",
       "      <td>0.910</td>\n",
       "      <td>0</td>\n",
       "      <td>0.00</td>\n",
       "      <td>0.00</td>\n",
       "      <td>69200</td>\n",
       "    </tr>\n",
       "    <tr>\n",
       "      <th>7</th>\n",
       "      <td>26.232249</td>\n",
       "      <td>11.125791</td>\n",
       "      <td>38.4</td>\n",
       "      <td>0.673</td>\n",
       "      <td>0</td>\n",
       "      <td>84.56</td>\n",
       "      <td>0.00</td>\n",
       "      <td>0</td>\n",
       "    </tr>\n",
       "    <tr>\n",
       "      <th>8</th>\n",
       "      <td>26.217972</td>\n",
       "      <td>10.995411</td>\n",
       "      <td>24.5</td>\n",
       "      <td>0.844</td>\n",
       "      <td>0</td>\n",
       "      <td>0.00</td>\n",
       "      <td>0.00</td>\n",
       "      <td>59600</td>\n",
       "    </tr>\n",
       "    <tr>\n",
       "      <th>9</th>\n",
       "      <td>25.783960</td>\n",
       "      <td>10.918718</td>\n",
       "      <td>61.0</td>\n",
       "      <td>0.723</td>\n",
       "      <td>0</td>\n",
       "      <td>61.86</td>\n",
       "      <td>0.00</td>\n",
       "      <td>0</td>\n",
       "    </tr>\n",
       "    <tr>\n",
       "      <th>10</th>\n",
       "      <td>26.653653</td>\n",
       "      <td>10.839581</td>\n",
       "      <td>15.5</td>\n",
       "      <td>0.894</td>\n",
       "      <td>0</td>\n",
       "      <td>0.00</td>\n",
       "      <td>0.00</td>\n",
       "      <td>51000</td>\n",
       "    </tr>\n",
       "    <tr>\n",
       "      <th>11</th>\n",
       "      <td>22.799452</td>\n",
       "      <td>10.833681</td>\n",
       "      <td>31.1</td>\n",
       "      <td>0.714</td>\n",
       "      <td>0</td>\n",
       "      <td>68.04</td>\n",
       "      <td>0.00</td>\n",
       "      <td>0</td>\n",
       "    </tr>\n",
       "    <tr>\n",
       "      <th>12</th>\n",
       "      <td>25.627800</td>\n",
       "      <td>10.815770</td>\n",
       "      <td>28.7</td>\n",
       "      <td>0.830</td>\n",
       "      <td>0</td>\n",
       "      <td>0.00</td>\n",
       "      <td>0.00</td>\n",
       "      <td>49800</td>\n",
       "    </tr>\n",
       "    <tr>\n",
       "      <th>13</th>\n",
       "      <td>22.337492</td>\n",
       "      <td>10.803649</td>\n",
       "      <td>24.5</td>\n",
       "      <td>0.847</td>\n",
       "      <td>0</td>\n",
       "      <td>0.00</td>\n",
       "      <td>0.00</td>\n",
       "      <td>49200</td>\n",
       "    </tr>\n",
       "    <tr>\n",
       "      <th>14</th>\n",
       "      <td>26.036964</td>\n",
       "      <td>10.797533</td>\n",
       "      <td>23.8</td>\n",
       "      <td>0.927</td>\n",
       "      <td>0</td>\n",
       "      <td>0.00</td>\n",
       "      <td>0.00</td>\n",
       "      <td>0</td>\n",
       "    </tr>\n",
       "    <tr>\n",
       "      <th>15</th>\n",
       "      <td>27.618544</td>\n",
       "      <td>10.781037</td>\n",
       "      <td>21.1</td>\n",
       "      <td>0.884</td>\n",
       "      <td>0</td>\n",
       "      <td>0.00</td>\n",
       "      <td>0.00</td>\n",
       "      <td>48100</td>\n",
       "    </tr>\n",
       "    <tr>\n",
       "      <th>16</th>\n",
       "      <td>25.654858</td>\n",
       "      <td>10.778956</td>\n",
       "      <td>23.8</td>\n",
       "      <td>0.794</td>\n",
       "      <td>0</td>\n",
       "      <td>0.00</td>\n",
       "      <td>0.00</td>\n",
       "      <td>48000</td>\n",
       "    </tr>\n",
       "    <tr>\n",
       "      <th>17</th>\n",
       "      <td>25.133515</td>\n",
       "      <td>10.778956</td>\n",
       "      <td>24.3</td>\n",
       "      <td>0.873</td>\n",
       "      <td>0</td>\n",
       "      <td>0.00</td>\n",
       "      <td>0.00</td>\n",
       "      <td>48000</td>\n",
       "    </tr>\n",
       "    <tr>\n",
       "      <th>18</th>\n",
       "      <td>23.972865</td>\n",
       "      <td>10.751499</td>\n",
       "      <td>31.1</td>\n",
       "      <td>0.603</td>\n",
       "      <td>0</td>\n",
       "      <td>65.40</td>\n",
       "      <td>0.00</td>\n",
       "      <td>0</td>\n",
       "    </tr>\n",
       "    <tr>\n",
       "      <th>19</th>\n",
       "      <td>26.761137</td>\n",
       "      <td>10.745055</td>\n",
       "      <td>23.2</td>\n",
       "      <td>0.850</td>\n",
       "      <td>0</td>\n",
       "      <td>0.00</td>\n",
       "      <td>0.00</td>\n",
       "      <td>0</td>\n",
       "    </tr>\n",
       "    <tr>\n",
       "      <th>20</th>\n",
       "      <td>26.251504</td>\n",
       "      <td>10.714418</td>\n",
       "      <td>33.2</td>\n",
       "      <td>0.812</td>\n",
       "      <td>0</td>\n",
       "      <td>0.00</td>\n",
       "      <td>0.00</td>\n",
       "      <td>45000</td>\n",
       "    </tr>\n",
       "    <tr>\n",
       "      <th>21</th>\n",
       "      <td>26.987426</td>\n",
       "      <td>10.652542</td>\n",
       "      <td>23.8</td>\n",
       "      <td>0.816</td>\n",
       "      <td>0</td>\n",
       "      <td>0.00</td>\n",
       "      <td>0.00</td>\n",
       "      <td>42300</td>\n",
       "    </tr>\n",
       "    <tr>\n",
       "      <th>22</th>\n",
       "      <td>24.702947</td>\n",
       "      <td>10.650176</td>\n",
       "      <td>23.5</td>\n",
       "      <td>0.815</td>\n",
       "      <td>0</td>\n",
       "      <td>0.00</td>\n",
       "      <td>0.00</td>\n",
       "      <td>42200</td>\n",
       "    </tr>\n",
       "    <tr>\n",
       "      <th>23</th>\n",
       "      <td>27.168668</td>\n",
       "      <td>10.628618</td>\n",
       "      <td>33.8</td>\n",
       "      <td>0.808</td>\n",
       "      <td>0</td>\n",
       "      <td>0.00</td>\n",
       "      <td>77.30</td>\n",
       "      <td>0</td>\n",
       "    </tr>\n",
       "    <tr>\n",
       "      <th>24</th>\n",
       "      <td>22.222666</td>\n",
       "      <td>10.594132</td>\n",
       "      <td>42.9</td>\n",
       "      <td>0.733</td>\n",
       "      <td>0</td>\n",
       "      <td>0.00</td>\n",
       "      <td>0.00</td>\n",
       "      <td>39900</td>\n",
       "    </tr>\n",
       "    <tr>\n",
       "      <th>25</th>\n",
       "      <td>21.831828</td>\n",
       "      <td>10.561008</td>\n",
       "      <td>25.2</td>\n",
       "      <td>0.415</td>\n",
       "      <td>0</td>\n",
       "      <td>0.00</td>\n",
       "      <td>0.00</td>\n",
       "      <td>0</td>\n",
       "    </tr>\n",
       "    <tr>\n",
       "      <th>26</th>\n",
       "      <td>24.273745</td>\n",
       "      <td>10.526749</td>\n",
       "      <td>39.8</td>\n",
       "      <td>0.917</td>\n",
       "      <td>0</td>\n",
       "      <td>0.00</td>\n",
       "      <td>0.00</td>\n",
       "      <td>0</td>\n",
       "    </tr>\n",
       "    <tr>\n",
       "      <th>27</th>\n",
       "      <td>26.642697</td>\n",
       "      <td>10.513253</td>\n",
       "      <td>33.2</td>\n",
       "      <td>0.790</td>\n",
       "      <td>0</td>\n",
       "      <td>0.00</td>\n",
       "      <td>0.00</td>\n",
       "      <td>36800</td>\n",
       "    </tr>\n",
       "    <tr>\n",
       "      <th>28</th>\n",
       "      <td>26.385879</td>\n",
       "      <td>10.502324</td>\n",
       "      <td>30.5</td>\n",
       "      <td>0.794</td>\n",
       "      <td>0</td>\n",
       "      <td>0.00</td>\n",
       "      <td>0.00</td>\n",
       "      <td>36400</td>\n",
       "    </tr>\n",
       "    <tr>\n",
       "      <th>29</th>\n",
       "      <td>24.781983</td>\n",
       "      <td>10.468801</td>\n",
       "      <td>31.1</td>\n",
       "      <td>0.854</td>\n",
       "      <td>0</td>\n",
       "      <td>0.00</td>\n",
       "      <td>0.00</td>\n",
       "      <td>35200</td>\n",
       "    </tr>\n",
       "    <tr>\n",
       "      <th>...</th>\n",
       "      <td>...</td>\n",
       "      <td>...</td>\n",
       "      <td>...</td>\n",
       "      <td>...</td>\n",
       "      <td>...</td>\n",
       "      <td>...</td>\n",
       "      <td>...</td>\n",
       "      <td>...</td>\n",
       "    </tr>\n",
       "    <tr>\n",
       "      <th>124</th>\n",
       "      <td>21.573417</td>\n",
       "      <td>8.006368</td>\n",
       "      <td>24.5</td>\n",
       "      <td>0.639</td>\n",
       "      <td>0</td>\n",
       "      <td>0.00</td>\n",
       "      <td>0.00</td>\n",
       "      <td>0</td>\n",
       "    </tr>\n",
       "    <tr>\n",
       "      <th>125</th>\n",
       "      <td>19.720327</td>\n",
       "      <td>7.863267</td>\n",
       "      <td>8.4</td>\n",
       "      <td>0.596</td>\n",
       "      <td>1</td>\n",
       "      <td>0.00</td>\n",
       "      <td>0.00</td>\n",
       "      <td>0</td>\n",
       "    </tr>\n",
       "    <tr>\n",
       "      <th>126</th>\n",
       "      <td>22.332904</td>\n",
       "      <td>7.863267</td>\n",
       "      <td>25.0</td>\n",
       "      <td>0.368</td>\n",
       "      <td>0</td>\n",
       "      <td>0.00</td>\n",
       "      <td>0.00</td>\n",
       "      <td>0</td>\n",
       "    </tr>\n",
       "    <tr>\n",
       "      <th>127</th>\n",
       "      <td>22.685612</td>\n",
       "      <td>7.824046</td>\n",
       "      <td>4.1</td>\n",
       "      <td>0.452</td>\n",
       "      <td>0</td>\n",
       "      <td>0.00</td>\n",
       "      <td>46.26</td>\n",
       "      <td>0</td>\n",
       "    </tr>\n",
       "    <tr>\n",
       "      <th>128</th>\n",
       "      <td>21.846571</td>\n",
       "      <td>7.783224</td>\n",
       "      <td>24.6</td>\n",
       "      <td>0.256</td>\n",
       "      <td>0</td>\n",
       "      <td>0.00</td>\n",
       "      <td>0.00</td>\n",
       "      <td>0</td>\n",
       "    </tr>\n",
       "    <tr>\n",
       "      <th>129</th>\n",
       "      <td>22.010844</td>\n",
       "      <td>7.783224</td>\n",
       "      <td>31.1</td>\n",
       "      <td>0.339</td>\n",
       "      <td>0</td>\n",
       "      <td>52.78</td>\n",
       "      <td>0.00</td>\n",
       "      <td>0</td>\n",
       "    </tr>\n",
       "    <tr>\n",
       "      <th>130</th>\n",
       "      <td>21.789355</td>\n",
       "      <td>7.740664</td>\n",
       "      <td>23.7</td>\n",
       "      <td>0.305</td>\n",
       "      <td>0</td>\n",
       "      <td>0.00</td>\n",
       "      <td>0.00</td>\n",
       "      <td>0</td>\n",
       "    </tr>\n",
       "    <tr>\n",
       "      <th>131</th>\n",
       "      <td>21.675310</td>\n",
       "      <td>7.649693</td>\n",
       "      <td>6.9</td>\n",
       "      <td>0.414</td>\n",
       "      <td>0</td>\n",
       "      <td>0.00</td>\n",
       "      <td>0.00</td>\n",
       "      <td>0</td>\n",
       "    </tr>\n",
       "    <tr>\n",
       "      <th>132</th>\n",
       "      <td>22.265923</td>\n",
       "      <td>7.649693</td>\n",
       "      <td>20.9</td>\n",
       "      <td>0.479</td>\n",
       "      <td>0</td>\n",
       "      <td>0.00</td>\n",
       "      <td>0.00</td>\n",
       "      <td>0</td>\n",
       "    </tr>\n",
       "    <tr>\n",
       "      <th>133</th>\n",
       "      <td>21.396720</td>\n",
       "      <td>7.600902</td>\n",
       "      <td>15.3</td>\n",
       "      <td>0.478</td>\n",
       "      <td>0</td>\n",
       "      <td>0.00</td>\n",
       "      <td>0.00</td>\n",
       "      <td>0</td>\n",
       "    </tr>\n",
       "    <tr>\n",
       "      <th>134</th>\n",
       "      <td>19.869245</td>\n",
       "      <td>7.600902</td>\n",
       "      <td>35.1</td>\n",
       "      <td>0.405</td>\n",
       "      <td>1</td>\n",
       "      <td>0.00</td>\n",
       "      <td>0.00</td>\n",
       "      <td>0</td>\n",
       "    </tr>\n",
       "    <tr>\n",
       "      <th>135</th>\n",
       "      <td>22.470377</td>\n",
       "      <td>7.600902</td>\n",
       "      <td>22.4</td>\n",
       "      <td>0.500</td>\n",
       "      <td>0</td>\n",
       "      <td>0.00</td>\n",
       "      <td>0.00</td>\n",
       "      <td>0</td>\n",
       "    </tr>\n",
       "    <tr>\n",
       "      <th>136</th>\n",
       "      <td>22.669747</td>\n",
       "      <td>7.549609</td>\n",
       "      <td>31.1</td>\n",
       "      <td>0.365</td>\n",
       "      <td>0</td>\n",
       "      <td>0.00</td>\n",
       "      <td>35.95</td>\n",
       "      <td>0</td>\n",
       "    </tr>\n",
       "    <tr>\n",
       "      <th>137</th>\n",
       "      <td>23.415187</td>\n",
       "      <td>7.549609</td>\n",
       "      <td>18.9</td>\n",
       "      <td>0.317</td>\n",
       "      <td>0</td>\n",
       "      <td>0.00</td>\n",
       "      <td>0.00</td>\n",
       "      <td>0</td>\n",
       "    </tr>\n",
       "    <tr>\n",
       "      <th>138</th>\n",
       "      <td>21.870351</td>\n",
       "      <td>7.495542</td>\n",
       "      <td>32.4</td>\n",
       "      <td>0.374</td>\n",
       "      <td>0</td>\n",
       "      <td>0.00</td>\n",
       "      <td>0.00</td>\n",
       "      <td>0</td>\n",
       "    </tr>\n",
       "    <tr>\n",
       "      <th>139</th>\n",
       "      <td>21.778274</td>\n",
       "      <td>7.438384</td>\n",
       "      <td>18.4</td>\n",
       "      <td>0.250</td>\n",
       "      <td>0</td>\n",
       "      <td>0.00</td>\n",
       "      <td>0.00</td>\n",
       "      <td>0</td>\n",
       "    </tr>\n",
       "    <tr>\n",
       "      <th>140</th>\n",
       "      <td>19.020616</td>\n",
       "      <td>7.495542</td>\n",
       "      <td>41.1</td>\n",
       "      <td>0.602</td>\n",
       "      <td>1</td>\n",
       "      <td>0.00</td>\n",
       "      <td>0.00</td>\n",
       "      <td>0</td>\n",
       "    </tr>\n",
       "    <tr>\n",
       "      <th>141</th>\n",
       "      <td>20.987935</td>\n",
       "      <td>7.438384</td>\n",
       "      <td>14.2</td>\n",
       "      <td>0.305</td>\n",
       "      <td>0</td>\n",
       "      <td>0.00</td>\n",
       "      <td>0.00</td>\n",
       "      <td>0</td>\n",
       "    </tr>\n",
       "    <tr>\n",
       "      <th>142</th>\n",
       "      <td>19.712390</td>\n",
       "      <td>7.438384</td>\n",
       "      <td>21.5</td>\n",
       "      <td>0.346</td>\n",
       "      <td>0</td>\n",
       "      <td>0.00</td>\n",
       "      <td>0.00</td>\n",
       "      <td>0</td>\n",
       "    </tr>\n",
       "    <tr>\n",
       "      <th>143</th>\n",
       "      <td>21.339532</td>\n",
       "      <td>7.377759</td>\n",
       "      <td>10.4</td>\n",
       "      <td>0.514</td>\n",
       "      <td>0</td>\n",
       "      <td>0.00</td>\n",
       "      <td>0.00</td>\n",
       "      <td>0</td>\n",
       "    </tr>\n",
       "    <tr>\n",
       "      <th>144</th>\n",
       "      <td>19.068831</td>\n",
       "      <td>7.313220</td>\n",
       "      <td>14.2</td>\n",
       "      <td>0.450</td>\n",
       "      <td>0</td>\n",
       "      <td>36.85</td>\n",
       "      <td>0.00</td>\n",
       "      <td>0</td>\n",
       "    </tr>\n",
       "    <tr>\n",
       "      <th>145</th>\n",
       "      <td>21.722794</td>\n",
       "      <td>7.313220</td>\n",
       "      <td>17.9</td>\n",
       "      <td>0.458</td>\n",
       "      <td>0</td>\n",
       "      <td>0.00</td>\n",
       "      <td>0.00</td>\n",
       "      <td>0</td>\n",
       "    </tr>\n",
       "    <tr>\n",
       "      <th>146</th>\n",
       "      <td>20.745027</td>\n",
       "      <td>7.244228</td>\n",
       "      <td>10.7</td>\n",
       "      <td>0.228</td>\n",
       "      <td>0</td>\n",
       "      <td>0.00</td>\n",
       "      <td>0.00</td>\n",
       "      <td>0</td>\n",
       "    </tr>\n",
       "    <tr>\n",
       "      <th>147</th>\n",
       "      <td>21.504882</td>\n",
       "      <td>7.170120</td>\n",
       "      <td>9.9</td>\n",
       "      <td>0.294</td>\n",
       "      <td>0</td>\n",
       "      <td>0.00</td>\n",
       "      <td>0.00</td>\n",
       "      <td>0</td>\n",
       "    </tr>\n",
       "    <tr>\n",
       "      <th>148</th>\n",
       "      <td>22.362457</td>\n",
       "      <td>7.090077</td>\n",
       "      <td>5.8</td>\n",
       "      <td>0.372</td>\n",
       "      <td>0</td>\n",
       "      <td>0.00</td>\n",
       "      <td>0.00</td>\n",
       "      <td>0</td>\n",
       "    </tr>\n",
       "    <tr>\n",
       "      <th>149</th>\n",
       "      <td>21.670280</td>\n",
       "      <td>7.003065</td>\n",
       "      <td>7.5</td>\n",
       "      <td>0.440</td>\n",
       "      <td>0</td>\n",
       "      <td>0.00</td>\n",
       "      <td>0.00</td>\n",
       "      <td>0</td>\n",
       "    </tr>\n",
       "    <tr>\n",
       "      <th>150</th>\n",
       "      <td>21.373506</td>\n",
       "      <td>7.003065</td>\n",
       "      <td>25.1</td>\n",
       "      <td>0.198</td>\n",
       "      <td>0</td>\n",
       "      <td>0.00</td>\n",
       "      <td>0.00</td>\n",
       "      <td>0</td>\n",
       "    </tr>\n",
       "    <tr>\n",
       "      <th>151</th>\n",
       "      <td>20.946409</td>\n",
       "      <td>6.802395</td>\n",
       "      <td>27.5</td>\n",
       "      <td>0.367</td>\n",
       "      <td>0</td>\n",
       "      <td>0.00</td>\n",
       "      <td>0.00</td>\n",
       "      <td>0</td>\n",
       "    </tr>\n",
       "    <tr>\n",
       "      <th>152</th>\n",
       "      <td>20.342591</td>\n",
       "      <td>6.684612</td>\n",
       "      <td>20.9</td>\n",
       "      <td>0.370</td>\n",
       "      <td>0</td>\n",
       "      <td>0.00</td>\n",
       "      <td>0.00</td>\n",
       "      <td>0</td>\n",
       "    </tr>\n",
       "    <tr>\n",
       "      <th>153</th>\n",
       "      <td>19.743236</td>\n",
       "      <td>6.551080</td>\n",
       "      <td>12.0</td>\n",
       "      <td>0.318</td>\n",
       "      <td>0</td>\n",
       "      <td>0.00</td>\n",
       "      <td>0.00</td>\n",
       "      <td>0</td>\n",
       "    </tr>\n",
       "  </tbody>\n",
       "</table>\n",
       "<p>154 rows × 8 columns</p>\n",
       "</div>"
      ],
      "text/plain": [
       "     log(Imports)  log(GDPper_cap)  Insufficiently_active  Education  \\\n",
       "0       25.829817        10.184900                    9.5      0.780   \n",
       "1       24.242543        11.757439                   41.6      0.686   \n",
       "2       23.631805         9.249561                   28.5      0.762   \n",
       "3       26.326491        11.383955                   33.1      0.768   \n",
       "4       24.066834        11.183032                   56.6      0.646   \n",
       "5       25.200716        11.144756                   35.1      0.887   \n",
       "6       25.013999        11.144756                   25.8      0.910   \n",
       "7       26.232249        11.125791                   38.4      0.673   \n",
       "8       26.217972        10.995411                   24.5      0.844   \n",
       "9       25.783960        10.918718                   61.0      0.723   \n",
       "10      26.653653        10.839581                   15.5      0.894   \n",
       "11      22.799452        10.833681                   31.1      0.714   \n",
       "12      25.627800        10.815770                   28.7      0.830   \n",
       "13      22.337492        10.803649                   24.5      0.847   \n",
       "14      26.036964        10.797533                   23.8      0.927   \n",
       "15      27.618544        10.781037                   21.1      0.884   \n",
       "16      25.654858        10.778956                   23.8      0.794   \n",
       "17      25.133515        10.778956                   24.3      0.873   \n",
       "18      23.972865        10.751499                   31.1      0.603   \n",
       "19      26.761137        10.745055                   23.2      0.850   \n",
       "20      26.251504        10.714418                   33.2      0.812   \n",
       "21      26.987426        10.652542                   23.8      0.816   \n",
       "22      24.702947        10.650176                   23.5      0.815   \n",
       "23      27.168668        10.628618                   33.8      0.808   \n",
       "24      22.222666        10.594132                   42.9      0.733   \n",
       "25      21.831828        10.561008                   25.2      0.415   \n",
       "26      24.273745        10.526749                   39.8      0.917   \n",
       "27      26.642697        10.513253                   33.2      0.790   \n",
       "28      26.385879        10.502324                   30.5      0.794   \n",
       "29      24.781983        10.468801                   31.1      0.854   \n",
       "..            ...              ...                    ...        ...   \n",
       "124     21.573417         8.006368                   24.5      0.639   \n",
       "125     19.720327         7.863267                    8.4      0.596   \n",
       "126     22.332904         7.863267                   25.0      0.368   \n",
       "127     22.685612         7.824046                    4.1      0.452   \n",
       "128     21.846571         7.783224                   24.6      0.256   \n",
       "129     22.010844         7.783224                   31.1      0.339   \n",
       "130     21.789355         7.740664                   23.7      0.305   \n",
       "131     21.675310         7.649693                    6.9      0.414   \n",
       "132     22.265923         7.649693                   20.9      0.479   \n",
       "133     21.396720         7.600902                   15.3      0.478   \n",
       "134     19.869245         7.600902                   35.1      0.405   \n",
       "135     22.470377         7.600902                   22.4      0.500   \n",
       "136     22.669747         7.549609                   31.1      0.365   \n",
       "137     23.415187         7.549609                   18.9      0.317   \n",
       "138     21.870351         7.495542                   32.4      0.374   \n",
       "139     21.778274         7.438384                   18.4      0.250   \n",
       "140     19.020616         7.495542                   41.1      0.602   \n",
       "141     20.987935         7.438384                   14.2      0.305   \n",
       "142     19.712390         7.438384                   21.5      0.346   \n",
       "143     21.339532         7.377759                   10.4      0.514   \n",
       "144     19.068831         7.313220                   14.2      0.450   \n",
       "145     21.722794         7.313220                   17.9      0.458   \n",
       "146     20.745027         7.244228                   10.7      0.228   \n",
       "147     21.504882         7.170120                    9.9      0.294   \n",
       "148     22.362457         7.090077                    5.8      0.372   \n",
       "149     21.670280         7.003065                    7.5      0.440   \n",
       "150     21.373506         7.003065                   25.1      0.198   \n",
       "151     20.946409         6.802395                   27.5      0.367   \n",
       "152     20.342591         6.684612                   20.9      0.370   \n",
       "153     19.743236         6.551080                   12.0      0.318   \n",
       "\n",
       "     Region_Oceania  ArabStates*Globalization  Asia*Globalization  \\\n",
       "0                 0                      0.00                0.00   \n",
       "1                 0                     74.39                0.00   \n",
       "2                 0                      0.00                0.00   \n",
       "3                 0                      0.00               78.63   \n",
       "4                 0                     70.21                0.00   \n",
       "5                 0                      0.00                0.00   \n",
       "6                 0                      0.00                0.00   \n",
       "7                 0                     84.56                0.00   \n",
       "8                 0                      0.00                0.00   \n",
       "9                 0                     61.86                0.00   \n",
       "10                0                      0.00                0.00   \n",
       "11                0                     68.04                0.00   \n",
       "12                0                      0.00                0.00   \n",
       "13                0                      0.00                0.00   \n",
       "14                0                      0.00                0.00   \n",
       "15                0                      0.00                0.00   \n",
       "16                0                      0.00                0.00   \n",
       "17                0                      0.00                0.00   \n",
       "18                0                     65.40                0.00   \n",
       "19                0                      0.00                0.00   \n",
       "20                0                      0.00                0.00   \n",
       "21                0                      0.00                0.00   \n",
       "22                0                      0.00                0.00   \n",
       "23                0                      0.00               77.30   \n",
       "24                0                      0.00                0.00   \n",
       "25                0                      0.00                0.00   \n",
       "26                0                      0.00                0.00   \n",
       "27                0                      0.00                0.00   \n",
       "28                0                      0.00                0.00   \n",
       "29                0                      0.00                0.00   \n",
       "..              ...                       ...                 ...   \n",
       "124               0                      0.00                0.00   \n",
       "125               1                      0.00                0.00   \n",
       "126               0                      0.00                0.00   \n",
       "127               0                      0.00               46.26   \n",
       "128               0                      0.00                0.00   \n",
       "129               0                     52.78                0.00   \n",
       "130               0                      0.00                0.00   \n",
       "131               0                      0.00                0.00   \n",
       "132               0                      0.00                0.00   \n",
       "133               0                      0.00                0.00   \n",
       "134               1                      0.00                0.00   \n",
       "135               0                      0.00                0.00   \n",
       "136               0                      0.00               35.95   \n",
       "137               0                      0.00                0.00   \n",
       "138               0                      0.00                0.00   \n",
       "139               0                      0.00                0.00   \n",
       "140               1                      0.00                0.00   \n",
       "141               0                      0.00                0.00   \n",
       "142               0                      0.00                0.00   \n",
       "143               0                      0.00                0.00   \n",
       "144               0                     36.85                0.00   \n",
       "145               0                      0.00                0.00   \n",
       "146               0                      0.00                0.00   \n",
       "147               0                      0.00                0.00   \n",
       "148               0                      0.00                0.00   \n",
       "149               0                      0.00                0.00   \n",
       "150               0                      0.00                0.00   \n",
       "151               0                      0.00                0.00   \n",
       "152               0                      0.00                0.00   \n",
       "153               0                      0.00                0.00   \n",
       "\n",
       "     Europe*GDPpercap  \n",
       "0                   0  \n",
       "1                   0  \n",
       "2               10400  \n",
       "3                   0  \n",
       "4                   0  \n",
       "5               69200  \n",
       "6               69200  \n",
       "7                   0  \n",
       "8               59600  \n",
       "9                   0  \n",
       "10              51000  \n",
       "11                  0  \n",
       "12              49800  \n",
       "13              49200  \n",
       "14                  0  \n",
       "15              48100  \n",
       "16              48000  \n",
       "17              48000  \n",
       "18                  0  \n",
       "19                  0  \n",
       "20              45000  \n",
       "21              42300  \n",
       "22              42200  \n",
       "23                  0  \n",
       "24              39900  \n",
       "25                  0  \n",
       "26                  0  \n",
       "27              36800  \n",
       "28              36400  \n",
       "29              35200  \n",
       "..                ...  \n",
       "124                 0  \n",
       "125                 0  \n",
       "126                 0  \n",
       "127                 0  \n",
       "128                 0  \n",
       "129                 0  \n",
       "130                 0  \n",
       "131                 0  \n",
       "132                 0  \n",
       "133                 0  \n",
       "134                 0  \n",
       "135                 0  \n",
       "136                 0  \n",
       "137                 0  \n",
       "138                 0  \n",
       "139                 0  \n",
       "140                 0  \n",
       "141                 0  \n",
       "142                 0  \n",
       "143                 0  \n",
       "144                 0  \n",
       "145                 0  \n",
       "146                 0  \n",
       "147                 0  \n",
       "148                 0  \n",
       "149                 0  \n",
       "150                 0  \n",
       "151                 0  \n",
       "152                 0  \n",
       "153                 0  \n",
       "\n",
       "[154 rows x 8 columns]"
      ]
     },
     "execution_count": 149,
     "metadata": {},
     "output_type": "execute_result"
    }
   ],
   "source": [
    "X"
   ]
  },
  {
   "cell_type": "code",
   "execution_count": 141,
   "metadata": {
    "collapsed": false
   },
   "outputs": [],
   "source": [
    "y = df['Percent_Obese']\n",
    "X = df[['log(Imports)','log(GDPper_cap)','Insufficiently_active','Education','Region_Oceania','ArabStates*Globalization','Asia*Globalization','Europe*GDPpercap']]"
   ]
  },
  {
   "cell_type": "code",
   "execution_count": 142,
   "metadata": {
    "collapsed": false
   },
   "outputs": [
    {
     "data": {
      "text/plain": [
       "0.88456142557934991"
      ]
     },
     "execution_count": 142,
     "metadata": {},
     "output_type": "execute_result"
    }
   ],
   "source": [
    "lr = LinearRegression()\n",
    "X_train, X_test, y_train, y_test = train_test_split(X, y, test_size=0.3, random_state = 5)\n",
    "# Fit the model against the training data\n",
    "lr.fit(X_train, y_train)\n",
    "# Evaluate the model against the testing data\n",
    "lr.score(X_test, y_test)"
   ]
  },
  {
   "cell_type": "code",
   "execution_count": 143,
   "metadata": {
    "collapsed": false
   },
   "outputs": [
    {
     "data": {
      "text/plain": [
       "0.71593673850205108"
      ]
     },
     "execution_count": 143,
     "metadata": {},
     "output_type": "execute_result"
    }
   ],
   "source": [
    "## Checking my cross-validation score to compare linear regression to ridge regression models\n",
    "np.mean(cross_val_score(lr,X_test, y_test,cv=10))"
   ]
  },
  {
   "cell_type": "code",
   "execution_count": 144,
   "metadata": {
    "collapsed": false
   },
   "outputs": [
    {
     "data": {
      "text/plain": [
       "0.89144672473466546"
      ]
     },
     "execution_count": 144,
     "metadata": {},
     "output_type": "execute_result"
    }
   ],
   "source": [
    "lr1 = LinearRegression()\n",
    "model = lr1.fit(X_train, y_train)\n",
    "lr1.score(X_train, y_train)"
   ]
  },
  {
   "cell_type": "code",
   "execution_count": 145,
   "metadata": {
    "collapsed": false
   },
   "outputs": [
    {
     "name": "stdout",
     "output_type": "stream",
     "text": [
      "Stratified %i folds cross validation meanFolds: 100, mean squared error: 13.04 std: 17.12\n"
     ]
    }
   ],
   "source": [
    "scores = cross_val_score(model, X, y, cv=100, scoring='neg_mean_squared_error')\n",
    "print('Stratified %i folds cross validation mean' + 'Folds: %i, mean squared error: %.2f std: %.2f'\n",
    "%(len(scores),np.mean(np.abs(scores)),np.std(scores)))"
   ]
  },
  {
   "cell_type": "code",
   "execution_count": 100,
   "metadata": {
    "collapsed": false
   },
   "outputs": [],
   "source": [
    "from sklearn.linear_model import ElasticNetCV\n",
    "from sklearn.linear_model import LassoCV\n",
    "from sklearn.linear_model import RidgeCV\n",
    "from sklearn.metrics import r2_score"
   ]
  },
  {
   "cell_type": "code",
   "execution_count": 101,
   "metadata": {
    "collapsed": false
   },
   "outputs": [
    {
     "name": "stdout",
     "output_type": "stream",
     "text": [
      "ElasticNetCV(alphas=None, copy_X=True, cv=10, eps=0.001, fit_intercept=True,\n",
      "       l1_ratio=1, max_iter=1000, n_alphas=100, n_jobs=1, normalize=False,\n",
      "       positive=False, precompute='auto', random_state=None,\n",
      "       selection='cyclic', tol=0.0001, verbose=0)\n",
      "r^2 on test data : 0.371360\n"
     ]
    }
   ],
   "source": [
    "from sklearn.linear_model import ElasticNet\n",
    "from sklearn.metrics import r2_score\n",
    "\n",
    "## Building Enet model and testing model (This was my best model)\n",
    "\n",
    "enet = ElasticNetCV(cv=10, l1_ratio=1)\n",
    "y_pred_enet = enet.fit(X_train, y_train).predict(X_test)\n",
    "r2_score_enet = r2_score(y_test, y_pred_enet)\n",
    "print(enet)\n",
    "print(\"r^2 on test data : %f\" % r2_score_enet)"
   ]
  },
  {
   "cell_type": "code",
   "execution_count": 102,
   "metadata": {
    "collapsed": false
   },
   "outputs": [
    {
     "data": {
      "text/plain": [
       "0.37135962052080862"
      ]
     },
     "execution_count": 102,
     "metadata": {},
     "output_type": "execute_result"
    }
   ],
   "source": [
    "## Building lasso model and testing performance\n",
    "lasso_model = LassoCV(cv=10)\n",
    "lasso = lasso_model.fit(X_train,y_train)\n",
    "r2_score_lasso = lasso_model.score(X_test,y_test)\n",
    "r2_score_lasso"
   ]
  },
  {
   "cell_type": "code",
   "execution_count": 146,
   "metadata": {
    "collapsed": false
   },
   "outputs": [
    {
     "data": {
      "text/plain": [
       "0.88497936139531119"
      ]
     },
     "execution_count": 146,
     "metadata": {},
     "output_type": "execute_result"
    }
   ],
   "source": [
    "## Building Ridge regression and testing model performance\n",
    "rcv = RidgeCV(cv=10)\n",
    "rcv_model = rcv.fit(X_train, y_train)\n",
    "rcv_model.score(X_test, y_test)"
   ]
  },
  {
   "cell_type": "code",
   "execution_count": 104,
   "metadata": {
    "collapsed": false
   },
   "outputs": [
    {
     "data": {
      "text/plain": [
       "0.37135962052080862"
      ]
     },
     "execution_count": 104,
     "metadata": {},
     "output_type": "execute_result"
    }
   ],
   "source": [
    "#enet score for train data (slightly better than test, as expected)\n",
    "enet.score(X_test,y_test)"
   ]
  },
  {
   "cell_type": "code",
   "execution_count": 150,
   "metadata": {
    "collapsed": false
   },
   "outputs": [
    {
     "data": {
      "text/plain": [
       "[<matplotlib.lines.Line2D at 0x123814668>]"
      ]
     },
     "execution_count": 150,
     "metadata": {},
     "output_type": "execute_result"
    },
    {
     "data": {
      "image/png": "[encoded data removed]",
      "text/plain": [
       "<matplotlib.figure.Figure at 0x124eab898>"
      ]
     },
     "metadata": {},
     "output_type": "display_data"
    }
   ],
   "source": [
    "# Plotting enet coefficients to see their impace within model\n",
    "plt.(rcv_model.coef_, color='lightgreen', linewidth=2,\n",
    "         label='Elastic net coefficients')"
   ]
  },
  {
   "cell_type": "code",
   "execution_count": 148,
   "metadata": {
    "collapsed": false
   },
   "outputs": [
    {
     "data": {
      "text/plain": [
       "array([ -2.24771416e-01,   4.29056031e+00,   1.05194017e-01,\n",
       "         1.74128845e+01,   2.24815772e+01,   8.49791158e-02,\n",
       "        -2.21714948e-01,  -1.49080722e-04])"
      ]
     },
     "execution_count": 148,
     "metadata": {},
     "output_type": "execute_result"
    }
   ],
   "source": [
    "rcv_model.coef_"
   ]
  },
  {
   "cell_type": "code",
   "execution_count": null,
   "metadata": {
    "collapsed": true
   },
   "outputs": [],
   "source": []
  },
  {
   "cell_type": "code",
   "execution_count": 133,
   "metadata": {
    "collapsed": false
   },
   "outputs": [
    {
     "data": {
      "text/plain": [
       "<matplotlib.figure.Figure at 0x123a21c88>"
      ]
     },
     "metadata": {},
     "output_type": "display_data"
    },
    {
     "data": {
      "image/png": "[encoded data removed]",
      "text/plain": [
       "<matplotlib.figure.Figure at 0x1238d3940>"
      ]
     },
     "metadata": {},
     "output_type": "display_data"
    }
   ],
   "source": [
    "from sklearn.model_selection import cross_val_predict\n",
    "\n",
    "# cross_val_predict returns an array of the same size as `y` where each entry\n",
    "# is a prediction obtained by cross validation:\n",
    "\n",
    "fig2 = pylab.figure()\n",
    "\n",
    "predicted = cross_val_predict(rcv_model, X, y, cv=100)\n",
    "\n",
    "fig, ax = plt.subplots()\n",
    "ax.scatter(y, predicted, edgecolors=(0, 0, 0))\n",
    "ax.plot([y.min(), y.max()], [y.min(), y.max()], 'k--', lw=3)\n",
    "ax.set_xlabel('Measured')\n",
    "ax.set_ylabel('Predicted')\n",
    "plt.show();"
   ]
  },
  {
   "cell_type": "code",
   "execution_count": 134,
   "metadata": {
    "collapsed": false
   },
   "outputs": [],
   "source": [
    "fig2.savefig('./images/Pred_Measured.png')"
   ]
  },
  {
   "cell_type": "code",
   "execution_count": 130,
   "metadata": {
    "collapsed": false
   },
   "outputs": [
    {
     "data": {
      "image/png": "[encoded data removed]",
      "text/plain": [
       "<matplotlib.figure.Figure at 0x123a54b38>"
      ]
     },
     "metadata": {},
     "output_type": "display_data"
    }
   ],
   "source": [
    "from yellowbrick.regressor import ResidualsPlot\n",
    "from yellowbrick.regressor import AlphaSelection\n",
    "import pylab\n",
    "fig1 = pylab.figure()\n",
    "\n",
    "visualizer = ResidualsPlot(rcv_model)\n",
    "\n",
    "visualizer.fit(X_train, y_train)  # Fit the training data to the visualizer\n",
    "visualizer.score(X_test, y_test)  # Evaluate the model on the test data\n",
    "g = visualizer.poof()        "
   ]
  },
  {
   "cell_type": "code",
   "execution_count": 131,
   "metadata": {
    "collapsed": false
   },
   "outputs": [],
   "source": [
    "fig1.savefig('./images/resid_predicted.png')"
   ]
  },
  {
   "cell_type": "code",
   "execution_count": 135,
   "metadata": {
    "collapsed": false,
    "scrolled": false
   },
   "outputs": [
    {
     "data": {
      "image/png": "[encoded data removed]",
      "text/plain": [
       "<matplotlib.figure.Figure at 0x1251349b0>"
      ]
     },
     "metadata": {},
     "output_type": "display_data"
    }
   ],
   "source": [
    "from yellowbrick.regressor import ManualAlphaSelection\n",
    "from sklearn.linear_model import Ridge\n",
    "from yellowbrick.regressor import PredictionError\n",
    "\n",
    "fig3 = pylab.figure()\n",
    "\n",
    "visualizer = PredictionError(rcv_model)\n",
    "\n",
    "visualizer.fit(X_train, y_train)  # Fit the training data to the visualizer\n",
    "visualizer.score(X_test, y_test)  # Evaluate the model on the test data\n",
    "g = visualizer.poof() "
   ]
  },
  {
   "cell_type": "code",
   "execution_count": 136,
   "metadata": {
    "collapsed": true
   },
   "outputs": [],
   "source": [
    "fig3.savefig('./images/y_yhat.png')"
   ]
  },
  {
   "cell_type": "code",
   "execution_count": 113,
   "metadata": {
    "collapsed": false
   },
   "outputs": [
    {
     "name": "stdout",
     "output_type": "stream",
     "text": [
      "ElasticNetCV(alphas=None, copy_X=True, cv=10, eps=0.001, fit_intercept=True,\n",
      "       l1_ratio=1, max_iter=1000, n_alphas=100, n_jobs=1, normalize=False,\n",
      "       positive=False, precompute='auto', random_state=None,\n",
      "       selection='cyclic', tol=0.0001, verbose=0)\n",
      "r^2 on test data : 0.371360\n"
     ]
    },
    {
     "data": {
      "image/png": "[encoded data removed]",
      "text/plain": [
       "<matplotlib.figure.Figure at 0x123cca5c0>"
      ]
     },
     "metadata": {},
     "output_type": "display_data"
    }
   ],
   "source": [
    "## Comparing Lasso,Ridge, E-net It appears Lasso model has drven most of my coefficients to 0 values \n",
    "r2_score_enet = r2_score(y_test, y_pred_enet)\n",
    "print(enet)\n",
    "print(\"r^2 on test data : %f\" % r2_score_enet)\n",
    "\n",
    "plt.plot(enet.coef_, color='lightgreen', linewidth=2,\n",
    "         label='Elastic net coefficients')\n",
    "plt.plot(lasso.coef_, color='gold', linewidth=2,\n",
    "         label='Lasso coefficients')\n",
    "plt.plot(rcv_model.coef_, color='blue', linewidth=2,\n",
    "        label='ridge coefficients')\n",
    "plt.legend(loc='best')\n",
    "plt.title(\"Lasso R^2: %f, Elastic Net R^2: %f\"\n",
    "          % (r2_score_lasso, r2_score_enet))\n",
    "plt.show()"
   ]
  },
  {
   "cell_type": "code",
   "execution_count": 167,
   "metadata": {
    "collapsed": false
   },
   "outputs": [
    {
     "data": {
      "text/plain": [
       "Index(['log(Imports)', 'log(GDPper_cap)', 'Insufficiently_active', 'Education',\n",
       "       'Region_Oceania', 'ArabStates*Globalization', 'Asia*Globalization',\n",
       "       'Europe*GDPpercap'],\n",
       "      dtype='object')"
      ]
     },
     "execution_count": 167,
     "metadata": {},
     "output_type": "execute_result"
    }
   ],
   "source": [
    "X.columns"
   ]
  },
  {
   "cell_type": "code",
   "execution_count": 155,
   "metadata": {
    "collapsed": false
   },
   "outputs": [
    {
     "data": {
      "text/plain": [
       "array([ -2.24771416e-01,   4.29056031e+00,   1.05194017e-01,\n",
       "         1.74128845e+01,   2.24815772e+01,   8.49791158e-02,\n",
       "        -2.21714948e-01,  -1.49080722e-04])"
      ]
     },
     "execution_count": 155,
     "metadata": {},
     "output_type": "execute_result"
    }
   ],
   "source": [
    "rcv.coef_"
   ]
  },
  {
   "cell_type": "code",
   "execution_count": 181,
   "metadata": {
    "collapsed": false
   },
   "outputs": [],
   "source": [
    "d = {}\n",
    "d[\"Log of Imports\"] = -.225\n",
    "d[\"Log of GDP Per Capita\"] = 4.291\n",
    "d[\"Insufficiently Active (%)\"] = 0.105\n",
    "d[\"Education\"] = 17.41\n",
    "d[\"Region is Oceania\"] = 22.48\n",
    "d['Globalizationin Arab States'] = -0.222\n",
    "d[\"Globalization in Asian States\"] = 0.085\n",
    "d[\"GDP Per Capita in Europe\"] = -.00015"
   ]
  },
  {
   "cell_type": "code",
   "execution_count": 201,
   "metadata": {
    "collapsed": false
   },
   "outputs": [],
   "source": [
    "Variable = ['Log of Imports', 'Log of GDP Per Capita', 'Insufficiently Active', 'Education', 'Region is Oceania', 'Globalization in Arab States','Globalization in Asia','GDP Per Capita in Europe']\n",
    "Coefficient = [[-.225],[4.291],[0.105],[17.41],[22.48],[-.222],[0.085],[-.00015]]"
   ]
  },
  {
   "cell_type": "code",
   "execution_count": 207,
   "metadata": {
    "collapsed": false
   },
   "outputs": [],
   "source": [
    "df_vars = pd.DataFrame.from_dict(dictionary,orient='index')"
   ]
  },
  {
   "cell_type": "code",
   "execution_count": 202,
   "metadata": {
    "collapsed": false
   },
   "outputs": [],
   "source": [
    "dictionary = dict(zip(Variable, Coefficient))"
   ]
  },
  {
   "cell_type": "code",
   "execution_count": 226,
   "metadata": {
    "collapsed": false
   },
   "outputs": [
    {
     "data": {
      "text/html": [
       "<div>\n",
       "<style>\n",
       "    .dataframe thead tr:only-child th {\n",
       "        text-align: right;\n",
       "    }\n",
       "\n",
       "    .dataframe thead th {\n",
       "        text-align: left;\n",
       "    }\n",
       "\n",
       "    .dataframe tbody tr th {\n",
       "        vertical-align: top;\n",
       "    }\n",
       "</style>\n",
       "<table border=\"1\" class=\"dataframe\">\n",
       "  <thead>\n",
       "    <tr style=\"text-align: right;\">\n",
       "      <th></th>\n",
       "      <th>0</th>\n",
       "    </tr>\n",
       "  </thead>\n",
       "  <tbody>\n",
       "    <tr>\n",
       "      <th>Log of Imports</th>\n",
       "      <td>-0.22500</td>\n",
       "    </tr>\n",
       "    <tr>\n",
       "      <th>Log of GDP Per Capita</th>\n",
       "      <td>4.29100</td>\n",
       "    </tr>\n",
       "    <tr>\n",
       "      <th>Insufficiently Active</th>\n",
       "      <td>0.10500</td>\n",
       "    </tr>\n",
       "    <tr>\n",
       "      <th>Education</th>\n",
       "      <td>17.41000</td>\n",
       "    </tr>\n",
       "    <tr>\n",
       "      <th>Region is Oceania</th>\n",
       "      <td>22.48000</td>\n",
       "    </tr>\n",
       "    <tr>\n",
       "      <th>Globalization in Arab States</th>\n",
       "      <td>-0.22200</td>\n",
       "    </tr>\n",
       "    <tr>\n",
       "      <th>Globalization in Asia</th>\n",
       "      <td>0.08500</td>\n",
       "    </tr>\n",
       "    <tr>\n",
       "      <th>GDP Per Capita in Europe</th>\n",
       "      <td>-0.00015</td>\n",
       "    </tr>\n",
       "  </tbody>\n",
       "</table>\n",
       "</div>"
      ],
      "text/plain": [
       "                                     0\n",
       "Log of Imports                -0.22500\n",
       "Log of GDP Per Capita          4.29100\n",
       "Insufficiently Active          0.10500\n",
       "Education                     17.41000\n",
       "Region is Oceania             22.48000\n",
       "Globalization in Arab States  -0.22200\n",
       "Globalization in Asia          0.08500\n",
       "GDP Per Capita in Europe      -0.00015"
      ]
     },
     "execution_count": 226,
     "metadata": {},
     "output_type": "execute_result"
    }
   ],
   "source": [
    "df_vars"
   ]
  },
  {
   "cell_type": "code",
   "execution_count": 223,
   "metadata": {
    "collapsed": false
   },
   "outputs": [
    {
     "data": {
      "image/png": "[encoded data removed]",
      "text/plain": [
       "<matplotlib.figure.Figure at 0x125b4e2b0>"
      ]
     },
     "metadata": {},
     "output_type": "display_data"
    }
   ],
   "source": [
    "fig_vars = sns.countplot(x=df_vars[0].values, data=df_vars, palette=\"Set3\")"
   ]
  },
  {
   "cell_type": "code",
   "execution_count": 225,
   "metadata": {
    "collapsed": false
   },
   "outputs": [
    {
     "ename": "NameError",
     "evalue": "name 'df_' is not defined",
     "output_type": "error",
     "traceback": [
      "\u001b[0;31m---------------------------------------------------------------------------\u001b[0m",
      "\u001b[0;31mNameError\u001b[0m                                 Traceback (most recent call last)",
      "\u001b[0;32m<ipython-input-225-fafb5f805dc8>\u001b[0m in \u001b[0;36m<module>\u001b[0;34m()\u001b[0m\n\u001b[0;32m----> 1\u001b[0;31m \u001b[0mdf_\u001b[0m \u001b[0;34m=\u001b[0m \u001b[0mdf_\u001b[0m\u001b[0;34m.\u001b[0m\u001b[0mmelt\u001b[0m\u001b[0;34m(\u001b[0m\u001b[0mdf\u001b[0m\u001b[0;34m[\u001b[0m\u001b[0;36m0\u001b[0m\u001b[0;34m]\u001b[0m\u001b[0;34m,\u001b[0m \u001b[0mvar_name\u001b[0m\u001b[0;34m=\u001b[0m\u001b[0;34m'cols'\u001b[0m\u001b[0;34m,\u001b[0m  \u001b[0mvalue_name\u001b[0m\u001b[0;34m=\u001b[0m\u001b[0;34m'Coefficient'\u001b[0m\u001b[0;34m)\u001b[0m\u001b[0;34m\u001b[0m\u001b[0m\n\u001b[0m\u001b[1;32m      2\u001b[0m \u001b[0mg\u001b[0m \u001b[0;34m=\u001b[0m \u001b[0msns\u001b[0m\u001b[0;34m.\u001b[0m\u001b[0mfactorplot\u001b[0m\u001b[0;34m(\u001b[0m\u001b[0mx\u001b[0m\u001b[0;34m=\u001b[0m\u001b[0;34m\"X_Axis\"\u001b[0m\u001b[0;34m,\u001b[0m \u001b[0my\u001b[0m\u001b[0;34m=\u001b[0m\u001b[0;34m\"Coefficient\"\u001b[0m\u001b[0;34m,\u001b[0m \u001b[0mhue\u001b[0m\u001b[0;34m=\u001b[0m\u001b[0;34m'cols'\u001b[0m\u001b[0;34m,\u001b[0m \u001b[0mdata\u001b[0m\u001b[0;34m=\u001b[0m\u001b[0mdf_vars\u001b[0m\u001b[0;34m)\u001b[0m\u001b[0;34m\u001b[0m\u001b[0m\n",
      "\u001b[0;31mNameError\u001b[0m: name 'df_' is not defined"
     ]
    }
   ],
   "source": [
    "df_ = df_.melt(df[0], var_name='cols',  value_name='Coefficient')\n",
    "g = sns.factorplot(x=\"X_Axis\", y=\"Coefficient\", hue='cols', data=df_vars)"
   ]
  },
  {
   "cell_type": "code",
   "execution_count": 272,
   "metadata": {
    "collapsed": false
   },
   "outputs": [
    {
     "data": {
      "text/plain": [
       "<matplotlib.figure.Figure at 0x12722d8d0>"
      ]
     },
     "metadata": {},
     "output_type": "display_data"
    },
    {
     "data": {
      "image/png": "[encoded data removed]",
      "text/plain": [
       "<matplotlib.figure.Figure at 0x1266345f8>"
      ]
     },
     "metadata": {},
     "output_type": "display_data"
    }
   ],
   "source": [
    "import matplotlib\n",
    "Vars_vals = pylab.figure()\n",
    "matplotlib.style.use('ggplot')\n",
    "df_vars.plot(kind='bar',rot=0,alpha=.75, figsize = (18,5))\n",
    "Vars_vals.savefig('Var_Values.png');"
   ]
  },
  {
   "cell_type": "code",
   "execution_count": 258,
   "metadata": {
    "collapsed": false
   },
   "outputs": [
    {
     "ename": "AttributeError",
     "evalue": "'NoneType' object has no attribute 'savefig'",
     "output_type": "error",
     "traceback": [
      "\u001b[0;31m---------------------------------------------------------------------------\u001b[0m",
      "\u001b[0;31mAttributeError\u001b[0m                            Traceback (most recent call last)",
      "\u001b[0;32m<ipython-input-258-c9bfaaad240f>\u001b[0m in \u001b[0;36m<module>\u001b[0;34m()\u001b[0m\n\u001b[0;32m----> 1\u001b[0;31m \u001b[0mvars_\u001b[0m\u001b[0;34m.\u001b[0m\u001b[0msavefig\u001b[0m\u001b[0;34m(\u001b[0m\u001b[0;34m'./images/Variable_Values.png'\u001b[0m\u001b[0;34m)\u001b[0m\u001b[0;34m\u001b[0m\u001b[0m\n\u001b[0m",
      "\u001b[0;31mAttributeError\u001b[0m: 'NoneType' object has no attribute 'savefig'"
     ]
    }
   ],
   "source": [
    "vars_.savefig('./images/Variable_Values.png')"
   ]
  },
  {
   "cell_type": "code",
   "execution_count": 259,
   "metadata": {
    "collapsed": true
   },
   "outputs": [],
   "source": [
    "vars_"
   ]
  },
  {
   "cell_type": "code",
   "execution_count": null,
   "metadata": {
    "collapsed": true
   },
   "outputs": [],
   "source": []
  }
 ],
 "metadata": {
  "kernelspec": {
   "display_name": "Python 3",
   "language": "python",
   "name": "python3"
  },
  "language_info": {
   "codemirror_mode": {
    "name": "ipython",
    "version": 3
   },
   "file_extension": ".py",
   "mimetype": "text/x-python",
   "name": "python",
   "nbconvert_exporter": "python",
   "pygments_lexer": "ipython3",
   "version": "3.6.0"
  }
 },
 "nbformat": 4,
 "nbformat_minor": 2
}
