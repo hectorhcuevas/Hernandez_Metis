{
 "cells": [
  {
   "cell_type": "code",
   "execution_count": 62,
   "metadata": {
    "collapsed": false
   },
   "outputs": [],
   "source": [
    "# Importing the libraries\n",
    "import numpy as np\n",
    "import matplotlib.pyplot as plt\n",
    "import pandas as pd\n",
    "# all of the imports\n",
    "import pandas as pd\n",
    "import numpy as np\n",
    "import pickle \n",
    "import patsy\n",
    "import statsmodels.api as sm\n",
    "import statsmodels.formula.api as smf\n",
    "import matplotlib.pyplot as plt\n",
    "import seaborn as sns\n",
    "from sklearn.linear_model import LinearRegression\n",
    "from sklearn import metrics\n",
    "from sklearn.preprocessing import PolynomialFeatures\n",
    "from sklearn.pipeline import make_pipeline\n",
    "from sklearn.cross_validation import train_test_split\n",
    "from sklearn.cross_validation import KFold\n",
    "from scipy import stats \n",
    "% matplotlib inline"
   ]
  },
  {
   "cell_type": "code",
   "execution_count": 4,
   "metadata": {
    "collapsed": false
   },
   "outputs": [
    {
     "data": {
      "text/html": [
       "<div>\n",
       "<style>\n",
       "    .dataframe thead tr:only-child th {\n",
       "        text-align: right;\n",
       "    }\n",
       "\n",
       "    .dataframe thead th {\n",
       "        text-align: left;\n",
       "    }\n",
       "\n",
       "    .dataframe tbody tr th {\n",
       "        vertical-align: top;\n",
       "    }\n",
       "</style>\n",
       "<table border=\"1\" class=\"dataframe\">\n",
       "  <thead>\n",
       "    <tr style=\"text-align: right;\">\n",
       "      <th></th>\n",
       "      <th>Unnamed: 0</th>\n",
       "      <th>country</th>\n",
       "      <th>Percent_Obese</th>\n",
       "      <th>GDPper_cap</th>\n",
       "      <th>Insufficiently_active</th>\n",
       "      <th>HDI</th>\n",
       "      <th>Region_Africa</th>\n",
       "      <th>Region_Arab_States</th>\n",
       "      <th>Region_Europe</th>\n",
       "      <th>Region_Asia_Pacific</th>\n",
       "      <th>...</th>\n",
       "      <th>Urban_Population</th>\n",
       "      <th>Imports</th>\n",
       "      <th>log(Imports)</th>\n",
       "      <th>log(Imports)*Asia</th>\n",
       "      <th>Asia*Urbanization</th>\n",
       "      <th>UrbanPop*ArabStates</th>\n",
       "      <th>Asia*Globalization</th>\n",
       "      <th>Urbanization*GDPpercap</th>\n",
       "      <th>Europe*GDPpercap</th>\n",
       "      <th>Education</th>\n",
       "    </tr>\n",
       "  </thead>\n",
       "  <tbody>\n",
       "    <tr>\n",
       "      <th>0</th>\n",
       "      <td>0</td>\n",
       "      <td>Russia</td>\n",
       "      <td>24.1</td>\n",
       "      <td>26500</td>\n",
       "      <td>9.5</td>\n",
       "      <td>0.804</td>\n",
       "      <td>0</td>\n",
       "      <td>0</td>\n",
       "      <td>0</td>\n",
       "      <td>0</td>\n",
       "      <td>...</td>\n",
       "      <td>74.0</td>\n",
       "      <td>1.651000e+11</td>\n",
       "      <td>25.829817</td>\n",
       "      <td>0.000000</td>\n",
       "      <td>-0.00</td>\n",
       "      <td>0.0</td>\n",
       "      <td>0.00</td>\n",
       "      <td>-1.324037</td>\n",
       "      <td>0</td>\n",
       "      <td>0.780</td>\n",
       "    </tr>\n",
       "    <tr>\n",
       "      <th>1</th>\n",
       "      <td>1</td>\n",
       "      <td>Qatar</td>\n",
       "      <td>42.3</td>\n",
       "      <td>127700</td>\n",
       "      <td>41.6</td>\n",
       "      <td>0.856</td>\n",
       "      <td>0</td>\n",
       "      <td>1</td>\n",
       "      <td>0</td>\n",
       "      <td>0</td>\n",
       "      <td>...</td>\n",
       "      <td>99.2</td>\n",
       "      <td>3.376000e+10</td>\n",
       "      <td>24.242543</td>\n",
       "      <td>0.000000</td>\n",
       "      <td>0.00</td>\n",
       "      <td>99.2</td>\n",
       "      <td>0.00</td>\n",
       "      <td>70.779783</td>\n",
       "      <td>0</td>\n",
       "      <td>0.686</td>\n",
       "    </tr>\n",
       "    <tr>\n",
       "      <th>2</th>\n",
       "      <td>2</td>\n",
       "      <td>Luxembourg</td>\n",
       "      <td>23.1</td>\n",
       "      <td>10400</td>\n",
       "      <td>28.5</td>\n",
       "      <td>0.898</td>\n",
       "      <td>0</td>\n",
       "      <td>0</td>\n",
       "      <td>1</td>\n",
       "      <td>0</td>\n",
       "      <td>...</td>\n",
       "      <td>90.2</td>\n",
       "      <td>1.833000e+10</td>\n",
       "      <td>23.631805</td>\n",
       "      <td>0.000000</td>\n",
       "      <td>0.00</td>\n",
       "      <td>0.0</td>\n",
       "      <td>0.00</td>\n",
       "      <td>15.816749</td>\n",
       "      <td>10400</td>\n",
       "      <td>0.762</td>\n",
       "    </tr>\n",
       "    <tr>\n",
       "      <th>3</th>\n",
       "      <td>3</td>\n",
       "      <td>Singapore</td>\n",
       "      <td>6.2</td>\n",
       "      <td>87900</td>\n",
       "      <td>33.1</td>\n",
       "      <td>0.925</td>\n",
       "      <td>0</td>\n",
       "      <td>0</td>\n",
       "      <td>0</td>\n",
       "      <td>1</td>\n",
       "      <td>...</td>\n",
       "      <td>100.0</td>\n",
       "      <td>2.713000e+11</td>\n",
       "      <td>26.326491</td>\n",
       "      <td>26.326491</td>\n",
       "      <td>2.02</td>\n",
       "      <td>0.0</td>\n",
       "      <td>78.63</td>\n",
       "      <td>22.995589</td>\n",
       "      <td>0</td>\n",
       "      <td>0.768</td>\n",
       "    </tr>\n",
       "    <tr>\n",
       "      <th>4</th>\n",
       "      <td>4</td>\n",
       "      <td>Kuwait</td>\n",
       "      <td>39.7</td>\n",
       "      <td>71900</td>\n",
       "      <td>56.6</td>\n",
       "      <td>0.800</td>\n",
       "      <td>0</td>\n",
       "      <td>1</td>\n",
       "      <td>0</td>\n",
       "      <td>0</td>\n",
       "      <td>...</td>\n",
       "      <td>98.3</td>\n",
       "      <td>2.832000e+10</td>\n",
       "      <td>24.066834</td>\n",
       "      <td>0.000000</td>\n",
       "      <td>0.00</td>\n",
       "      <td>98.3</td>\n",
       "      <td>0.00</td>\n",
       "      <td>40.594405</td>\n",
       "      <td>0</td>\n",
       "      <td>0.646</td>\n",
       "    </tr>\n",
       "  </tbody>\n",
       "</table>\n",
       "<p>5 rows × 24 columns</p>\n",
       "</div>"
      ],
      "text/plain": [
       "   Unnamed: 0     country  Percent_Obese  GDPper_cap  Insufficiently_active  \\\n",
       "0           0      Russia           24.1       26500                    9.5   \n",
       "1           1       Qatar           42.3      127700                   41.6   \n",
       "2           2  Luxembourg           23.1       10400                   28.5   \n",
       "3           3   Singapore            6.2       87900                   33.1   \n",
       "4           4      Kuwait           39.7       71900                   56.6   \n",
       "\n",
       "     HDI  Region_Africa  Region_Arab_States  Region_Europe  \\\n",
       "0  0.804              0                   0              0   \n",
       "1  0.856              0                   1              0   \n",
       "2  0.898              0                   0              1   \n",
       "3  0.925              0                   0              0   \n",
       "4  0.800              0                   1              0   \n",
       "\n",
       "   Region_Asia_Pacific    ...      Urban_Population       Imports  \\\n",
       "0                    0    ...                  74.0  1.651000e+11   \n",
       "1                    0    ...                  99.2  3.376000e+10   \n",
       "2                    0    ...                  90.2  1.833000e+10   \n",
       "3                    1    ...                 100.0  2.713000e+11   \n",
       "4                    0    ...                  98.3  2.832000e+10   \n",
       "\n",
       "   log(Imports)  log(Imports)*Asia  Asia*Urbanization  UrbanPop*ArabStates  \\\n",
       "0     25.829817           0.000000              -0.00                  0.0   \n",
       "1     24.242543           0.000000               0.00                 99.2   \n",
       "2     23.631805           0.000000               0.00                  0.0   \n",
       "3     26.326491          26.326491               2.02                  0.0   \n",
       "4     24.066834           0.000000               0.00                 98.3   \n",
       "\n",
       "   Asia*Globalization  Urbanization*GDPpercap  Europe*GDPpercap  Education  \n",
       "0                0.00               -1.324037                 0      0.780  \n",
       "1                0.00               70.779783                 0      0.686  \n",
       "2                0.00               15.816749             10400      0.762  \n",
       "3               78.63               22.995589                 0      0.768  \n",
       "4                0.00               40.594405                 0      0.646  \n",
       "\n",
       "[5 rows x 24 columns]"
      ]
     },
     "execution_count": 4,
     "metadata": {},
     "output_type": "execute_result"
    }
   ],
   "source": [
    "df = pd.read_csv('Edu&Obese_Model.csv')\n",
    "df.head()"
   ]
  },
  {
   "cell_type": "code",
   "execution_count": 34,
   "metadata": {
    "collapsed": false
   },
   "outputs": [],
   "source": [
    "df2 = pd.read_csv('Globalisation_Index.csv')"
   ]
  },
  {
   "cell_type": "code",
   "execution_count": 35,
   "metadata": {
    "collapsed": false
   },
   "outputs": [
    {
     "data": {
      "text/plain": [
       "(185, 2)"
      ]
     },
     "execution_count": 35,
     "metadata": {},
     "output_type": "execute_result"
    }
   ],
   "source": [
    "df2.shape"
   ]
  },
  {
   "cell_type": "markdown",
   "metadata": {},
   "source": [
    "df3 = pd.merge(df1,df2,on='country') "
   ]
  },
  {
   "cell_type": "code",
   "execution_count": 88,
   "metadata": {
    "collapsed": false
   },
   "outputs": [],
   "source": [
    "df3 = pd.merge(df,df2,on='country') "
   ]
  },
  {
   "cell_type": "code",
   "execution_count": 509,
   "metadata": {
    "collapsed": false
   },
   "outputs": [
    {
     "data": {
      "text/plain": [
       "Index(['Unnamed: 0', 'country', 'GDPper_cap', 'Insufficiently_active',\n",
       "       'Percent_Obese', 'HDI', 'Region_Africa', 'Region_Arab_States',\n",
       "       'Region_Asia_Pacific', 'Region_CIS', 'Region_Europe',\n",
       "       'Region_North_America', 'Region_Latin_America', 'Region_Unknown',\n",
       "       'Globalisation Index, overall', 'Globalization_index',\n",
       "       'Urban_Population', 'Urbanization_Rate', 'Imports', 'Imports_'],\n",
       "      dtype='object')"
      ]
     },
     "execution_count": 509,
     "metadata": {},
     "output_type": "execute_result"
    }
   ],
   "source": [
    "#df_Imports = pd.read_csv('Imports.csv')\n",
    "#df_Imports['Imports_'] = df_Imports['Imports'].str.replace('$','')\n",
    "#df_Imports['Imports_'] = df_Imports['Imports_'].str.replace(',','')\n",
    "#df_Imports['Imports_'] =  pd.to_numeric(df_Imports['Imports_'])\n",
    "df5.columns"
   ]
  },
  {
   "cell_type": "code",
   "execution_count": 245,
   "metadata": {
    "collapsed": false
   },
   "outputs": [
    {
     "data": {
      "text/html": [
       "<div>\n",
       "<table border=\"1\" class=\"dataframe\">\n",
       "  <thead>\n",
       "    <tr style=\"text-align: right;\">\n",
       "      <th></th>\n",
       "      <th>country</th>\n",
       "      <th>Urban_Population</th>\n",
       "      <th>Urbanization_Rate</th>\n",
       "    </tr>\n",
       "  </thead>\n",
       "  <tbody>\n",
       "    <tr>\n",
       "      <th>0</th>\n",
       "      <td>Monaco</td>\n",
       "      <td>100.0</td>\n",
       "      <td>0.79</td>\n",
       "    </tr>\n",
       "    <tr>\n",
       "      <th>1</th>\n",
       "      <td>Nauru</td>\n",
       "      <td>100.0</td>\n",
       "      <td>0.19</td>\n",
       "    </tr>\n",
       "    <tr>\n",
       "      <th>2</th>\n",
       "      <td>Singapore</td>\n",
       "      <td>100.0</td>\n",
       "      <td>2.02</td>\n",
       "    </tr>\n",
       "    <tr>\n",
       "      <th>3</th>\n",
       "      <td>Vatican City</td>\n",
       "      <td>100.0</td>\n",
       "      <td>0.03</td>\n",
       "    </tr>\n",
       "    <tr>\n",
       "      <th>4</th>\n",
       "      <td>Anguilla</td>\n",
       "      <td>100.0</td>\n",
       "      <td>1.19</td>\n",
       "    </tr>\n",
       "  </tbody>\n",
       "</table>\n",
       "</div>"
      ],
      "text/plain": [
       "        country  Urban_Population  Urbanization_Rate\n",
       "0        Monaco             100.0               0.79\n",
       "1         Nauru             100.0               0.19\n",
       "2     Singapore             100.0               2.02\n",
       "3  Vatican City             100.0               0.03\n",
       "4      Anguilla             100.0               1.19"
      ]
     },
     "execution_count": 245,
     "metadata": {},
     "output_type": "execute_result"
    }
   ],
   "source": [
    "df_urban = pd.read_csv('Urbanization.csv')\n",
    "df_urban.head()"
   ]
  },
  {
   "cell_type": "code",
   "execution_count": 488,
   "metadata": {
    "collapsed": false
   },
   "outputs": [
    {
     "data": {
      "text/html": [
       "<div>\n",
       "<table border=\"1\" class=\"dataframe\">\n",
       "  <thead>\n",
       "    <tr style=\"text-align: right;\">\n",
       "      <th></th>\n",
       "      <th>country</th>\n",
       "      <th>Agriculture</th>\n",
       "      <th>Industry</th>\n",
       "      <th>Service</th>\n",
       "    </tr>\n",
       "  </thead>\n",
       "  <tbody>\n",
       "    <tr>\n",
       "      <th>0</th>\n",
       "      <td>World</td>\n",
       "      <td>36.6</td>\n",
       "      <td>21.4</td>\n",
       "      <td>41.9</td>\n",
       "    </tr>\n",
       "    <tr>\n",
       "      <th>1</th>\n",
       "      <td>China</td>\n",
       "      <td>38.1</td>\n",
       "      <td>27.8</td>\n",
       "      <td>34.1</td>\n",
       "    </tr>\n",
       "    <tr>\n",
       "      <th>2</th>\n",
       "      <td>India</td>\n",
       "      <td>52.0</td>\n",
       "      <td>14.0</td>\n",
       "      <td>34.0</td>\n",
       "    </tr>\n",
       "    <tr>\n",
       "      <th>3</th>\n",
       "      <td>European Union</td>\n",
       "      <td>4.7</td>\n",
       "      <td>28.7</td>\n",
       "      <td>66.6</td>\n",
       "    </tr>\n",
       "    <tr>\n",
       "      <th>4</th>\n",
       "      <td>United States</td>\n",
       "      <td>0.7</td>\n",
       "      <td>20.3</td>\n",
       "      <td>79.1</td>\n",
       "    </tr>\n",
       "  </tbody>\n",
       "</table>\n",
       "</div>"
      ],
      "text/plain": [
       "          country  Agriculture  Industry  Service\n",
       "0           World         36.6      21.4     41.9\n",
       "1           China         38.1      27.8     34.1\n",
       "2           India         52.0      14.0     34.0\n",
       "3  European Union          4.7      28.7     66.6\n",
       "4   United States          0.7      20.3     79.1"
      ]
     },
     "execution_count": 488,
     "metadata": {},
     "output_type": "execute_result"
    }
   ],
   "source": [
    "#df_workforce = pd.read_csv('Workforce.csv')\n",
    "#df_workforce['Agriculture'] =  pd.to_numeric(df_workforce['Agriculture'])\n",
    "#df_workforce['Industry'] =  pd.to_numeric(df_workforce['Industry'])\n",
    "#df_workforce['Service'] =  pd.to_numeric(df_workforce['Service'])\n",
    "df_workforce.head()"
   ]
  },
  {
   "cell_type": "code",
   "execution_count": 511,
   "metadata": {
    "collapsed": false
   },
   "outputs": [],
   "source": [
    "df5['Imports'] = df5['Imports_']"
   ]
  },
  {
   "cell_type": "code",
   "execution_count": 512,
   "metadata": {
    "collapsed": false
   },
   "outputs": [
    {
     "data": {
      "text/html": [
       "<div>\n",
       "<table border=\"1\" class=\"dataframe\">\n",
       "  <thead>\n",
       "    <tr style=\"text-align: right;\">\n",
       "      <th></th>\n",
       "      <th>Unnamed: 0</th>\n",
       "      <th>country</th>\n",
       "      <th>GDPper_cap</th>\n",
       "      <th>Insufficiently_active</th>\n",
       "      <th>Percent_Obese</th>\n",
       "      <th>HDI</th>\n",
       "      <th>Region_Africa</th>\n",
       "      <th>Region_Arab_States</th>\n",
       "      <th>Region_Asia_Pacific</th>\n",
       "      <th>Region_CIS</th>\n",
       "      <th>Region_Europe</th>\n",
       "      <th>Region_North_America</th>\n",
       "      <th>Region_Latin_America</th>\n",
       "      <th>Region_Unknown</th>\n",
       "      <th>Globalisation Index, overall</th>\n",
       "      <th>Globalization_index</th>\n",
       "      <th>Urban_Population</th>\n",
       "      <th>Urbanization_Rate</th>\n",
       "      <th>Imports</th>\n",
       "      <th>Imports_</th>\n",
       "    </tr>\n",
       "  </thead>\n",
       "  <tbody>\n",
       "    <tr>\n",
       "      <th>0</th>\n",
       "      <td>0</td>\n",
       "      <td>Qatar</td>\n",
       "      <td>127700</td>\n",
       "      <td>41.6</td>\n",
       "      <td>42.3</td>\n",
       "      <td>0.856</td>\n",
       "      <td>0</td>\n",
       "      <td>1</td>\n",
       "      <td>0</td>\n",
       "      <td>0</td>\n",
       "      <td>0</td>\n",
       "      <td>0</td>\n",
       "      <td>0</td>\n",
       "      <td>0</td>\n",
       "      <td>74.39</td>\n",
       "      <td>74.39</td>\n",
       "      <td>99.2</td>\n",
       "      <td>6.02</td>\n",
       "      <td>3.376000e+10</td>\n",
       "      <td>3.376000e+10</td>\n",
       "    </tr>\n",
       "    <tr>\n",
       "      <th>1</th>\n",
       "      <td>1</td>\n",
       "      <td>Luxembourg</td>\n",
       "      <td>10400</td>\n",
       "      <td>28.5</td>\n",
       "      <td>23.1</td>\n",
       "      <td>0.898</td>\n",
       "      <td>0</td>\n",
       "      <td>0</td>\n",
       "      <td>0</td>\n",
       "      <td>0</td>\n",
       "      <td>1</td>\n",
       "      <td>0</td>\n",
       "      <td>0</td>\n",
       "      <td>0</td>\n",
       "      <td>79.33</td>\n",
       "      <td>79.33</td>\n",
       "      <td>90.2</td>\n",
       "      <td>1.71</td>\n",
       "      <td>1.833000e+10</td>\n",
       "      <td>1.833000e+10</td>\n",
       "    </tr>\n",
       "    <tr>\n",
       "      <th>2</th>\n",
       "      <td>2</td>\n",
       "      <td>Singapore</td>\n",
       "      <td>87900</td>\n",
       "      <td>33.1</td>\n",
       "      <td>6.2</td>\n",
       "      <td>0.925</td>\n",
       "      <td>0</td>\n",
       "      <td>0</td>\n",
       "      <td>1</td>\n",
       "      <td>0</td>\n",
       "      <td>0</td>\n",
       "      <td>0</td>\n",
       "      <td>0</td>\n",
       "      <td>0</td>\n",
       "      <td>78.63</td>\n",
       "      <td>78.63</td>\n",
       "      <td>100.0</td>\n",
       "      <td>2.02</td>\n",
       "      <td>2.713000e+11</td>\n",
       "      <td>2.713000e+11</td>\n",
       "    </tr>\n",
       "    <tr>\n",
       "      <th>3</th>\n",
       "      <td>3</td>\n",
       "      <td>Kuwait</td>\n",
       "      <td>71900</td>\n",
       "      <td>56.6</td>\n",
       "      <td>39.7</td>\n",
       "      <td>0.800</td>\n",
       "      <td>0</td>\n",
       "      <td>1</td>\n",
       "      <td>0</td>\n",
       "      <td>0</td>\n",
       "      <td>0</td>\n",
       "      <td>0</td>\n",
       "      <td>0</td>\n",
       "      <td>0</td>\n",
       "      <td>70.21</td>\n",
       "      <td>70.21</td>\n",
       "      <td>98.3</td>\n",
       "      <td>3.63</td>\n",
       "      <td>2.832000e+10</td>\n",
       "      <td>2.832000e+10</td>\n",
       "    </tr>\n",
       "    <tr>\n",
       "      <th>4</th>\n",
       "      <td>4</td>\n",
       "      <td>Ireland</td>\n",
       "      <td>69200</td>\n",
       "      <td>35.1</td>\n",
       "      <td>25.6</td>\n",
       "      <td>0.923</td>\n",
       "      <td>0</td>\n",
       "      <td>0</td>\n",
       "      <td>0</td>\n",
       "      <td>0</td>\n",
       "      <td>1</td>\n",
       "      <td>0</td>\n",
       "      <td>0</td>\n",
       "      <td>0</td>\n",
       "      <td>83.53</td>\n",
       "      <td>83.53</td>\n",
       "      <td>63.2</td>\n",
       "      <td>1.58</td>\n",
       "      <td>8.801000e+10</td>\n",
       "      <td>8.801000e+10</td>\n",
       "    </tr>\n",
       "  </tbody>\n",
       "</table>\n",
       "</div>"
      ],
      "text/plain": [
       "   Unnamed: 0     country  GDPper_cap  Insufficiently_active  Percent_Obese  \\\n",
       "0           0       Qatar      127700                   41.6           42.3   \n",
       "1           1  Luxembourg       10400                   28.5           23.1   \n",
       "2           2   Singapore       87900                   33.1            6.2   \n",
       "3           3      Kuwait       71900                   56.6           39.7   \n",
       "4           4     Ireland       69200                   35.1           25.6   \n",
       "\n",
       "     HDI  Region_Africa  Region_Arab_States  Region_Asia_Pacific  Region_CIS  \\\n",
       "0  0.856              0                   1                    0           0   \n",
       "1  0.898              0                   0                    0           0   \n",
       "2  0.925              0                   0                    1           0   \n",
       "3  0.800              0                   1                    0           0   \n",
       "4  0.923              0                   0                    0           0   \n",
       "\n",
       "   Region_Europe  Region_North_America  Region_Latin_America  Region_Unknown  \\\n",
       "0              0                     0                     0               0   \n",
       "1              1                     0                     0               0   \n",
       "2              0                     0                     0               0   \n",
       "3              0                     0                     0               0   \n",
       "4              1                     0                     0               0   \n",
       "\n",
       "   Globalisation Index, overall  Globalization_index  Urban_Population  \\\n",
       "0                         74.39                74.39              99.2   \n",
       "1                         79.33                79.33              90.2   \n",
       "2                         78.63                78.63             100.0   \n",
       "3                         70.21                70.21              98.3   \n",
       "4                         83.53                83.53              63.2   \n",
       "\n",
       "   Urbanization_Rate       Imports      Imports_  \n",
       "0               6.02  3.376000e+10  3.376000e+10  \n",
       "1               1.71  1.833000e+10  1.833000e+10  \n",
       "2               2.02  2.713000e+11  2.713000e+11  \n",
       "3               3.63  2.832000e+10  2.832000e+10  \n",
       "4               1.58  8.801000e+10  8.801000e+10  "
      ]
     },
     "execution_count": 512,
     "metadata": {},
     "output_type": "execute_result"
    }
   ],
   "source": [
    "#df5 = pd.merge(df4,df_Imports,on='country')\n",
    "df5.head()"
   ]
  },
  {
   "cell_type": "code",
   "execution_count": 247,
   "metadata": {
    "collapsed": false,
    "scrolled": true
   },
   "outputs": [],
   "source": [
    "df4['Urbanization_Rate'] = pd.to_numeric(df4['Urbanization_Rate'])"
   ]
  },
  {
   "cell_type": "code",
   "execution_count": 86,
   "metadata": {
    "collapsed": false
   },
   "outputs": [],
   "source": [
    "df2['Globalization_index'] = pd.to_numeric(df2['Globalisation Index, overall'])"
   ]
  },
  {
   "cell_type": "code",
   "execution_count": 508,
   "metadata": {
    "collapsed": false
   },
   "outputs": [
    {
     "data": {
      "text/html": [
       "<div>\n",
       "<table border=\"1\" class=\"dataframe\">\n",
       "  <thead>\n",
       "    <tr style=\"text-align: right;\">\n",
       "      <th></th>\n",
       "      <th>Unnamed: 0</th>\n",
       "      <th>country</th>\n",
       "      <th>GDPper_cap</th>\n",
       "      <th>Insufficiently_active</th>\n",
       "      <th>Percent_Obese</th>\n",
       "      <th>HDI</th>\n",
       "      <th>Region_Africa</th>\n",
       "      <th>Region_Arab_States</th>\n",
       "      <th>Region_Asia_Pacific</th>\n",
       "      <th>Region_CIS</th>\n",
       "      <th>Region_Europe</th>\n",
       "      <th>Region_North_America</th>\n",
       "      <th>Region_Latin_America</th>\n",
       "      <th>Region_Unknown</th>\n",
       "      <th>Globalisation Index, overall</th>\n",
       "      <th>Globalization_index</th>\n",
       "      <th>Urban_Population</th>\n",
       "      <th>Urbanization_Rate</th>\n",
       "      <th>Imports</th>\n",
       "      <th>Imports_</th>\n",
       "    </tr>\n",
       "  </thead>\n",
       "  <tbody>\n",
       "    <tr>\n",
       "      <th>0</th>\n",
       "      <td>0</td>\n",
       "      <td>Qatar</td>\n",
       "      <td>127700</td>\n",
       "      <td>41.6</td>\n",
       "      <td>42.3</td>\n",
       "      <td>0.856</td>\n",
       "      <td>0</td>\n",
       "      <td>1</td>\n",
       "      <td>0</td>\n",
       "      <td>0</td>\n",
       "      <td>0</td>\n",
       "      <td>0</td>\n",
       "      <td>0</td>\n",
       "      <td>0</td>\n",
       "      <td>74.39</td>\n",
       "      <td>74.39</td>\n",
       "      <td>99.2</td>\n",
       "      <td>6.02</td>\n",
       "      <td>$33,760,000,000</td>\n",
       "      <td>3.376000e+10</td>\n",
       "    </tr>\n",
       "    <tr>\n",
       "      <th>1</th>\n",
       "      <td>1</td>\n",
       "      <td>Luxembourg</td>\n",
       "      <td>10400</td>\n",
       "      <td>28.5</td>\n",
       "      <td>23.1</td>\n",
       "      <td>0.898</td>\n",
       "      <td>0</td>\n",
       "      <td>0</td>\n",
       "      <td>0</td>\n",
       "      <td>0</td>\n",
       "      <td>1</td>\n",
       "      <td>0</td>\n",
       "      <td>0</td>\n",
       "      <td>0</td>\n",
       "      <td>79.33</td>\n",
       "      <td>79.33</td>\n",
       "      <td>90.2</td>\n",
       "      <td>1.71</td>\n",
       "      <td>$18,330,000,000</td>\n",
       "      <td>1.833000e+10</td>\n",
       "    </tr>\n",
       "    <tr>\n",
       "      <th>2</th>\n",
       "      <td>2</td>\n",
       "      <td>Singapore</td>\n",
       "      <td>87900</td>\n",
       "      <td>33.1</td>\n",
       "      <td>6.2</td>\n",
       "      <td>0.925</td>\n",
       "      <td>0</td>\n",
       "      <td>0</td>\n",
       "      <td>1</td>\n",
       "      <td>0</td>\n",
       "      <td>0</td>\n",
       "      <td>0</td>\n",
       "      <td>0</td>\n",
       "      <td>0</td>\n",
       "      <td>78.63</td>\n",
       "      <td>78.63</td>\n",
       "      <td>100.0</td>\n",
       "      <td>2.02</td>\n",
       "      <td>$271,300,000,000</td>\n",
       "      <td>2.713000e+11</td>\n",
       "    </tr>\n",
       "    <tr>\n",
       "      <th>3</th>\n",
       "      <td>3</td>\n",
       "      <td>Kuwait</td>\n",
       "      <td>71900</td>\n",
       "      <td>56.6</td>\n",
       "      <td>39.7</td>\n",
       "      <td>0.800</td>\n",
       "      <td>0</td>\n",
       "      <td>1</td>\n",
       "      <td>0</td>\n",
       "      <td>0</td>\n",
       "      <td>0</td>\n",
       "      <td>0</td>\n",
       "      <td>0</td>\n",
       "      <td>0</td>\n",
       "      <td>70.21</td>\n",
       "      <td>70.21</td>\n",
       "      <td>98.3</td>\n",
       "      <td>3.63</td>\n",
       "      <td>$28,320,000,000</td>\n",
       "      <td>2.832000e+10</td>\n",
       "    </tr>\n",
       "    <tr>\n",
       "      <th>4</th>\n",
       "      <td>4</td>\n",
       "      <td>Ireland</td>\n",
       "      <td>69200</td>\n",
       "      <td>35.1</td>\n",
       "      <td>25.6</td>\n",
       "      <td>0.923</td>\n",
       "      <td>0</td>\n",
       "      <td>0</td>\n",
       "      <td>0</td>\n",
       "      <td>0</td>\n",
       "      <td>1</td>\n",
       "      <td>0</td>\n",
       "      <td>0</td>\n",
       "      <td>0</td>\n",
       "      <td>83.53</td>\n",
       "      <td>83.53</td>\n",
       "      <td>63.2</td>\n",
       "      <td>1.58</td>\n",
       "      <td>$88,010,000,000</td>\n",
       "      <td>8.801000e+10</td>\n",
       "    </tr>\n",
       "  </tbody>\n",
       "</table>\n",
       "</div>"
      ],
      "text/plain": [
       "   Unnamed: 0     country  GDPper_cap  Insufficiently_active  Percent_Obese  \\\n",
       "0           0       Qatar      127700                   41.6           42.3   \n",
       "1           1  Luxembourg       10400                   28.5           23.1   \n",
       "2           2   Singapore       87900                   33.1            6.2   \n",
       "3           3      Kuwait       71900                   56.6           39.7   \n",
       "4           4     Ireland       69200                   35.1           25.6   \n",
       "\n",
       "     HDI  Region_Africa  Region_Arab_States  Region_Asia_Pacific  Region_CIS  \\\n",
       "0  0.856              0                   1                    0           0   \n",
       "1  0.898              0                   0                    0           0   \n",
       "2  0.925              0                   0                    1           0   \n",
       "3  0.800              0                   1                    0           0   \n",
       "4  0.923              0                   0                    0           0   \n",
       "\n",
       "   Region_Europe  Region_North_America  Region_Latin_America  Region_Unknown  \\\n",
       "0              0                     0                     0               0   \n",
       "1              1                     0                     0               0   \n",
       "2              0                     0                     0               0   \n",
       "3              0                     0                     0               0   \n",
       "4              1                     0                     0               0   \n",
       "\n",
       "   Globalisation Index, overall  Globalization_index  Urban_Population  \\\n",
       "0                         74.39                74.39              99.2   \n",
       "1                         79.33                79.33              90.2   \n",
       "2                         78.63                78.63             100.0   \n",
       "3                         70.21                70.21              98.3   \n",
       "4                         83.53                83.53              63.2   \n",
       "\n",
       "   Urbanization_Rate           Imports      Imports_  \n",
       "0               6.02   $33,760,000,000  3.376000e+10  \n",
       "1               1.71   $18,330,000,000  1.833000e+10  \n",
       "2               2.02  $271,300,000,000  2.713000e+11  \n",
       "3               3.63   $28,320,000,000  2.832000e+10  \n",
       "4               1.58   $88,010,000,000  8.801000e+10  "
      ]
     },
     "execution_count": 508,
     "metadata": {},
     "output_type": "execute_result"
    }
   ],
   "source": [
    "df5.head()"
   ]
  },
  {
   "cell_type": "code",
   "execution_count": 12,
   "metadata": {
    "collapsed": false
   },
   "outputs": [
    {
     "data": {
      "text/plain": [
       "(157, 23)"
      ]
     },
     "execution_count": 12,
     "metadata": {},
     "output_type": "execute_result"
    }
   ],
   "source": [
    "df = pd.read_csv('Obese_model_data.csv')\n",
    "df.shape"
   ]
  },
  {
   "cell_type": "code",
   "execution_count": 13,
   "metadata": {
    "collapsed": false
   },
   "outputs": [],
   "source": [
    "import pandas as pd\n",
    "# all of the imports\n",
    "import pandas as pd\n",
    "import numpy as np\n",
    "import pickle \n",
    "import patsy\n",
    "from patsy import dmatrices\n",
    "import statsmodels.api as sm\n",
    "import statsmodels.formula.api as smf\n",
    "import matplotlib.pyplot as plt\n",
    "import seaborn as sns\n",
    "from sklearn.linear_model import LinearRegression\n",
    "from sklearn import metrics\n",
    "from sklearn.preprocessing import PolynomialFeatures\n",
    "from sklearn.pipeline import make_pipeline\n",
    "from sklearn.cross_validation import train_test_split\n",
    "from sklearn.cross_validation import KFold\n",
    "% matplotlib inline\n",
    "import statsmodels.api as sm\n",
    "import statsmodels.formula.api as smf\n",
    "import patsy"
   ]
  },
  {
   "cell_type": "code",
   "execution_count": 14,
   "metadata": {
    "collapsed": false,
    "scrolled": true
   },
   "outputs": [
    {
     "data": {
      "text/html": [
       "<table class=\"simpletable\">\n",
       "<caption>OLS Regression Results</caption>\n",
       "<tr>\n",
       "  <th>Dep. Variable:</th>      <td>Percent_Obese</td>  <th>  R-squared:         </th> <td>   0.739</td>\n",
       "</tr>\n",
       "<tr>\n",
       "  <th>Model:</th>                   <td>OLS</td>       <th>  Adj. R-squared:    </th> <td>   0.721</td>\n",
       "</tr>\n",
       "<tr>\n",
       "  <th>Method:</th>             <td>Least Squares</td>  <th>  F-statistic:       </th> <td>   41.31</td>\n",
       "</tr>\n",
       "<tr>\n",
       "  <th>Date:</th>             <td>Wed, 31 Jan 2018</td> <th>  Prob (F-statistic):</th> <td>1.11e-37</td>\n",
       "</tr>\n",
       "<tr>\n",
       "  <th>Time:</th>                 <td>10:00:52</td>     <th>  Log-Likelihood:    </th> <td> -481.61</td>\n",
       "</tr>\n",
       "<tr>\n",
       "  <th>No. Observations:</th>      <td>   157</td>      <th>  AIC:               </th> <td>   985.2</td>\n",
       "</tr>\n",
       "<tr>\n",
       "  <th>Df Residuals:</th>          <td>   146</td>      <th>  BIC:               </th> <td>   1019.</td>\n",
       "</tr>\n",
       "<tr>\n",
       "  <th>Df Model:</th>              <td>    10</td>      <th>                     </th>     <td> </td>   \n",
       "</tr>\n",
       "<tr>\n",
       "  <th>Covariance Type:</th>      <td>nonrobust</td>    <th>                     </th>     <td> </td>   \n",
       "</tr>\n",
       "</table>\n",
       "<table class=\"simpletable\">\n",
       "<tr>\n",
       "                     <td></td>                        <th>coef</th>     <th>std err</th>      <th>t</th>      <th>P>|t|</th>  <th>[0.025</th>    <th>0.975]</th>  \n",
       "</tr>\n",
       "<tr>\n",
       "  <th>Intercept</th>                               <td>   10.0002</td> <td>    4.874</td> <td>    2.052</td> <td> 0.042</td> <td>    0.368</td> <td>   19.632</td>\n",
       "</tr>\n",
       "<tr>\n",
       "  <th>Education</th>                               <td>   32.5937</td> <td>    4.990</td> <td>    6.532</td> <td> 0.000</td> <td>   22.732</td> <td>   42.455</td>\n",
       "</tr>\n",
       "<tr>\n",
       "  <th>np.log(Imports)</th>                         <td>   -0.5647</td> <td>    0.144</td> <td>   -3.911</td> <td> 0.000</td> <td>   -0.850</td> <td>   -0.279</td>\n",
       "</tr>\n",
       "<tr>\n",
       "  <th>Insufficiently_active</th>                   <td>    0.1553</td> <td>    0.047</td> <td>    3.273</td> <td> 0.001</td> <td>    0.062</td> <td>    0.249</td>\n",
       "</tr>\n",
       "<tr>\n",
       "  <th>Urban_Population:Region_Arab_States</th>     <td>    0.0745</td> <td>    0.023</td> <td>    3.204</td> <td> 0.002</td> <td>    0.029</td> <td>    0.120</td>\n",
       "</tr>\n",
       "<tr>\n",
       "  <th>Urbanization_Rate</th>                       <td>   -6.9626</td> <td>    1.673</td> <td>   -4.161</td> <td> 0.000</td> <td>  -10.269</td> <td>   -3.656</td>\n",
       "</tr>\n",
       "<tr>\n",
       "  <th>Region_Asia_Pacific</th>                     <td>   49.1962</td> <td>    6.217</td> <td>    7.913</td> <td> 0.000</td> <td>   36.908</td> <td>   61.484</td>\n",
       "</tr>\n",
       "<tr>\n",
       "  <th>Urbanization_Rate:Region_Asia_Pacific</th>   <td>   -4.2449</td> <td>    0.995</td> <td>   -4.265</td> <td> 0.000</td> <td>   -6.212</td> <td>   -2.278</td>\n",
       "</tr>\n",
       "<tr>\n",
       "  <th>Globalization_index:Region_Asia_Pacific</th> <td>   -0.7283</td> <td>    0.089</td> <td>   -8.226</td> <td> 0.000</td> <td>   -0.903</td> <td>   -0.553</td>\n",
       "</tr>\n",
       "<tr>\n",
       "  <th>GDPper_cap:Region_Europe</th>                <td>   -0.0001</td> <td> 3.56e-05</td> <td>   -3.304</td> <td> 0.001</td> <td>   -0.000</td> <td>-4.73e-05</td>\n",
       "</tr>\n",
       "<tr>\n",
       "  <th>Urbanization_Rate:np.log(GDPper_cap)</th>    <td>    0.7258</td> <td>    0.179</td> <td>    4.063</td> <td> 0.000</td> <td>    0.373</td> <td>    1.079</td>\n",
       "</tr>\n",
       "</table>\n",
       "<table class=\"simpletable\">\n",
       "<tr>\n",
       "  <th>Omnibus:</th>       <td>18.368</td> <th>  Durbin-Watson:     </th> <td>   1.876</td>\n",
       "</tr>\n",
       "<tr>\n",
       "  <th>Prob(Omnibus):</th> <td> 0.000</td> <th>  Jarque-Bera (JB):  </th> <td>  72.348</td>\n",
       "</tr>\n",
       "<tr>\n",
       "  <th>Skew:</th>          <td>-0.152</td> <th>  Prob(JB):          </th> <td>1.95e-16</td>\n",
       "</tr>\n",
       "<tr>\n",
       "  <th>Kurtosis:</th>      <td> 6.312</td> <th>  Cond. No.          </th> <td>2.83e+05</td>\n",
       "</tr>\n",
       "</table>"
      ],
      "text/plain": [
       "<class 'statsmodels.iolib.summary.Summary'>\n",
       "\"\"\"\n",
       "                            OLS Regression Results                            \n",
       "==============================================================================\n",
       "Dep. Variable:          Percent_Obese   R-squared:                       0.739\n",
       "Model:                            OLS   Adj. R-squared:                  0.721\n",
       "Method:                 Least Squares   F-statistic:                     41.31\n",
       "Date:                Wed, 31 Jan 2018   Prob (F-statistic):           1.11e-37\n",
       "Time:                        10:00:52   Log-Likelihood:                -481.61\n",
       "No. Observations:                 157   AIC:                             985.2\n",
       "Df Residuals:                     146   BIC:                             1019.\n",
       "Df Model:                          10                                         \n",
       "Covariance Type:            nonrobust                                         \n",
       "===========================================================================================================\n",
       "                                              coef    std err          t      P>|t|      [0.025      0.975]\n",
       "-----------------------------------------------------------------------------------------------------------\n",
       "Intercept                                  10.0002      4.874      2.052      0.042       0.368      19.632\n",
       "Education                                  32.5937      4.990      6.532      0.000      22.732      42.455\n",
       "np.log(Imports)                            -0.5647      0.144     -3.911      0.000      -0.850      -0.279\n",
       "Insufficiently_active                       0.1553      0.047      3.273      0.001       0.062       0.249\n",
       "Urban_Population:Region_Arab_States         0.0745      0.023      3.204      0.002       0.029       0.120\n",
       "Urbanization_Rate                          -6.9626      1.673     -4.161      0.000     -10.269      -3.656\n",
       "Region_Asia_Pacific                        49.1962      6.217      7.913      0.000      36.908      61.484\n",
       "Urbanization_Rate:Region_Asia_Pacific      -4.2449      0.995     -4.265      0.000      -6.212      -2.278\n",
       "Globalization_index:Region_Asia_Pacific    -0.7283      0.089     -8.226      0.000      -0.903      -0.553\n",
       "GDPper_cap:Region_Europe                   -0.0001   3.56e-05     -3.304      0.001      -0.000   -4.73e-05\n",
       "Urbanization_Rate:np.log(GDPper_cap)        0.7258      0.179      4.063      0.000       0.373       1.079\n",
       "==============================================================================\n",
       "Omnibus:                       18.368   Durbin-Watson:                   1.876\n",
       "Prob(Omnibus):                  0.000   Jarque-Bera (JB):               72.348\n",
       "Skew:                          -0.152   Prob(JB):                     1.95e-16\n",
       "Kurtosis:                       6.312   Cond. No.                     2.83e+05\n",
       "==============================================================================\n",
       "\n",
       "Warnings:\n",
       "[1] Standard Errors assume that the covariance matrix of the errors is correctly specified.\n",
       "[2] The condition number is large, 2.83e+05. This might indicate that there are\n",
       "strong multicollinearity or other numerical problems.\n",
       "\"\"\""
      ]
     },
     "execution_count": 14,
     "metadata": {},
     "output_type": "execute_result"
    }
   ],
   "source": [
    "y, X = patsy.dmatrices('Percent_Obese ~ Education + np.log(Imports) + Insufficiently_active + Urban_Population:Region_Arab_States + Urbanization_Rate*Region_Asia_Pacific + Globalization_index:Region_Asia_Pacific + GDPper_cap:Region_Europe + Urbanization_Rate:np.log(GDPper_cap)', data=df, return_type=\"dataframe\")\n",
    "model = sm.OLS(y, X)\n",
    "\n",
    "# Fit your model to your training set\n",
    "fit = model.fit()\n",
    "\n",
    "# Print summary statistics of the model's performance\n",
    "fit.summary()"
   ]
  },
  {
   "cell_type": "code",
   "execution_count": 49,
   "metadata": {
    "collapsed": false
   },
   "outputs": [],
   "source": [
    "model = smf.ols(formula='Percent_Obese ~ Education + np.log(Imports) + Insufficiently_active + Urban_Population:Region_Arab_States + Urbanization_Rate*Region_Asia_Pacific + Globalization_index:Region_Asia_Pacific + GDPper_cap:Region_Europe + Urbanization_Rate:np.log(GDPper_cap)', data=df)\n",
    "model_fit = model.fit()\n",
    "results_fr = model.fit_regularized(L1_wt=1, alpha=0.000001, start_params=model_fit.params)"
   ]
  },
  {
   "cell_type": "code",
   "execution_count": 50,
   "metadata": {
    "collapsed": false
   },
   "outputs": [
    {
     "name": "stdout",
     "output_type": "stream",
     "text": [
      "                            OLS Regression Results                            \n",
      "==============================================================================\n",
      "Dep. Variable:          Percent_Obese   R-squared:                       0.739\n",
      "Model:                            OLS   Adj. R-squared:                  0.721\n",
      "Method:                 Least Squares   F-statistic:                     41.31\n",
      "Date:                Wed, 31 Jan 2018   Prob (F-statistic):           1.11e-37\n",
      "Time:                        10:28:40   Log-Likelihood:                -481.61\n",
      "No. Observations:                 157   AIC:                             985.2\n",
      "Df Residuals:                     146   BIC:                             1019.\n",
      "Df Model:                          10                                         \n",
      "Covariance Type:            nonrobust                                         \n",
      "===========================================================================================================\n",
      "                                              coef    std err          t      P>|t|      [0.025      0.975]\n",
      "-----------------------------------------------------------------------------------------------------------\n",
      "Intercept                                  10.0002      4.874      2.052      0.042       0.368      19.632\n",
      "Education                                  32.5937      4.990      6.532      0.000      22.732      42.455\n",
      "np.log(Imports)                            -0.5647      0.144     -3.911      0.000      -0.850      -0.279\n",
      "Insufficiently_active                       0.1553      0.047      3.273      0.001       0.062       0.249\n",
      "Urban_Population:Region_Arab_States         0.0745      0.023      3.204      0.002       0.029       0.120\n",
      "Urbanization_Rate                          -6.9626      1.673     -4.161      0.000     -10.269      -3.656\n",
      "Region_Asia_Pacific                        49.1960      6.217      7.913      0.000      36.908      61.484\n",
      "Urbanization_Rate:Region_Asia_Pacific      -4.2449      0.995     -4.265      0.000      -6.212      -2.278\n",
      "Globalization_index:Region_Asia_Pacific    -0.7283      0.089     -8.226      0.000      -0.903      -0.553\n",
      "GDPper_cap:Region_Europe                   -0.0001   3.56e-05     -3.304      0.001      -0.000   -4.73e-05\n",
      "Urbanization_Rate:np.log(GDPper_cap)        0.7258      0.179      4.063      0.000       0.373       1.079\n",
      "==============================================================================\n",
      "Omnibus:                       18.368   Durbin-Watson:                   1.876\n",
      "Prob(Omnibus):                  0.000   Jarque-Bera (JB):               72.347\n",
      "Skew:                          -0.152   Prob(JB):                     1.95e-16\n",
      "Kurtosis:                       6.312   Cond. No.                     2.83e+05\n",
      "==============================================================================\n",
      "\n",
      "Warnings:\n",
      "[1] Standard Errors assume that the covariance matrix of the errors is correctly specified.\n",
      "[2] The condition number is large, 2.83e+05. This might indicate that there are\n",
      "strong multicollinearity or other numerical problems.\n"
     ]
    }
   ],
   "source": [
    "final = sm.regression.linear_model.OLSResults(model, \n",
    "                                              results_fr.params, \n",
    "                                              model.normalized_cov_params)\n",
    "\n",
    "print(final.summary())"
   ]
  },
  {
   "cell_type": "code",
   "execution_count": 15,
   "metadata": {
    "collapsed": false
   },
   "outputs": [],
   "source": [
    "model_elast = model.fit_regularized(method='elastic_net', alpha=0.00001, L1_wt=1.0, start_params=None, profile_scale=False, refit=False)"
   ]
  },
  {
   "cell_type": "code",
   "execution_count": 16,
   "metadata": {
    "collapsed": false,
    "scrolled": true
   },
   "outputs": [
    {
     "data": {
      "text/plain": [
       "Intercept                                  16.600339\n",
       "Education                                  28.151301\n",
       "np.log(Imports)                            -0.731307\n",
       "Insufficiently_active                       0.156630\n",
       "Urban_Population:Region_Arab_States         0.099230\n",
       "Urbanization_Rate                          -5.381155\n",
       "Region_Asia_Pacific                        36.987868\n",
       "Urbanization_Rate:Region_Asia_Pacific      -3.582776\n",
       "Globalization_index:Region_Asia_Pacific    -0.531752\n",
       "GDPper_cap:Region_Europe                   -0.000076\n",
       "Urbanization_Rate:np.log(GDPper_cap)        0.510351\n",
       "dtype: float64"
      ]
     },
     "execution_count": 16,
     "metadata": {},
     "output_type": "execute_result"
    }
   ],
   "source": [
    "model_elast.params"
   ]
  },
  {
   "cell_type": "code",
   "execution_count": 74,
   "metadata": {
    "collapsed": false
   },
   "outputs": [
    {
     "data": {
      "image/png": "[encoded data removed]",
      "text/plain": [
       "<matplotlib.figure.Figure at 0x114d1cf28>"
      ]
     },
     "metadata": {},
     "output_type": "display_data"
    }
   ],
   "source": [
    "'''''''''\n",
    "fig, ax = plt.subplots()\n",
    "ax.scatter(df.HDI, df.Percent_Obese, edgecolors=(0, 0, 0))\n",
    "ax.plot([df.HDI.min(), df.HDI.max()], [df.Percent_Obese.min(), df.Percent_Obese.max()], 'k-', lw=2)\n",
    "ax.set_xlabel('HDI')\n",
    "ax.set_ylabel('Percent Obese')\n",
    "plt.show()\n",
    "'''''''''\n",
    "fig, ax = plt.subplots()\n",
    "ax.set_xlabel('HDI')\n",
    "ax.set_ylabel('Percent Obese')\n",
    "m, b = np.polyfit(df.HDI, df.Percent_Obese, 1)\n",
    "plt.plot(df.HDI, df.Percent_Obese, '.')\n",
    "plt.plot(df.HDI, m*df.HDI + b, '-');"
   ]
  },
  {
   "cell_type": "code",
   "execution_count": 25,
   "metadata": {
    "collapsed": false
   },
   "outputs": [],
   "source": [
    "#X_train, X_test, y_train, y_test = train_test_split(X, y, test_size = 1/4, random_state = 1)\n",
    "#model.fit(X_train,y_train)\n",
    "#model.score(X_test,y_test)"
   ]
  },
  {
   "cell_type": "code",
   "execution_count": 28,
   "metadata": {
    "collapsed": false
   },
   "outputs": [],
   "source": [
    "# fitted values (need a constant term for intercept)\n",
    "model_fitted_y = model_fit.fittedvalues\n",
    "# model residuals\n",
    "model_residuals = model_fit.resid\n",
    "# normalized residuals\n",
    "model_norm_residuals = model_fit.get_influence().resid_studentized_internal\n",
    "# absolute squared normalized residuals\n",
    "model_norm_residuals_abs_sqrt = np.sqrt(np.abs(model_norm_residuals))\n",
    "# absolute residuals\n",
    "model_abs_resid = np.abs(model_residuals)\n",
    "# leverage, from statsmodels internals\n",
    "model_leverage = model_fit.get_influence().hat_matrix_diag\n",
    "# cook's distance, from statsmodels internals\n",
    "model_cooks = model_fit.get_influence().cooks_distance[0]"
   ]
  },
  {
   "cell_type": "code",
   "execution_count": 31,
   "metadata": {
    "collapsed": false
   },
   "outputs": [
    {
     "data": {
      "image/png": "[encoded data removed]",
      "text/plain": [
       "<matplotlib.figure.Figure at 0x11d7b8588>"
      ]
     },
     "metadata": {},
     "output_type": "display_data"
    }
   ],
   "source": [
    "fig1 = plot_lm_1 = plt.figure(1)\n",
    "plot_lm_1.set_figheight(8)\n",
    "plot_lm_1.set_figwidth(12)\n",
    "plot_lm_1.axes[0] = sns.residplot(model_fitted_y, 'Percent_Obese', data=df, \n",
    "                          lowess=True, \n",
    "                          scatter_kws={'alpha': 0.5}, \n",
    "                          line_kws={'color': 'red', 'lw': 1, 'alpha': 0.8})\n",
    "plot_lm_1.axes[0].set_title('Residuals vs Fitted')\n",
    "plot_lm_1.axes[0].set_xlabel('Fitted values')\n",
    "plot_lm_1.axes[0].set_ylabel('Residuals')\n",
    "\n",
    "# annotations\n",
    "abs_resid = model_abs_resid.sort_values(ascending=False)\n",
    "abs_resid_top_3 = abs_resid[:3]\n",
    "for i in abs_resid_top_3.index:\n",
    "    plot_lm_1.axes[0].annotate(i, \n",
    "                               xy=(model_fitted_y[i], \n",
    "                                   model_residuals[i]));\n",
    "    "
   ]
  },
  {
   "cell_type": "code",
   "execution_count": 32,
   "metadata": {
    "collapsed": true
   },
   "outputs": [],
   "source": [
    "fig1.savefig('Fitted&Residual.png')"
   ]
  },
  {
   "cell_type": "code",
   "execution_count": 38,
   "metadata": {
    "collapsed": false
   },
   "outputs": [
    {
     "data": {
      "image/png": "[encoded data removed]",
      "text/plain": [
       "<matplotlib.figure.Figure at 0x11e3a6518>"
      ]
     },
     "metadata": {},
     "output_type": "display_data"
    }
   ],
   "source": [
    "plot_lm_4 = plt.figure(4)\n",
    "plot_lm_4.set_figheight(8)\n",
    "plot_lm_4.set_figwidth(12)\n",
    "plt.scatter(model_leverage, model_norm_residuals, alpha=0.5)\n",
    "sns.regplot(model_leverage, model_norm_residuals, \n",
    "            scatter=False, \n",
    "            ci=False, \n",
    "            lowess=True,\n",
    "            line_kws={'color': 'red', 'lw': 1, 'alpha': 0.8})\n",
    "plot_lm_4.axes[0].set_xlim(0, 0.20)\n",
    "plot_lm_4.axes[0].set_ylim(-3, 5)\n",
    "plot_lm_4.axes[0].set_title('Residuals vs Leverage')\n",
    "plot_lm_4.axes[0].set_xlabel('Leverage')\n",
    "plot_lm_4.axes[0].set_ylabel('Standardized Residuals')\n",
    "# annotations\n",
    "leverage_top_3 = np.flipud(np.argsort(model_cooks))[:3]\n",
    "for i in leverage_top_3:\n",
    "    plot_lm_4.axes[0].annotate(i, \n",
    "                               xy=(model_leverage[i], \n",
    "                                   model_norm_residuals[i]))\n",
    "# for cook's distance contours\n",
    "def graph(formula, x_range, label=None):\n",
    "    x = x_range\n",
    "    y = formula(x)\n",
    "    plt.plot(x, y, label=label, lw=1, ls='--', color='red')\n",
    "p = len(model_fit.params) # number of model parameters\n",
    "graph(lambda x: np.sqrt((0.5 * p * (1 - x)) / x), \n",
    "      np.linspace(0.001, 0.200, 50), \n",
    "      'Cook\\'s distance') # 0.5 line\n",
    "graph(lambda x: np.sqrt((1 * p * (1 - x)) / x), \n",
    "      np.linspace(0.001, 0.200, 50)) # 1 line\n",
    "plt.legend(loc='upper right');"
   ]
  },
  {
   "cell_type": "code",
   "execution_count": 67,
   "metadata": {
    "collapsed": false
   },
   "outputs": [
    {
     "ename": "AttributeError",
     "evalue": "'tuple' object has no attribute 'qqplot'",
     "output_type": "error",
     "traceback": [
      "\u001b[0;31m---------------------------------------------------------------------------\u001b[0m",
      "\u001b[0;31mAttributeError\u001b[0m                            Traceback (most recent call last)",
      "\u001b[0;32m<ipython-input-67-6f92d04dacb3>\u001b[0m in \u001b[0;36m<module>\u001b[0;34m()\u001b[0m\n\u001b[1;32m      1\u001b[0m \u001b[0mQQ\u001b[0m \u001b[0;34m=\u001b[0m \u001b[0mstats\u001b[0m\u001b[0;34m.\u001b[0m\u001b[0mprobplot\u001b[0m\u001b[0;34m(\u001b[0m\u001b[0mmodel_norm_residuals\u001b[0m\u001b[0;34m)\u001b[0m\u001b[0;34m\u001b[0m\u001b[0m\n\u001b[0;32m----> 2\u001b[0;31m \u001b[0mplot_lm_2\u001b[0m \u001b[0;34m=\u001b[0m \u001b[0mQQ\u001b[0m\u001b[0;34m.\u001b[0m\u001b[0mqqplot\u001b[0m\u001b[0;34m(\u001b[0m\u001b[0mline\u001b[0m\u001b[0;34m=\u001b[0m\u001b[0;34m'45'\u001b[0m\u001b[0;34m,\u001b[0m \u001b[0malpha\u001b[0m\u001b[0;34m=\u001b[0m\u001b[0;36m0.5\u001b[0m\u001b[0;34m,\u001b[0m \u001b[0mcolor\u001b[0m\u001b[0;34m=\u001b[0m\u001b[0;34m'#4C72B0'\u001b[0m\u001b[0;34m,\u001b[0m \u001b[0mlw\u001b[0m\u001b[0;34m=\u001b[0m\u001b[0;36m1\u001b[0m\u001b[0;34m)\u001b[0m\u001b[0;34m\u001b[0m\u001b[0m\n\u001b[0m\u001b[1;32m      3\u001b[0m \u001b[0mplot_lm_2\u001b[0m\u001b[0;34m.\u001b[0m\u001b[0mset_figheight\u001b[0m\u001b[0;34m(\u001b[0m\u001b[0;36m8\u001b[0m\u001b[0;34m)\u001b[0m\u001b[0;34m\u001b[0m\u001b[0m\n\u001b[1;32m      4\u001b[0m \u001b[0mplot_lm_2\u001b[0m\u001b[0;34m.\u001b[0m\u001b[0mset_figwidth\u001b[0m\u001b[0;34m(\u001b[0m\u001b[0;36m12\u001b[0m\u001b[0;34m)\u001b[0m\u001b[0;34m\u001b[0m\u001b[0m\n\u001b[1;32m      5\u001b[0m \u001b[0mplot_lm_2\u001b[0m\u001b[0;34m.\u001b[0m\u001b[0maxes\u001b[0m\u001b[0;34m[\u001b[0m\u001b[0;36m0\u001b[0m\u001b[0;34m]\u001b[0m\u001b[0;34m.\u001b[0m\u001b[0mset_title\u001b[0m\u001b[0;34m(\u001b[0m\u001b[0;34m'Normal Q-Q'\u001b[0m\u001b[0;34m)\u001b[0m\u001b[0;34m\u001b[0m\u001b[0m\n",
      "\u001b[0;31mAttributeError\u001b[0m: 'tuple' object has no attribute 'qqplot'"
     ]
    }
   ],
   "source": [
    "QQ = stats.probplot(model_norm_residuals)\n",
    "plot_lm_2 = QQ.qqplot(line='45', alpha=0.5, color='#4C72B0', lw=1)\n",
    "plot_lm_2.set_figheight(8)\n",
    "plot_lm_2.set_figwidth(12)\n",
    "plot_lm_2.axes[0].set_title('Normal Q-Q')\n",
    "plot_lm_2.axes[0].set_xlabel('Theoretical Quantiles')\n",
    "plot_lm_2.axes[0].set_ylabel('Standardized Residuals');\n",
    "# annotations\n",
    "abs_norm_resid = np.flipud(np.argsort(np.abs(model_norm_residuals)))\n",
    "abs_norm_resid_top_3 = abs_norm_resid[:3]\n",
    "for r, i in enumerate(abs_norm_resid_top_3):\n",
    "    plot_lm_2.axes[0].annotate(i, \n",
    "                               xy=(np.flipud(QQ.theoretical_quantiles)[r],\n",
    "                                   model_norm_residuals[i]));"
   ]
  },
  {
   "cell_type": "code",
   "execution_count": 68,
   "metadata": {
    "collapsed": false
   },
   "outputs": [
    {
     "ename": "NameError",
     "evalue": "name 'abs_norm_resid_top_3' is not defined",
     "output_type": "error",
     "traceback": [
      "\u001b[0;31m---------------------------------------------------------------------------\u001b[0m",
      "\u001b[0;31mNameError\u001b[0m                                 Traceback (most recent call last)",
      "\u001b[0;32m<ipython-input-68-4f0a35de7a3d>\u001b[0m in \u001b[0;36m<module>\u001b[0;34m()\u001b[0m\n\u001b[1;32m     14\u001b[0m \u001b[0mabs_sq_norm_resid\u001b[0m \u001b[0;34m=\u001b[0m \u001b[0mnp\u001b[0m\u001b[0;34m.\u001b[0m\u001b[0mflipud\u001b[0m\u001b[0;34m(\u001b[0m\u001b[0mnp\u001b[0m\u001b[0;34m.\u001b[0m\u001b[0margsort\u001b[0m\u001b[0;34m(\u001b[0m\u001b[0mmodel_norm_residuals_abs_sqrt\u001b[0m\u001b[0;34m)\u001b[0m\u001b[0;34m)\u001b[0m\u001b[0;34m\u001b[0m\u001b[0m\n\u001b[1;32m     15\u001b[0m \u001b[0mabs_sq_norm_resid_top_3\u001b[0m \u001b[0;34m=\u001b[0m \u001b[0mabs_sq_norm_resid\u001b[0m\u001b[0;34m[\u001b[0m\u001b[0;34m:\u001b[0m\u001b[0;36m3\u001b[0m\u001b[0;34m]\u001b[0m\u001b[0;34m\u001b[0m\u001b[0m\n\u001b[0;32m---> 16\u001b[0;31m \u001b[0;32mfor\u001b[0m \u001b[0mi\u001b[0m \u001b[0;32min\u001b[0m \u001b[0mabs_norm_resid_top_3\u001b[0m\u001b[0;34m:\u001b[0m\u001b[0;34m\u001b[0m\u001b[0m\n\u001b[0m\u001b[1;32m     17\u001b[0m     plot_lm_3.axes[0].annotate(i, \n\u001b[1;32m     18\u001b[0m                                xy=(model_fitted_y[i], \n",
      "\u001b[0;31mNameError\u001b[0m: name 'abs_norm_resid_top_3' is not defined"
     ]
    },
    {
     "data": {
      "image/png": "[encoded data removed]",
      "text/plain": [
       "<matplotlib.figure.Figure at 0x11e474860>"
      ]
     },
     "metadata": {},
     "output_type": "display_data"
    }
   ],
   "source": [
    "plot_lm_3 = plt.figure(3)\n",
    "plot_lm_3.set_figheight(8)\n",
    "plot_lm_3.set_figwidth(12)\n",
    "plt.scatter(model_fitted_y, model_norm_residuals_abs_sqrt, alpha=0.5)\n",
    "sns.regplot(model_fitted_y, model_norm_residuals_abs_sqrt, \n",
    "            scatter=False, \n",
    "            ci=False, \n",
    "            lowess=True,\n",
    "            line_kws={'color': 'red', 'lw': 1, 'alpha': 0.8})\n",
    "plot_lm_3.axes[0].set_title('Scale-Location')\n",
    "plot_lm_3.axes[0].set_xlabel('Fitted values')\n",
    "plot_lm_3.axes[0].set_ylabel('$\\sqrt{|Standardized Residuals|}$');\n",
    "# annotations\n",
    "abs_sq_norm_resid = np.flipud(np.argsort(model_norm_residuals_abs_sqrt))\n",
    "abs_sq_norm_resid_top_3 = abs_sq_norm_resid[:3]\n",
    "for i in abs_norm_resid_top_3:\n",
    "    plot_lm_3.axes[0].annotate(i, \n",
    "                               xy=(model_fitted_y[i], \n",
    "                                   model_norm_residuals_abs_sqrt[i]));\n"
   ]
  },
  {
   "cell_type": "code",
   "execution_count": 55,
   "metadata": {
    "collapsed": false
   },
   "outputs": [
    {
     "data": {
      "text/plain": [
       "Unnamed: 0                       81\n",
       "country                      Jordan\n",
       "Percent_Obese                  30.5\n",
       "GDPper_cap                    12300\n",
       "Insufficiently_active          15.6\n",
       "Education                       0.7\n",
       "Region_Africa                     0\n",
       "Region_Arab_States                1\n",
       "Region_Europe                     0\n",
       "Region_Asia_Pacific               0\n",
       "Region_Latin_America              0\n",
       "Region_CIS                        0\n",
       "Globalization_index           74.31\n",
       "Urbanization_Rate              3.79\n",
       "Urban_Population               83.7\n",
       "Imports                   1.786e+10\n",
       "log(Imports)                23.6058\n",
       "log(Imports)*Asia                 0\n",
       "Asia*Urbanization                 0\n",
       "UrbanPop*ArabStates            83.7\n",
       "Asia*Globalization                0\n",
       "Urbanization*GDPpercap      35.6918\n",
       "Europe*GDPpercap                  0\n",
       "Name: 81, dtype: object"
      ]
     },
     "execution_count": 55,
     "metadata": {},
     "output_type": "execute_result"
    }
   ],
   "source": [
    "df.iloc[81]"
   ]
  },
  {
   "cell_type": "code",
   "execution_count": 543,
   "metadata": {
    "collapsed": true
   },
   "outputs": [],
   "source": [
    "regressor = LinearRegression()\n",
    "regressor.fit(X_train, y_train)\n",
    "\n",
    "# Predicting the Test set results\n",
    "y_pred = regressor.predict(X_test)"
   ]
  },
  {
   "cell_type": "code",
   "execution_count": 517,
   "metadata": {
    "collapsed": false
   },
   "outputs": [
    {
     "data": {
      "text/plain": [
       "<matplotlib.text.Text at 0x1201942e8>"
      ]
     },
     "execution_count": 517,
     "metadata": {},
     "output_type": "execute_result"
    },
    {
     "data": {
      "image/png": "[encoded data removed]",
      "text/plain": [
       "<matplotlib.figure.Figure at 0x12016ab70>"
      ]
     },
     "metadata": {},
     "output_type": "display_data"
    }
   ],
   "source": [
    "plt.scatter(y_test, y_pred)\n",
    "plt.xlabel(\"True Values\")\n",
    "plt.ylabel(\"Predictions\")"
   ]
  },
  {
   "cell_type": "code",
   "execution_count": 30,
   "metadata": {
    "collapsed": false
   },
   "outputs": [
    {
     "ename": "TypeError",
     "evalue": "Cannot clone object '<statsmodels.regression.linear_model.OLS object at 0x116f3c160>' (type <class 'statsmodels.regression.linear_model.OLS'>): it does not seem to be a scikit-learn estimator as it does not implement a 'get_params' methods.",
     "output_type": "error",
     "traceback": [
      "\u001b[0;31m---------------------------------------------------------------------------\u001b[0m",
      "\u001b[0;31mTypeError\u001b[0m                                 Traceback (most recent call last)",
      "\u001b[0;32m<ipython-input-30-d5a4d1201b2f>\u001b[0m in \u001b[0;36m<module>\u001b[0;34m()\u001b[0m\n\u001b[1;32m      1\u001b[0m \u001b[0;32mfrom\u001b[0m \u001b[0msklearn\u001b[0m\u001b[0;34m.\u001b[0m\u001b[0mcross_validation\u001b[0m \u001b[0;32mimport\u001b[0m \u001b[0mcross_val_score\u001b[0m\u001b[0;34m\u001b[0m\u001b[0m\n\u001b[1;32m      2\u001b[0m \u001b[0my\u001b[0m \u001b[0;34m=\u001b[0m \u001b[0mnp\u001b[0m\u001b[0;34m.\u001b[0m\u001b[0mravel\u001b[0m\u001b[0;34m(\u001b[0m\u001b[0my\u001b[0m\u001b[0;34m)\u001b[0m\u001b[0;34m\u001b[0m\u001b[0m\n\u001b[0;32m----> 3\u001b[0;31m \u001b[0mscores\u001b[0m \u001b[0;34m=\u001b[0m \u001b[0mcross_val_score\u001b[0m\u001b[0;34m(\u001b[0m\u001b[0mmodel\u001b[0m\u001b[0;34m,\u001b[0m \u001b[0mX\u001b[0m\u001b[0;34m,\u001b[0m \u001b[0my\u001b[0m\u001b[0;34m,\u001b[0m \u001b[0mcv\u001b[0m\u001b[0;34m=\u001b[0m\u001b[0;36m100\u001b[0m\u001b[0;34m,\u001b[0m \u001b[0mscoring\u001b[0m\u001b[0;34m=\u001b[0m\u001b[0;34m'neg_mean_squared_error'\u001b[0m\u001b[0;34m)\u001b[0m\u001b[0;34m\u001b[0m\u001b[0m\n\u001b[0m\u001b[1;32m      4\u001b[0m print('Stratified %i folds cross validation mean' + 'Folds: %i, mean squared error: %.2f std: %.2f'\n\u001b[1;32m      5\u001b[0m %(len(scores),np.mean(np.abs(scores)),np.std(scores)))\n",
      "\u001b[0;32m/Users/hector/anaconda/lib/python3.6/site-packages/sklearn/cross_validation.py\u001b[0m in \u001b[0;36mcross_val_score\u001b[0;34m(estimator, X, y, scoring, cv, n_jobs, verbose, fit_params, pre_dispatch)\u001b[0m\n\u001b[1;32m   1579\u001b[0m                                               \u001b[0mtrain\u001b[0m\u001b[0;34m,\u001b[0m \u001b[0mtest\u001b[0m\u001b[0;34m,\u001b[0m \u001b[0mverbose\u001b[0m\u001b[0;34m,\u001b[0m \u001b[0;32mNone\u001b[0m\u001b[0;34m,\u001b[0m\u001b[0;34m\u001b[0m\u001b[0m\n\u001b[1;32m   1580\u001b[0m                                               fit_params)\n\u001b[0;32m-> 1581\u001b[0;31m                       for train, test in cv)\n\u001b[0m\u001b[1;32m   1582\u001b[0m     \u001b[0;32mreturn\u001b[0m \u001b[0mnp\u001b[0m\u001b[0;34m.\u001b[0m\u001b[0marray\u001b[0m\u001b[0;34m(\u001b[0m\u001b[0mscores\u001b[0m\u001b[0;34m)\u001b[0m\u001b[0;34m[\u001b[0m\u001b[0;34m:\u001b[0m\u001b[0;34m,\u001b[0m \u001b[0;36m0\u001b[0m\u001b[0;34m]\u001b[0m\u001b[0;34m\u001b[0m\u001b[0m\n\u001b[1;32m   1583\u001b[0m \u001b[0;34m\u001b[0m\u001b[0m\n",
      "\u001b[0;32m/Users/hector/anaconda/lib/python3.6/site-packages/sklearn/externals/joblib/parallel.py\u001b[0m in \u001b[0;36m__call__\u001b[0;34m(self, iterable)\u001b[0m\n\u001b[1;32m    777\u001b[0m             \u001b[0;31m# was dispatched. In particular this covers the edge\u001b[0m\u001b[0;34m\u001b[0m\u001b[0;34m\u001b[0m\u001b[0m\n\u001b[1;32m    778\u001b[0m             \u001b[0;31m# case of Parallel used with an exhausted iterator.\u001b[0m\u001b[0;34m\u001b[0m\u001b[0;34m\u001b[0m\u001b[0m\n\u001b[0;32m--> 779\u001b[0;31m             \u001b[0;32mwhile\u001b[0m \u001b[0mself\u001b[0m\u001b[0;34m.\u001b[0m\u001b[0mdispatch_one_batch\u001b[0m\u001b[0;34m(\u001b[0m\u001b[0miterator\u001b[0m\u001b[0;34m)\u001b[0m\u001b[0;34m:\u001b[0m\u001b[0;34m\u001b[0m\u001b[0m\n\u001b[0m\u001b[1;32m    780\u001b[0m                 \u001b[0mself\u001b[0m\u001b[0;34m.\u001b[0m\u001b[0m_iterating\u001b[0m \u001b[0;34m=\u001b[0m \u001b[0;32mTrue\u001b[0m\u001b[0;34m\u001b[0m\u001b[0m\n\u001b[1;32m    781\u001b[0m             \u001b[0;32melse\u001b[0m\u001b[0;34m:\u001b[0m\u001b[0;34m\u001b[0m\u001b[0m\n",
      "\u001b[0;32m/Users/hector/anaconda/lib/python3.6/site-packages/sklearn/externals/joblib/parallel.py\u001b[0m in \u001b[0;36mdispatch_one_batch\u001b[0;34m(self, iterator)\u001b[0m\n\u001b[1;32m    618\u001b[0m \u001b[0;34m\u001b[0m\u001b[0m\n\u001b[1;32m    619\u001b[0m         \u001b[0;32mwith\u001b[0m \u001b[0mself\u001b[0m\u001b[0;34m.\u001b[0m\u001b[0m_lock\u001b[0m\u001b[0;34m:\u001b[0m\u001b[0;34m\u001b[0m\u001b[0m\n\u001b[0;32m--> 620\u001b[0;31m             \u001b[0mtasks\u001b[0m \u001b[0;34m=\u001b[0m \u001b[0mBatchedCalls\u001b[0m\u001b[0;34m(\u001b[0m\u001b[0mitertools\u001b[0m\u001b[0;34m.\u001b[0m\u001b[0mislice\u001b[0m\u001b[0;34m(\u001b[0m\u001b[0miterator\u001b[0m\u001b[0;34m,\u001b[0m \u001b[0mbatch_size\u001b[0m\u001b[0;34m)\u001b[0m\u001b[0;34m)\u001b[0m\u001b[0;34m\u001b[0m\u001b[0m\n\u001b[0m\u001b[1;32m    621\u001b[0m             \u001b[0;32mif\u001b[0m \u001b[0mlen\u001b[0m\u001b[0;34m(\u001b[0m\u001b[0mtasks\u001b[0m\u001b[0;34m)\u001b[0m \u001b[0;34m==\u001b[0m \u001b[0;36m0\u001b[0m\u001b[0;34m:\u001b[0m\u001b[0;34m\u001b[0m\u001b[0m\n\u001b[1;32m    622\u001b[0m                 \u001b[0;31m# No more tasks available in the iterator: tell caller to stop.\u001b[0m\u001b[0;34m\u001b[0m\u001b[0;34m\u001b[0m\u001b[0m\n",
      "\u001b[0;32m/Users/hector/anaconda/lib/python3.6/site-packages/sklearn/externals/joblib/parallel.py\u001b[0m in \u001b[0;36m__init__\u001b[0;34m(self, iterator_slice)\u001b[0m\n\u001b[1;32m    125\u001b[0m \u001b[0;34m\u001b[0m\u001b[0m\n\u001b[1;32m    126\u001b[0m     \u001b[0;32mdef\u001b[0m \u001b[0m__init__\u001b[0m\u001b[0;34m(\u001b[0m\u001b[0mself\u001b[0m\u001b[0;34m,\u001b[0m \u001b[0miterator_slice\u001b[0m\u001b[0;34m)\u001b[0m\u001b[0;34m:\u001b[0m\u001b[0;34m\u001b[0m\u001b[0m\n\u001b[0;32m--> 127\u001b[0;31m         \u001b[0mself\u001b[0m\u001b[0;34m.\u001b[0m\u001b[0mitems\u001b[0m \u001b[0;34m=\u001b[0m \u001b[0mlist\u001b[0m\u001b[0;34m(\u001b[0m\u001b[0miterator_slice\u001b[0m\u001b[0;34m)\u001b[0m\u001b[0;34m\u001b[0m\u001b[0m\n\u001b[0m\u001b[1;32m    128\u001b[0m         \u001b[0mself\u001b[0m\u001b[0;34m.\u001b[0m\u001b[0m_size\u001b[0m \u001b[0;34m=\u001b[0m \u001b[0mlen\u001b[0m\u001b[0;34m(\u001b[0m\u001b[0mself\u001b[0m\u001b[0;34m.\u001b[0m\u001b[0mitems\u001b[0m\u001b[0;34m)\u001b[0m\u001b[0;34m\u001b[0m\u001b[0m\n\u001b[1;32m    129\u001b[0m \u001b[0;34m\u001b[0m\u001b[0m\n",
      "\u001b[0;32m/Users/hector/anaconda/lib/python3.6/site-packages/sklearn/cross_validation.py\u001b[0m in \u001b[0;36m<genexpr>\u001b[0;34m(.0)\u001b[0m\n\u001b[1;32m   1579\u001b[0m                                               \u001b[0mtrain\u001b[0m\u001b[0;34m,\u001b[0m \u001b[0mtest\u001b[0m\u001b[0;34m,\u001b[0m \u001b[0mverbose\u001b[0m\u001b[0;34m,\u001b[0m \u001b[0;32mNone\u001b[0m\u001b[0;34m,\u001b[0m\u001b[0;34m\u001b[0m\u001b[0m\n\u001b[1;32m   1580\u001b[0m                                               fit_params)\n\u001b[0;32m-> 1581\u001b[0;31m                       for train, test in cv)\n\u001b[0m\u001b[1;32m   1582\u001b[0m     \u001b[0;32mreturn\u001b[0m \u001b[0mnp\u001b[0m\u001b[0;34m.\u001b[0m\u001b[0marray\u001b[0m\u001b[0;34m(\u001b[0m\u001b[0mscores\u001b[0m\u001b[0;34m)\u001b[0m\u001b[0;34m[\u001b[0m\u001b[0;34m:\u001b[0m\u001b[0;34m,\u001b[0m \u001b[0;36m0\u001b[0m\u001b[0;34m]\u001b[0m\u001b[0;34m\u001b[0m\u001b[0m\n\u001b[1;32m   1583\u001b[0m \u001b[0;34m\u001b[0m\u001b[0m\n",
      "\u001b[0;32m/Users/hector/anaconda/lib/python3.6/site-packages/sklearn/base.py\u001b[0m in \u001b[0;36mclone\u001b[0;34m(estimator, safe)\u001b[0m\n\u001b[1;32m     55\u001b[0m                             \u001b[0;34m\"it does not seem to be a scikit-learn estimator \"\u001b[0m\u001b[0;34m\u001b[0m\u001b[0m\n\u001b[1;32m     56\u001b[0m                             \u001b[0;34m\"as it does not implement a 'get_params' methods.\"\u001b[0m\u001b[0;34m\u001b[0m\u001b[0m\n\u001b[0;32m---> 57\u001b[0;31m                             % (repr(estimator), type(estimator)))\n\u001b[0m\u001b[1;32m     58\u001b[0m     \u001b[0mklass\u001b[0m \u001b[0;34m=\u001b[0m \u001b[0mestimator\u001b[0m\u001b[0;34m.\u001b[0m\u001b[0m__class__\u001b[0m\u001b[0;34m\u001b[0m\u001b[0m\n\u001b[1;32m     59\u001b[0m     \u001b[0mnew_object_params\u001b[0m \u001b[0;34m=\u001b[0m \u001b[0mestimator\u001b[0m\u001b[0;34m.\u001b[0m\u001b[0mget_params\u001b[0m\u001b[0;34m(\u001b[0m\u001b[0mdeep\u001b[0m\u001b[0;34m=\u001b[0m\u001b[0;32mFalse\u001b[0m\u001b[0;34m)\u001b[0m\u001b[0;34m\u001b[0m\u001b[0m\n",
      "\u001b[0;31mTypeError\u001b[0m: Cannot clone object '<statsmodels.regression.linear_model.OLS object at 0x116f3c160>' (type <class 'statsmodels.regression.linear_model.OLS'>): it does not seem to be a scikit-learn estimator as it does not implement a 'get_params' methods."
     ]
    }
   ],
   "source": [
    "from sklearn.cross_validation import cross_val_score\n",
    "y = np.ravel(y)\n",
    "scores = cross_val_score(model, X, y, cv=100, scoring='neg_mean_squared_error')\n",
    "print('Stratified %i folds cross validation mean' + 'Folds: %i, mean squared error: %.2f std: %.2f'\n",
    "%(len(scores),np.mean(np.abs(scores)),np.std(scores)))"
   ]
  },
  {
   "cell_type": "code",
   "execution_count": 2,
   "metadata": {
    "collapsed": true
   },
   "outputs": [],
   "source": [
    "df = pd.read_csv('Obese_Model.csv')"
   ]
  },
  {
   "cell_type": "code",
   "execution_count": 3,
   "metadata": {
    "collapsed": true
   },
   "outputs": [],
   "source": [
    "df = df[['Percent_Obese', 'country','GDPper_cap','Insufficiently_active','HDI','Region_Africa','Region_Arab_States','Region_Europe','Region_Asia_Pacific','Region_Latin_America','Globalization_index','Urbanization_Rate','Urban_Population','Imports']]"
   ]
  },
  {
   "cell_type": "code",
   "execution_count": 4,
   "metadata": {
    "collapsed": false
   },
   "outputs": [
    {
     "data": {
      "text/html": [
       "<div>\n",
       "<style>\n",
       "    .dataframe thead tr:only-child th {\n",
       "        text-align: right;\n",
       "    }\n",
       "\n",
       "    .dataframe thead th {\n",
       "        text-align: left;\n",
       "    }\n",
       "\n",
       "    .dataframe tbody tr th {\n",
       "        vertical-align: top;\n",
       "    }\n",
       "</style>\n",
       "<table border=\"1\" class=\"dataframe\">\n",
       "  <thead>\n",
       "    <tr style=\"text-align: right;\">\n",
       "      <th></th>\n",
       "      <th>Percent_Obese</th>\n",
       "      <th>country</th>\n",
       "      <th>GDPper_cap</th>\n",
       "      <th>Insufficiently_active</th>\n",
       "      <th>HDI</th>\n",
       "      <th>Region_Africa</th>\n",
       "      <th>Region_Arab_States</th>\n",
       "      <th>Region_Europe</th>\n",
       "      <th>Region_Asia_Pacific</th>\n",
       "      <th>Region_Latin_America</th>\n",
       "      <th>Globalization_index</th>\n",
       "      <th>Urbanization_Rate</th>\n",
       "      <th>Urban_Population</th>\n",
       "      <th>Imports</th>\n",
       "    </tr>\n",
       "  </thead>\n",
       "  <tbody>\n",
       "    <tr>\n",
       "      <th>0</th>\n",
       "      <td>42.3</td>\n",
       "      <td>Qatar</td>\n",
       "      <td>127700</td>\n",
       "      <td>41.6</td>\n",
       "      <td>0.856</td>\n",
       "      <td>0</td>\n",
       "      <td>1</td>\n",
       "      <td>0</td>\n",
       "      <td>0</td>\n",
       "      <td>0</td>\n",
       "      <td>74.39</td>\n",
       "      <td>6.02</td>\n",
       "      <td>99.2</td>\n",
       "      <td>3.376000e+10</td>\n",
       "    </tr>\n",
       "    <tr>\n",
       "      <th>1</th>\n",
       "      <td>23.1</td>\n",
       "      <td>Luxembourg</td>\n",
       "      <td>10400</td>\n",
       "      <td>28.5</td>\n",
       "      <td>0.898</td>\n",
       "      <td>0</td>\n",
       "      <td>0</td>\n",
       "      <td>1</td>\n",
       "      <td>0</td>\n",
       "      <td>0</td>\n",
       "      <td>79.33</td>\n",
       "      <td>1.71</td>\n",
       "      <td>90.2</td>\n",
       "      <td>1.833000e+10</td>\n",
       "    </tr>\n",
       "    <tr>\n",
       "      <th>2</th>\n",
       "      <td>6.2</td>\n",
       "      <td>Singapore</td>\n",
       "      <td>87900</td>\n",
       "      <td>33.1</td>\n",
       "      <td>0.925</td>\n",
       "      <td>0</td>\n",
       "      <td>0</td>\n",
       "      <td>0</td>\n",
       "      <td>1</td>\n",
       "      <td>0</td>\n",
       "      <td>78.63</td>\n",
       "      <td>2.02</td>\n",
       "      <td>100.0</td>\n",
       "      <td>2.713000e+11</td>\n",
       "    </tr>\n",
       "    <tr>\n",
       "      <th>3</th>\n",
       "      <td>39.7</td>\n",
       "      <td>Kuwait</td>\n",
       "      <td>71900</td>\n",
       "      <td>56.6</td>\n",
       "      <td>0.800</td>\n",
       "      <td>0</td>\n",
       "      <td>1</td>\n",
       "      <td>0</td>\n",
       "      <td>0</td>\n",
       "      <td>0</td>\n",
       "      <td>70.21</td>\n",
       "      <td>3.63</td>\n",
       "      <td>98.3</td>\n",
       "      <td>2.832000e+10</td>\n",
       "    </tr>\n",
       "    <tr>\n",
       "      <th>4</th>\n",
       "      <td>25.6</td>\n",
       "      <td>Ireland</td>\n",
       "      <td>69200</td>\n",
       "      <td>35.1</td>\n",
       "      <td>0.923</td>\n",
       "      <td>0</td>\n",
       "      <td>0</td>\n",
       "      <td>1</td>\n",
       "      <td>0</td>\n",
       "      <td>0</td>\n",
       "      <td>83.53</td>\n",
       "      <td>1.58</td>\n",
       "      <td>63.2</td>\n",
       "      <td>8.801000e+10</td>\n",
       "    </tr>\n",
       "  </tbody>\n",
       "</table>\n",
       "</div>"
      ],
      "text/plain": [
       "   Percent_Obese     country  GDPper_cap  Insufficiently_active    HDI  \\\n",
       "0           42.3       Qatar      127700                   41.6  0.856   \n",
       "1           23.1  Luxembourg       10400                   28.5  0.898   \n",
       "2            6.2   Singapore       87900                   33.1  0.925   \n",
       "3           39.7      Kuwait       71900                   56.6  0.800   \n",
       "4           25.6     Ireland       69200                   35.1  0.923   \n",
       "\n",
       "   Region_Africa  Region_Arab_States  Region_Europe  Region_Asia_Pacific  \\\n",
       "0              0                   1              0                    0   \n",
       "1              0                   0              1                    0   \n",
       "2              0                   0              0                    1   \n",
       "3              0                   1              0                    0   \n",
       "4              0                   0              1                    0   \n",
       "\n",
       "   Region_Latin_America  Globalization_index  Urbanization_Rate  \\\n",
       "0                     0                74.39               6.02   \n",
       "1                     0                79.33               1.71   \n",
       "2                     0                78.63               2.02   \n",
       "3                     0                70.21               3.63   \n",
       "4                     0                83.53               1.58   \n",
       "\n",
       "   Urban_Population       Imports  \n",
       "0              99.2  3.376000e+10  \n",
       "1              90.2  1.833000e+10  \n",
       "2             100.0  2.713000e+11  \n",
       "3              98.3  2.832000e+10  \n",
       "4              63.2  8.801000e+10  "
      ]
     },
     "execution_count": 4,
     "metadata": {},
     "output_type": "execute_result"
    }
   ],
   "source": [
    "df.head()"
   ]
  },
  {
   "cell_type": "code",
   "execution_count": null,
   "metadata": {
    "collapsed": true
   },
   "outputs": [],
   "source": []
  }
 ],
 "metadata": {
  "kernelspec": {
   "display_name": "Python 3",
   "language": "python",
   "name": "python3"
  },
  "language_info": {
   "codemirror_mode": {
    "name": "ipython",
    "version": 3
   },
   "file_extension": ".py",
   "mimetype": "text/x-python",
   "name": "python",
   "nbconvert_exporter": "python",
   "pygments_lexer": "ipython3",
   "version": "3.6.0"
  }
 },
 "nbformat": 4,
 "nbformat_minor": 2
}
