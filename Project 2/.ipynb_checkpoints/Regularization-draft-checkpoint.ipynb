{
 "cells": [
  {
   "cell_type": "code",
   "execution_count": 2,
   "metadata": {
    "collapsed": false
   },
   "outputs": [
    {
     "name": "stderr",
     "output_type": "stream",
     "text": [
      "/Users/hector/anaconda/lib/python3.6/site-packages/sklearn/cross_validation.py:41: DeprecationWarning: This module was deprecated in version 0.18 in favor of the model_selection module into which all the refactored classes and functions are moved. Also note that the interface of the new CV iterators are different from that of this module. This module will be removed in 0.20.\n",
      "  \"This module will be removed in 0.20.\", DeprecationWarning)\n"
     ]
    }
   ],
   "source": [
    "# Python 2 & 3 Compatibility\n",
    "from __future__ import print_function, division\n",
    "\n",
    "# Importing the libraries\n",
    "import numpy as np\n",
    "import matplotlib.pyplot as plt\n",
    "import pandas as pd\n",
    "# all of the imports\n",
    "import pandas as pd\n",
    "import numpy as np\n",
    "import pickle \n",
    "import matplotlib.pyplot as plt\n",
    "import seaborn as sns\n",
    "from sklearn.linear_model import LinearRegression\n",
    "from sklearn import metrics\n",
    "from sklearn.preprocessing import PolynomialFeatures\n",
    "from sklearn.pipeline import make_pipeline\n",
    "from sklearn.cross_validation import train_test_split\n",
    "from sklearn.cross_validation import KFold\n",
    "from sklearn.cross_validation import cross_val_score\n",
    "from sklearn.linear_model import RidgeCV\n",
    "import pickle \n",
    "\n",
    "\n",
    "%matplotlib inline"
   ]
  },
  {
   "cell_type": "code",
   "execution_count": 182,
   "metadata": {
    "collapsed": false
   },
   "outputs": [
    {
     "data": {
      "text/html": [
       "<div>\n",
       "<style>\n",
       "    .dataframe thead tr:only-child th {\n",
       "        text-align: right;\n",
       "    }\n",
       "\n",
       "    .dataframe thead th {\n",
       "        text-align: left;\n",
       "    }\n",
       "\n",
       "    .dataframe tbody tr th {\n",
       "        vertical-align: top;\n",
       "    }\n",
       "</style>\n",
       "<table border=\"1\" class=\"dataframe\">\n",
       "  <thead>\n",
       "    <tr style=\"text-align: right;\">\n",
       "      <th></th>\n",
       "      <th>country</th>\n",
       "      <th>Education</th>\n",
       "    </tr>\n",
       "  </thead>\n",
       "  <tbody>\n",
       "    <tr>\n",
       "      <th>0</th>\n",
       "      <td>Norway</td>\n",
       "      <td>0.91</td>\n",
       "    </tr>\n",
       "    <tr>\n",
       "      <th>1</th>\n",
       "      <td>Australia</td>\n",
       "      <td>0.927</td>\n",
       "    </tr>\n",
       "    <tr>\n",
       "      <th>2</th>\n",
       "      <td>Switzerland</td>\n",
       "      <td>0.844</td>\n",
       "    </tr>\n",
       "    <tr>\n",
       "      <th>3</th>\n",
       "      <td>Netherlands</td>\n",
       "      <td>0.894</td>\n",
       "    </tr>\n",
       "    <tr>\n",
       "      <th>4</th>\n",
       "      <td>United States</td>\n",
       "      <td>0.89</td>\n",
       "    </tr>\n",
       "  </tbody>\n",
       "</table>\n",
       "</div>"
      ],
      "text/plain": [
       "         country Education\n",
       "0         Norway      0.91\n",
       "1      Australia     0.927\n",
       "2    Switzerland     0.844\n",
       "3    Netherlands     0.894\n",
       "4  United States      0.89"
      ]
     },
     "execution_count": 182,
     "metadata": {},
     "output_type": "execute_result"
    }
   ],
   "source": [
    "df_edu = pd.read_csv('Education.csv')\n",
    "df_edu.head()"
   ]
  },
  {
   "cell_type": "code",
   "execution_count": 185,
   "metadata": {
    "collapsed": false
   },
   "outputs": [
    {
     "data": {
      "text/plain": [
       "(157, 24)"
      ]
     },
     "execution_count": 185,
     "metadata": {},
     "output_type": "execute_result"
    }
   ],
   "source": [
    "df = pd.read_csv('Edu&Obese_Model.csv')\n",
    "df.shape"
   ]
  },
  {
   "cell_type": "code",
   "execution_count": 186,
   "metadata": {
    "collapsed": false
   },
   "outputs": [],
   "source": [
    "df = df[['country','Percent_Obese','GDPper_cap','Insufficiently_active','Education','Region_Africa','Region_Arab_States','Region_Europe','Region_Asia_Pacific','Region_Latin_America','Region_CIS','Globalization_index','Urbanization_Rate','Urban_Population','Imports']]"
   ]
  },
  {
   "cell_type": "code",
   "execution_count": 189,
   "metadata": {
    "collapsed": false
   },
   "outputs": [],
   "source": [
    "df['log(Imports)'] = np.log(df['Imports'])\n",
    "df['log(Imports)*Asia'] = df['log(Imports)']*df['Region_Asia_Pacific']\n",
    "df['Asia*Urbanization'] = df['Region_Asia_Pacific']*df['Urbanization_Rate'] \n",
    "df['UrbanPop*ArabStates'] = df['Urban_Population']*df['Region_Arab_States']\n",
    "df['Asia*Globalization'] = df['Region_Asia_Pacific']*df['Globalization_index']\n",
    "df['Urbanization*GDPpercap'] = df['Urbanization_Rate']*np.log(df['GDPper_cap'])\n",
    "df['Europe*GDPpercap'] = df['Region_Europe']*df['GDPper_cap']"
   ]
  },
  {
   "cell_type": "code",
   "execution_count": 190,
   "metadata": {
    "collapsed": false
   },
   "outputs": [
    {
     "data": {
      "text/html": [
       "<div>\n",
       "<style>\n",
       "    .dataframe thead tr:only-child th {\n",
       "        text-align: right;\n",
       "    }\n",
       "\n",
       "    .dataframe thead th {\n",
       "        text-align: left;\n",
       "    }\n",
       "\n",
       "    .dataframe tbody tr th {\n",
       "        vertical-align: top;\n",
       "    }\n",
       "</style>\n",
       "<table border=\"1\" class=\"dataframe\">\n",
       "  <thead>\n",
       "    <tr style=\"text-align: right;\">\n",
       "      <th></th>\n",
       "      <th>country</th>\n",
       "      <th>Percent_Obese</th>\n",
       "      <th>GDPper_cap</th>\n",
       "      <th>Insufficiently_active</th>\n",
       "      <th>Education</th>\n",
       "      <th>Region_Africa</th>\n",
       "      <th>Region_Arab_States</th>\n",
       "      <th>Region_Europe</th>\n",
       "      <th>Region_Asia_Pacific</th>\n",
       "      <th>Region_Latin_America</th>\n",
       "      <th>...</th>\n",
       "      <th>Urbanization_Rate</th>\n",
       "      <th>Urban_Population</th>\n",
       "      <th>Imports</th>\n",
       "      <th>log(Imports)</th>\n",
       "      <th>log(Imports)*Asia</th>\n",
       "      <th>Asia*Urbanization</th>\n",
       "      <th>UrbanPop*ArabStates</th>\n",
       "      <th>Asia*Globalization</th>\n",
       "      <th>Urbanization*GDPpercap</th>\n",
       "      <th>Europe*GDPpercap</th>\n",
       "    </tr>\n",
       "  </thead>\n",
       "  <tbody>\n",
       "    <tr>\n",
       "      <th>0</th>\n",
       "      <td>Russia</td>\n",
       "      <td>24.1</td>\n",
       "      <td>26500</td>\n",
       "      <td>9.5</td>\n",
       "      <td>0.780</td>\n",
       "      <td>0</td>\n",
       "      <td>0</td>\n",
       "      <td>0</td>\n",
       "      <td>0</td>\n",
       "      <td>0</td>\n",
       "      <td>...</td>\n",
       "      <td>-0.13</td>\n",
       "      <td>74.0</td>\n",
       "      <td>1.651000e+11</td>\n",
       "      <td>25.829817</td>\n",
       "      <td>0.000000</td>\n",
       "      <td>-0.00</td>\n",
       "      <td>0.0</td>\n",
       "      <td>0.00</td>\n",
       "      <td>-1.324037</td>\n",
       "      <td>0</td>\n",
       "    </tr>\n",
       "    <tr>\n",
       "      <th>1</th>\n",
       "      <td>Qatar</td>\n",
       "      <td>42.3</td>\n",
       "      <td>127700</td>\n",
       "      <td>41.6</td>\n",
       "      <td>0.686</td>\n",
       "      <td>0</td>\n",
       "      <td>1</td>\n",
       "      <td>0</td>\n",
       "      <td>0</td>\n",
       "      <td>0</td>\n",
       "      <td>...</td>\n",
       "      <td>6.02</td>\n",
       "      <td>99.2</td>\n",
       "      <td>3.376000e+10</td>\n",
       "      <td>24.242543</td>\n",
       "      <td>0.000000</td>\n",
       "      <td>0.00</td>\n",
       "      <td>99.2</td>\n",
       "      <td>0.00</td>\n",
       "      <td>70.779783</td>\n",
       "      <td>0</td>\n",
       "    </tr>\n",
       "    <tr>\n",
       "      <th>2</th>\n",
       "      <td>Luxembourg</td>\n",
       "      <td>23.1</td>\n",
       "      <td>10400</td>\n",
       "      <td>28.5</td>\n",
       "      <td>0.762</td>\n",
       "      <td>0</td>\n",
       "      <td>0</td>\n",
       "      <td>1</td>\n",
       "      <td>0</td>\n",
       "      <td>0</td>\n",
       "      <td>...</td>\n",
       "      <td>1.71</td>\n",
       "      <td>90.2</td>\n",
       "      <td>1.833000e+10</td>\n",
       "      <td>23.631805</td>\n",
       "      <td>0.000000</td>\n",
       "      <td>0.00</td>\n",
       "      <td>0.0</td>\n",
       "      <td>0.00</td>\n",
       "      <td>15.816749</td>\n",
       "      <td>10400</td>\n",
       "    </tr>\n",
       "    <tr>\n",
       "      <th>3</th>\n",
       "      <td>Singapore</td>\n",
       "      <td>6.2</td>\n",
       "      <td>87900</td>\n",
       "      <td>33.1</td>\n",
       "      <td>0.768</td>\n",
       "      <td>0</td>\n",
       "      <td>0</td>\n",
       "      <td>0</td>\n",
       "      <td>1</td>\n",
       "      <td>0</td>\n",
       "      <td>...</td>\n",
       "      <td>2.02</td>\n",
       "      <td>100.0</td>\n",
       "      <td>2.713000e+11</td>\n",
       "      <td>26.326491</td>\n",
       "      <td>26.326491</td>\n",
       "      <td>2.02</td>\n",
       "      <td>0.0</td>\n",
       "      <td>78.63</td>\n",
       "      <td>22.995589</td>\n",
       "      <td>0</td>\n",
       "    </tr>\n",
       "    <tr>\n",
       "      <th>4</th>\n",
       "      <td>Kuwait</td>\n",
       "      <td>39.7</td>\n",
       "      <td>71900</td>\n",
       "      <td>56.6</td>\n",
       "      <td>0.646</td>\n",
       "      <td>0</td>\n",
       "      <td>1</td>\n",
       "      <td>0</td>\n",
       "      <td>0</td>\n",
       "      <td>0</td>\n",
       "      <td>...</td>\n",
       "      <td>3.63</td>\n",
       "      <td>98.3</td>\n",
       "      <td>2.832000e+10</td>\n",
       "      <td>24.066834</td>\n",
       "      <td>0.000000</td>\n",
       "      <td>0.00</td>\n",
       "      <td>98.3</td>\n",
       "      <td>0.00</td>\n",
       "      <td>40.594405</td>\n",
       "      <td>0</td>\n",
       "    </tr>\n",
       "  </tbody>\n",
       "</table>\n",
       "<p>5 rows × 22 columns</p>\n",
       "</div>"
      ],
      "text/plain": [
       "      country  Percent_Obese  GDPper_cap  Insufficiently_active  Education  \\\n",
       "0      Russia           24.1       26500                    9.5      0.780   \n",
       "1       Qatar           42.3      127700                   41.6      0.686   \n",
       "2  Luxembourg           23.1       10400                   28.5      0.762   \n",
       "3   Singapore            6.2       87900                   33.1      0.768   \n",
       "4      Kuwait           39.7       71900                   56.6      0.646   \n",
       "\n",
       "   Region_Africa  Region_Arab_States  Region_Europe  Region_Asia_Pacific  \\\n",
       "0              0                   0              0                    0   \n",
       "1              0                   1              0                    0   \n",
       "2              0                   0              1                    0   \n",
       "3              0                   0              0                    1   \n",
       "4              0                   1              0                    0   \n",
       "\n",
       "   Region_Latin_America        ...         Urbanization_Rate  \\\n",
       "0                     0        ...                     -0.13   \n",
       "1                     0        ...                      6.02   \n",
       "2                     0        ...                      1.71   \n",
       "3                     0        ...                      2.02   \n",
       "4                     0        ...                      3.63   \n",
       "\n",
       "   Urban_Population       Imports  log(Imports)  log(Imports)*Asia  \\\n",
       "0              74.0  1.651000e+11     25.829817           0.000000   \n",
       "1              99.2  3.376000e+10     24.242543           0.000000   \n",
       "2              90.2  1.833000e+10     23.631805           0.000000   \n",
       "3             100.0  2.713000e+11     26.326491          26.326491   \n",
       "4              98.3  2.832000e+10     24.066834           0.000000   \n",
       "\n",
       "   Asia*Urbanization  UrbanPop*ArabStates  Asia*Globalization  \\\n",
       "0              -0.00                  0.0                0.00   \n",
       "1               0.00                 99.2                0.00   \n",
       "2               0.00                  0.0                0.00   \n",
       "3               2.02                  0.0               78.63   \n",
       "4               0.00                 98.3                0.00   \n",
       "\n",
       "   Urbanization*GDPpercap  Europe*GDPpercap  \n",
       "0               -1.324037                 0  \n",
       "1               70.779783                 0  \n",
       "2               15.816749             10400  \n",
       "3               22.995589                 0  \n",
       "4               40.594405                 0  \n",
       "\n",
       "[5 rows x 22 columns]"
      ]
     },
     "execution_count": 190,
     "metadata": {},
     "output_type": "execute_result"
    }
   ],
   "source": [
    "df.head()\n",
    "#df.to_csv('Obese_model_data.csv')"
   ]
  },
  {
   "cell_type": "code",
   "execution_count": 191,
   "metadata": {
    "collapsed": false
   },
   "outputs": [],
   "source": [
    "#df_edu_obese = pd.merge(df,df_edu,on='country') \n",
    "#df_edu_obese.to_csv('Edu&Obese_Model.csv')"
   ]
  },
  {
   "cell_type": "code",
   "execution_count": 192,
   "metadata": {
    "collapsed": false
   },
   "outputs": [],
   "source": [
    "y = df['Percent_Obese']\n",
    "X = df[['Insufficiently_active','Education','Region_Asia_Pacific','Urbanization_Rate','log(Imports)','Asia*Urbanization','UrbanPop*ArabStates','Asia*Globalization','Urbanization*GDPpercap','Europe*GDPpercap']]"
   ]
  },
  {
   "cell_type": "code",
   "execution_count": 193,
   "metadata": {
    "collapsed": false
   },
   "outputs": [
    {
     "data": {
      "text/plain": [
       "0.64469790201925248"
      ]
     },
     "execution_count": 193,
     "metadata": {},
     "output_type": "execute_result"
    }
   ],
   "source": [
    "lr = LinearRegression()\n",
    "X_train, X_test, y_train, y_test = train_test_split(X, y, test_size=0.3, random_state = 5)\n",
    "# Fit the model against the training data\n",
    "lr.fit(X_train, y_train)\n",
    "# Evaluate the model against the testing data\n",
    "lr.score(X_test, y_test)"
   ]
  },
  {
   "cell_type": "code",
   "execution_count": null,
   "metadata": {
    "collapsed": false
   },
   "outputs": [],
   "source": []
  },
  {
   "cell_type": "code",
   "execution_count": 194,
   "metadata": {
    "collapsed": false
   },
   "outputs": [
    {
     "data": {
      "text/plain": [
       "0.73115458652680898"
      ]
     },
     "execution_count": 194,
     "metadata": {},
     "output_type": "execute_result"
    }
   ],
   "source": [
    "lr1 = LinearRegression()\n",
    "model = lr1.fit(X_train, y_train)\n",
    "lr1.score(X_train, y_train)"
   ]
  },
  {
   "cell_type": "code",
   "execution_count": 195,
   "metadata": {
    "collapsed": false
   },
   "outputs": [
    {
     "name": "stdout",
     "output_type": "stream",
     "text": [
      "Stratified %i folds cross validation meanFolds: 100, mean squared error: 38.91 std: 73.12\n"
     ]
    }
   ],
   "source": [
    "scores = cross_val_score(model, X, y, cv=100, scoring='neg_mean_squared_error')\n",
    "print('Stratified %i folds cross validation mean' + 'Folds: %i, mean squared error: %.2f std: %.2f'\n",
    "%(len(scores),np.mean(np.abs(scores)),np.std(scores)))"
   ]
  },
  {
   "cell_type": "code",
   "execution_count": null,
   "metadata": {
    "collapsed": false
   },
   "outputs": [],
   "source": []
  },
  {
   "cell_type": "code",
   "execution_count": 196,
   "metadata": {
    "collapsed": false
   },
   "outputs": [
    {
     "name": "stdout",
     "output_type": "stream",
     "text": [
      "ElasticNet(alpha=1e-06, copy_X=True, fit_intercept=True, l1_ratio=1,\n",
      "      max_iter=1000, normalize=False, positive=False, precompute=False,\n",
      "      random_state=None, selection='cyclic', tol=0.0001, warm_start=False)\n",
      "r^2 on test data : 0.644696\n"
     ]
    }
   ],
   "source": [
    "from sklearn.linear_model import ElasticNet\n",
    "from sklearn.metrics import r2_score\n",
    "\n",
    "\n",
    "enet = ElasticNet(alpha=0.000001, l1_ratio=1)\n",
    "\n",
    "y_pred_enet = enet.fit(X_train, y_train).predict(X_test)\n",
    "r2_score_enet = r2_score(y_test, y_pred_enet)\n",
    "print(enet)\n",
    "print(\"r^2 on test data : %f\" % r2_score_enet)"
   ]
  },
  {
   "cell_type": "code",
   "execution_count": 197,
   "metadata": {
    "collapsed": false
   },
   "outputs": [
    {
     "data": {
      "text/plain": [
       "0.64469567118119386"
      ]
     },
     "execution_count": 197,
     "metadata": {},
     "output_type": "execute_result"
    }
   ],
   "source": [
    "rcv = RidgeCV(cv=10)\n",
    "rcv.fit(X_train, y_train)\n",
    "enet.score(X_test, y_test)"
   ]
  },
  {
   "cell_type": "code",
   "execution_count": 198,
   "metadata": {
    "collapsed": false
   },
   "outputs": [
    {
     "data": {
      "text/plain": [
       "0.73115458652130438"
      ]
     },
     "execution_count": 198,
     "metadata": {},
     "output_type": "execute_result"
    }
   ],
   "source": [
    "#rcv.score(X_train, y_train)\n",
    "enet.score(X_train,y_train)"
   ]
  },
  {
   "cell_type": "code",
   "execution_count": 199,
   "metadata": {
    "collapsed": false
   },
   "outputs": [
    {
     "data": {
      "text/plain": [
       "[<matplotlib.lines.Line2D at 0x11b97a908>]"
      ]
     },
     "execution_count": 199,
     "metadata": {},
     "output_type": "execute_result"
    },
    {
     "data": {
      "image/png": "[encoded data removed]",
      "text/plain": [
       "<matplotlib.figure.Figure at 0x11d3db748>"
      ]
     },
     "metadata": {},
     "output_type": "display_data"
    }
   ],
   "source": [
    "\n",
    "plt.plot(enet.coef_, color='lightgreen', linewidth=2,\n",
    "         label='Elastic net coefficients')"
   ]
  },
  {
   "cell_type": "code",
   "execution_count": 200,
   "metadata": {
    "collapsed": false
   },
   "outputs": [],
   "source": [
    "#"
   ]
  },
  {
   "cell_type": "code",
   "execution_count": 201,
   "metadata": {
    "collapsed": false
   },
   "outputs": [
    {
     "data": {
      "image/png": "[encoded data removed]",
      "text/plain": [
       "<matplotlib.figure.Figure at 0x11b9d4828>"
      ]
     },
     "metadata": {},
     "output_type": "display_data"
    }
   ],
   "source": [
    "from sklearn.model_selection import cross_val_predict\n",
    "\n",
    "# cross_val_predict returns an array of the same size as `y` where each entry\n",
    "# is a prediction obtained by cross validation:\n",
    "predicted = cross_val_predict(enet, X, y, cv=100)\n",
    "\n",
    "fig, ax = plt.subplots()\n",
    "ax.scatter(y, predicted, edgecolors=(0, 0, 0))\n",
    "ax.plot([y.min(), y.max()], [y.min(), y.max()], 'k--', lw=4)\n",
    "ax.set_xlabel('Measured')\n",
    "ax.set_ylabel('Predicted')\n",
    "plt.show()"
   ]
  },
  {
   "cell_type": "code",
   "execution_count": 202,
   "metadata": {
    "collapsed": false
   },
   "outputs": [
    {
     "data": {
      "image/png": "[encoded data removed]",
      "text/plain": [
       "<matplotlib.figure.Figure at 0x11b6dee10>"
      ]
     },
     "metadata": {},
     "output_type": "display_data"
    }
   ],
   "source": [
    "from yellowbrick.regressor import ResidualsPlot\n",
    "from sklearn.linear_model import Ridge\n",
    "from yellowbrick.regressor import AlphaSelection\n",
    "from sklearn.linear_model import LassoCV\n",
    "\n",
    "visualizer = ResidualsPlot(enet)\n",
    "\n",
    "visualizer.fit(X_train, y_train)  # Fit the training data to the visualizer\n",
    "visualizer.score(X_test, y_test)  # Evaluate the model on the test data\n",
    "g = visualizer.poof()        "
   ]
  },
  {
   "cell_type": "code",
   "execution_count": 203,
   "metadata": {
    "collapsed": false
   },
   "outputs": [
    {
     "data": {
      "image/png": "[encoded data removed]",
      "text/plain": [
       "<matplotlib.figure.Figure at 0x11cc2e748>"
      ]
     },
     "metadata": {},
     "output_type": "display_data"
    }
   ],
   "source": [
    "from yellowbrick.regressor import ManualAlphaSelection\n",
    "from sklearn.linear_model import Ridge\n",
    "from yellowbrick.regressor import PredictionError\n",
    "\n",
    "visualizer = PredictionError(enet)\n",
    "\n",
    "visualizer.fit(X_train, y_train)  # Fit the training data to the visualizer\n",
    "visualizer.score(X_test, y_test)  # Evaluate the model on the test data\n",
    "g = visualizer.poof() "
   ]
  },
  {
   "cell_type": "code",
   "execution_count": null,
   "metadata": {
    "collapsed": true
   },
   "outputs": [],
   "source": []
  }
 ],
 "metadata": {
  "kernelspec": {
   "display_name": "Python 3",
   "language": "python",
   "name": "python3"
  },
  "language_info": {
   "codemirror_mode": {
    "name": "ipython",
    "version": 3
   },
   "file_extension": ".py",
   "mimetype": "text/x-python",
   "name": "python",
   "nbconvert_exporter": "python",
   "pygments_lexer": "ipython3",
   "version": "3.6.0"
  }
 },
 "nbformat": 4,
 "nbformat_minor": 2
}
