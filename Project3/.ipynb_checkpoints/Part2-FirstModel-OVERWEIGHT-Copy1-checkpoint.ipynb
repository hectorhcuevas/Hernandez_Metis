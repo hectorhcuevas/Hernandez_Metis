{
 "cells": [
  {
   "cell_type": "code",
   "execution_count": 1,
   "metadata": {
    "collapsed": false
   },
   "outputs": [
    {
     "name": "stderr",
     "output_type": "stream",
     "text": [
      "/Users/hector/anaconda/lib/python3.6/site-packages/sklearn/cross_validation.py:41: DeprecationWarning: This module was deprecated in version 0.18 in favor of the model_selection module into which all the refactored classes and functions are moved. Also note that the interface of the new CV iterators are different from that of this module. This module will be removed in 0.20.\n",
      "  \"This module will be removed in 0.20.\", DeprecationWarning)\n",
      "/Users/hector/anaconda/lib/python3.6/site-packages/sklearn/grid_search.py:42: DeprecationWarning: This module was deprecated in version 0.18 in favor of the model_selection module into which all the refactored classes and functions are moved. This module will be removed in 0.20.\n",
      "  DeprecationWarning)\n"
     ]
    }
   ],
   "source": [
    "import pandas as pd\n",
    "import numpy as np\n",
    "import matplotlib.pyplot as plt\n",
    "import seaborn as sns\n",
    "from sklearn.utils import resample\n",
    "from sklearn.linear_model import LinearRegression\n",
    "from sklearn import metrics\n",
    "from sklearn.preprocessing import PolynomialFeatures\n",
    "from sklearn.pipeline import make_pipeline\n",
    "from sklearn.model_selection import train_test_split\n",
    "from sklearn.cross_validation import KFold\n",
    "from sklearn.cross_validation import cross_val_score\n",
    "from sklearn import preprocessing\n",
    "from sklearn.ensemble import RandomForestClassifier\n",
    "from sklearn.ensemble import BaggingClassifier\n",
    "from sklearn import model_selection\n",
    "from sklearn import naive_bayes\n",
    "from sklearn.metrics import accuracy_score, classification_report\n",
    "from sklearn.metrics import roc_auc_score\n",
    "from treeinterpreter import treeinterpreter as ti\n",
    "from sklearn.ensemble import GradientBoostingClassifier  #GBM algorithm\n",
    "from sklearn.grid_search import GridSearchCV \n",
    "from sklearn.metrics import confusion_matrix\n",
    "\n",
    "import numpy as np\n",
    "import matplotlib.pyplot as plt\n",
    "from itertools import cycle\n",
    "from sklearn.metrics import confusion_matrix\n",
    "\n",
    "\n",
    "from sklearn import svm, datasets\n",
    "from sklearn.metrics import roc_curve, auc\n",
    "from sklearn.model_selection import train_test_split\n",
    "from sklearn.preprocessing import label_binarize\n",
    "from sklearn.multiclass import OneVsRestClassifier\n",
    "from scipy import interp\n",
    "\n",
    "import xport\n",
    "import math\n",
    "%matplotlib inline"
   ]
  },
  {
   "cell_type": "code",
   "execution_count": 2,
   "metadata": {
    "collapsed": true
   },
   "outputs": [],
   "source": [
    "### Loading in 2 yrs of data, thenmerging together "
   ]
  },
  {
   "cell_type": "code",
   "execution_count": 25,
   "metadata": {
    "collapsed": false,
    "scrolled": true
   },
   "outputs": [
    {
     "name": "stderr",
     "output_type": "stream",
     "text": [
      "/Users/hector/anaconda/lib/python3.6/site-packages/IPython/core/interactiveshell.py:2717: DtypeWarning: Columns (1365) have mixed types. Specify dtype option on import or set low_memory=False.\n",
      "  interactivity=interactivity, compiler=compiler, result=result)\n"
     ]
    }
   ],
   "source": [
    "df = pd.read_csv('2013.csv')\n",
    "df1 = pd.read_csv('2013.csv')\n",
    "df2 = pd.read_csv('2012.csv')\n"
   ]
  },
  {
   "cell_type": "code",
   "execution_count": 26,
   "metadata": {
    "collapsed": false
   },
   "outputs": [],
   "source": [
    "#df1 = df1[['RIDAGEYR','BMI','DIAB','GRPSTR','INCOME1','INCOME2','INCOME3','INCOME4','INCOME5','INCOME6','INCOME7','INCOME8','INCOME9','INCOME10','INCOME11','INCOME12','DYSVWRK','WALKBIKE','ATEOUT','CARRYOUT','GROCERIES','DLYKCAL','DLYCARB','DLYSGR','DLYFAT','DLYPRT','DYSWLKBK','MNWLKBK','VREC','DYSVREC','MNVREC','MREC','DYSMREC','MNMREC','SDNTRY','MXA','WHT','BLK','ASN','HRSTV','HRSCOMP','SMHS','MWRK','VWRK','DYSMWRK','MNMWRK','DYSVWRK','MNVWRK', 'HSGRAD','SMCOL','COLGRAD','HISP','FRGN','GNDR','CTZN','VET','SEPERATED','DIVORCED','PARTNER','WIDOWED','MARRIED','DLYMFAT','DLYPFAT','DLYSFAT','DLYFBR','DLYMAGN','DLYSODI','DLYIRON',\n",
    "#'DLYZINC','DLYCOPP','DLYCAFF','DLYBCAR','DLYACAR','DLYPHOS','DLYVARA','DLYRET','DLYATOA','DLYATOC','DLYLYCO','DLYLZ','DLYVB12','DLYVB6','DLYB12A','DLYVC','DLYVD','DLYVB1','DLYPOTA','DLYNIAC','DLYFDFE','DLYVB2','DLYCHL','DLYALCO','DLYFOLA','DLYCRYP','WHLMLK','SLEEPHRS','SLEEPPROB','SLEEPDIS']].dropna(axis=0,how='any')\n",
    "#df2 = df1[['RIDAGEYR','BMI','DIAB','GRPSTR','INCOME1','INCOME2','INCOME3','DLYSGR','INCOME4','INCOME5','INCOME6','INCOME7','INCOME8','INCOME9','INCOME10','INCOME11','INCOME12','DYSVWRK','WALKBIKE','ATEOUT','CARRYOUT','GROCERIES','DLYKCAL','DLYCARB','DLYSGR','DLYFAT','DLYPRT','DYSWLKBK','MNWLKBK','VREC','DYSVREC','MNVREC','MREC','DYSMREC','MNMREC','SDNTRY','MXA','WHT','BLK','ASN','HRSTV','HRSCOMP','SMHS','MWRK','VWRK','DYSMWRK','MNMWRK','MNVWRK', 'HSGRAD','SMCOL','COLGRAD','HISP','FRGN','GNDR','CTZN','VET','SEPERATED','DIVORCED','PARTNER','WIDOWED','MARRIED','DLYFBR','DLYMAGN','DLYPOTA','DLYIRON','SLEEPHRS','SLEEPDIS','SLEEPPROB']].dropna(axis=0,how='any')"
   ]
  },
  {
   "cell_type": "code",
   "execution_count": 27,
   "metadata": {
    "collapsed": false
   },
   "outputs": [],
   "source": [
    "#df[['SDNTRY','MXA','WHT','BLK','ASN','HRSTV','HRSCOMP','SMHS', 'HSGRAD','SMCOL','COLGRAD','HISP','FRGN','GNDR','CTZN','VET','SEPERATED','DIVORCED','PARTNER','WIDOWED','MARRIED','DLYMFAT','DLYPFAT','DLYSFAT','DLYFBR','DLYMAGN','DLYSODI','DLYIRON','DLYKCAL','DLYCARB','DLYSGR','DLYFAT','DLYPRT','DYSWLKBK','MNWLKBK','VREC','DYSVREC','MNVREC','MREC','DYSMREC','MNMREC','GRPSTR','INCOME1','INCOME2','INCOME3','INCOME4','INCOME5','INCOME6','INCOME7','INCOME8','INCOME9','INCOME10','INCOME11','INCOME12','DYSVWRK','WALKBIKE','ATEOUT','CARRYOUT','GROCERIES','OBESE','RIDAGEYR','BMI','MWRK','VWRK','DIAB','DLYZINC','DLYCOPP','DLYCAFF','DLYBCAR','DLYACAR','DLYPHOS','DLYVARA','DLYRET','DLYATOA','DLYATOC','DLYLYCO','DLYLZ','DLYVB12','DLYVB6','DLYB12A','DLYVC','DLYVD','DLYVB1','DLYPOTA','DLYNIAC','DLYFDFE','DLYVB2','DLYATOC','DLYLYCO','DLYLZ','DLYVB12','DLYVB6','DLYB12A','DLYVC']].dropna(axis=0,how='any')\n",
    "#df = df_.append(df_2)\n",
    "#df.dropna(axis=0,how=any)\n",
    "#df_.to_csv('2013(1).csv')\n",
    "#df_['OBESE'].mean()\n"
   ]
  },
  {
   "cell_type": "code",
   "execution_count": 28,
   "metadata": {
    "collapsed": false
   },
   "outputs": [],
   "source": [
    "df1 = df1[['OVERWEIGHT','RIDAGEYR','BMI','MWRK','VWRK','DIAB','GRPSTR','INCOME1','INCOME2','INCOME3','INCOME4','INCOME5','INCOME6','INCOME7','INCOME8','INCOME9','INCOME10','INCOME11','INCOME12','DYSVWRK','WALKBIKE','MNVWRK','DYSMWRK', 'MNMWRK','ATEOUT','CARRYOUT','GROCERIES','DLYKCAL','DLYCARB','DLYSGR','DLYFAT','DLYPRT','DYSWLKBK','MNWLKBK','VREC','DYSVREC','MNVREC','MREC','DYSMREC','MNMREC','SDNTRY','MXA','WHT','BLK','ASN','HRSTV','HRSCOMP','SMHS', 'HSGRAD','SMCOL','COLGRAD','HISP','FRGN','GNDR','CTZN','VET','SEPERATED','DIVORCED','PARTNER','WIDOWED','MARRIED','DLYMFAT','DLYPFAT','DLYSFAT','DLYFBR','DLYMAGN','DLYSODI','DLYIRON',\n",
    "'DLYZINC','DLYCOPP','DLYCAFF','DLYBCAR','DLYACAR','DLYPHOS','DLYVARA','DLYRET','DLYATOA','DLYATOC','DLYLYCO','DLYLZ','DLYVB12','DLYVB6','DLYB12A','DLYVC','DLYVD','DLYVB1','DLYPOTA','DLYNIAC','DLYFDFE','DLYVB2','DLYCHL','DLYALCO','DLYFOLA','DLYCRYP','WHLMLK','SLEEPHRS','SLEEPPROB','SLEEPDIS']].dropna(axis=0,how='any')\n"
   ]
  },
  {
   "cell_type": "code",
   "execution_count": 29,
   "metadata": {
    "collapsed": false,
    "scrolled": true
   },
   "outputs": [],
   "source": [
    "#df_ = df.dropna(axis=0,how='any')\n",
    "#df_ = df[['OBESE','RIDAGEYR','BMI','WEIGHT','DIAB','GRPSTR','INCOME1','INCOME2','INCOME3','INCOME4','INCOME5','INCOME6','INCOME7','INCOME8','INCOME9','INCOME10','INCOME11','INCOME12','DYSVWRK','WALKBIKE','ATEOUT','CARRYOUT','GROCERIES','DLYKCAL','DLYCARB','DLYSGR','DLYFAT','DLYPRT','DYSWLKBK','MNWLKBK','VREC','DYSVREC','MNVREC','MREC','DYSMREC','MNMREC','SDNTRY','MXA','WHT','BLK','ASN','HRSTV','HRSCOMP','SMHS','MWRK','VWRK','DYSMWRK','MNMWRK','DYSVWRK','MNVWRK', 'HSGRAD','SMCOL','COLGRAD','HISP','FRGN','GNDR','CTZN','VET','SEPERATED','DIVORCED','PARTNER','WIDOWED','MARRIED','DLYMFAT','DLYPFAT','DLYSFAT','DLYFBR','DLYMAGN','DLYSODI','DLYIRON',\n",
    "#'DLYZINC','DLYCOPP','DLYCAFF','DLYBCAR','DLYACAR','DLYPHOS','DLYVARA','DLYRET','DLYATOA','DLYATOC','DLYLYCO','DLYLZ','DLYVB12','DLYVB6','DLYB12A','DLYVC','DLYVD','DLYVB1','DLYPOTA','DLYNIAC','DLYFDFE','DLYVB2','DLYCHL','DLYALCO','DLYFOLA','DLYCRYP','WHLMLK','SLEEPHRS','SLEEPPROB','SLEEPDIS']].dropna(axis=0,how='any')\n",
    "#df2 = df[['OBESE','GRPSTR','INCOME','DYSVWRK','WALKBIKE','ATEOUT','CARRYOUT','GROCERIES','DLYKCAL','DLYCARB','DLYSGR','DLYFAT','DLYPRT','DYSWLKBK','MNWLKBK','VREC','DYSVREC','MNVREC','MREC','DYSMREC','MNMREC','SDNTRY','MXA','WHT','BLK','ASN','HRSTV','HRSCOMP','SMHS', 'HSGRAD','SMCOL','COLGRAD','HISP','FRGN','GNDR','SLEEPHRS','SLEEPPROB','SLEEPDIS']].dropna(axis=0,how='any')"
   ]
  },
  {
   "cell_type": "code",
   "execution_count": 30,
   "metadata": {
    "collapsed": false
   },
   "outputs": [],
   "source": [
    "#X = df2[['RIDAGEYR','GRPSTR','INCOME1','INCOME2','INCOME3','DLYSGR','INCOME4','INCOME5','INCOME6','INCOME7','INCOME8','INCOME9','INCOME10','INCOME11','INCOME12','DYSVWRK','WALKBIKE','ATEOUT','CARRYOUT','GROCERIES','DLYKCAL','DLYCARB','DLYSGR','DLYFAT','DLYPRT','DYSWLKBK','MNWLKBK','VREC','DYSVREC','MNVREC','MREC','DYSMREC','MNMREC','SDNTRY','MXA','WHT','BLK','ASN','HRSTV','HRSCOMP','SMHS','MWRK','VWRK','DYSMWRK','MNMWRK','MNVWRK', 'HSGRAD','SMCOL','COLGRAD','HISP','FRGN','GNDR','CTZN','VET','SEPERATED','DIVORCED','PARTNER','WIDOWED','MARRIED','DLYFBR','DLYMAGN','DLYPOTA','DLYIRON',\n",
    "#'SLEEPHRS','SLEEPPROB','SLEEPDIS']].dropna(axis=0,how='any')\n",
    "#y = df2['DIAB'].dropna(axis=0,how='any')"
   ]
  },
  {
   "cell_type": "code",
   "execution_count": 31,
   "metadata": {
    "collapsed": false
   },
   "outputs": [],
   "source": [
    "X = df1[['ATEOUT','RIDAGEYR','CARRYOUT','GROCERIES','GRPSTR','INCOME1','INCOME2','INCOME3','INCOME4','INCOME5','INCOME6','INCOME7','INCOME8','INCOME9','INCOME10','INCOME11','INCOME12','DYSVWRK','WALKBIKE','DLYKCAL','DLYCARB','DLYSGR','DLYFAT','DLYPRT','DYSWLKBK','MNWLKBK','VREC','DYSVREC','MNVREC','MREC','DYSMREC','MNMREC','SDNTRY','VWRK','MNVWRK','MWRK','DYSMWRK','MNMWRK','MXA','WHT','BLK','ASN','HRSTV','HRSCOMP','SMHS', 'HSGRAD','SMCOL','COLGRAD','HISP','FRGN','GNDR','CTZN','VET','SEPERATED','DIVORCED','PARTNER','WIDOWED','MARRIED','DLYMFAT','DLYPFAT','DLYSFAT','DLYFBR','DLYMAGN','DLYSODI','DLYIRON',\n",
    "'DLYZINC','DLYCOPP','DLYCAFF','DLYBCAR','DLYACAR','DLYPHOS','DLYVARA','DLYRET','DLYATOA','DLYATOC','DLYLYCO','DLYLZ','DLYVB12','DLYVB6','DLYB12A','DLYVC','DLYVD','DLYVB1','DLYPOTA','DLYNIAC','DLYFDFE','DLYVB2','DLYCHL','DLYALCO','DLYFOLA','DLYCRYP','WHLMLK','SLEEPHRS','SLEEPPROB','SLEEPDIS']].dropna(axis=0,how='any')\n",
    "y = df1['OVERWEIGHT'].dropna(axis=0,how='any')\n"
   ]
  },
  {
   "cell_type": "code",
   "execution_count": 19,
   "metadata": {
    "collapsed": false
   },
   "outputs": [],
   "source": [
    "train, test = train_test_split(df1, test_size=0.3,random_state=666, stratify = y )\n",
    "#X_train, X_test, y_train, y_test = train_test_split(X, y, test_size=1/3, random_state=666, stratify = y)"
   ]
  },
  {
   "cell_type": "code",
   "execution_count": 20,
   "metadata": {
    "collapsed": false
   },
   "outputs": [],
   "source": [
    "#msk = np.random.rand(len(df)) < 0.7\n",
    "#train = df[msk]\n",
    "#test = df[~msk]\n"
   ]
  },
  {
   "cell_type": "markdown",
   "metadata": {},
   "source": [
    "### Downsampling Majority Class"
   ]
  },
  {
   "cell_type": "code",
   "execution_count": 21,
   "metadata": {
    "collapsed": false
   },
   "outputs": [
    {
     "data": {
      "text/plain": [
       "0    5701\n",
       "1    5696\n",
       "Name: DIAB, dtype: int64"
      ]
     },
     "execution_count": 21,
     "metadata": {},
     "output_type": "execute_result"
    }
   ],
   "source": [
    "\n",
    "# Separate majority and minority classes\n",
    "df_majority = train[train.DIAB==0]\n",
    "df_minority = train[train.DIAB==1]\n",
    " \n",
    "# Upsample minority class\n",
    "df_minority_upsampled = resample(df_minority, \n",
    "                                 replace=True,    # sample without replacement\n",
    "                                 n_samples=5696,     # to match minority class\n",
    "                                 random_state=666) # reproducible results\n",
    " \n",
    "# Combine minority class with downsampled majority class\n",
    "df_upsampled = pd.concat([df_majority, df_minority_upsampled])\n",
    "\n",
    "y_train = df_upsampled.DIAB\n",
    "X_train = df_upsampled.drop('DIAB', axis=1)\n",
    "\n",
    "\n",
    "# Display new class counts\n",
    "df_upsampled.DIAB.value_counts()\n",
    "# 1    49\n",
    "# Display new class counts\n"
   ]
  },
  {
   "cell_type": "code",
   "execution_count": 36,
   "metadata": {
    "collapsed": false
   },
   "outputs": [
    {
     "ename": "AttributeError",
     "evalue": "'DataFrame' object has no attribute 'OVERWEIGHT'",
     "output_type": "error",
     "traceback": [
      "\u001b[0;31m---------------------------------------------------------------------------\u001b[0m",
      "\u001b[0;31mAttributeError\u001b[0m                            Traceback (most recent call last)",
      "\u001b[0;32m<ipython-input-36-9f08838da18b>\u001b[0m in \u001b[0;36m<module>\u001b[0;34m()\u001b[0m\n\u001b[1;32m      1\u001b[0m \u001b[0;34m\u001b[0m\u001b[0m\n\u001b[1;32m      2\u001b[0m \u001b[0;31m# Separate majority and minority classes\u001b[0m\u001b[0;34m\u001b[0m\u001b[0;34m\u001b[0m\u001b[0m\n\u001b[0;32m----> 3\u001b[0;31m \u001b[0mdf_majority\u001b[0m \u001b[0;34m=\u001b[0m \u001b[0mtest\u001b[0m\u001b[0;34m[\u001b[0m\u001b[0mtest\u001b[0m\u001b[0;34m.\u001b[0m\u001b[0mOVERWEIGHT\u001b[0m\u001b[0;34m==\u001b[0m\u001b[0;36m0\u001b[0m\u001b[0;34m]\u001b[0m\u001b[0;34m\u001b[0m\u001b[0m\n\u001b[0m\u001b[1;32m      4\u001b[0m \u001b[0mdf_minority\u001b[0m \u001b[0;34m=\u001b[0m \u001b[0mtest\u001b[0m\u001b[0;34m[\u001b[0m\u001b[0mtest\u001b[0m\u001b[0;34m.\u001b[0m\u001b[0mOVERWEIGHT\u001b[0m\u001b[0;34m==\u001b[0m\u001b[0;36m1\u001b[0m\u001b[0;34m]\u001b[0m\u001b[0;34m\u001b[0m\u001b[0m\n\u001b[1;32m      5\u001b[0m \u001b[0;34m\u001b[0m\u001b[0m\n",
      "\u001b[0;32m/Users/hector/anaconda/lib/python3.6/site-packages/pandas/core/generic.py\u001b[0m in \u001b[0;36m__getattr__\u001b[0;34m(self, name)\u001b[0m\n\u001b[1;32m   3079\u001b[0m             \u001b[0;32mif\u001b[0m \u001b[0mname\u001b[0m \u001b[0;32min\u001b[0m \u001b[0mself\u001b[0m\u001b[0;34m.\u001b[0m\u001b[0m_info_axis\u001b[0m\u001b[0;34m:\u001b[0m\u001b[0;34m\u001b[0m\u001b[0m\n\u001b[1;32m   3080\u001b[0m                 \u001b[0;32mreturn\u001b[0m \u001b[0mself\u001b[0m\u001b[0;34m[\u001b[0m\u001b[0mname\u001b[0m\u001b[0;34m]\u001b[0m\u001b[0;34m\u001b[0m\u001b[0m\n\u001b[0;32m-> 3081\u001b[0;31m             \u001b[0;32mreturn\u001b[0m \u001b[0mobject\u001b[0m\u001b[0;34m.\u001b[0m\u001b[0m__getattribute__\u001b[0m\u001b[0;34m(\u001b[0m\u001b[0mself\u001b[0m\u001b[0;34m,\u001b[0m \u001b[0mname\u001b[0m\u001b[0;34m)\u001b[0m\u001b[0;34m\u001b[0m\u001b[0m\n\u001b[0m\u001b[1;32m   3082\u001b[0m \u001b[0;34m\u001b[0m\u001b[0m\n\u001b[1;32m   3083\u001b[0m     \u001b[0;32mdef\u001b[0m \u001b[0m__setattr__\u001b[0m\u001b[0;34m(\u001b[0m\u001b[0mself\u001b[0m\u001b[0;34m,\u001b[0m \u001b[0mname\u001b[0m\u001b[0;34m,\u001b[0m \u001b[0mvalue\u001b[0m\u001b[0;34m)\u001b[0m\u001b[0;34m:\u001b[0m\u001b[0;34m\u001b[0m\u001b[0m\n",
      "\u001b[0;31mAttributeError\u001b[0m: 'DataFrame' object has no attribute 'OVERWEIGHT'"
     ]
    }
   ],
   "source": [
    "\n",
    "# Separate majority and minority classes\n",
    "df_majority = test[test.OVERWEIGHT==0]\n",
    "df_minority = test[test.OVERWEIGHT==1]\n",
    " \n",
    "# Upsample minority class\n",
    "df_minority_upsampled = resample(df_minority, \n",
    "                                 replace=True,    # sample without replacement\n",
    "                                 n_samples=2442,     # to match minority class\n",
    "                                 random_state=666) # reproducible results\n",
    " \n",
    "# Combine minority class with downsampled majority class\n",
    "df_upsampled = pd.concat([df_majority, df_minority_upsampled])\n",
    "\n",
    "y_test = df_upsampled.OVERWEIGHT\n",
    "X_test = df_upsampled.drop('OVERWEIGHT', axis=1)\n",
    "\n",
    "\n",
    "# Display new class counts\n",
    "df_upsampled.DIAB.value_counts()\n",
    "# 1    49\n",
    "# Display new class counts\n"
   ]
  },
  {
   "cell_type": "markdown",
   "metadata": {},
   "source": [
    "### Splitting Data into Testing/Training Sets"
   ]
  },
  {
   "cell_type": "code",
   "execution_count": 32,
   "metadata": {
    "collapsed": false
   },
   "outputs": [],
   "source": [
    "X_train, X_test, y_train, y_test = train_test_split(X, y, test_size=1/3, random_state=666, stratify = y)"
   ]
  },
  {
   "cell_type": "code",
   "execution_count": 33,
   "metadata": {
    "collapsed": false,
    "scrolled": false
   },
   "outputs": [],
   "source": [
    "#print(clf.feature_importances_)"
   ]
  },
  {
   "cell_type": "code",
   "execution_count": 34,
   "metadata": {
    "collapsed": false,
    "scrolled": false
   },
   "outputs": [
    {
     "data": {
      "text/plain": [
       "2986"
      ]
     },
     "execution_count": 34,
     "metadata": {},
     "output_type": "execute_result"
    }
   ],
   "source": [
    "len(X_test)"
   ]
  },
  {
   "cell_type": "markdown",
   "metadata": {},
   "source": [
    "## Model: Naive Bayes Classifier"
   ]
  },
  {
   "cell_type": "code",
   "execution_count": 35,
   "metadata": {
    "collapsed": false
   },
   "outputs": [
    {
     "name": "stdout",
     "output_type": "stream",
     "text": [
      "Accuracy: 0.700\n",
      "             precision    recall  f1-score   support\n",
      "\n",
      "        0.0       0.77      0.87      0.82      2296\n",
      "        1.0       0.24      0.14      0.18       690\n",
      "\n",
      "avg / total       0.65      0.70      0.67      2986\n",
      "\n"
     ]
    }
   ],
   "source": [
    "##Report for BAYES CLASSIFIER\n",
    "NB = naive_bayes.GaussianNB()\n",
    "NB.fit(X_train, y_train)\n",
    "\n",
    "print(\"Accuracy: %.3f\"% accuracy_score(y_test, NB.predict(X_test)))\n",
    "print(classification_report(y_test, NB.predict(X_test)))"
   ]
  },
  {
   "cell_type": "code",
   "execution_count": 69,
   "metadata": {
    "collapsed": false
   },
   "outputs": [
    {
     "name": "stdout",
     "output_type": "stream",
     "text": [
      "0.800882522013\n"
     ]
    }
   ],
   "source": [
    "# ROC Curve Evaluation\n",
    "prob_y_4 = NB.predict_proba(X_test)\n",
    "prob_y_4 = [p[1] for p in prob_y_4]\n",
    "print( roc_auc_score(y_test, prob_y_4) )"
   ]
  },
  {
   "cell_type": "code",
   "execution_count": 618,
   "metadata": {
    "collapsed": true
   },
   "outputs": [],
   "source": [
    "NB_AUC = roc_auc_score(y_test, prob_y_4)"
   ]
  },
  {
   "cell_type": "markdown",
   "metadata": {},
   "source": [
    "## Model: Random Forest Classifier "
   ]
  },
  {
   "cell_type": "code",
   "execution_count": 22,
   "metadata": {
    "collapsed": false,
    "scrolled": true
   },
   "outputs": [
    {
     "name": "stdout",
     "output_type": "stream",
     "text": [
      "Accuracy: 0.762\n",
      "             precision    recall  f1-score   support\n",
      "\n",
      "          0       0.75      0.78      0.77      2442\n",
      "          1       0.77      0.75      0.76      2442\n",
      "\n",
      "avg / total       0.76      0.76      0.76      4884\n",
      "\n"
     ]
    }
   ],
   "source": [
    "#REPORTS FOR RANDOM FOREST CLASSIFIER\n",
    "rf = RandomForestClassifier(n_estimators=12,max_depth=7, class_weight='balanced',random_state=666)\n",
    "rmodel = rf.fit(X_train, y_train)\n",
    "print(\"Accuracy: %.3f\"% accuracy_score(y_test, rf.predict(X_test)))\n",
    "print(classification_report(y_test, rf.predict(X_test)))"
   ]
  },
  {
   "cell_type": "code",
   "execution_count": 23,
   "metadata": {
    "collapsed": false
   },
   "outputs": [
    {
     "name": "stdout",
     "output_type": "stream",
     "text": [
      "0.89032610882\n"
     ]
    }
   ],
   "source": [
    "kfold = model_selection.KFold(n_splits=10, random_state=666)\n",
    "results = model_selection.cross_val_score(rf, X_test, y_test, cv=kfold)\n",
    "print(results.mean())"
   ]
  },
  {
   "cell_type": "code",
   "execution_count": 24,
   "metadata": {
    "collapsed": false
   },
   "outputs": [
    {
     "name": "stdout",
     "output_type": "stream",
     "text": [
      "0.849396414507\n"
     ]
    }
   ],
   "source": [
    "# ROC Curve Evaluation\n",
    "prob_y_4 = rf.predict_proba(X_test)\n",
    "prob_y_4 = [p[1] for p in prob_y_4]\n",
    "print( roc_auc_score(y_test, prob_y_4) )"
   ]
  },
  {
   "cell_type": "code",
   "execution_count": 544,
   "metadata": {
    "collapsed": true
   },
   "outputs": [],
   "source": [
    "RF_AUC = roc_auc_score(y_test, prob_y_4)"
   ]
  },
  {
   "cell_type": "markdown",
   "metadata": {
    "collapsed": false
   },
   "source": [
    "### ROC Evaluation/Visuals"
   ]
  },
  {
   "cell_type": "code",
   "execution_count": 180,
   "metadata": {
    "collapsed": false
   },
   "outputs": [
    {
     "name": "stderr",
     "output_type": "stream",
     "text": [
      "/Users/hector/anaconda/lib/python3.6/site-packages/ggplot/utils.py:81: FutureWarning: pandas.tslib is deprecated and will be removed in a future version.\n",
      "You can access Timestamp as pandas.Timestamp\n",
      "  pd.tslib.Timestamp,\n",
      "/Users/hector/anaconda/lib/python3.6/site-packages/ggplot/stats/smoothers.py:4: FutureWarning: The pandas.lib module is deprecated and will be removed in a future version. These are private functions and can be accessed from pandas._libs.lib instead\n",
      "  from pandas.lib import Timestamp\n",
      "/Users/hector/anaconda/lib/python3.6/site-packages/statsmodels/compat/pandas.py:56: FutureWarning: The pandas.core.datetools module is deprecated and will be removed in a future version. Please use the pandas.tseries module instead.\n",
      "  from pandas.core import datetools\n"
     ]
    },
    {
     "data": {
      "image/png": "[encoded data removed]",
      "text/plain": [
       "<matplotlib.figure.Figure at 0x1205092e8>"
      ]
     },
     "metadata": {},
     "output_type": "display_data"
    },
    {
     "data": {
      "text/plain": [
       "<ggplot: (-9223372036552459541)>"
      ]
     },
     "execution_count": 180,
     "metadata": {},
     "output_type": "execute_result"
    }
   ],
   "source": [
    "from sklearn import metrics\n",
    "import pandas as pd\n",
    "from ggplot import *\n",
    "\n",
    "preds = rf.predict_proba(X_test)[:,1]\n",
    "fpr, tpr, _ = metrics.roc_curve(y_test, preds)\n",
    "\n",
    "df_ = pd.DataFrame(dict(fpr=fpr, tpr=tpr))\n",
    "ggplot(df_, aes(x='fpr', y='tpr')) +\\\n",
    "    geom_area(alpha=0.2) +\\\n",
    "    geom_line() +\\\n",
    "    geom_abline(linetype='dashed') "
   ]
  },
  {
   "cell_type": "code",
   "execution_count": 181,
   "metadata": {
    "collapsed": false,
    "scrolled": true
   },
   "outputs": [
    {
     "data": {
      "image/png": "[encoded data removed]",
      "text/plain": [
       "<matplotlib.figure.Figure at 0x11da000b8>"
      ]
     },
     "metadata": {},
     "output_type": "display_data"
    },
    {
     "data": {
      "text/plain": [
       "<ggplot: (-9223372036555818559)>"
      ]
     },
     "execution_count": 181,
     "metadata": {},
     "output_type": "execute_result"
    }
   ],
   "source": [
    "auc = metrics.auc(fpr,tpr)\n",
    "ggplot(df_, aes(x='fpr', y='tpr')) +\\\n",
    "    geom_area(alpha=0.2) +\\\n",
    "    geom_line(aes(y='tpr')) +\\\n",
    "    ggtitle(\"ROC Curve w/ AUC=%s\" % str(auc))"
   ]
  },
  {
   "cell_type": "markdown",
   "metadata": {},
   "source": [
    "### Parameter Tuning"
   ]
  },
  {
   "cell_type": "code",
   "execution_count": 182,
   "metadata": {
    "collapsed": false
   },
   "outputs": [],
   "source": [
    "#y_pred = model.predict(X_test)\n",
    "\n",
    "#depth = list(range(1, 31))\n",
    "#RF_dep_scores = []\n",
    "#for k in depth:\n",
    "#    clf = RandomForestClassifier(max_depth=depth)\n",
    "#    model = clf.fit(X_train, y_train)\n",
    "#    scores = metrics.f1_score(y_test, y_pred)\n",
    "#    RF_dep_scores.append(scores.mean())\n",
    "#print(RF_dep_scores)\n",
    "depth = list(range(1, 31))\n",
    "RFscores = []\n",
    "for k in depth:\n",
    "    clf = RandomForestClassifier(max_depth=k)    \n",
    "    scores = cross_val_score(clf, X_test, y_test, cv=10, scoring='f1')\n",
    "    RFscores.append(scores.mean())\n",
    "#print(RFscores)"
   ]
  },
  {
   "cell_type": "code",
   "execution_count": 183,
   "metadata": {
    "collapsed": false
   },
   "outputs": [],
   "source": [
    "est = list(range(1, 31))\n",
    "RF_n_scores = []\n",
    "for k in est:\n",
    "    clf = RandomForestClassifier(n_estimators=k)    \n",
    "    scores = cross_val_score(clf, X_test, y_test, cv=10, scoring='f1')\n",
    "    RF_n_scores.append(scores.mean())\n",
    "#print(RF_n_scores)"
   ]
  },
  {
   "cell_type": "code",
   "execution_count": 184,
   "metadata": {
    "collapsed": false
   },
   "outputs": [
    {
     "data": {
      "text/plain": [
       "<matplotlib.text.Text at 0x12034bb38>"
      ]
     },
     "execution_count": 184,
     "metadata": {},
     "output_type": "execute_result"
    },
    {
     "data": {
      "image/png": "[encoded data removed]",
      "text/plain": [
       "<matplotlib.figure.Figure at 0x11da4a358>"
      ]
     },
     "metadata": {},
     "output_type": "display_data"
    }
   ],
   "source": [
    "# plot the estimator for RANDOM FOREST (x-axis) versus the cross-validated accuracy (y-axis)\n",
    "plt.plot(depth, RFscores)\n",
    "plt.xlabel('Value of max_depth')\n",
    "plt.ylabel('Cross-Validated Accuracy')"
   ]
  },
  {
   "cell_type": "code",
   "execution_count": 185,
   "metadata": {
    "collapsed": false
   },
   "outputs": [
    {
     "data": {
      "text/plain": [
       "<matplotlib.text.Text at 0x11defc438>"
      ]
     },
     "execution_count": 185,
     "metadata": {},
     "output_type": "execute_result"
    },
    {
     "data": {
      "image/png": "[encoded data removed]",
      "text/plain": [
       "<matplotlib.figure.Figure at 0x11deca1d0>"
      ]
     },
     "metadata": {},
     "output_type": "display_data"
    }
   ],
   "source": [
    "# plot the estimator for RANDOM FOREST (x-axis) versus the cross-validated accuracy (y-axis)\n",
    "plt.plot(est, RF_n_scores)\n",
    "plt.xlabel('Value of n_estimators')\n",
    "plt.ylabel('Cross-Validated Accuracy')"
   ]
  },
  {
   "cell_type": "markdown",
   "metadata": {},
   "source": [
    "## Model: SVC Classifier "
   ]
  },
  {
   "cell_type": "code",
   "execution_count": 494,
   "metadata": {
    "collapsed": false
   },
   "outputs": [
    {
     "name": "stdout",
     "output_type": "stream",
     "text": [
      "Accuracy: 0.681\n",
      "             precision    recall  f1-score   support\n",
      "\n",
      "          0       0.63      0.90      0.74      2442\n",
      "          1       0.82      0.46      0.59      2442\n",
      "\n",
      "avg / total       0.72      0.68      0.67      4884\n",
      "\n"
     ]
    }
   ],
   "source": [
    "#REPORTS FOR SVC CLASSIFIER\n",
    "\n",
    "from sklearn.svm import LinearSVC, SVC\n",
    "from sklearn.preprocessing import scale\n",
    "\n",
    "X_train = scale(X_train)\n",
    "X_test = scale(X_test)\n",
    "\n",
    "SVC = SVC(random_state=666,class_weight='balanced')\n",
    "SVC_model = SVC.fit(X_train, y_train)\n",
    "\n",
    "print(\"Accuracy: %.3f\"% accuracy_score(y_test, SVC.predict(X_test)))\n",
    "print(classification_report(y_test, SVC.predict(X_test)))"
   ]
  },
  {
   "cell_type": "code",
   "execution_count": null,
   "metadata": {
    "collapsed": false
   },
   "outputs": [],
   "source": []
  },
  {
   "cell_type": "markdown",
   "metadata": {},
   "source": [
    "### ROC Evaluation/Visualization"
   ]
  },
  {
   "cell_type": "code",
   "execution_count": 28,
   "metadata": {
    "collapsed": false,
    "scrolled": true
   },
   "outputs": [],
   "source": [
    "def plot_confusion_matrix(cm,title='Confusion matrix',cmap=plt.cm.Reds):\n",
    "    sns.set(style='darkgrid')\n",
    "    plt.imshow(cm,interpolation='nearest',cmap=cmap)\n",
    "    plt.title(title)\n",
    "    plt.colorbar()\n",
    "    plt.tight_layout()\n",
    "    plt.ylabel('True Label')\n",
    "    plt.xlabel('Predicted Label')\n",
    "\n",
    "def train_score(classifier,X,y):\n",
    "    X_train,X_test,y_train,y_test = model_selection.train_test_split(X,y, test_size =.3, random_state=1234)\n",
    "    X_train = scale(X_train)\n",
    "    X_test = scale(X_test)\n",
    "    y_train=np.ravel(y_train)\n",
    "    model = SVC.fit(X_train,y_train)\n",
    "    ## accuracy for test and train set\n",
    "    train_accuracy = SVC.score(X_train,y_train)\n",
    "    test_accuracy = SVC.score(X_test,y_test)\n",
    "    \n",
    "    print(\"Training Data Accuracy: %0.2f\" %(train_accuracy))\n",
    "    print(\"Test Data Accuracy:     %0.2f\" %(test_accuracy))\n",
    "    \n",
    "    y_true = y_test\n",
    "    y_pred = model.predict(X_test)\n",
    "    conf = confusion_matrix(y_true,y_pred)\n",
    "    print(conf)\n",
    "    \n",
    "    print('\\n')\n",
    "    print(\"Precision:        %0.2f\" %(conf[0,0] / (conf[0,0] + conf[1,0])))\n",
    "    print(\"Recall:           %0.2f\" %(conf[0,0]/(conf[0,0] + conf[0,1])))\n",
    "    cm = confusion_matrix(y_true,y_pred,labels=None)\n",
    "    plt.figure()\n",
    "    plot_confusion_matrix(cm)"
   ]
  },
  {
   "cell_type": "code",
   "execution_count": 29,
   "metadata": {
    "collapsed": false
   },
   "outputs": [
    {
     "ename": "NameError",
     "evalue": "name 'scale' is not defined",
     "output_type": "error",
     "traceback": [
      "\u001b[0;31m---------------------------------------------------------------------------\u001b[0m",
      "\u001b[0;31mNameError\u001b[0m                                 Traceback (most recent call last)",
      "\u001b[0;32m<ipython-input-29-3fc3de05f458>\u001b[0m in \u001b[0;36m<module>\u001b[0;34m()\u001b[0m\n\u001b[0;32m----> 1\u001b[0;31m \u001b[0mX_train\u001b[0m \u001b[0;34m=\u001b[0m \u001b[0mscale\u001b[0m\u001b[0;34m(\u001b[0m\u001b[0mX_train\u001b[0m\u001b[0;34m)\u001b[0m\u001b[0;34m\u001b[0m\u001b[0m\n\u001b[0m\u001b[1;32m      2\u001b[0m \u001b[0mX_test\u001b[0m \u001b[0;34m=\u001b[0m \u001b[0mscale\u001b[0m\u001b[0;34m(\u001b[0m\u001b[0mX_test\u001b[0m\u001b[0;34m)\u001b[0m\u001b[0;34m\u001b[0m\u001b[0m\n\u001b[1;32m      3\u001b[0m \u001b[0my_train\u001b[0m\u001b[0;34m=\u001b[0m\u001b[0mnp\u001b[0m\u001b[0;34m.\u001b[0m\u001b[0mravel\u001b[0m\u001b[0;34m(\u001b[0m\u001b[0my_train\u001b[0m\u001b[0;34m)\u001b[0m\u001b[0;34m\u001b[0m\u001b[0m\n\u001b[1;32m      4\u001b[0m \u001b[0mmodel\u001b[0m \u001b[0;34m=\u001b[0m \u001b[0mSVC\u001b[0m\u001b[0;34m.\u001b[0m\u001b[0mfit\u001b[0m\u001b[0;34m(\u001b[0m\u001b[0mX_train\u001b[0m\u001b[0;34m,\u001b[0m\u001b[0my_train\u001b[0m\u001b[0;34m)\u001b[0m\u001b[0;34m\u001b[0m\u001b[0m\n\u001b[1;32m      5\u001b[0m \u001b[0;31m## accuracy for test and train set\u001b[0m\u001b[0;34m\u001b[0m\u001b[0;34m\u001b[0m\u001b[0m\n",
      "\u001b[0;31mNameError\u001b[0m: name 'scale' is not defined"
     ]
    }
   ],
   "source": [
    "X_train = scale(X_train)\n",
    "X_test = scale(X_test)\n",
    "y_train=np.ravel(y_train)\n",
    "model = SVC.fit(X_train,y_train)\n",
    "## accuracy for test and train set\n",
    "train_accuracy = SVC.score(X_train,y_train)\n",
    "test_accuracy = SVC.score(X_test,y_test)\n",
    "\n",
    "print(\"Training Data Accuracy: %0.2f\" %(train_accuracy))\n",
    "print(\"Test Data Accuracy:     %0.2f\" %(test_accuracy))\n",
    "\n",
    "y_true = y_test\n",
    "y_pred = model.predict(X_test)\n",
    "conf = confusion_matrix(y_true,y_pred)\n",
    "print(conf)\n",
    "\n",
    "print('\\n')\n",
    "print(\"Precision:        %0.2f\" %(conf[0,0] / (conf[0,0] + conf[1,0])))\n",
    "print(\"Recall:           %0.2f\" %(conf[0,0]/(conf[0,0] + conf[0,1])))\n",
    "cm = confusion_matrix(y_true,y_pred,labels=None)\n",
    "plt.figure()\n",
    "plot_confusion_matrix(cm)\n",
    "#plt.savefig('SVC_cm.png')"
   ]
  },
  {
   "cell_type": "code",
   "execution_count": 497,
   "metadata": {
    "collapsed": false
   },
   "outputs": [
    {
     "name": "stdout",
     "output_type": "stream",
     "text": [
      "Average precision-recall score: 0.81610\n"
     ]
    }
   ],
   "source": [
    "from sklearn.metrics import average_precision_score\n",
    "\n",
    "y_score = SVC_model.decision_function(X_test)\n",
    "\n",
    "average_precision = average_precision_score(y_test, y_score)\n",
    "\n",
    "print('Average precision-recall score: {0:0.5f}'.format(\n",
    "      average_precision))"
   ]
  },
  {
   "cell_type": "code",
   "execution_count": 775,
   "metadata": {
    "collapsed": false
   },
   "outputs": [
    {
     "data": {
      "image/png": "[encoded data removed]",
      "text/plain": [
       "<matplotlib.figure.Figure at 0x17e5c4748>"
      ]
     },
     "metadata": {},
     "output_type": "display_data"
    }
   ],
   "source": [
    "decision_values = SVC_model.decision_function(X_test)\n",
    "\n",
    "precision, recall, thresholds = precision_recall_curve(y_test, decision_values)\n",
    "\n",
    "plt.plot(recall, precision)\n",
    "plt.show()"
   ]
  },
  {
   "cell_type": "code",
   "execution_count": 499,
   "metadata": {
    "collapsed": false
   },
   "outputs": [],
   "source": [
    "SVC_AUC = 0.81610"
   ]
  },
  {
   "cell_type": "code",
   "execution_count": null,
   "metadata": {
    "collapsed": false
   },
   "outputs": [],
   "source": []
  },
  {
   "cell_type": "code",
   "execution_count": 41,
   "metadata": {
    "collapsed": false
   },
   "outputs": [
    {
     "data": {
      "image/png": "[encoded data removed]",
      "text/plain": [
       "<matplotlib.figure.Figure at 0x11aea6588>"
      ]
     },
     "metadata": {},
     "output_type": "display_data"
    }
   ],
   "source": [
    "from sklearn.metrics import precision_recall_curve\n",
    "\n",
    "precision, recall, _ = precision_recall_curve(y_test, y_score)\n",
    "\n",
    "\n",
    "plt.step(recall, precision, color='b', alpha=0.2, where='post')\n",
    "plt.fill_between(recall, precision, step='post', alpha=0.2,color='b')\n",
    "                \n",
    "plt.xlabel('Recall')\n",
    "plt.ylabel('Precision')\n",
    "plt.ylim([0.0, 1.05])\n",
    "plt.xlim([0.0, 1.0])\n",
    "plt.title('2-class Precision-Recall curve: AP={0:0.2f}'.format(\n",
    "average_precision))\n",
    "\n",
    "\n",
    "plt.savefig('SVC_prec-rec.png')"
   ]
  },
  {
   "cell_type": "markdown",
   "metadata": {},
   "source": [
    " ## Model: Gradient Boost Classifier "
   ]
  },
  {
   "cell_type": "code",
   "execution_count": 70,
   "metadata": {
    "collapsed": false
   },
   "outputs": [
    {
     "name": "stdout",
     "output_type": "stream",
     "text": [
      "Accuracy: 0.806\n",
      "             precision    recall  f1-score   support\n",
      "\n",
      "          0       0.84      0.75      0.80      2442\n",
      "          1       0.78      0.86      0.82      2442\n",
      "\n",
      "avg / total       0.81      0.81      0.81      4884\n",
      "\n"
     ]
    }
   ],
   "source": [
    "GB = GradientBoostingClassifier(random_state=666,max_depth=2,)\n",
    "GB_model = GB.fit(X_train, y_train)\n",
    "print(\"Accuracy: %.3f\"% accuracy_score(y_test, GB.predict(X_test)))\n",
    "print(classification_report(y_test, GB.predict(X_test)))"
   ]
  },
  {
   "cell_type": "code",
   "execution_count": 71,
   "metadata": {
    "collapsed": false
   },
   "outputs": [
    {
     "name": "stdout",
     "output_type": "stream",
     "text": [
      "0.873356213037\n"
     ]
    }
   ],
   "source": [
    "# ROC Curve Evaluation\n",
    "prob_y_4 = GB.predict_proba(X_test)\n",
    "prob_y_4 = [p[1] for p in prob_y_4]\n",
    "print( roc_auc_score(y_test, prob_y_4))"
   ]
  },
  {
   "cell_type": "code",
   "execution_count": 593,
   "metadata": {
    "collapsed": true
   },
   "outputs": [],
   "source": [
    "GB_AUC = roc_auc_score(y_test, prob_y_4)"
   ]
  },
  {
   "cell_type": "code",
   "execution_count": 72,
   "metadata": {
    "collapsed": false
   },
   "outputs": [
    {
     "name": "stdout",
     "output_type": "stream",
     "text": [
      "Training Data Accuracy: 0.84\n",
      "Test Data Accuracy:     0.81\n",
      "[[1842  600]\n",
      " [ 349 2093]]\n",
      "\n",
      "\n",
      "Precision:        0.84\n",
      "Recall:           0.75\n"
     ]
    },
    {
     "data": {
      "image/png": "[encoded data removed]",
      "text/plain": [
       "<matplotlib.figure.Figure at 0x10f5c1358>"
      ]
     },
     "metadata": {},
     "output_type": "display_data"
    }
   ],
   "source": [
    "y_train=np.ravel(y_train)\n",
    "## accuracy for test and train set\n",
    "train_accuracy = GB_model.score(X_train,y_train)\n",
    "test_accuracy = GB_model.score(X_test,y_test)\n",
    "\n",
    "print(\"Training Data Accuracy: %0.2f\" %(train_accuracy))\n",
    "print(\"Test Data Accuracy:     %0.2f\" %(test_accuracy))\n",
    "\n",
    "y_true = y_test\n",
    "y_pred = GB_model.predict(X_test)\n",
    "conf = confusion_matrix(y_true,y_pred)\n",
    "print(conf)\n",
    "\n",
    "print('\\n')\n",
    "print(\"Precision:        %0.2f\" %(conf[0,0] / (conf[0,0] + conf[1,0])))\n",
    "print(\"Recall:           %0.2f\" %(conf[0,0]/(conf[0,0] + conf[0,1])))\n",
    "cm = confusion_matrix(y_true,y_pred,labels=None)\n",
    "plt.figure()\n",
    "plot_confusion_matrix(cm)\n",
    "plt.savefig('GB_cm.png')"
   ]
  },
  {
   "cell_type": "markdown",
   "metadata": {},
   "source": [
    "### Feature Importances"
   ]
  },
  {
   "cell_type": "code",
   "execution_count": 73,
   "metadata": {
    "collapsed": false
   },
   "outputs": [],
   "source": [
    "GBfeatures = pd.DataFrame()\n",
    "GBfeatures['importances'] = GB_model.feature_importances_\n",
    "GBfeatures['features'] = X.columns[0:98]\n",
    "GBfeatures.sort_values('importances',ascending = False)\n",
    "\n",
    "GB_df = GBfeatures.sort_values('importances',ascending = False)[0:8]"
   ]
  },
  {
   "cell_type": "code",
   "execution_count": 74,
   "metadata": {
    "collapsed": false
   },
   "outputs": [
    {
     "data": {
      "image/png": "[encoded data removed]",
      "text/plain": [
       "<matplotlib.figure.Figure at 0x10f5e5780>"
      ]
     },
     "metadata": {},
     "output_type": "display_data"
    }
   ],
   "source": [
    "fig, ax = plt.subplots(figsize=(12,5))\n",
    "sns.set_style(\"darkgrid\")\n",
    "sns.barplot(x=\"features\", y=\"importances\", data=GB_df.iloc[0:10],palette=\"husl\")\n",
    "plt.xticks(rotation=30);\n",
    "fig.savefig('Features.png')"
   ]
  },
  {
   "cell_type": "code",
   "execution_count": 75,
   "metadata": {
    "collapsed": false
   },
   "outputs": [
    {
     "ename": "NameError",
     "evalue": "name 'XGB' is not defined",
     "output_type": "error",
     "traceback": [
      "\u001b[0;31m---------------------------------------------------------------------------\u001b[0m",
      "\u001b[0;31mNameError\u001b[0m                                 Traceback (most recent call last)",
      "\u001b[0;32m<ipython-input-75-1bb5b069998f>\u001b[0m in \u001b[0;36m<module>\u001b[0;34m()\u001b[0m\n\u001b[1;32m      1\u001b[0m \u001b[0;31m# ROC Curve Evaluation\u001b[0m\u001b[0;34m\u001b[0m\u001b[0;34m\u001b[0m\u001b[0m\n\u001b[0;32m----> 2\u001b[0;31m \u001b[0mprob_y_4\u001b[0m \u001b[0;34m=\u001b[0m \u001b[0mXGB\u001b[0m\u001b[0;34m.\u001b[0m\u001b[0mpredict_proba\u001b[0m\u001b[0;34m(\u001b[0m\u001b[0mX_test\u001b[0m\u001b[0;34m)\u001b[0m\u001b[0;34m\u001b[0m\u001b[0m\n\u001b[0m\u001b[1;32m      3\u001b[0m \u001b[0mprob_y_4\u001b[0m \u001b[0;34m=\u001b[0m \u001b[0;34m[\u001b[0m\u001b[0mp\u001b[0m\u001b[0;34m[\u001b[0m\u001b[0;36m1\u001b[0m\u001b[0;34m]\u001b[0m \u001b[0;32mfor\u001b[0m \u001b[0mp\u001b[0m \u001b[0;32min\u001b[0m \u001b[0mprob_y_4\u001b[0m\u001b[0;34m]\u001b[0m\u001b[0;34m\u001b[0m\u001b[0m\n\u001b[1;32m      4\u001b[0m \u001b[0mprint\u001b[0m\u001b[0;34m(\u001b[0m \u001b[0mroc_auc_score\u001b[0m\u001b[0;34m(\u001b[0m\u001b[0my_test\u001b[0m\u001b[0;34m,\u001b[0m \u001b[0mprob_y_4\u001b[0m\u001b[0;34m)\u001b[0m \u001b[0;34m)\u001b[0m\u001b[0;34m\u001b[0m\u001b[0m\n",
      "\u001b[0;31mNameError\u001b[0m: name 'XGB' is not defined"
     ]
    }
   ],
   "source": [
    "# ROC Curve Evaluation\n",
    "prob_y_4 = XGB.predict_proba(X_test)\n",
    "prob_y_4 = [p[1] for p in prob_y_4]\n",
    "print( roc_auc_score(y_test, prob_y_4) )"
   ]
  },
  {
   "cell_type": "code",
   "execution_count": 510,
   "metadata": {
    "collapsed": false
   },
   "outputs": [],
   "source": [
    "XGB_AUC = roc_auc_score(y_test, prob_y_4)"
   ]
  },
  {
   "cell_type": "markdown",
   "metadata": {},
   "source": [
    "## Model: XGboost "
   ]
  },
  {
   "cell_type": "code",
   "execution_count": null,
   "metadata": {
    "collapsed": false
   },
   "outputs": [],
   "source": []
  },
  {
   "cell_type": "code",
   "execution_count": 76,
   "metadata": {
    "collapsed": false
   },
   "outputs": [],
   "source": [
    "import xgboost as xgb\n",
    "from xgboost.sklearn import XGBClassifier\n",
    "from sklearn import cross_validation, metrics   #Additional scklearn functions\n",
    "from sklearn.grid_search import GridSearchCV   #Perforing grid search\n",
    "\n",
    "import matplotlib.pylab as plt\n",
    "%matplotlib inline\n",
    "from matplotlib.pylab import rcParams\n"
   ]
  },
  {
   "cell_type": "code",
   "execution_count": null,
   "metadata": {
    "collapsed": true
   },
   "outputs": [],
   "source": []
  },
  {
   "cell_type": "code",
   "execution_count": 77,
   "metadata": {
    "collapsed": false
   },
   "outputs": [
    {
     "name": "stdout",
     "output_type": "stream",
     "text": [
      "Accuracy: 0.804\n",
      "             precision    recall  f1-score   support\n",
      "\n",
      "          0       0.85      0.74      0.79      2442\n",
      "          1       0.77      0.87      0.82      2442\n",
      "\n",
      "avg / total       0.81      0.80      0.80      4884\n",
      "\n"
     ]
    }
   ],
   "source": [
    "XGB = XGBClassifier(random_state=666,max_depth=2,n_estimators=80)\n",
    "XGB_model = XGB.fit(X_train, y_train)\n",
    "print(\"Accuracy: %.3f\"% accuracy_score(y_test, XGB.predict(X_test)))\n",
    "print(classification_report(y_test, XGB.predict(X_test)))\n"
   ]
  },
  {
   "cell_type": "markdown",
   "metadata": {},
   "source": [
    "### XGBoost Visualizations"
   ]
  },
  {
   "cell_type": "code",
   "execution_count": 78,
   "metadata": {
    "collapsed": false
   },
   "outputs": [
    {
     "name": "stdout",
     "output_type": "stream",
     "text": [
      "Training Data Accuracy: 0.83\n",
      "Test Data Accuracy:     0.80\n",
      "[[1812  630]\n",
      " [ 325 2117]]\n",
      "\n",
      "\n",
      "Precision:        0.85\n",
      "Recall:           0.74\n"
     ]
    },
    {
     "data": {
      "image/png": "[encoded data removed]",
      "text/plain": [
       "<matplotlib.figure.Figure at 0x10abd5c88>"
      ]
     },
     "metadata": {},
     "output_type": "display_data"
    }
   ],
   "source": [
    "y_train=np.ravel(y_train)\n",
    "## accuracy for test and train set\n",
    "train_accuracy = XGB_model.score(X_train,y_train)\n",
    "test_accuracy = XGB_model.score(X_test,y_test)\n",
    "\n",
    "print(\"Training Data Accuracy: %0.2f\" %(train_accuracy))\n",
    "print(\"Test Data Accuracy:     %0.2f\" %(test_accuracy))\n",
    "\n",
    "y_true = y_test\n",
    "y_pred = XGB_model.predict(X_test)\n",
    "conf = confusion_matrix(y_true,y_pred)\n",
    "print(conf)\n",
    "\n",
    "print('\\n')\n",
    "print(\"Precision:        %0.2f\" %(conf[0,0] / (conf[0,0] + conf[1,0])))\n",
    "print(\"Recall:           %0.2f\" %(conf[0,0]/(conf[0,0] + conf[0,1])))\n",
    "cm = confusion_matrix(y_true,y_pred,labels=None)\n",
    "plt.figure()\n",
    "plot_confusion_matrix(cm)\n",
    "plt.savefig('GB_cm.png')"
   ]
  },
  {
   "cell_type": "code",
   "execution_count": 80,
   "metadata": {
    "collapsed": true
   },
   "outputs": [],
   "source": [
    "XGBfeatures = pd.DataFrame()\n",
    "XGBfeatures['importances'] = XGB_model.feature_importances_\n",
    "XGBfeatures['features'] = X.columns[0:97]\n",
    "XGBfeatures.sort_values('importances',ascending = False)\n",
    "\n",
    "XGB_df = GBfeatures.sort_values('importances',ascending = False)[0:10]"
   ]
  },
  {
   "cell_type": "code",
   "execution_count": 85,
   "metadata": {
    "collapsed": false,
    "scrolled": false
   },
   "outputs": [
    {
     "data": {
      "text/html": [
       "<div>\n",
       "<style>\n",
       "    .dataframe thead tr:only-child th {\n",
       "        text-align: right;\n",
       "    }\n",
       "\n",
       "    .dataframe thead th {\n",
       "        text-align: left;\n",
       "    }\n",
       "\n",
       "    .dataframe tbody tr th {\n",
       "        vertical-align: top;\n",
       "    }\n",
       "</style>\n",
       "<table border=\"1\" class=\"dataframe\">\n",
       "  <thead>\n",
       "    <tr style=\"text-align: right;\">\n",
       "      <th></th>\n",
       "      <th>importances</th>\n",
       "      <th>features</th>\n",
       "    </tr>\n",
       "  </thead>\n",
       "  <tbody>\n",
       "    <tr>\n",
       "      <th>0</th>\n",
       "      <td>0.220264</td>\n",
       "      <td>ATEOUT</td>\n",
       "    </tr>\n",
       "    <tr>\n",
       "      <th>1</th>\n",
       "      <td>0.202643</td>\n",
       "      <td>BMI</td>\n",
       "    </tr>\n",
       "    <tr>\n",
       "      <th>27</th>\n",
       "      <td>0.070485</td>\n",
       "      <td>VREC</td>\n",
       "    </tr>\n",
       "    <tr>\n",
       "      <th>89</th>\n",
       "      <td>0.057269</td>\n",
       "      <td>DLYALCO</td>\n",
       "    </tr>\n",
       "    <tr>\n",
       "      <th>77</th>\n",
       "      <td>0.044053</td>\n",
       "      <td>DLYLZ</td>\n",
       "    </tr>\n",
       "    <tr>\n",
       "      <th>95</th>\n",
       "      <td>0.039648</td>\n",
       "      <td>SLEEPDIS</td>\n",
       "    </tr>\n",
       "    <tr>\n",
       "      <th>4</th>\n",
       "      <td>0.035242</td>\n",
       "      <td>GROCERIES</td>\n",
       "    </tr>\n",
       "    <tr>\n",
       "      <th>94</th>\n",
       "      <td>0.022026</td>\n",
       "      <td>SLEEPPROB</td>\n",
       "    </tr>\n",
       "    <tr>\n",
       "      <th>19</th>\n",
       "      <td>0.022026</td>\n",
       "      <td>WALKBIKE</td>\n",
       "    </tr>\n",
       "    <tr>\n",
       "      <th>81</th>\n",
       "      <td>0.022026</td>\n",
       "      <td>DLYVC</td>\n",
       "    </tr>\n",
       "    <tr>\n",
       "      <th>63</th>\n",
       "      <td>0.022026</td>\n",
       "      <td>DLYMAGN</td>\n",
       "    </tr>\n",
       "    <tr>\n",
       "      <th>34</th>\n",
       "      <td>0.017621</td>\n",
       "      <td>VWRK</td>\n",
       "    </tr>\n",
       "    <tr>\n",
       "      <th>64</th>\n",
       "      <td>0.017621</td>\n",
       "      <td>DLYSODI</td>\n",
       "    </tr>\n",
       "    <tr>\n",
       "      <th>40</th>\n",
       "      <td>0.017621</td>\n",
       "      <td>WHT</td>\n",
       "    </tr>\n",
       "    <tr>\n",
       "      <th>61</th>\n",
       "      <td>0.013216</td>\n",
       "      <td>DLYSFAT</td>\n",
       "    </tr>\n",
       "    <tr>\n",
       "      <th>67</th>\n",
       "      <td>0.013216</td>\n",
       "      <td>DLYCOPP</td>\n",
       "    </tr>\n",
       "    <tr>\n",
       "      <th>24</th>\n",
       "      <td>0.013216</td>\n",
       "      <td>DLYPRT</td>\n",
       "    </tr>\n",
       "    <tr>\n",
       "      <th>70</th>\n",
       "      <td>0.008811</td>\n",
       "      <td>DLYACAR</td>\n",
       "    </tr>\n",
       "    <tr>\n",
       "      <th>75</th>\n",
       "      <td>0.008811</td>\n",
       "      <td>DLYATOC</td>\n",
       "    </tr>\n",
       "    <tr>\n",
       "      <th>87</th>\n",
       "      <td>0.008811</td>\n",
       "      <td>DLYVB2</td>\n",
       "    </tr>\n",
       "    <tr>\n",
       "      <th>88</th>\n",
       "      <td>0.008811</td>\n",
       "      <td>DLYCHL</td>\n",
       "    </tr>\n",
       "    <tr>\n",
       "      <th>91</th>\n",
       "      <td>0.008811</td>\n",
       "      <td>DLYCRYP</td>\n",
       "    </tr>\n",
       "    <tr>\n",
       "      <th>37</th>\n",
       "      <td>0.008811</td>\n",
       "      <td>DYSMWRK</td>\n",
       "    </tr>\n",
       "    <tr>\n",
       "      <th>51</th>\n",
       "      <td>0.008811</td>\n",
       "      <td>GNDR</td>\n",
       "    </tr>\n",
       "    <tr>\n",
       "      <th>48</th>\n",
       "      <td>0.008811</td>\n",
       "      <td>COLGRAD</td>\n",
       "    </tr>\n",
       "    <tr>\n",
       "      <th>25</th>\n",
       "      <td>0.004405</td>\n",
       "      <td>DYSWLKBK</td>\n",
       "    </tr>\n",
       "    <tr>\n",
       "      <th>38</th>\n",
       "      <td>0.004405</td>\n",
       "      <td>MNMWRK</td>\n",
       "    </tr>\n",
       "    <tr>\n",
       "      <th>90</th>\n",
       "      <td>0.004405</td>\n",
       "      <td>DLYFOLA</td>\n",
       "    </tr>\n",
       "    <tr>\n",
       "      <th>11</th>\n",
       "      <td>0.004405</td>\n",
       "      <td>INCOME6</td>\n",
       "    </tr>\n",
       "    <tr>\n",
       "      <th>83</th>\n",
       "      <td>0.004405</td>\n",
       "      <td>DLYVB1</td>\n",
       "    </tr>\n",
       "    <tr>\n",
       "      <th>...</th>\n",
       "      <td>...</td>\n",
       "      <td>...</td>\n",
       "    </tr>\n",
       "    <tr>\n",
       "      <th>23</th>\n",
       "      <td>0.000000</td>\n",
       "      <td>DLYFAT</td>\n",
       "    </tr>\n",
       "    <tr>\n",
       "      <th>15</th>\n",
       "      <td>0.000000</td>\n",
       "      <td>INCOME10</td>\n",
       "    </tr>\n",
       "    <tr>\n",
       "      <th>21</th>\n",
       "      <td>0.000000</td>\n",
       "      <td>DLYCARB</td>\n",
       "    </tr>\n",
       "    <tr>\n",
       "      <th>66</th>\n",
       "      <td>0.000000</td>\n",
       "      <td>DLYZINC</td>\n",
       "    </tr>\n",
       "    <tr>\n",
       "      <th>41</th>\n",
       "      <td>0.000000</td>\n",
       "      <td>BLK</td>\n",
       "    </tr>\n",
       "    <tr>\n",
       "      <th>42</th>\n",
       "      <td>0.000000</td>\n",
       "      <td>ASN</td>\n",
       "    </tr>\n",
       "    <tr>\n",
       "      <th>43</th>\n",
       "      <td>0.000000</td>\n",
       "      <td>HRSTV</td>\n",
       "    </tr>\n",
       "    <tr>\n",
       "      <th>44</th>\n",
       "      <td>0.000000</td>\n",
       "      <td>HRSCOMP</td>\n",
       "    </tr>\n",
       "    <tr>\n",
       "      <th>22</th>\n",
       "      <td>0.000000</td>\n",
       "      <td>DLYSGR</td>\n",
       "    </tr>\n",
       "    <tr>\n",
       "      <th>46</th>\n",
       "      <td>0.000000</td>\n",
       "      <td>HSGRAD</td>\n",
       "    </tr>\n",
       "    <tr>\n",
       "      <th>47</th>\n",
       "      <td>0.000000</td>\n",
       "      <td>SMCOL</td>\n",
       "    </tr>\n",
       "    <tr>\n",
       "      <th>20</th>\n",
       "      <td>0.000000</td>\n",
       "      <td>DLYKCAL</td>\n",
       "    </tr>\n",
       "    <tr>\n",
       "      <th>49</th>\n",
       "      <td>0.000000</td>\n",
       "      <td>HISP</td>\n",
       "    </tr>\n",
       "    <tr>\n",
       "      <th>50</th>\n",
       "      <td>0.000000</td>\n",
       "      <td>FRGN</td>\n",
       "    </tr>\n",
       "    <tr>\n",
       "      <th>7</th>\n",
       "      <td>0.000000</td>\n",
       "      <td>INCOME2</td>\n",
       "    </tr>\n",
       "    <tr>\n",
       "      <th>52</th>\n",
       "      <td>0.000000</td>\n",
       "      <td>CTZN</td>\n",
       "    </tr>\n",
       "    <tr>\n",
       "      <th>53</th>\n",
       "      <td>0.000000</td>\n",
       "      <td>VET</td>\n",
       "    </tr>\n",
       "    <tr>\n",
       "      <th>54</th>\n",
       "      <td>0.000000</td>\n",
       "      <td>SEPERATED</td>\n",
       "    </tr>\n",
       "    <tr>\n",
       "      <th>55</th>\n",
       "      <td>0.000000</td>\n",
       "      <td>DIVORCED</td>\n",
       "    </tr>\n",
       "    <tr>\n",
       "      <th>56</th>\n",
       "      <td>0.000000</td>\n",
       "      <td>PARTNER</td>\n",
       "    </tr>\n",
       "    <tr>\n",
       "      <th>57</th>\n",
       "      <td>0.000000</td>\n",
       "      <td>WIDOWED</td>\n",
       "    </tr>\n",
       "    <tr>\n",
       "      <th>58</th>\n",
       "      <td>0.000000</td>\n",
       "      <td>MARRIED</td>\n",
       "    </tr>\n",
       "    <tr>\n",
       "      <th>36</th>\n",
       "      <td>0.000000</td>\n",
       "      <td>MWRK</td>\n",
       "    </tr>\n",
       "    <tr>\n",
       "      <th>35</th>\n",
       "      <td>0.000000</td>\n",
       "      <td>MNVWRK</td>\n",
       "    </tr>\n",
       "    <tr>\n",
       "      <th>18</th>\n",
       "      <td>0.000000</td>\n",
       "      <td>DYSVWRK</td>\n",
       "    </tr>\n",
       "    <tr>\n",
       "      <th>62</th>\n",
       "      <td>0.000000</td>\n",
       "      <td>DLYFBR</td>\n",
       "    </tr>\n",
       "    <tr>\n",
       "      <th>17</th>\n",
       "      <td>0.000000</td>\n",
       "      <td>INCOME12</td>\n",
       "    </tr>\n",
       "    <tr>\n",
       "      <th>16</th>\n",
       "      <td>0.000000</td>\n",
       "      <td>INCOME11</td>\n",
       "    </tr>\n",
       "    <tr>\n",
       "      <th>65</th>\n",
       "      <td>0.000000</td>\n",
       "      <td>DLYIRON</td>\n",
       "    </tr>\n",
       "    <tr>\n",
       "      <th>60</th>\n",
       "      <td>0.000000</td>\n",
       "      <td>DLYPFAT</td>\n",
       "    </tr>\n",
       "  </tbody>\n",
       "</table>\n",
       "<p>96 rows × 2 columns</p>\n",
       "</div>"
      ],
      "text/plain": [
       "    importances   features\n",
       "0      0.220264     ATEOUT\n",
       "1      0.202643        BMI\n",
       "27     0.070485       VREC\n",
       "89     0.057269    DLYALCO\n",
       "77     0.044053      DLYLZ\n",
       "95     0.039648   SLEEPDIS\n",
       "4      0.035242  GROCERIES\n",
       "94     0.022026  SLEEPPROB\n",
       "19     0.022026   WALKBIKE\n",
       "81     0.022026      DLYVC\n",
       "63     0.022026    DLYMAGN\n",
       "34     0.017621       VWRK\n",
       "64     0.017621    DLYSODI\n",
       "40     0.017621        WHT\n",
       "61     0.013216    DLYSFAT\n",
       "67     0.013216    DLYCOPP\n",
       "24     0.013216     DLYPRT\n",
       "70     0.008811    DLYACAR\n",
       "75     0.008811    DLYATOC\n",
       "87     0.008811     DLYVB2\n",
       "88     0.008811     DLYCHL\n",
       "91     0.008811    DLYCRYP\n",
       "37     0.008811    DYSMWRK\n",
       "51     0.008811       GNDR\n",
       "48     0.008811    COLGRAD\n",
       "25     0.004405   DYSWLKBK\n",
       "38     0.004405     MNMWRK\n",
       "90     0.004405    DLYFOLA\n",
       "11     0.004405    INCOME6\n",
       "83     0.004405     DLYVB1\n",
       "..          ...        ...\n",
       "23     0.000000     DLYFAT\n",
       "15     0.000000   INCOME10\n",
       "21     0.000000    DLYCARB\n",
       "66     0.000000    DLYZINC\n",
       "41     0.000000        BLK\n",
       "42     0.000000        ASN\n",
       "43     0.000000      HRSTV\n",
       "44     0.000000    HRSCOMP\n",
       "22     0.000000     DLYSGR\n",
       "46     0.000000     HSGRAD\n",
       "47     0.000000      SMCOL\n",
       "20     0.000000    DLYKCAL\n",
       "49     0.000000       HISP\n",
       "50     0.000000       FRGN\n",
       "7      0.000000    INCOME2\n",
       "52     0.000000       CTZN\n",
       "53     0.000000        VET\n",
       "54     0.000000  SEPERATED\n",
       "55     0.000000   DIVORCED\n",
       "56     0.000000    PARTNER\n",
       "57     0.000000    WIDOWED\n",
       "58     0.000000    MARRIED\n",
       "36     0.000000       MWRK\n",
       "35     0.000000     MNVWRK\n",
       "18     0.000000    DYSVWRK\n",
       "62     0.000000     DLYFBR\n",
       "17     0.000000   INCOME12\n",
       "16     0.000000   INCOME11\n",
       "65     0.000000    DLYIRON\n",
       "60     0.000000    DLYPFAT\n",
       "\n",
       "[96 rows x 2 columns]"
      ]
     },
     "execution_count": 85,
     "metadata": {},
     "output_type": "execute_result"
    }
   ],
   "source": [
    "XGBfeatures.sort_values('importances',ascending=False)"
   ]
  },
  {
   "cell_type": "code",
   "execution_count": 82,
   "metadata": {
    "collapsed": false
   },
   "outputs": [
    {
     "data": {
      "image/png": "[encoded data removed]",
      "text/plain": [
       "<matplotlib.figure.Figure at 0x10ad7d940>"
      ]
     },
     "metadata": {},
     "output_type": "display_data"
    }
   ],
   "source": [
    "import seaborn as sns\n",
    "#XGB_df[0:12].plot(\"features\", \"importances\", kind=\"barh\", color=sns.color_palette(\"deep\", 3))\n",
    "ax = sns.barplot(x=\"features\", y=\"importances\", data=XGB_df[0:11] ,palette='RdBu')\n",
    "sns.set_style(\"darkgrid\")\n",
    "sns.color_palette(\"coolwarm\", 7)\n",
    "plt.xticks(rotation=30);\n",
    "fig.savefig('Features.png')"
   ]
  },
  {
   "cell_type": "code",
   "execution_count": 326,
   "metadata": {
    "collapsed": false
   },
   "outputs": [
    {
     "data": {
      "text/plain": [
       "<matplotlib.axes._subplots.AxesSubplot at 0x11dd12c18>"
      ]
     },
     "execution_count": 326,
     "metadata": {},
     "output_type": "execute_result"
    },
    {
     "data": {
      "image/png": "[encoded data removed]",
      "text/plain": [
       "<matplotlib.figure.Figure at 0x11dd1dfd0>"
      ]
     },
     "metadata": {},
     "output_type": "display_data"
    }
   ],
   "source": [
    "from numpy import loadtxt\n",
    "from xgboost import XGBClassifier\n",
    "from xgboost import plot_tree\n",
    "\n",
    "xgb.plot_importance(XGB_model,max_num_features=10,height=0.8,importance_type='gain')"
   ]
  },
  {
   "cell_type": "code",
   "execution_count": null,
   "metadata": {
    "collapsed": false
   },
   "outputs": [],
   "source": [
    "fig, ax = plt.subplots(figsize=(12,5))\n",
    "sns.set_style(\"whitegrid\")\n",
    "sns.barplot(x=\"features\", y=\"importances\", data=xgb)\n",
    "plt.xticks(rotation=30);\n",
    "fig.savefig('Features.png')"
   ]
  },
  {
   "cell_type": "markdown",
   "metadata": {},
   "source": []
  },
  {
   "cell_type": "code",
   "execution_count": 218,
   "metadata": {
    "collapsed": false
   },
   "outputs": [],
   "source": [
    "# See below two lines\n",
    "dtrain = xgb.DMatrix(X_train, label=y_train, feature_names=['RIDAGEYR','BMI','DIAB','GRPSTR','INCOME1','INCOME2','INCOME3','INCOME4','INCOME5','INCOME6','INCOME7','INCOME8','INCOME9','INCOME10','INCOME11','INCOME12','DYSVWRK','WALKBIKE','ATEOUT','CARRYOUT','GROCERIES','DLYKCAL','DLYCARB','DLYSGR','DLYFAT','DLYPRT','DYSWLKBK','MNWLKBK','VREC','DYSVREC','MNVREC','MREC','DYSMREC','MNMREC','SDNTRY','MXA','WHT','BLK','ASN','HRSTV','HRSCOMP','SMHS','MWRK','VWRK','DYSMWRK','MNMWRK','MNVWRK', 'HSGRAD','SMCOL','COLGRAD','HISP','FRGN','GNDR','CTZN','VET','SEPERATED','DIVORCED','PARTNER','WIDOWED','MARRIED','DLYMFAT','DLYPFAT','DLYSFAT','DLYFBR','DLYMAGN','DLYSODI','DLYIRON',\n",
    "'DLYZINC','DLYCOPP','DLYCAFF','DLYBCAR','DLYACAR','DLYPHOS','DLYVARA','DLYRET','DLYATOA','DLYATOC','DLYLYCO','DLYLZ','DLYVB12','DLYVB6','DLYB12A','DLYVC','DLYVD','DLYVB1','DLYPOTA','DLYNIAC','DLYFDFE','DLYVB2','DLYCHL','DLYALCO','DLYFOLA','DLYCRYP','WHLMLK','SLEEPHRS','SLEEPPROB','SLEEPDIS'])"
   ]
  },
  {
   "cell_type": "code",
   "execution_count": 219,
   "metadata": {
    "collapsed": true
   },
   "outputs": [],
   "source": [
    "dtest = xgb.DMatrix(X_test, label=y_test, feature_names=['RIDAGEYR','BMI','DIAB','GRPSTR','INCOME1','INCOME2','INCOME3','INCOME4','INCOME5','INCOME6','INCOME7','INCOME8','INCOME9','INCOME10','INCOME11','INCOME12','DYSVWRK','WALKBIKE','ATEOUT','CARRYOUT','GROCERIES','DLYKCAL','DLYCARB','DLYSGR','DLYFAT','DLYPRT','DYSWLKBK','MNWLKBK','VREC','DYSVREC','MNVREC','MREC','DYSMREC','MNMREC','SDNTRY','MXA','WHT','BLK','ASN','HRSTV','HRSCOMP','SMHS','MWRK','VWRK','DYSMWRK','MNMWRK','MNVWRK', 'HSGRAD','SMCOL','COLGRAD','HISP','FRGN','GNDR','CTZN','VET','SEPERATED','DIVORCED','PARTNER','WIDOWED','MARRIED','DLYMFAT','DLYPFAT','DLYSFAT','DLYFBR','DLYMAGN','DLYSODI','DLYIRON',\n",
    "'DLYZINC','DLYCOPP','DLYCAFF','DLYBCAR','DLYACAR','DLYPHOS','DLYVARA','DLYRET','DLYATOA','DLYATOC','DLYLYCO','DLYLZ','DLYVB12','DLYVB6','DLYB12A','DLYVC','DLYVD','DLYVB1','DLYPOTA','DLYNIAC','DLYFDFE','DLYVB2','DLYCHL','DLYALCO','DLYFOLA','DLYCRYP','WHLMLK','SLEEPHRS','SLEEPPROB','SLEEPDIS'])"
   ]
  },
  {
   "cell_type": "code",
   "execution_count": 225,
   "metadata": {
    "collapsed": false
   },
   "outputs": [
    {
     "name": "stdout",
     "output_type": "stream",
     "text": [
      "[0]\teval-error:0.21683\ttrain-error:0.207163\n",
      "[1]\teval-error:0.214578\ttrain-error:0.19777\n",
      "[2]\teval-error:0.214373\ttrain-error:0.201018\n",
      "[3]\teval-error:0.210074\ttrain-error:0.197331\n",
      "[4]\teval-error:0.205979\ttrain-error:0.193557\n",
      "[5]\teval-error:0.203931\ttrain-error:0.191187\n",
      "[6]\teval-error:0.204136\ttrain-error:0.191187\n",
      "[7]\teval-error:0.203931\ttrain-error:0.192328\n",
      "[8]\teval-error:0.203726\ttrain-error:0.192504\n",
      "[9]\teval-error:0.200655\ttrain-error:0.187851\n"
     ]
    }
   ],
   "source": [
    "evallist = [(dtest, 'eval'), (dtrain, 'train')]\n",
    "param = {'max_depth': 2, 'objective': 'binary:logistic'}\n",
    "bst = xgb.train(param, dtrain,10, evallist)"
   ]
  },
  {
   "cell_type": "code",
   "execution_count": null,
   "metadata": {
    "collapsed": false
   },
   "outputs": [],
   "source": [
    "#xgb.plot_importance(bst,height=.3)\n",
    "ypred = bst.predict(dtest, ntree_limit=bst.best_ntree_limit)\n",
    "y_pred[y_pred > 0.5] = 1\n",
    "y_pred[y_pred <= 0.5] = 0\n",
    "# ROC Curve Evaluation\n",
    "prob_y_4 = [p[1] for p in y_pred]\n",
    "print( roc_auc_score(y_test, prob_y_4) )"
   ]
  },
  {
   "cell_type": "code",
   "execution_count": 310,
   "metadata": {
    "collapsed": false
   },
   "outputs": [
    {
     "data": {
      "text/plain": [
       "<matplotlib.axes._subplots.AxesSubplot at 0x12828c160>"
      ]
     },
     "execution_count": 310,
     "metadata": {},
     "output_type": "execute_result"
    },
    {
     "data": {
      "image/png": "[encoded data removed]",
      "text/plain": [
       "<matplotlib.figure.Figure at 0x1282a7da0>"
      ]
     },
     "metadata": {},
     "output_type": "display_data"
    }
   ],
   "source": [
    "import seaborn as sns\n",
    "sns.set(font_scale = 1.5)\n",
    "xgb.plot_importance(bst,height=.3)"
   ]
  },
  {
   "cell_type": "code",
   "execution_count": 331,
   "metadata": {
    "collapsed": false
   },
   "outputs": [
    {
     "data": {
      "text/plain": [
       "<matplotlib.axes._subplots.AxesSubplot at 0x11de4e9e8>"
      ]
     },
     "execution_count": 331,
     "metadata": {},
     "output_type": "execute_result"
    },
    {
     "data": {
      "image/png": "[encoded data removed]",
      "text/plain": [
       "<matplotlib.figure.Figure at 0x11e0261d0>"
      ]
     },
     "metadata": {},
     "output_type": "display_data"
    }
   ],
   "source": [
    "xgb.plot_tree(XGB,num_trees=5)"
   ]
  },
  {
   "cell_type": "code",
   "execution_count": 353,
   "metadata": {
    "collapsed": false
   },
   "outputs": [
    {
     "data": {
      "text/plain": [
       "LogisticRegression(C=1.0, class_weight=None, dual=False, fit_intercept=True,\n",
       "          intercept_scaling=1, max_iter=100, multi_class='ovr', n_jobs=1,\n",
       "          penalty='l2', random_state=None, solver='liblinear', tol=0.0001,\n",
       "          verbose=0, warm_start=False)"
      ]
     },
     "execution_count": 353,
     "metadata": {},
     "output_type": "execute_result"
    }
   ],
   "source": []
  },
  {
   "cell_type": "markdown",
   "metadata": {},
   "source": [
    "## Model: KNN Classifier"
   ]
  },
  {
   "cell_type": "code",
   "execution_count": 95,
   "metadata": {
    "collapsed": false
   },
   "outputs": [
    {
     "name": "stdout",
     "output_type": "stream",
     "text": [
      "[0.84125960195530725, 0.90075805566640066, 0.88814358040702301, 0.90522433659217882, 0.90008928571428581, 0.90734524640861947, 0.90645201516360741, 0.90812674581005592, 0.90790353152434167, 0.90835008479648827, 0.90846169193934556, 0.90846169193934556, 0.90835008479648827, 0.90846169193934556, 0.90846169193934556, 0.90846169193934556, 0.90846169193934556, 0.90846169193934556, 0.90846169193934556, 0.90846169193934556, 0.90846169193934556, 0.90846169193934556, 0.90846169193934556, 0.90846169193934556, 0.90846169193934556, 0.90846169193934556, 0.90846169193934556, 0.90846169193934556, 0.90846169193934556, 0.90846169193934556]\n"
     ]
    }
   ],
   "source": [
    "from sklearn.neighbors import KNeighborsClassifier\n",
    "from sklearn import metrics\n",
    "\n",
    "\n",
    "k_range = list(range(1, 31))\n",
    "k_scores = []\n",
    "for k in k_range:\n",
    "    knn = KNeighborsClassifier(n_neighbors=k)\n",
    "    scores = cross_val_score(knn, X, y, cv=10, scoring='accuracy')\n",
    "    k_scores.append(scores.mean())\n",
    "print(k_scores)"
   ]
  },
  {
   "cell_type": "code",
   "execution_count": 96,
   "metadata": {
    "collapsed": false
   },
   "outputs": [
    {
     "data": {
      "text/plain": [
       "<matplotlib.text.Text at 0x11eacd7f0>"
      ]
     },
     "execution_count": 96,
     "metadata": {},
     "output_type": "execute_result"
    },
    {
     "data": {
      "image/png": "[encoded data removed]",
      "text/plain": [
       "<matplotlib.figure.Figure at 0x11ed28eb8>"
      ]
     },
     "metadata": {},
     "output_type": "display_data"
    }
   ],
   "source": [
    "import matplotlib.pyplot as plt\n",
    "%matplotlib inline\n",
    "\n",
    "# plot the value of K for KNN (x-axis) versus the cross-validated accuracy (y-axis)\n",
    "plt.plot(k_range, k_scores)\n",
    "plt.xlabel('Value of K for KNN')\n",
    "plt.ylabel('Cross-Validated Accuracy')"
   ]
  },
  {
   "cell_type": "code",
   "execution_count": 513,
   "metadata": {
    "collapsed": false
   },
   "outputs": [
    {
     "name": "stdout",
     "output_type": "stream",
     "text": [
      "0.669533169533\n"
     ]
    }
   ],
   "source": [
    "from sklearn.neighbors import KNeighborsClassifier\n",
    "from sklearn import metrics\n",
    "knn = KNeighborsClassifier(n_neighbors=20)\n",
    "model = knn.fit(X_train, y_train)\n",
    "y_pred = knn.predict(X_test)\n",
    "print(metrics.accuracy_score(y_test, y_pred))"
   ]
  },
  {
   "cell_type": "code",
   "execution_count": 514,
   "metadata": {
    "collapsed": false,
    "scrolled": true
   },
   "outputs": [
    {
     "name": "stdout",
     "output_type": "stream",
     "text": [
      "Accuracy: 0.670\n",
      "             precision    recall  f1-score   support\n",
      "\n",
      "          0       0.64      0.78      0.70      2442\n",
      "          1       0.72      0.56      0.63      2442\n",
      "\n",
      "avg / total       0.68      0.67      0.67      4884\n",
      "\n"
     ]
    }
   ],
   "source": [
    "print(\"Accuracy: %.3f\"% accuracy_score(y_test, model.predict(X_test)))\n",
    "print(classification_report(y_test, model.predict(X_test)))"
   ]
  },
  {
   "cell_type": "code",
   "execution_count": 519,
   "metadata": {
    "collapsed": false
   },
   "outputs": [
    {
     "name": "stdout",
     "output_type": "stream",
     "text": [
      "0.746138169664\n"
     ]
    }
   ],
   "source": [
    "# ROC Curve Evaluation\n",
    "prob_y_4 = knn.predict_proba(X_test)\n",
    "prob_y_4 = [p[1] for p in prob_y_4]\n",
    "print( roc_auc_score(y_test, prob_y_4) )"
   ]
  },
  {
   "cell_type": "code",
   "execution_count": 520,
   "metadata": {
    "collapsed": false
   },
   "outputs": [],
   "source": [
    "KNN_AUC = roc_auc_score(y_test, prob_y_4)"
   ]
  },
  {
   "cell_type": "markdown",
   "metadata": {},
   "source": [
    "## Model: Logistic Regression "
   ]
  },
  {
   "cell_type": "code",
   "execution_count": 525,
   "metadata": {
    "collapsed": false
   },
   "outputs": [],
   "source": [
    "from sklearn.linear_model import LogisticRegression\n",
    "\n",
    "X_train = scale(X_train)\n",
    "X_test = scale(X_test)\n",
    "\n",
    "logit = LogisticRegression(C=10.0,class_weight='balanced',random_state=666)\n",
    "Log_model = logit.fit(X_train,y_train)\n"
   ]
  },
  {
   "cell_type": "code",
   "execution_count": 526,
   "metadata": {
    "collapsed": false
   },
   "outputs": [
    {
     "name": "stdout",
     "output_type": "stream",
     "text": [
      "Accuracy: 0.799\n",
      "             precision    recall  f1-score   support\n",
      "\n",
      "          0       0.82      0.77      0.79      2442\n",
      "          1       0.78      0.83      0.81      2442\n",
      "\n",
      "avg / total       0.80      0.80      0.80      4884\n",
      "\n"
     ]
    }
   ],
   "source": [
    "print(\"Accuracy: %.3f\"% accuracy_score(y_test, Log_model.predict(X_test)))\n",
    "print(classification_report(y_test, Log_model.predict(X_test)))"
   ]
  },
  {
   "cell_type": "code",
   "execution_count": 527,
   "metadata": {
    "collapsed": false
   },
   "outputs": [
    {
     "name": "stdout",
     "output_type": "stream",
     "text": [
      "0.866529529306\n"
     ]
    }
   ],
   "source": [
    "# ROC Curve Evaluation\n",
    "prob_y_4 = Log_model.predict_proba(X_test)\n",
    "prob_y_4 = [p[1] for p in prob_y_4]\n",
    "Log_AUC = roc_auc_score(y_test, prob_y_4)\n",
    "print( roc_auc_score(y_test, prob_y_4) )\n"
   ]
  },
  {
   "cell_type": "code",
   "execution_count": 528,
   "metadata": {
    "collapsed": false
   },
   "outputs": [
    {
     "name": "stdout",
     "output_type": "stream",
     "text": [
      "Training Data Accuracy: 0.83\n",
      "Test Data Accuracy:     0.80\n",
      "[[1869  573]\n",
      " [ 410 2032]]\n",
      "\n",
      "\n",
      "Precision:        0.82\n",
      "Recall:           0.77\n"
     ]
    },
    {
     "data": {
      "image/png": "[encoded data removed]",
      "text/plain": [
       "<matplotlib.figure.Figure at 0x12bd21dd8>"
      ]
     },
     "metadata": {},
     "output_type": "display_data"
    }
   ],
   "source": [
    "y_train=np.ravel(y_train)\n",
    "## accuracy for test and train set\n",
    "train_accuracy = Log_model.score(X_train,y_train)\n",
    "test_accuracy = Log_model.score(X_test,y_test)\n",
    "\n",
    "print(\"Training Data Accuracy: %0.2f\" %(train_accuracy))\n",
    "print(\"Test Data Accuracy:     %0.2f\" %(test_accuracy))\n",
    "\n",
    "y_true = y_test\n",
    "y_pred = Log_model.predict(X_test)\n",
    "conf = confusion_matrix(y_true,y_pred)\n",
    "print(conf)\n",
    "\n",
    "print('\\n')\n",
    "print(\"Precision:        %0.2f\" %(conf[0,0] / (conf[0,0] + conf[1,0])))\n",
    "print(\"Recall:           %0.2f\" %(conf[0,0]/(conf[0,0] + conf[0,1])))\n",
    "cm = confusion_matrix(y_true,y_pred,labels=None)\n",
    "plt.figure()\n",
    "plot_confusion_matrix(cm)\n",
    "plt.savefig('Log_cm.png')"
   ]
  },
  {
   "cell_type": "code",
   "execution_count": 519,
   "metadata": {
    "collapsed": false
   },
   "outputs": [
    {
     "data": {
      "text/plain": [
       "Index(['ATEOUT', 'BMI', 'RIDAGEYR', 'CARRYOUT', 'GROCERIES', 'GRPSTR',\n",
       "       'INCOME1', 'INCOME2', 'INCOME3', 'INCOME4', 'INCOME5', 'INCOME6',\n",
       "       'INCOME7', 'INCOME8', 'INCOME9', 'INCOME10', 'INCOME11', 'INCOME12',\n",
       "       'DYSVWRK', 'DYSVWRK', 'WALKBIKE', 'DLYKCAL', 'DLYCARB', 'DLYSGR',\n",
       "       'DLYFAT', 'DLYPRT', 'DYSWLKBK', 'MNWLKBK', 'VREC', 'DYSVREC', 'MNVREC',\n",
       "       'MREC', 'DYSMREC', 'MNMREC', 'SDNTRY', 'VWRK', 'DYSVWRK', 'DYSVWRK',\n",
       "       'MNVWRK', 'MWRK', 'DYSMWRK', 'MNMWRK', 'MXA', 'WHT', 'BLK', 'ASN',\n",
       "       'HRSTV', 'HRSCOMP', 'SMHS', 'HSGRAD', 'SMCOL', 'COLGRAD', 'HISP',\n",
       "       'FRGN', 'GNDR', 'CTZN', 'VET', 'SEPERATED', 'DIVORCED', 'PARTNER',\n",
       "       'WIDOWED', 'MARRIED', 'DLYMFAT', 'DLYPFAT', 'DLYSFAT', 'DLYFBR',\n",
       "       'DLYMAGN', 'DLYSODI', 'DLYIRON', 'DLYZINC', 'DLYCOPP', 'DLYCAFF',\n",
       "       'DLYBCAR', 'DLYACAR', 'DLYPHOS', 'DLYVARA', 'DLYRET', 'DLYATOA',\n",
       "       'DLYATOC', 'DLYLYCO', 'DLYLZ', 'DLYVB12', 'DLYVB6', 'DLYB12A', 'DLYVC',\n",
       "       'DLYVD', 'DLYVB1', 'DLYPOTA', 'DLYNIAC', 'DLYFDFE', 'DLYVB2', 'DLYCHL',\n",
       "       'DLYALCO', 'DLYFOLA', 'DLYCRYP', 'WHLMLK', 'SLEEPHRS'],\n",
       "      dtype='object')"
      ]
     },
     "execution_count": 519,
     "metadata": {},
     "output_type": "execute_result"
    }
   ],
   "source": [
    "#Log_model.coef_\n",
    "#Log_df = Log_model.coef_('importances',ascending = False)[0:10]\n",
    "X.columns[0:97]"
   ]
  },
  {
   "cell_type": "code",
   "execution_count": 564,
   "metadata": {
    "collapsed": false
   },
   "outputs": [
    {
     "ename": "SyntaxError",
     "evalue": "invalid syntax (<ipython-input-564-46b06124a75c>, line 3)",
     "output_type": "error",
     "traceback": [
      "\u001b[0;36m  File \u001b[0;32m\"<ipython-input-564-46b06124a75c>\"\u001b[0;36m, line \u001b[0;32m3\u001b[0m\n\u001b[0;31m    -0.03901901, -0.11057547, 0.046631, -0.086025, 0.085269,-0.209237,1.43672385,0.122201, -1.536005,0.444722,1.536005,0.444722,1.511677,, 0.005882 , -0.441232,-0.235727,0.217422,-.953585]\u001b[0m\n\u001b[0m                                                                                                                                         ^\u001b[0m\n\u001b[0;31mSyntaxError\u001b[0m\u001b[0;31m:\u001b[0m invalid syntax\n"
     ]
    }
   ],
   "source": [
    "#Logfeatures = pd.DataFrame()\n",
    "Logfeatures['Log_Odds'] = [ 0.76631216, -0.23582344, -0.11844303, \n",
    "        -0.03901901, -0.11057547, 0.046631, -0.086025, 0.085269,-0.209237,1.43672385,0.122201, -1.536005,0.444722,1.536005,0.444722,1.511677,, 0.005882 , -0.441232,-0.235727,0.217422,-.953585]\n",
    "Logfeatures['Features'] = X.columns[0:97]\n",
    "\n",
    "#abs(Logfeatures).sort_values('Log_Odds',ascending = False)[0:10]"
   ]
  },
  {
   "cell_type": "code",
   "execution_count": 547,
   "metadata": {
    "collapsed": false
   },
   "outputs": [],
   "source": [
    "#Logfeatures = Logfeatures[['Log_Odds','Features']]\n",
    "#Logfeatures = Logfeatures.set_index('Features')\n",
    "#Log_abs = Logfeatures.abs()\n",
    "#Log_abs.sort_values('Log_Odds',ascending=False)\n",
    "\n",
    "#Log_plot = Logfeatures.reset_index(drop=True)\n",
    "#Log_plot['Index'] = range(0,97)\n",
    "Values = [ 1.511677,1.43672385, 0.76631216,0.444722, 0.217422,0.122201,0.085269,0.046631,0.005882, -0.086025,  \n",
    "        -0.11057547,-0.118443,-0.209237,-0.235727,-0.23582344,\n",
    "        -0.283504,-0.441232,-1.536005]\n",
    "Columns = ['DLYFAT','ATEOUT','BMI','DLYCARB','HISP','HRSTV','COLGRAD','INCOME3','DLYPRT','INCOME1','INCOME9','GROCERIES','HSGRAD','WHT','RIDAGEYR','DYSVWRK','VREC','DLYKCAL']\n",
    "Log_plots = pd.DataFrame(dict(Feature=Columns,Log_Odds=Values))\n"
   ]
  },
  {
   "cell_type": "code",
   "execution_count": 530,
   "metadata": {
    "collapsed": false
   },
   "outputs": [
    {
     "data": {
      "text/plain": [
       "array([[ 1.43654863,  0.76626039, -0.23592205, -0.035519  , -0.11844008,\n",
       "        -0.03905401, -0.11051562, -0.13510837,  0.04675231, -0.01538428,\n",
       "        -0.01357044, -0.07962156, -0.06288983, -0.07950886, -0.08596206,\n",
       "        -0.00813801, -0.17060683,  0.06854775, -0.04536968,  0.01269766,\n",
       "        -1.59369918,  0.47464141, -0.21861436,  1.52676554,  0.0178919 ,\n",
       "         0.07244271,  0.22311017, -0.44123265,  0.28865756,  0.03678256,\n",
       "         0.35439904, -0.22106921, -0.19888862, -0.06271469, -0.00861216,\n",
       "        -0.28332234, -0.06967409, -0.0711076 ,  0.03758577,  0.08765204,\n",
       "        -0.02820919, -0.00672116, -0.23564718,  0.08020142,  0.04583632,\n",
       "        -0.00813801,  0.12227072, -0.11459676, -0.14256103, -0.2093314 ,\n",
       "        -0.12235602,  0.08534416,  0.21743961,  0.07634991,  0.04665994,\n",
       "         0.12828131,  0.0766503 ,  0.08568196, -0.0368894 ,  0.10509161,\n",
       "        -0.3924161 , -0.10300197, -0.32697206,  0.11852983,  0.13596405,\n",
       "         0.43792936, -0.2450787 ,  0.03036279, -0.09745982,  0.15266531,\n",
       "         0.46216728,  0.01327803,  0.15173011, -0.57453098,  0.46973756,\n",
       "         0.01297628, -0.14694106,  0.05306358, -0.13514516,  0.04211637,\n",
       "        -0.31396034,  0.23369834, -0.10841538, -0.06540062,  0.26707202,\n",
       "         0.04792714,  0.09617604,  0.92341905, -0.32171197,  0.32251545,\n",
       "        -0.04786229, -0.87977046,  0.13864395, -0.06827359, -0.00266884,\n",
       "         0.22925151,  0.1657782 ]])"
      ]
     },
     "execution_count": 530,
     "metadata": {},
     "output_type": "execute_result"
    }
   ],
   "source": [
    "#Log_Plot = Logfeatures[['RIDAGEYR','DLYKCAL','BMI','ATEOUT','DLYFAT','DLYCARB','DLYSGR','VREC','WHT','HISP','BLK','ASN','INCOME1','INCOME2','INCOME3','INCOME10','INCOME11','INCOME12']]\n",
    "#Log_plot = Logfeatures.iloc[2:20]\n",
    "#Log_plot\n",
    "#Log_plot = Log_plot.pivot(index='Index', columns='Features', values='Log_Odds')\n",
    "#Feature_List = Log_plot.sum()\n",
    "#Log_plot.sort_values(by='Log_Ods',ascending=True).head(50)\n",
    "Log_model.coef_"
   ]
  },
  {
   "cell_type": "code",
   "execution_count": 634,
   "metadata": {
    "collapsed": false
   },
   "outputs": [
    {
     "data": {
      "image/png": "[encoded data removed]",
      "text/plain": [
       "<matplotlib.figure.Figure at 0x11e136be0>"
      ]
     },
     "metadata": {},
     "output_type": "display_data"
    }
   ],
   "source": [
    "fig, ax = plt.subplots()\n",
    "sns.barplot(x=\"Feature\", y=\"Log_Odds\", data=Log_plots,palette='RdBu')\n",
    "fig.set_size_inches(14, 6)\n",
    "plt.xticks(rotation=30);   #GBfeatures.sort_values('importances',ascending = False)[0:10]\n",
    "fig.savefig('LogOdds.png') "
   ]
  },
  {
   "cell_type": "code",
   "execution_count": 591,
   "metadata": {
    "collapsed": false
   },
   "outputs": [
    {
     "data": {
      "image/png": "[encoded data removed]",
      "text/plain": [
       "<matplotlib.figure.Figure at 0x11e0f1b38>"
      ]
     },
     "metadata": {},
     "output_type": "display_data"
    }
   ],
   "source": [
    "sns.palplot(sns.diverging_palette(240, 10, n=9))"
   ]
  },
  {
   "cell_type": "code",
   "execution_count": 545,
   "metadata": {
    "collapsed": false
   },
   "outputs": [
    {
     "data": {
      "image/png": "[encoded data removed]",
      "text/plain": [
       "<matplotlib.figure.Figure at 0x12c786a58>"
      ]
     },
     "metadata": {},
     "output_type": "display_data"
    }
   ],
   "source": [
    "nb_score = NB.predict_proba(X_test)[:,1]\n",
    "rf_score = rf.predict_proba(X_test)[:,1]\n",
    "knn_score = knn.predict_proba(X_test)[:,1]\n",
    "GB_score = GB_model.predict_proba(X_test)[:,1]\n",
    "XGB_score = XGB_model.predict_proba(X_test)[:,1]\n",
    "Logit_score = Log_model.predict_proba(X_test)[:,1]\n",
    "\n",
    "\n",
    "\n",
    "nb_fpr, nb_tpr,_ = roc_curve(y_test, nb_score)\n",
    "GB_fpr, GB_tpr,_ = roc_curve(y_test, GB_score)\n",
    "XGB_fpr, XGB_tpr,_ = roc_curve(y_test, XGB_score)\n",
    "knn_fpr, knn_tpr,_ = roc_curve(y_test, knn_score)\n",
    "rf_fpr, rf_tpr,_ = roc_curve(y_test, rf_score)\n",
    "SVC_fpr, SVC_tpr, _ = roc_curve(y_test, y_score)\n",
    "Logit_fpr, Logit_tpr,_ = roc_curve(y_test, Logit_score)\n",
    "\n",
    "\n",
    "\n",
    "plt.figure(figsize = (10,10))\n",
    "plt.subplot(1,1,1)\n",
    "\n",
    "plt.plot([0,1],[0,1])\n",
    "\n",
    "plt.plot(nb_fpr,nb_tpr, label = 'NaiveBayes - Gaussian')\n",
    "plt.plot(GB_fpr,GB_tpr, label = 'Gradient Boost')\n",
    "plt.plot(XGB_fpr,XGB_tpr, label = 'XGradient Boost')\n",
    "plt.plot(rf_fpr,rf_tpr, label = 'RandomForrests')\n",
    "plt.plot(knn_fpr,knn_tpr, label = 'KNN')\n",
    "plt.plot(SVC_fpr, SVC_tpr, label = 'SVC')\n",
    "plt.plot(Logit_fpr, Logit_tpr, label = 'Logit')\n",
    "\n",
    "### PRINT AUC SCORES: roc_auc_score(y_test, prob_y_4)\n",
    "\n",
    "plt.legend()\n",
    "plt.grid(True)\n",
    "plt.xlabel('FPR')\n",
    "plt.ylabel('TPR')\n",
    "\n",
    "plt.savefig('RocCurve.png')"
   ]
  },
  {
   "cell_type": "code",
   "execution_count": 25,
   "metadata": {
    "collapsed": false
   },
   "outputs": [],
   "source": [
    "treeToJson('tree.dot',feature_names=None)"
   ]
  },
  {
   "cell_type": "code",
   "execution_count": 24,
   "metadata": {
    "collapsed": false
   },
   "outputs": [],
   "source": [
    "def treeToJson(decision_tree, feature_names=None):\n",
    "    from warnings import warn\n",
    " \n",
    "    js = \"\"\n",
    "\n",
    "    def node_to_str(tree, node_id, criterion):\n",
    "        if not isinstance(criterion, sklearn.tree.tree.six.string_types):\n",
    "            criterion = \"impurity\"\n",
    "\n",
    "            value = tree.value[node_id]\n",
    "        if tree.n_outputs == 1:\n",
    "            value = value[0, :]\n",
    "\n",
    "            jsonValue = ', '.join([str(x) for x in value])\n",
    "\n",
    "        if tree.children_left[node_id] == sklearn.tree._tree.TREE_LEAF:\n",
    "            return '\"id\": \"%s\", \"criterion\": \"%s\", \"impurity\": \"%s\", \"samples\": \"%s\", \"value\": [%s]' \\\n",
    "                 % (node_id, \n",
    "                    criterion,\n",
    "                    tree.impurity[node_id],\n",
    "                    tree.n_node_samples[node_id],\n",
    "                    jsonValue)\n",
    "        else:\n",
    "            if feature_names is not None:\n",
    "                feature = feature_names[tree.feature[node_id]]\n",
    "            else:\n",
    "                feature = tree.feature[node_id]\n",
    "\n",
    "            if \"=\" in feature:\n",
    "                ruleType = \"=\"\n",
    "                ruleValue = \"false\"\n",
    "            else:\n",
    "                ruleType = \"<=\"\n",
    "                ruleValue = \"%.4f\" % tree.threshold[node_id]\n",
    "\n",
    "            return '\"id\": \"%s\", \"rule\": \"%s %s %s\", \"%s\": \"%s\", \"samples\": \"%s\"' \\\n",
    "                 % (node_id, \n",
    "                    feature,\n",
    "                    ruleType,\n",
    "                    ruleValue,\n",
    "                    criterion,\n",
    "                    tree.impurity[node_id],\n",
    "                    tree.n_node_samples[node_id])\n",
    "\n",
    "    def recurse(tree, node_id, criterion, parent=None, depth=0):\n",
    "        tabs = \"  \" * depth\n",
    "        js = \"\"\n",
    "\n",
    "        left_child = tree.children_left[node_id]\n",
    "        right_child = tree.children_right[node_id]\n",
    "\n",
    "        js = js + \"\\n\" + \\\n",
    "             tabs + \"{\\n\" + \\\n",
    "             tabs + \"  \" + node_to_str(tree, node_id, criterion)\n",
    "\n",
    "        if left_child != sklearn.tree._tree.TREE_LEAF:\n",
    "            js = js + \",\\n\" + \\\n",
    "            tabs + '  \"left\": ' + \\\n",
    "            recurse(tree, \\\n",
    "                       left_child, \\\n",
    "                       criterion=criterion, \\\n",
    "                       parent=node_id, \\\n",
    "                       depth=depth + 1) + \",\\n\" + \\\n",
    "            tabs + '  \"right\": ' + \\\n",
    "            recurse(tree, \\\n",
    "                       right_child, \\\n",
    "                       criterion=criterion, \\\n",
    "                       parent=node_id,\n",
    "                       depth=depth + 1)\n",
    "\n",
    "            js = js + tabs + \"\\n\" + \\\n",
    "             tabs + \"}\"\n",
    "\n",
    "        return js\n",
    "\n",
    "        if isinstance(decision_tree, sklearn.tree.tree.Tree):\n",
    "            js = js + recurse(decision_tree, 0, criterion=\"impurity\")\n",
    "        else:\n",
    "            js = js + recurse(decision_tree.tree_, 0, criterion=decision_tree.criterion)\n",
    "\n",
    "        return js\n",
    "\n",
    "    "
   ]
  },
  {
   "cell_type": "code",
   "execution_count": 38,
   "metadata": {
    "collapsed": false
   },
   "outputs": [
    {
     "ename": "NameError",
     "evalue": "name 'load_all_datasets' is not defined",
     "output_type": "error",
     "traceback": [
      "\u001b[0;31m---------------------------------------------------------------------------\u001b[0m",
      "\u001b[0;31mNameError\u001b[0m                                 Traceback (most recent call last)",
      "\u001b[0;32m<ipython-input-38-ac33b87b5fad>\u001b[0m in \u001b[0;36m<module>\u001b[0;34m()\u001b[0m\n\u001b[1;32m    117\u001b[0m \u001b[0mNR_FOLDS\u001b[0m \u001b[0;34m=\u001b[0m \u001b[0;36m5\u001b[0m\u001b[0;34m\u001b[0m\u001b[0m\n\u001b[1;32m    118\u001b[0m \u001b[0mGB\u001b[0m \u001b[0;34m=\u001b[0m \u001b[0mGradientBoostingClassifier\u001b[0m\u001b[0;34m(\u001b[0m\u001b[0mrandom_state\u001b[0m\u001b[0;34m=\u001b[0m\u001b[0;36m666\u001b[0m\u001b[0;34m,\u001b[0m\u001b[0mmax_depth\u001b[0m\u001b[0;34m=\u001b[0m\u001b[0;36m2\u001b[0m\u001b[0;34m,\u001b[0m\u001b[0;34m)\u001b[0m\u001b[0;34m\u001b[0m\u001b[0m\n\u001b[0;32m--> 119\u001b[0;31m \u001b[0;32mfor\u001b[0m \u001b[0mdataset\u001b[0m \u001b[0;32min\u001b[0m \u001b[0mload_all_datasets\u001b[0m\u001b[0;34m(\u001b[0m\u001b[0;34m)\u001b[0m\u001b[0;34m:\u001b[0m\u001b[0;34m\u001b[0m\u001b[0m\n\u001b[0m\u001b[1;32m    120\u001b[0m     \u001b[0mdf\u001b[0m \u001b[0;34m=\u001b[0m \u001b[0mdf1\u001b[0m\u001b[0;34m[\u001b[0m\u001b[0;34m'dataframe'\u001b[0m\u001b[0;34m]\u001b[0m\u001b[0;34m\u001b[0m\u001b[0m\n\u001b[1;32m    121\u001b[0m     \u001b[0mlabel_col\u001b[0m \u001b[0;34m=\u001b[0m \u001b[0mdf1\u001b[0m\u001b[0;34m[\u001b[0m\u001b[0;34m'DIAB'\u001b[0m\u001b[0;34m]\u001b[0m\u001b[0;34m\u001b[0m\u001b[0m\n",
      "\u001b[0;31mNameError\u001b[0m: name 'load_all_datasets' is not defined"
     ]
    }
   ],
   "source": [
    "# Limit depth of tree to 3 levels\n",
    "#XGB_small = XGBClassifier(random_state = 666, max_depth = 3)\n",
    "#XGB_small.fit(train_features, train_labels)\n",
    "# Extract the small tree\n",
    "from sklearn.cross_validation import StratifiedKFold\n",
    "from xgboost import plot_tree\n",
    "import matplotlib.pyplot as plt\n",
    "\n",
    "\n",
    "import numpy as np\n",
    "from collections import Counter\n",
    "import time\n",
    "\n",
    "\n",
    "def parse_GB_tree_string(tree_string, training_data, feature_cols, label_col, the_class):\n",
    "    # Get class distribution\n",
    "    _classes = np.unique(training_data[label_col].values)\n",
    "    class_distributions = {}\n",
    "    for _class in _classes:\n",
    "        data = training_data[training_data[label_col] != _class]\n",
    "        class_counts = Counter(data[label_col].values)\n",
    "        total = sum(class_counts.values(), 0.0)\n",
    "        for key in class_counts:\n",
    "            class_counts[key] /= total\n",
    "        class_distributions[_class] = class_counts\n",
    "\n",
    "    # Get the unique values per feature\n",
    "    unique_values_per_feature = {}\n",
    "    for feature_col in feature_cols:\n",
    "        # Just use a simple sorted list of np.unique (faster than SortedList or a set to get index of elements after testing)\n",
    "        unique_values_per_feature[feature_col] = sorted(np.unique(training_data[feature_col].values))\n",
    "\n",
    "    return parse_xgb_tree(tree_string, _class=the_class, class_distributions=class_distributions,\n",
    "                          unique_values_per_feature=unique_values_per_feature, n_samples=len(training_data))\n",
    "\n",
    "\n",
    "def get_closest_value(x, values):\n",
    "    for i in range(len(values)-1):\n",
    "        if values[i+1] > x:\n",
    "            return float(values[i])\n",
    "    return x\n",
    "\n",
    "\n",
    "def parse_GB_tree(tree_string, _class=0, class_distributions={}, unique_values_per_feature={}, n_samples=0):\n",
    "    # There is some magic involved! The leaf values need to be converted to class distributions somehow!\n",
    "    # For binary classification problems: convert to probability by calculating 1/(1+exp(-value))\n",
    "    # For multi_class: the tree_string contains n_estimators * n_classes decision trees\n",
    "    # WARNING: Classes are sorted according to output of np.unique\n",
    "    # Ordered as follows [tree_1-class_1, ..., tree_1-class_k, tree_2-class_1, ....]\n",
    "\n",
    "    # The problem is: tree_i is different for each class...\n",
    "    # One possibility is to assign the probability to that class by calculating logistic function\n",
    "    # And dividing the rest of the probability (sum to 1) according to the distribution of the remaining classes\n",
    "\n",
    "    # Next problem is: everything is expressed as \"feature < threshold\" instead \"feature <= threshold\"\n",
    "    # Solution is: take the infimum of those feature values\n",
    "\n",
    "    decision_trees = {}\n",
    "    # Binary classification\n",
    "    binary_classification = len(class_distributions.keys()) == 2\n",
    "    for line in tree_string.split('\\n'):\n",
    "        if line != '':\n",
    "            _id, rest = line.split(':')\n",
    "            _id = _id.lstrip()\n",
    "            if rest[:4] != 'leaf':\n",
    "                feature = rest.split('<')[0][1:]\n",
    "                highest_lower_threshold = get_closest_value(float(rest.split('<')[1].split(']')[0]),\n",
    "                                                            unique_values_per_feature[feature])\n",
    "                decision_trees[_id] = DecisionTree(right=None, left=None,\n",
    "                                                   label=feature, value=highest_lower_threshold,\n",
    "                                                   parent=None)\n",
    "            else:\n",
    "                leaf_value = float(rest.split('=')[1])\n",
    "                if binary_classification:\n",
    "                    probability = 1/(1+np.exp(leaf_value))\n",
    "                    other_class = class_distributions[_class].keys()[0]\n",
    "                    class_probs = {_class: int(n_samples*probability),\n",
    "                                   other_class: int(n_samples*(1-probability))}\n",
    "                    if probability > 0.5: most_probable_class = _class\n",
    "                    else: most_probable_class = other_class\n",
    "                else:\n",
    "                    probability = 1/(1+np.exp(-leaf_value))\n",
    "                    class_probs = {}\n",
    "                    remainder_samples = int(n_samples - probability*n_samples)\n",
    "                    class_probs[_class] = int(probability*n_samples)\n",
    "                    most_probable_class, most_samples = _class, class_probs[_class]\n",
    "                    for other_class in class_distributions[_class]:\n",
    "                        amount_samples = int(remainder_samples*class_distributions[_class][other_class])\n",
    "                        class_probs[other_class] = amount_samples\n",
    "                        if amount_samples > most_samples:\n",
    "                            most_probable_class = other_class\n",
    "                            most_samples = amount_samples\n",
    "\n",
    "                decision_trees[_id] = DecisionTree(right=None, left=None,\n",
    "                                                   label=most_probable_class, value=None,\n",
    "                                                   parent=None)\n",
    "                decision_trees[_id].class_probabilities = class_probs\n",
    "\n",
    "    # Make another pass to link the different decision trees together\n",
    "    for line in tree_string.split('\\n'):\n",
    "        if line != '':\n",
    "            _id, rest = line.split(':')\n",
    "            _id = _id.lstrip()\n",
    "            tree = decision_trees[_id]\n",
    "            if rest[:4] != 'leaf':\n",
    "                rest = rest.split(']')[1].lstrip()\n",
    "                links = rest.split(',')\n",
    "                for link in links:\n",
    "                    word, link_id = link.split('=')\n",
    "                    if word == 'yes' or word == 'missing':\n",
    "                        tree.left = decision_trees[link_id]\n",
    "                    else:\n",
    "                        tree.right = decision_trees[link_id]\n",
    "\n",
    "    return decision_trees['0']\n",
    "\n",
    "NR_FOLDS = 5\n",
    "GB = GradientBoostingClassifier(random_state=666,max_depth=2,)\n",
    "for dataset in load_all_datasets():\n",
    "    df = df1\n",
    "    label_col = df['DIAB']\n",
    "    feature_cols = df.drop['DIAB']\n",
    "\n",
    "    skf = StratifiedKFold(df1[label_col], n_folds=NR_FOLDS, shuffle=True, random_state=666)\n",
    "\n",
    "    for fold, (train_idx, test_idx) in enumerate(skf):\n",
    "        print('Fold', fold + 1, '/', NR_FOLDS, 'for dataset', dataset['name'])\n",
    "        train = df.iloc[train_idx, :].reset_index(drop=True)\n",
    "        X_train = train.drop(label_col, axis=1)\n",
    "        y_train = train[label_col]\n",
    "        test = df.iloc[test_idx, :].reset_index(drop=True)\n",
    "        X_test = test.drop(label_col, axis=1)\n",
    "        y_test = test[label_col]\n",
    "\n",
    "        xgb_model = xgb.construct_classifier(train, feature_cols, label_col)\n",
    "\n",
    "        n_classes = len(np.unique(y_train.values))\n",
    "        if n_classes > 2:\n",
    "            for idx, tree_string in enumerate(xgb_model.clf._Booster.get_dump()):\n",
    "                tree = parse_xgb_tree_string(tree_string, train, feature_cols, label_col, np.unique(y_train.values)[idx % n_classes])\n",
    "                tree.visualise('xgbtree')\n",
    "                plot_tree(xgb_model.clf, num_trees=idx)\n",
    "                plt.show()\n",
    "                raw_input()\n",
    "        else:\n",
    "            for idx, tree_string in enumerate(xgb_model.clf._Booster.get_dump()):\n",
    "                tree = parse_xgb_tree_string(tree_string, train, feature_cols, label_col, 0)\n",
    "                tree.visualise('xgbtree')\n",
    "                plot_tree(xgb_model.clf, num_trees=idx)\n",
    "                plt.show()\n",
    "                raw_input()"
   ]
  },
  {
   "cell_type": "code",
   "execution_count": 223,
   "metadata": {
    "collapsed": false
   },
   "outputs": [],
   "source": [
    "def rules(clf, features, labels, node_index=0):\n",
    "    \"\"\"Structure of rules in a fit decision tree classifier\n",
    "\n",
    "    Parameters\n",
    "    ----------\n",
    "    clf : DecisionTreeClassifier\n",
    "        A tree that has already been fit.\n",
    "\n",
    "    features, labels : lists of str\n",
    "        The names of the features and labels, respectively.\n",
    "\n",
    "    \"\"\"\n",
    "    node = {}\n",
    "    if clf.tree_.children_left[node_index] == -1:  # indicates leaf\n",
    "        count_labels = zip(clf.tree_.value[node_index, 0], labels)\n",
    "        node['name'] = ', '.join(('{} of {}'.format(int(count), label)\n",
    "                                  for count, label in count_labels))\n",
    "    else:\n",
    "        feature = features[clf.tree_.feature[node_index]]\n",
    "        threshold = clf.tree_.threshold[node_index]\n",
    "        node['name'] = '{} > {}'.format(feature, threshold)\n",
    "        left_index = clf.tree_.children_left[node_index]\n",
    "        right_index = clf.tree_.children_right[node_index]\n",
    "        node['children'] = [rules(clf, features, labels, right_index),\n",
    "                            rules(clf, features, labels, left_index)]\n",
    "    return node"
   ]
  },
  {
   "cell_type": "code",
   "execution_count": 51,
   "metadata": {
    "collapsed": false
   },
   "outputs": [
    {
     "ename": "AttributeError",
     "evalue": "module 'sklearn.tree' has no attribute 'export_json'",
     "output_type": "error",
     "traceback": [
      "\u001b[0;31m---------------------------------------------------------------------------\u001b[0m",
      "\u001b[0;31mAttributeError\u001b[0m                            Traceback (most recent call last)",
      "\u001b[0;32m<ipython-input-51-655779fa1040>\u001b[0m in \u001b[0;36m<module>\u001b[0;34m()\u001b[0m\n\u001b[1;32m      2\u001b[0m \u001b[0mclf\u001b[0m \u001b[0;34m=\u001b[0m \u001b[0mrf\u001b[0m\u001b[0;34m\u001b[0m\u001b[0m\n\u001b[1;32m      3\u001b[0m \u001b[0;32mimport\u001b[0m \u001b[0mtempfile\u001b[0m\u001b[0;34m\u001b[0m\u001b[0m\n\u001b[0;32m----> 4\u001b[0;31m \u001b[0mout_file\u001b[0m \u001b[0;34m=\u001b[0m \u001b[0mtree\u001b[0m\u001b[0;34m.\u001b[0m\u001b[0mexport_json\u001b[0m\u001b[0;34m(\u001b[0m\u001b[0mclf\u001b[0m\u001b[0;34m,\u001b[0m \u001b[0mout_file\u001b[0m\u001b[0;34m=\u001b[0m\u001b[0mtempfile\u001b[0m\u001b[0;34m.\u001b[0m\u001b[0mTemporaryFile\u001b[0m\u001b[0;34m(\u001b[0m\u001b[0;34m)\u001b[0m\u001b[0;34m)\u001b[0m\u001b[0;34m\u001b[0m\u001b[0m\n\u001b[0m\u001b[1;32m      5\u001b[0m \u001b[0mout_file\u001b[0m\u001b[0;34m.\u001b[0m\u001b[0mclose\u001b[0m\u001b[0;34m(\u001b[0m\u001b[0;34m)\u001b[0m\u001b[0;34m\u001b[0m\u001b[0m\n",
      "\u001b[0;31mAttributeError\u001b[0m: module 'sklearn.tree' has no attribute 'export_json'"
     ]
    }
   ],
   "source": [
    "from sklearn import tree\n",
    "clf = rf\n",
    "import tempfile\n",
    "out_file = tree.export_json(tree, out_file=tempfile.TemporaryFile())\n",
    "out_file.close()"
   ]
  },
  {
   "cell_type": "code",
   "execution_count": 242,
   "metadata": {
    "collapsed": true
   },
   "outputs": [],
   "source": [
    "import numpy as np\n",
    "\n",
    "from sklearn.tree import _tree\n",
    "\n",
    "\n",
    "def export_json(decision_tree, out_file=None, feature_names=None):\n",
    "    \"\"\"Export a decision tree in JSON format.\n",
    "    This function generates a JSON representation of the decision tree,\n",
    "    which is then written into `out_file`. Once exported, graphical renderings\n",
    "    can be generated using, for example::\n",
    "        $ dot -Tps tree.dot -o tree.ps      (PostScript format)\n",
    "        $ dot -Tpng tree.dot -o tree.png    (PNG format)\n",
    "    Parameters\n",
    "    ----------\n",
    "    decision_tree : decision tree classifier\n",
    "        The decision tree to be exported to JSON.\n",
    "    out : file object or string, optional (default=None)\n",
    "        Handle or name of the output file.\n",
    "    feature_names : list of strings, optional (default=None)\n",
    "        Names of each of the features.\n",
    "    Returns\n",
    "    -------\n",
    "    out_file : file object\n",
    "        The file object to which the tree was exported.  The user is\n",
    "        expected to `close()` this object when done with it.\n",
    "    Examples\n",
    "    --------\n",
    "    >>> from sklearn.datasets import load_iris\n",
    "    >>> from sklearn import tree\n",
    "    >>> clf = tree.DecisionTreeClassifier()\n",
    "    >>> iris = load_iris()\n",
    "    >>> clf = clf.fit(iris.data, iris.target)\n",
    "    >>> import tempfile\n",
    "    >>> out_file = tree.export_json(clf, out_file=tempfile.TemporaryFile())\n",
    "    >>> out_file.close()\n",
    "    \"\"\"\n",
    "    import numpy as np\n",
    "\n",
    "    from sklearn.tree import _tree\n",
    "\n",
    "    def arr_to_py(arr):\n",
    "        arr = arr.ravel()\n",
    "        wrapper = float\n",
    "        if np.issubdtype(arr.dtype, np.int):\n",
    "            wrapper = int\n",
    "        return map(wrapper, arr.tolist())\n",
    "\n",
    "\n",
    "    def node_to_str(tree, node_id):\n",
    "        node_repr = '\"error\": %.4f, \"samples\": %d, \"value\": %s' \\\n",
    "                    % (tree.init_error[node_id],\n",
    "                       tree.n_samples[node_id],\n",
    "                       arr_to_py(tree.value[node_id]))\n",
    "        if tree.children_left[node_id] != _tree.TREE_LEAF:\n",
    "            if feature_names is not None:\n",
    "                feature = feature_names[tree.feature[node_id]]\n",
    "            else:\n",
    "                feature = \"X[%s]\" % tree.feature[node_id]\n",
    "\n",
    "            label = '\"label\": \"%s <= %.2f\"' % (feature,\n",
    "                                               tree.threshold[node_id])\n",
    "            node_type = '\"type\": \"split\"'\n",
    "        else:\n",
    "            node_type = '\"type\": \"leaf\"'\n",
    "            label = '\"label\": \"Leaf - %d\"' % node_id\n",
    "        node_repr = \", \".join((node_repr, label, node_type))\n",
    "        return node_repr\n",
    "\n",
    "    def recurse(tree, node_id, parent=None):\n",
    "        if node_id == _tree.TREE_LEAF:\n",
    "            raise ValueError(\"Invalid node_id %s\" % _tree.TREE_LEAF)\n",
    "\n",
    "        left_child = tree.children_left[node_id]\n",
    "        right_child = tree.children_right[node_id]\n",
    "\n",
    "        # Open node with description\n",
    "        out_file.write('{%s' % node_to_str(tree, node_id))\n",
    "\n",
    "        # write children\n",
    "        if left_child != _tree.TREE_LEAF:  # and right_child != _tree.TREE_LEAF\n",
    "            out_file.write(', \"children\": [')\n",
    "            recurse(tree, left_child, node_id)\n",
    "            out_file.write(', ')\n",
    "            recurse(tree, right_child, node_id)\n",
    "            out_file.write(']')\n",
    "\n",
    "        # close node\n",
    "        out_file.write('}')\n",
    "\n",
    "    if out_file is None:\n",
    "        out_file = open(\"tree.json\", \"w\")\n",
    "    elif isinstance(out_file, str):\n",
    "        out_file = open(out_file, \"w\")\n",
    "\n",
    "    if isinstance(decision_tree, _tree.Tree):\n",
    "        recurse(decision_tree, 0)\n",
    "    else:\n",
    "        recurse(decision_tree.tree_, 0)\n",
    "\n",
    "    return out_file"
   ]
  },
  {
   "cell_type": "code",
   "execution_count": 493,
   "metadata": {
    "collapsed": false
   },
   "outputs": [],
   "source": [
    "# Import tools needed for visualization\n",
    "from sklearn.tree import export_graphviz\n",
    "import pydot\n",
    "# Pull out one tree from the forest\n",
    "# Import tools needed for visualization\n",
    "from sklearn.tree import export_graphviz\n",
    "import pydot\n",
    "\n",
    "\n",
    "\n",
    "# Limit depth of tree to 3 levels\n",
    "#rf_small =  RandomForestClassifier(n_estimators=12,max_depth=4 ,class_weight='balanced',random_state=666)\n",
    "#rf_small.fit(X_train, y_train)\n",
    "# Extract the small tree\n",
    "tree_small = rmodel.estimators_[1]\n",
    "# Save the tree as a png image\n",
    "export_graphviz(tree_small, out_file = 'small_tree.dot', feature_names = X.columns, rounded = True, precision = 1)\n",
    "(graph, ) = pydot.graph_from_dot_file('small_tree.dot')\n",
    "graph.write_png('small_tree2.png');"
   ]
  },
  {
   "cell_type": "code",
   "execution_count": 28,
   "metadata": {
    "collapsed": false
   },
   "outputs": [],
   "source": [
    "def rules(clf, features, labels, node_index=0):\n",
    "    \"\"\"Structure of rules in a fit decision tree classifier\n",
    "\n",
    "    Parameters\n",
    "    ----------\n",
    "    clf : DecisionTreeClassifier\n",
    "        A tree that has already been fit.\n",
    "\n",
    "    features, labels : lists of str\n",
    "        The names of the features and labels, respectively.\n",
    "\n",
    "    \"\"\"\n",
    "    node = {}\n",
    "    if clf.tree_.children_left[node_index] == -1:  # indicates leaf\n",
    "        count_labels = zip(clf.tree_.value[node_index, 0], labels)\n",
    "        node['name'] = ', '.join(('{} of {}'.format(int(count), label)\n",
    "                                  for count, label in count_labels))\n",
    "    else:\n",
    "        feature = features[clf.tree_.feature[node_index]]\n",
    "        threshold = clf.tree_.threshold[node_index]\n",
    "        node['name'] = '{} > {}'.format(feature, threshold)\n",
    "        left_index = clf.tree_.children_left[node_index]\n",
    "        right_index = clf.tree_.children_right[node_index]\n",
    "        node['children'] = [rules(clf, features, labels, right_index),\n",
    "                            rules(clf, features, labels, left_index)]\n",
    "    return node"
   ]
  },
  {
   "cell_type": "code",
   "execution_count": 451,
   "metadata": {
    "collapsed": false,
    "scrolled": false
   },
   "outputs": [
    {
     "ename": "AttributeError",
     "evalue": "'RandomForestClassifier' object has no attribute 'features'",
     "output_type": "error",
     "traceback": [
      "\u001b[0;31m---------------------------------------------------------------------------\u001b[0m",
      "\u001b[0;31mAttributeError\u001b[0m                            Traceback (most recent call last)",
      "\u001b[0;32m<ipython-input-451-cd933e9329cb>\u001b[0m in \u001b[0;36m<module>\u001b[0;34m()\u001b[0m\n\u001b[0;32m----> 1\u001b[0;31m \u001b[0mrmodel\u001b[0m\u001b[0;34m.\u001b[0m\u001b[0mfeatures\u001b[0m\u001b[0;34m.\u001b[0m\u001b[0mdecision_tree\u001b[0m\u001b[0;34m.\u001b[0m\u001b[0mn_features_\u001b[0m\u001b[0;34m\u001b[0m\u001b[0m\n\u001b[0m",
      "\u001b[0;31mAttributeError\u001b[0m: 'RandomForestClassifier' object has no attribute 'features'"
     ]
    }
   ],
   "source": [
    "rmodel.features.decision_tree.n_features_"
   ]
  },
  {
   "cell_type": "code",
   "execution_count": 349,
   "metadata": {
    "collapsed": false
   },
   "outputs": [],
   "source": [
    "import json\n",
    "\n",
    "r = rules(tree,X.columns,df1.DIAB,node_index=0)\n",
    "with open('rf_tree.json', 'w') as f:\n",
    "    f.write(json.dumps(r))"
   ]
  },
  {
   "cell_type": "code",
   "execution_count": 113,
   "metadata": {
    "collapsed": false
   },
   "outputs": [],
   "source": [
    "def tree2json(decision_tree, out_file=None, feature_names=None):\n",
    "    \n",
    "    import numpy as np\n",
    "    from sklearn.tree import _tree\n",
    "\n",
    "    def arr_to_py(arr):\n",
    "        arr = arr.ravel()\n",
    "        wrapper = float\n",
    "        if np.issubdtype(arr.dtype, np.int):\n",
    "            wrapper = int\n",
    "        return map(wrapper, arr.tolist())\n",
    "\n",
    "\n",
    "    def node_to_str(tree, node_id):\n",
    "        if (tree.children_left[node_id] == tree.children_right[node_id]): # is leaf\n",
    "            if tree.value[node_id].argmax()==0:\n",
    "                node_repr = '\"name\": \"Risk: low\"'\n",
    "            else:\n",
    "                node_repr = '\"name\": \"Risk: high\"'\n",
    "            print(\"Is a leaf\",node_repr)\n",
    "        else: # not leaf\n",
    "            node_repr = '\"name\": \"%s\"' \\\n",
    "                    % (feature_names[tree.feature[node_id]])\n",
    "            print(\"Not a leaf\",node_repr)\n",
    "        return node_repr\n",
    "\n",
    "    def recurse(tree, node_id, parent=None):\n",
    "\n",
    "        left_child = tree.children_left[node_id]\n",
    "        right_child = tree.children_right[node_id]\n",
    "        print(node_id,left_child,right_child)\n",
    "\n",
    "        # Open node with description\n",
    "        out_file.write('{%s' % node_to_str(tree, node_id))\n",
    "\n",
    "        # write children\n",
    "        if left_child != right_child: # not leaf\n",
    "            out_file.write(', \"children\": [')\n",
    "            recurse(tree, left_child, node_id)\n",
    "            out_file.write(', ')\n",
    "            recurse(tree, right_child, node_id)\n",
    "            out_file.write(']')\n",
    "\n",
    "        # close node\n",
    "        out_file.write('}')\n",
    "\n",
    "    if out_file is None:\n",
    "        out_file = open(\"tree.json\", \"w\")\n",
    "    else:\n",
    "        out_file = open(out_file, \"w\")\n",
    "\n",
    "    if isinstance(decision_tree, _tree.Tree):\n",
    "        recurse(decision_tree, 0)\n",
    "    else:\n",
    "        print('getting tree structure')\n",
    "        recurse(decision_tree.tree_, 0)\n",
    "\n",
    "    return out_file"
   ]
  },
  {
   "cell_type": "code",
   "execution_count": 257,
   "metadata": {
    "collapsed": false
   },
   "outputs": [
    {
     "name": "stdout",
     "output_type": "stream",
     "text": [
      "0 1 94\n",
      "Not a leaf \"name\": \"WIDOWED\"\n",
      "1 2 63\n",
      "Not a leaf \"name\": \"DLYIRON\"\n",
      "2 3 32\n",
      "Not a leaf \"name\": \"DLYSGR\"\n",
      "3 4 17\n",
      "Not a leaf \"name\": \"DLYSFAT\"\n",
      "4 5 12\n",
      "Not a leaf \"name\": \"MARRIED\"\n",
      "5 6 9\n",
      "Not a leaf \"name\": \"ATEOUT\"\n",
      "6 7 8\n",
      "Not a leaf \"name\": \"MNMREC\"\n",
      "7 -1 -1\n",
      "Is a leaf \"name\": \"Risk: low\"\n",
      "8 -1 -1\n",
      "Is a leaf \"name\": \"Risk: low\"\n",
      "9 10 11\n",
      "Not a leaf \"name\": \"DLYPFAT\"\n",
      "10 -1 -1\n",
      "Is a leaf \"name\": \"Risk: high\"\n",
      "11 -1 -1\n",
      "Is a leaf \"name\": \"Risk: high\"\n",
      "12 13 16\n",
      "Not a leaf \"name\": \"INCOME11\"\n",
      "13 14 15\n",
      "Not a leaf \"name\": \"DYSWLKBK\"\n",
      "14 -1 -1\n",
      "Is a leaf \"name\": \"Risk: high\"\n",
      "15 -1 -1\n",
      "Is a leaf \"name\": \"Risk: low\"\n",
      "16 -1 -1\n",
      "Is a leaf \"name\": \"Risk: low\"\n",
      "17 18 25\n",
      "Not a leaf \"name\": \"DIVORCED\"\n",
      "18 19 22\n",
      "Not a leaf \"name\": \"DLYPRT\"\n",
      "19 20 21\n",
      "Not a leaf \"name\": \"MNVREC\"\n",
      "20 -1 -1\n",
      "Is a leaf \"name\": \"Risk: high\"\n",
      "21 -1 -1\n",
      "Is a leaf \"name\": \"Risk: low\"\n",
      "22 23 24\n",
      "Not a leaf \"name\": \"DYSMREC\"\n",
      "23 -1 -1\n",
      "Is a leaf \"name\": \"Risk: high\"\n",
      "24 -1 -1\n",
      "Is a leaf \"name\": \"Risk: low\"\n",
      "25 26 29\n",
      "Not a leaf \"name\": \"DLYFAT\"\n",
      "26 27 28\n",
      "Not a leaf \"name\": \"BMI\"\n",
      "27 -1 -1\n",
      "Is a leaf \"name\": \"Risk: low\"\n",
      "28 -1 -1\n",
      "Is a leaf \"name\": \"Risk: high\"\n",
      "29 30 31\n",
      "Not a leaf \"name\": \"ATEOUT\"\n",
      "30 -1 -1\n",
      "Is a leaf \"name\": \"Risk: low\"\n",
      "31 -1 -1\n",
      "Is a leaf \"name\": \"Risk: high\"\n",
      "32 33 48\n",
      "Not a leaf \"name\": \"BMI\"\n",
      "33 34 41\n",
      "Not a leaf \"name\": \"DYSVWRK\"\n",
      "34 35 38\n",
      "Not a leaf \"name\": \"FRGN\"\n",
      "35 36 37\n",
      "Not a leaf \"name\": \"ATEOUT\"\n",
      "36 -1 -1\n",
      "Is a leaf \"name\": \"Risk: low\"\n",
      "37 -1 -1\n",
      "Is a leaf \"name\": \"Risk: low\"\n",
      "38 39 40\n",
      "Not a leaf \"name\": \"INCOME10\"\n",
      "39 -1 -1\n",
      "Is a leaf \"name\": \"Risk: low\"\n",
      "40 -1 -1\n",
      "Is a leaf \"name\": \"Risk: low\"\n",
      "41 42 45\n",
      "Not a leaf \"name\": \"MNMREC\"\n",
      "42 43 44\n",
      "Not a leaf \"name\": \"DYSVREC\"\n",
      "43 -1 -1\n",
      "Is a leaf \"name\": \"Risk: low\"\n",
      "44 -1 -1\n",
      "Is a leaf \"name\": \"Risk: high\"\n",
      "45 46 47\n",
      "Not a leaf \"name\": \"MNVREC\"\n",
      "46 -1 -1\n",
      "Is a leaf \"name\": \"Risk: high\"\n",
      "47 -1 -1\n",
      "Is a leaf \"name\": \"Risk: low\"\n",
      "48 49 56\n",
      "Not a leaf \"name\": \"DYSVREC\"\n",
      "49 50 53\n",
      "Not a leaf \"name\": \"SMHS\"\n",
      "50 51 52\n",
      "Not a leaf \"name\": \"DLYMFAT\"\n",
      "51 -1 -1\n",
      "Is a leaf \"name\": \"Risk: low\"\n",
      "52 -1 -1\n",
      "Is a leaf \"name\": \"Risk: high\"\n",
      "53 54 55\n",
      "Not a leaf \"name\": \"INCOME1\"\n",
      "54 -1 -1\n",
      "Is a leaf \"name\": \"Risk: low\"\n",
      "55 -1 -1\n",
      "Is a leaf \"name\": \"Risk: high\"\n",
      "56 57 60\n",
      "Not a leaf \"name\": \"DLYCARB\"\n",
      "57 58 59\n",
      "Not a leaf \"name\": \"ATEOUT\"\n",
      "58 -1 -1\n",
      "Is a leaf \"name\": \"Risk: low\"\n",
      "59 -1 -1\n",
      "Is a leaf \"name\": \"Risk: high\"\n",
      "60 61 62\n",
      "Not a leaf \"name\": \"MNMWRK\"\n",
      "61 -1 -1\n",
      "Is a leaf \"name\": \"Risk: low\"\n",
      "62 -1 -1\n",
      "Is a leaf \"name\": \"Risk: low\"\n",
      "63 64 93\n",
      "Not a leaf \"name\": \"DLYPFAT\"\n",
      "64 65 78\n",
      "Not a leaf \"name\": \"BMI\"\n",
      "65 66 71\n",
      "Not a leaf \"name\": \"DLYSFAT\"\n",
      "66 67 70\n",
      "Not a leaf \"name\": \"MNVREC\"\n",
      "67 68 69\n",
      "Not a leaf \"name\": \"INCOME1\"\n",
      "68 -1 -1\n",
      "Is a leaf \"name\": \"Risk: high\"\n",
      "69 -1 -1\n",
      "Is a leaf \"name\": \"Risk: low\"\n",
      "70 -1 -1\n",
      "Is a leaf \"name\": \"Risk: low\"\n",
      "71 72 75\n",
      "Not a leaf \"name\": \"MNVWRK\"\n",
      "72 73 74\n",
      "Not a leaf \"name\": \"PARTNER\"\n",
      "73 -1 -1\n",
      "Is a leaf \"name\": \"Risk: high\"\n",
      "74 -1 -1\n",
      "Is a leaf \"name\": \"Risk: low\"\n",
      "75 76 77\n",
      "Not a leaf \"name\": \"DYSVWRK\"\n",
      "76 -1 -1\n",
      "Is a leaf \"name\": \"Risk: low\"\n",
      "77 -1 -1\n",
      "Is a leaf \"name\": \"Risk: high\"\n",
      "78 79 86\n",
      "Not a leaf \"name\": \"ATEOUT\"\n",
      "79 80 83\n",
      "Not a leaf \"name\": \"SDNTRY\"\n",
      "80 81 82\n",
      "Not a leaf \"name\": \"MNMREC\"\n",
      "81 -1 -1\n",
      "Is a leaf \"name\": \"Risk: high\"\n",
      "82 -1 -1\n",
      "Is a leaf \"name\": \"Risk: low\"\n",
      "83 84 85\n",
      "Not a leaf \"name\": \"WALKBIKE\"\n",
      "84 -1 -1\n",
      "Is a leaf \"name\": \"Risk: low\"\n",
      "85 -1 -1\n",
      "Is a leaf \"name\": \"Risk: low\"\n",
      "86 87 90\n",
      "Not a leaf \"name\": \"SMHS\"\n",
      "87 88 89\n",
      "Not a leaf \"name\": \"CARRYOUT\"\n",
      "88 -1 -1\n",
      "Is a leaf \"name\": \"Risk: high\"\n",
      "89 -1 -1\n",
      "Is a leaf \"name\": \"Risk: high\"\n",
      "90 91 92\n",
      "Not a leaf \"name\": \"HRSCOMP\"\n",
      "91 -1 -1\n",
      "Is a leaf \"name\": \"Risk: low\"\n",
      "92 -1 -1\n",
      "Is a leaf \"name\": \"Risk: high\"\n",
      "93 -1 -1\n",
      "Is a leaf \"name\": \"Risk: low\"\n",
      "94 95 110\n",
      "Not a leaf \"name\": \"DLYFBR\"\n",
      "95 96 97\n",
      "Not a leaf \"name\": \"ATEOUT\"\n",
      "96 -1 -1\n",
      "Is a leaf \"name\": \"Risk: low\"\n",
      "97 98 109\n",
      "Not a leaf \"name\": \"MNMREC\"\n",
      "98 99 102\n",
      "Not a leaf \"name\": \"BMI\"\n",
      "99 100 101\n",
      "Not a leaf \"name\": \"RIDAGEYR\"\n",
      "100 -1 -1\n",
      "Is a leaf \"name\": \"Risk: high\"\n",
      "101 -1 -1\n",
      "Is a leaf \"name\": \"Risk: low\"\n",
      "102 103 106\n",
      "Not a leaf \"name\": \"WALKBIKE\"\n",
      "103 104 105\n",
      "Not a leaf \"name\": \"DLYKCAL\"\n",
      "104 -1 -1\n",
      "Is a leaf \"name\": \"Risk: high\"\n",
      "105 -1 -1\n",
      "Is a leaf \"name\": \"Risk: low\"\n",
      "106 107 108\n",
      "Not a leaf \"name\": \"DLYPFAT\"\n",
      "107 -1 -1\n",
      "Is a leaf \"name\": \"Risk: high\"\n",
      "108 -1 -1\n",
      "Is a leaf \"name\": \"Risk: low\"\n",
      "109 -1 -1\n",
      "Is a leaf \"name\": \"Risk: low\"\n",
      "110 111 122\n",
      "Not a leaf \"name\": \"COLGRAD\"\n",
      "111 112 113\n",
      "Not a leaf \"name\": \"DLYSFAT\"\n",
      "112 -1 -1\n",
      "Is a leaf \"name\": \"Risk: low\"\n",
      "113 114 119\n",
      "Not a leaf \"name\": \"INCOME5\"\n",
      "114 115 118\n",
      "Not a leaf \"name\": \"RIDAGEYR\"\n",
      "115 116 117\n",
      "Not a leaf \"name\": \"DLYKCAL\"\n",
      "116 -1 -1\n",
      "Is a leaf \"name\": \"Risk: high\"\n",
      "117 -1 -1\n",
      "Is a leaf \"name\": \"Risk: high\"\n",
      "118 -1 -1\n",
      "Is a leaf \"name\": \"Risk: low\"\n",
      "119 120 121\n",
      "Not a leaf \"name\": \"DLYSGR\"\n",
      "120 -1 -1\n",
      "Is a leaf \"name\": \"Risk: high\"\n",
      "121 -1 -1\n",
      "Is a leaf \"name\": \"Risk: low\"\n",
      "122 123 126\n",
      "Not a leaf \"name\": \"DLYSFAT\"\n",
      "123 124 125\n",
      "Not a leaf \"name\": \"BMI\"\n",
      "124 -1 -1\n",
      "Is a leaf \"name\": \"Risk: low\"\n",
      "125 -1 -1\n",
      "Is a leaf \"name\": \"Risk: high\"\n",
      "126 -1 -1\n",
      "Is a leaf \"name\": \"Risk: low\"\n"
     ]
    },
    {
     "data": {
      "text/plain": [
       "<_io.TextIOWrapper name='partial_tree.json' mode='w' encoding='UTF-8'>"
      ]
     },
     "execution_count": 257,
     "metadata": {},
     "output_type": "execute_result"
    }
   ],
   "source": [
    "tree2json(dt,out_file='partial_tree.json',feature_names=X.columns)"
   ]
  },
  {
   "cell_type": "code",
   "execution_count": 142,
   "metadata": {
    "collapsed": false
   },
   "outputs": [
    {
     "data": {
      "text/plain": [
       "DecisionTreeClassifier(class_weight=None, criterion='gini', max_depth=None,\n",
       "            max_features=None, max_leaf_nodes=None,\n",
       "            min_impurity_decrease=0.0, min_impurity_split=None,\n",
       "            min_samples_leaf=1, min_samples_split=2,\n",
       "            min_weight_fraction_leaf=0.0, presort=False, random_state=None,\n",
       "            splitter='best')"
      ]
     },
     "execution_count": 142,
     "metadata": {},
     "output_type": "execute_result"
    }
   ],
   "source": [
    "from sklearn.tree import DecisionTreeClassifier\n",
    "\n",
    "dt = DecisionTreeClassifier()\n",
    "dt.fit(X,y)"
   ]
  },
  {
   "cell_type": "code",
   "execution_count": 143,
   "metadata": {
    "collapsed": false
   },
   "outputs": [
    {
     "name": "stdout",
     "output_type": "stream",
     "text": [
      "Accuracy: 0.609\n",
      "             precision    recall  f1-score   support\n",
      "\n",
      "          0       0.60      0.66      0.63      2442\n",
      "          1       0.62      0.56      0.59      2442\n",
      "\n",
      "avg / total       0.61      0.61      0.61      4884\n",
      "\n"
     ]
    }
   ],
   "source": [
    "print(\"Accuracy: %.3f\"% accuracy_score(y_test, dt.predict(X_test)))\n",
    "print(classification_report(y_test, dt.predict(X_test)))\n"
   ]
  },
  {
   "cell_type": "code",
   "execution_count": 121,
   "metadata": {
    "collapsed": false
   },
   "outputs": [],
   "source": [
    "GBtree = GB.estimators_[0]"
   ]
  },
  {
   "cell_type": "code",
   "execution_count": 127,
   "metadata": {
    "collapsed": false
   },
   "outputs": [
    {
     "ename": "SyntaxError",
     "evalue": "invalid syntax (<ipython-input-127-2a2c24ed43a9>, line 6)",
     "output_type": "error",
     "traceback": [
      "\u001b[0;36m  File \u001b[0;32m\"<ipython-input-127-2a2c24ed43a9>\"\u001b[0;36m, line \u001b[0;32m6\u001b[0m\n\u001b[0;31m    random_state=<mtrand.RandomState object at 0x11e366510>,\u001b[0m\n\u001b[0m                 ^\u001b[0m\n\u001b[0;31mSyntaxError\u001b[0m\u001b[0;31m:\u001b[0m invalid syntax\n"
     ]
    }
   ],
   "source": []
  },
  {
   "cell_type": "code",
   "execution_count": 219,
   "metadata": {
    "collapsed": false
   },
   "outputs": [
    {
     "name": "stdout",
     "output_type": "stream",
     "text": [
      "0 1 94\n",
      "Not a leaf \"name\": \"SEPERATED\"\n",
      "1 2 63\n",
      "Not a leaf \"name\": \"DLYIRON\"\n",
      "2 3 32\n",
      "Not a leaf \"name\": \"DLYKCAL\"\n",
      "3 4 17\n",
      "Not a leaf \"name\": \"MARRIED\"\n",
      "4 5 12\n",
      "Not a leaf \"name\": \"DIVORCED\"\n",
      "5 6 9\n",
      "Not a leaf \"name\": \"RIDAGEYR\"\n",
      "6 7 8\n",
      "Not a leaf \"name\": \"MNVREC\"\n",
      "7 -1 -1\n",
      "Is a leaf \"name\": \"Risk: low\"\n",
      "8 -1 -1\n",
      "Is a leaf \"name\": \"Risk: low\"\n",
      "9 10 11\n",
      "Not a leaf \"name\": \"WIDOWED\"\n",
      "10 -1 -1\n",
      "Is a leaf \"name\": \"Risk: high\"\n",
      "11 -1 -1\n",
      "Is a leaf \"name\": \"Risk: high\"\n",
      "12 13 16\n",
      "Not a leaf \"name\": \"INCOME11\"\n",
      "13 14 15\n",
      "Not a leaf \"name\": \"DLYSGR\"\n",
      "14 -1 -1\n",
      "Is a leaf \"name\": \"Risk: high\"\n",
      "15 -1 -1\n",
      "Is a leaf \"name\": \"Risk: low\"\n",
      "16 -1 -1\n",
      "Is a leaf \"name\": \"Risk: low\"\n",
      "17 18 25\n",
      "Not a leaf \"name\": \"CTZN\"\n",
      "18 19 22\n",
      "Not a leaf \"name\": \"DLYSGR\"\n",
      "19 20 21\n",
      "Not a leaf \"name\": \"MNWLKBK\"\n",
      "20 -1 -1\n",
      "Is a leaf \"name\": \"Risk: high\"\n",
      "21 -1 -1\n",
      "Is a leaf \"name\": \"Risk: low\"\n",
      "22 23 24\n",
      "Not a leaf \"name\": \"DYSVREC\"\n",
      "23 -1 -1\n",
      "Is a leaf \"name\": \"Risk: high\"\n",
      "24 -1 -1\n",
      "Is a leaf \"name\": \"Risk: low\"\n",
      "25 26 29\n",
      "Not a leaf \"name\": \"DLYCARB\"\n",
      "26 27 28\n",
      "Not a leaf \"name\": \"BMI\"\n",
      "27 -1 -1\n",
      "Is a leaf \"name\": \"Risk: low\"\n",
      "28 -1 -1\n",
      "Is a leaf \"name\": \"Risk: high\"\n",
      "29 30 31\n",
      "Not a leaf \"name\": \"RIDAGEYR\"\n",
      "30 -1 -1\n",
      "Is a leaf \"name\": \"Risk: low\"\n",
      "31 -1 -1\n",
      "Is a leaf \"name\": \"Risk: high\"\n",
      "32 33 48\n",
      "Not a leaf \"name\": \"BMI\"\n",
      "33 34 41\n",
      "Not a leaf \"name\": \"DYSVWRK\"\n",
      "34 35 38\n",
      "Not a leaf \"name\": \"SMCOL\"\n",
      "35 36 37\n",
      "Not a leaf \"name\": \"RIDAGEYR\"\n",
      "36 -1 -1\n",
      "Is a leaf \"name\": \"Risk: low\"\n",
      "37 -1 -1\n",
      "Is a leaf \"name\": \"Risk: low\"\n",
      "38 39 40\n",
      "Not a leaf \"name\": \"INCOME10\"\n",
      "39 -1 -1\n",
      "Is a leaf \"name\": \"Risk: low\"\n",
      "40 -1 -1\n",
      "Is a leaf \"name\": \"Risk: low\"\n",
      "41 42 45\n",
      "Not a leaf \"name\": \"MNVREC\"\n",
      "42 43 44\n",
      "Not a leaf \"name\": \"DYSWLKBK\"\n",
      "43 -1 -1\n",
      "Is a leaf \"name\": \"Risk: low\"\n",
      "44 -1 -1\n",
      "Is a leaf \"name\": \"Risk: high\"\n",
      "45 46 47\n",
      "Not a leaf \"name\": \"MNWLKBK\"\n",
      "46 -1 -1\n",
      "Is a leaf \"name\": \"Risk: high\"\n",
      "47 -1 -1\n",
      "Is a leaf \"name\": \"Risk: low\"\n",
      "48 49 56\n",
      "Not a leaf \"name\": \"DYSWLKBK\"\n",
      "49 50 53\n",
      "Not a leaf \"name\": \"VWRK\"\n",
      "50 51 52\n",
      "Not a leaf \"name\": \"PARTNER\"\n",
      "51 -1 -1\n",
      "Is a leaf \"name\": \"Risk: low\"\n",
      "52 -1 -1\n",
      "Is a leaf \"name\": \"Risk: high\"\n",
      "53 54 55\n",
      "Not a leaf \"name\": \"INCOME3\"\n",
      "54 -1 -1\n",
      "Is a leaf \"name\": \"Risk: low\"\n",
      "55 -1 -1\n",
      "Is a leaf \"name\": \"Risk: high\"\n",
      "56 57 60\n",
      "Not a leaf \"name\": \"GROCERIES\"\n",
      "57 58 59\n",
      "Not a leaf \"name\": \"RIDAGEYR\"\n",
      "58 -1 -1\n",
      "Is a leaf \"name\": \"Risk: low\"\n",
      "59 -1 -1\n",
      "Is a leaf \"name\": \"Risk: high\"\n",
      "60 61 62\n",
      "Not a leaf \"name\": \"WHT\"\n",
      "61 -1 -1\n",
      "Is a leaf \"name\": \"Risk: low\"\n",
      "62 -1 -1\n",
      "Is a leaf \"name\": \"Risk: low\"\n",
      "63 64 93\n",
      "Not a leaf \"name\": \"WIDOWED\"\n",
      "64 65 78\n",
      "Not a leaf \"name\": \"BMI\"\n",
      "65 66 71\n",
      "Not a leaf \"name\": \"MARRIED\"\n",
      "66 67 70\n",
      "Not a leaf \"name\": \"MNWLKBK\"\n",
      "67 68 69\n",
      "Not a leaf \"name\": \"INCOME3\"\n",
      "68 -1 -1\n",
      "Is a leaf \"name\": \"Risk: high\"\n",
      "69 -1 -1\n",
      "Is a leaf \"name\": \"Risk: low\"\n",
      "70 -1 -1\n",
      "Is a leaf \"name\": \"Risk: low\"\n",
      "71 72 75\n",
      "Not a leaf \"name\": \"MNMREC\"\n",
      "72 73 74\n",
      "Not a leaf \"name\": \"VET\"\n",
      "73 -1 -1\n",
      "Is a leaf \"name\": \"Risk: high\"\n",
      "74 -1 -1\n",
      "Is a leaf \"name\": \"Risk: low\"\n",
      "75 76 77\n",
      "Not a leaf \"name\": \"WALKBIKE\"\n",
      "76 -1 -1\n",
      "Is a leaf \"name\": \"Risk: low\"\n",
      "77 -1 -1\n",
      "Is a leaf \"name\": \"Risk: high\"\n",
      "78 79 86\n",
      "Not a leaf \"name\": \"RIDAGEYR\"\n",
      "79 80 83\n",
      "Not a leaf \"name\": \"MREC\"\n",
      "80 81 82\n",
      "Not a leaf \"name\": \"MNVREC\"\n",
      "81 -1 -1\n",
      "Is a leaf \"name\": \"Risk: high\"\n",
      "82 -1 -1\n",
      "Is a leaf \"name\": \"Risk: low\"\n",
      "83 84 85\n",
      "Not a leaf \"name\": \"ATEOUT\"\n",
      "84 -1 -1\n",
      "Is a leaf \"name\": \"Risk: low\"\n",
      "85 -1 -1\n",
      "Is a leaf \"name\": \"Risk: low\"\n",
      "86 87 90\n",
      "Not a leaf \"name\": \"VWRK\"\n",
      "87 88 89\n",
      "Not a leaf \"name\": \"GRPSTR\"\n",
      "88 -1 -1\n",
      "Is a leaf \"name\": \"Risk: high\"\n",
      "89 -1 -1\n",
      "Is a leaf \"name\": \"Risk: high\"\n",
      "90 91 92\n",
      "Not a leaf \"name\": \"MWRK\"\n",
      "91 -1 -1\n",
      "Is a leaf \"name\": \"Risk: low\"\n",
      "92 -1 -1\n",
      "Is a leaf \"name\": \"Risk: high\"\n",
      "93 -1 -1\n",
      "Is a leaf \"name\": \"Risk: low\"\n",
      "94 95 110\n",
      "Not a leaf \"name\": \"DLYFBR\"\n",
      "95 96 97\n",
      "Not a leaf \"name\": \"RIDAGEYR\"\n",
      "96 -1 -1\n",
      "Is a leaf \"name\": \"Risk: low\"\n",
      "97 98 109\n",
      "Not a leaf \"name\": \"MNVREC\"\n",
      "98 99 102\n",
      "Not a leaf \"name\": \"BMI\"\n",
      "99 100 101\n",
      "Not a leaf \"name\": \"DIAB\"\n",
      "100 -1 -1\n",
      "Is a leaf \"name\": \"Risk: high\"\n",
      "101 -1 -1\n",
      "Is a leaf \"name\": \"Risk: low\"\n",
      "102 103 106\n",
      "Not a leaf \"name\": \"ATEOUT\"\n",
      "103 104 105\n",
      "Not a leaf \"name\": \"CARRYOUT\"\n",
      "104 -1 -1\n",
      "Is a leaf \"name\": \"Risk: high\"\n",
      "105 -1 -1\n",
      "Is a leaf \"name\": \"Risk: low\"\n",
      "106 107 108\n",
      "Not a leaf \"name\": \"WIDOWED\"\n",
      "107 -1 -1\n",
      "Is a leaf \"name\": \"Risk: high\"\n",
      "108 -1 -1\n",
      "Is a leaf \"name\": \"Risk: low\"\n",
      "109 -1 -1\n",
      "Is a leaf \"name\": \"Risk: low\"\n",
      "110 111 122\n",
      "Not a leaf \"name\": \"MNVWRK\"\n",
      "111 112 113\n",
      "Not a leaf \"name\": \"MARRIED\"\n",
      "112 -1 -1\n",
      "Is a leaf \"name\": \"Risk: low\"\n",
      "113 114 119\n",
      "Not a leaf \"name\": \"INCOME5\"\n",
      "114 115 118\n",
      "Not a leaf \"name\": \"DIAB\"\n",
      "115 116 117\n",
      "Not a leaf \"name\": \"CARRYOUT\"\n",
      "116 -1 -1\n",
      "Is a leaf \"name\": \"Risk: high\"\n",
      "117 -1 -1\n",
      "Is a leaf \"name\": \"Risk: high\"\n",
      "118 -1 -1\n",
      "Is a leaf \"name\": \"Risk: low\"\n",
      "119 120 121\n",
      "Not a leaf \"name\": \"DLYKCAL\"\n",
      "120 -1 -1\n",
      "Is a leaf \"name\": \"Risk: high\"\n",
      "121 -1 -1\n",
      "Is a leaf \"name\": \"Risk: low\"\n",
      "122 123 126\n",
      "Not a leaf \"name\": \"MARRIED\"\n",
      "123 124 125\n",
      "Not a leaf \"name\": \"BMI\"\n",
      "124 -1 -1\n",
      "Is a leaf \"name\": \"Risk: low\"\n",
      "125 -1 -1\n",
      "Is a leaf \"name\": \"Risk: high\"\n",
      "126 -1 -1\n",
      "Is a leaf \"name\": \"Risk: low\"\n"
     ]
    }
   ],
   "source": [
    "out_file = tree2json(dt, out_file='rf_dt_tree.json',feature_names=X.columns)\n",
    "out_file.close()"
   ]
  },
  {
   "cell_type": "code",
   "execution_count": 252,
   "metadata": {
    "collapsed": false
   },
   "outputs": [],
   "source": [
    "tree = rf.estimators_[0].tree_"
   ]
  },
  {
   "cell_type": "code",
   "execution_count": 256,
   "metadata": {
    "collapsed": false
   },
   "outputs": [
    {
     "ename": "AttributeError",
     "evalue": "'RandomForestClassifier' object has no attribute 'tree_'",
     "output_type": "error",
     "traceback": [
      "\u001b[0;31m---------------------------------------------------------------------------\u001b[0m",
      "\u001b[0;31mAttributeError\u001b[0m                            Traceback (most recent call last)",
      "\u001b[0;32m<ipython-input-256-5db32b1f68e3>\u001b[0m in \u001b[0;36m<module>\u001b[0;34m()\u001b[0m\n\u001b[0;32m----> 1\u001b[0;31m \u001b[0mexport_json\u001b[0m\u001b[0;34m(\u001b[0m\u001b[0mrf\u001b[0m\u001b[0;34m,\u001b[0m\u001b[0mout_file\u001b[0m\u001b[0;34m=\u001b[0m\u001b[0;34m'partial_tree.json'\u001b[0m\u001b[0;34m,\u001b[0m\u001b[0mfeature_names\u001b[0m\u001b[0;34m=\u001b[0m\u001b[0mX\u001b[0m\u001b[0;34m.\u001b[0m\u001b[0mcolumns\u001b[0m\u001b[0;34m)\u001b[0m\u001b[0;34m\u001b[0m\u001b[0m\n\u001b[0m",
      "\u001b[0;32m<ipython-input-242-fd4927ddc01f>\u001b[0m in \u001b[0;36mexport_json\u001b[0;34m(decision_tree, out_file, feature_names)\u001b[0m\n\u001b[1;32m     95\u001b[0m         \u001b[0mrecurse\u001b[0m\u001b[0;34m(\u001b[0m\u001b[0mdecision_tree\u001b[0m\u001b[0;34m,\u001b[0m \u001b[0;36m0\u001b[0m\u001b[0;34m)\u001b[0m\u001b[0;34m\u001b[0m\u001b[0m\n\u001b[1;32m     96\u001b[0m     \u001b[0;32melse\u001b[0m\u001b[0;34m:\u001b[0m\u001b[0;34m\u001b[0m\u001b[0m\n\u001b[0;32m---> 97\u001b[0;31m         \u001b[0mrecurse\u001b[0m\u001b[0;34m(\u001b[0m\u001b[0mdecision_tree\u001b[0m\u001b[0;34m.\u001b[0m\u001b[0mtree_\u001b[0m\u001b[0;34m,\u001b[0m \u001b[0;36m0\u001b[0m\u001b[0;34m)\u001b[0m\u001b[0;34m\u001b[0m\u001b[0m\n\u001b[0m\u001b[1;32m     98\u001b[0m \u001b[0;34m\u001b[0m\u001b[0m\n\u001b[1;32m     99\u001b[0m     \u001b[0;32mreturn\u001b[0m \u001b[0mout_file\u001b[0m\u001b[0;34m\u001b[0m\u001b[0m\n",
      "\u001b[0;31mAttributeError\u001b[0m: 'RandomForestClassifier' object has no attribute 'tree_'"
     ]
    }
   ],
   "source": [
    "export_json(rf,out_file='partial_tree.json',feature_names=X.columns)"
   ]
  },
  {
   "cell_type": "code",
   "execution_count": 282,
   "metadata": {
    "collapsed": false
   },
   "outputs": [
    {
     "data": {
      "text/plain": [
       "97"
      ]
     },
     "execution_count": 282,
     "metadata": {},
     "output_type": "execute_result"
    }
   ],
   "source": [
    "len(X.columns)"
   ]
  },
  {
   "cell_type": "code",
   "execution_count": 286,
   "metadata": {
    "collapsed": false
   },
   "outputs": [
    {
     "data": {
      "text/plain": [
       "145.47767358785444"
      ]
     },
     "execution_count": 286,
     "metadata": {},
     "output_type": "execute_result"
    }
   ],
   "source": [
    "df1['ATEOUT'].mean()"
   ]
  },
  {
   "cell_type": "code",
   "execution_count": 264,
   "metadata": {
    "collapsed": false
   },
   "outputs": [
    {
     "data": {
      "text/plain": [
       "DYSVWRK    7.0\n",
       "DYSVWRK    7.0\n",
       "dtype: float64"
      ]
     },
     "execution_count": 264,
     "metadata": {},
     "output_type": "execute_result"
    }
   ],
   "source": [
    "df1['DYSVWRK'].max()"
   ]
  },
  {
   "cell_type": "code",
   "execution_count": 332,
   "metadata": {
    "collapsed": false
   },
   "outputs": [],
   "source": []
  },
  {
   "cell_type": "code",
   "execution_count": 348,
   "metadata": {
    "collapsed": false
   },
   "outputs": [],
   "source": [
    "tree = rf_model.estimators_[11]"
   ]
  },
  {
   "cell_type": "code",
   "execution_count": 295,
   "metadata": {
    "collapsed": false
   },
   "outputs": [
    {
     "data": {
      "text/plain": [
       "DecisionTreeClassifier(class_weight=None, criterion='gini', max_depth=7,\n",
       "            max_features='auto', max_leaf_nodes=None,\n",
       "            min_impurity_decrease=0.0, min_impurity_split=None,\n",
       "            min_samples_leaf=1, min_samples_split=2,\n",
       "            min_weight_fraction_leaf=0.0, presort=False,\n",
       "            random_state=1442973117, splitter='best')"
      ]
     },
     "execution_count": 295,
     "metadata": {},
     "output_type": "execute_result"
    }
   ],
   "source": [
    "rf.estimators_[9]"
   ]
  },
  {
   "cell_type": "code",
   "execution_count": 291,
   "metadata": {
    "collapsed": false
   },
   "outputs": [
    {
     "data": {
      "text/plain": [
       "Index(['RIDAGEYR', 'BMI', 'DIAB', 'GRPSTR', 'INCOME1', 'INCOME2', 'INCOME3',\n",
       "       'INCOME4', 'INCOME5', 'INCOME6', 'INCOME7', 'INCOME8', 'INCOME9',\n",
       "       'INCOME10', 'INCOME11', 'INCOME12', 'DYSVWRK', 'WALKBIKE', 'ATEOUT',\n",
       "       'CARRYOUT', 'GROCERIES', 'DLYKCAL', 'DLYCARB', 'DLYSGR', 'DLYFAT',\n",
       "       'DLYPRT', 'DYSWLKBK', 'MNWLKBK', 'VREC', 'DYSVREC', 'MNVREC', 'MREC',\n",
       "       'DYSMREC', 'MNMREC', 'SDNTRY', 'MXA', 'WHT', 'BLK', 'ASN', 'HRSTV',\n",
       "       'HRSCOMP', 'SMHS', 'MWRK', 'VWRK', 'DYSMWRK', 'MNMWRK', 'DYSVWRK',\n",
       "       'MNVWRK', 'HSGRAD', 'SMCOL', 'COLGRAD', 'HISP', 'FRGN', 'GNDR', 'CTZN',\n",
       "       'VET', 'SEPERATED', 'DIVORCED', 'PARTNER', 'WIDOWED', 'MARRIED',\n",
       "       'DLYMFAT', 'DLYPFAT', 'DLYSFAT', 'DLYFBR', 'DLYMAGN', 'DLYSODI',\n",
       "       'DLYIRON', 'DLYZINC', 'DLYCOPP', 'DLYCAFF', 'DLYBCAR', 'DLYACAR',\n",
       "       'DLYPHOS', 'DLYVARA', 'DLYRET', 'DLYATOA', 'DLYATOC', 'DLYLYCO',\n",
       "       'DLYLZ', 'DLYVB12', 'DLYVB6', 'DLYB12A', 'DLYVC', 'DLYVD', 'DLYVB1',\n",
       "       'DLYPOTA', 'DLYNIAC', 'DLYFDFE', 'DLYVB2', 'DLYCHL', 'DLYALCO',\n",
       "       'DLYFOLA', 'DLYCRYP', 'WHLMLK', 'SLEEPHRS', 'SLEEPPROB', 'SLEEPDIS'],\n",
       "      dtype='object')"
      ]
     },
     "execution_count": 291,
     "metadata": {},
     "output_type": "execute_result"
    }
   ],
   "source": [
    "df1.columns"
   ]
  },
  {
   "cell_type": "code",
   "execution_count": 337,
   "metadata": {
    "collapsed": false
   },
   "outputs": [
    {
     "data": {
      "text/plain": [
       "63.1611912805853"
      ]
     },
     "execution_count": 337,
     "metadata": {},
     "output_type": "execute_result"
    }
   ],
   "source": [
    "df1['GRPSTR'].mean()"
   ]
  },
  {
   "cell_type": "code",
   "execution_count": 433,
   "metadata": {
    "collapsed": false
   },
   "outputs": [
    {
     "data": {
      "text/plain": [
       "19.159075686537175"
      ]
     },
     "execution_count": 433,
     "metadata": {},
     "output_type": "execute_result"
    }
   ],
   "source": [
    "df1['MNMREC'].mean()"
   ]
  },
  {
   "cell_type": "code",
   "execution_count": 368,
   "metadata": {
    "collapsed": false
   },
   "outputs": [
    {
     "data": {
      "text/plain": [
       "14.187156443678152"
      ]
     },
     "execution_count": 368,
     "metadata": {},
     "output_type": "execute_result"
    }
   ],
   "source": [
    "df1['DLYIRON'].mean()"
   ]
  },
  {
   "cell_type": "code",
   "execution_count": 367,
   "metadata": {
    "collapsed": false
   },
   "outputs": [
    {
     "data": {
      "text/plain": [
       "0    6318\n",
       "1    2640\n",
       "Name: MARRIED, dtype: int64"
      ]
     },
     "execution_count": 367,
     "metadata": {},
     "output_type": "execute_result"
    }
   ],
   "source": [
    "df1['MARRIED'].value_counts()"
   ]
  },
  {
   "cell_type": "code",
   "execution_count": 341,
   "metadata": {
    "collapsed": false
   },
   "outputs": [
    {
     "name": "stdout",
     "output_type": "stream",
     "text": [
      "Accuracy: 0.777\n",
      "             precision    recall  f1-score   support\n",
      "\n",
      "          0       0.99      0.76      0.86      8138\n",
      "          1       0.28      0.92      0.43       820\n",
      "\n",
      "avg / total       0.92      0.78      0.82      8958\n",
      "\n"
     ]
    }
   ],
   "source": [
    "rf_model = RandomForestClassifier(n_estimators=12,max_depth=7, class_weight='balanced',random_state=666)\n",
    "rmodel = rf_model.fit(X, y)\n",
    "print(\"Accuracy: %.3f\"% accuracy_score(y, rf_model.predict(X)))\n",
    "print(classification_report(y, rf_model.predict(X)))"
   ]
  },
  {
   "cell_type": "code",
   "execution_count": 370,
   "metadata": {
    "collapsed": false
   },
   "outputs": [
    {
     "ename": "SyntaxError",
     "evalue": "'return' outside function (<ipython-input-370-e79cc9c73637>, line 1)",
     "output_type": "error",
     "traceback": [
      "\u001b[0;36m  File \u001b[0;32m\"<ipython-input-370-e79cc9c73637>\"\u001b[0;36m, line \u001b[0;32m1\u001b[0m\n\u001b[0;31m    return(df1['DIAB'] == 1)\u001b[0m\n\u001b[0m                            ^\u001b[0m\n\u001b[0;31mSyntaxError\u001b[0m\u001b[0;31m:\u001b[0m 'return' outside function\n"
     ]
    }
   ],
   "source": [
    "return(df1['DIAB'] == 1)"
   ]
  },
  {
   "cell_type": "code",
   "execution_count": 35,
   "metadata": {
    "collapsed": false
   },
   "outputs": [],
   "source": [
    "DIABETIC = df1.loc[df1['DIAB'] == 1]\n"
   ]
  },
  {
   "cell_type": "code",
   "execution_count": 531,
   "metadata": {
    "collapsed": false
   },
   "outputs": [],
   "source": [
    "MXA = df1.loc[df1['MXA'] == 1]"
   ]
  },
  {
   "cell_type": "code",
   "execution_count": 536,
   "metadata": {
    "collapsed": false
   },
   "outputs": [
    {
     "data": {
      "text/plain": [
       "103.29489363848545"
      ]
     },
     "execution_count": 536,
     "metadata": {},
     "output_type": "execute_result"
    }
   ],
   "source": [
    "MXA['DLYSGR'].mean()"
   ]
  },
  {
   "cell_type": "code",
   "execution_count": 537,
   "metadata": {
    "collapsed": false
   },
   "outputs": [
    {
     "data": {
      "text/plain": [
       "0.0975609756097561"
      ]
     },
     "execution_count": 537,
     "metadata": {},
     "output_type": "execute_result"
    }
   ],
   "source": [
    "DIABETIC['VREC'].mean()"
   ]
  },
  {
   "cell_type": "code",
   "execution_count": 539,
   "metadata": {
    "collapsed": false
   },
   "outputs": [
    {
     "data": {
      "text/plain": [
       "0.7347622237106497"
      ]
     },
     "execution_count": 539,
     "metadata": {},
     "output_type": "execute_result"
    }
   ],
   "source": [
    "df1['DYSVREC'].mean()"
   ]
  },
  {
   "cell_type": "code",
   "execution_count": 551,
   "metadata": {
    "collapsed": false
   },
   "outputs": [
    {
     "data": {
      "text/html": [
       "<div>\n",
       "<style>\n",
       "    .dataframe thead tr:only-child th {\n",
       "        text-align: right;\n",
       "    }\n",
       "\n",
       "    .dataframe thead th {\n",
       "        text-align: left;\n",
       "    }\n",
       "\n",
       "    .dataframe tbody tr th {\n",
       "        vertical-align: top;\n",
       "    }\n",
       "</style>\n",
       "<table border=\"1\" class=\"dataframe\">\n",
       "  <thead>\n",
       "    <tr style=\"text-align: right;\">\n",
       "      <th></th>\n",
       "      <th>Feature</th>\n",
       "      <th>Log_Odds</th>\n",
       "    </tr>\n",
       "  </thead>\n",
       "  <tbody>\n",
       "    <tr>\n",
       "      <th>0</th>\n",
       "      <td>DLYFAT</td>\n",
       "      <td>1.511677</td>\n",
       "    </tr>\n",
       "    <tr>\n",
       "      <th>1</th>\n",
       "      <td>ATEOUT</td>\n",
       "      <td>1.436724</td>\n",
       "    </tr>\n",
       "    <tr>\n",
       "      <th>2</th>\n",
       "      <td>BMI</td>\n",
       "      <td>0.766312</td>\n",
       "    </tr>\n",
       "    <tr>\n",
       "      <th>3</th>\n",
       "      <td>DLYCARB</td>\n",
       "      <td>0.444722</td>\n",
       "    </tr>\n",
       "    <tr>\n",
       "      <th>4</th>\n",
       "      <td>HISP</td>\n",
       "      <td>0.217422</td>\n",
       "    </tr>\n",
       "    <tr>\n",
       "      <th>5</th>\n",
       "      <td>HRSTV</td>\n",
       "      <td>0.122201</td>\n",
       "    </tr>\n",
       "    <tr>\n",
       "      <th>6</th>\n",
       "      <td>COLGRAD</td>\n",
       "      <td>0.085269</td>\n",
       "    </tr>\n",
       "    <tr>\n",
       "      <th>7</th>\n",
       "      <td>INCOME3</td>\n",
       "      <td>0.046631</td>\n",
       "    </tr>\n",
       "    <tr>\n",
       "      <th>8</th>\n",
       "      <td>DLYPRT</td>\n",
       "      <td>0.005882</td>\n",
       "    </tr>\n",
       "    <tr>\n",
       "      <th>9</th>\n",
       "      <td>INCOME1</td>\n",
       "      <td>-0.086025</td>\n",
       "    </tr>\n",
       "    <tr>\n",
       "      <th>10</th>\n",
       "      <td>INCOME9</td>\n",
       "      <td>-0.110575</td>\n",
       "    </tr>\n",
       "    <tr>\n",
       "      <th>11</th>\n",
       "      <td>GROCERIES</td>\n",
       "      <td>-0.118443</td>\n",
       "    </tr>\n",
       "    <tr>\n",
       "      <th>12</th>\n",
       "      <td>HSGRAD</td>\n",
       "      <td>-0.209237</td>\n",
       "    </tr>\n",
       "    <tr>\n",
       "      <th>13</th>\n",
       "      <td>WHT</td>\n",
       "      <td>-0.235727</td>\n",
       "    </tr>\n",
       "    <tr>\n",
       "      <th>14</th>\n",
       "      <td>RIDAGEYR</td>\n",
       "      <td>-0.235823</td>\n",
       "    </tr>\n",
       "    <tr>\n",
       "      <th>15</th>\n",
       "      <td>DYSVWRK</td>\n",
       "      <td>-0.283504</td>\n",
       "    </tr>\n",
       "    <tr>\n",
       "      <th>16</th>\n",
       "      <td>VREC</td>\n",
       "      <td>-0.441232</td>\n",
       "    </tr>\n",
       "    <tr>\n",
       "      <th>17</th>\n",
       "      <td>DLYKCAL</td>\n",
       "      <td>-1.536005</td>\n",
       "    </tr>\n",
       "  </tbody>\n",
       "</table>\n",
       "</div>"
      ],
      "text/plain": [
       "      Feature  Log_Odds\n",
       "0      DLYFAT  1.511677\n",
       "1      ATEOUT  1.436724\n",
       "2         BMI  0.766312\n",
       "3     DLYCARB  0.444722\n",
       "4        HISP  0.217422\n",
       "5       HRSTV  0.122201\n",
       "6     COLGRAD  0.085269\n",
       "7     INCOME3  0.046631\n",
       "8      DLYPRT  0.005882\n",
       "9     INCOME1 -0.086025\n",
       "10    INCOME9 -0.110575\n",
       "11  GROCERIES -0.118443\n",
       "12     HSGRAD -0.209237\n",
       "13        WHT -0.235727\n",
       "14   RIDAGEYR -0.235823\n",
       "15    DYSVWRK -0.283504\n",
       "16       VREC -0.441232\n",
       "17    DLYKCAL -1.536005"
      ]
     },
     "execution_count": 551,
     "metadata": {},
     "output_type": "execute_result"
    }
   ],
   "source": [
    "Log_plots"
   ]
  },
  {
   "cell_type": "code",
   "execution_count": 564,
   "metadata": {
    "collapsed": false
   },
   "outputs": [
    {
     "name": "stdout",
     "output_type": "stream",
     "text": [
      "0.875806843252\n",
      "0.874927306131\n",
      "0.866529529306\n",
      "0.856546824913\n",
      "0.8161\n",
      "0.799324341093\n",
      "0.746138169664\n"
     ]
    }
   ],
   "source": [
    "print(GB_AUC)\n",
    "print(XGB_AUC)\n",
    "print(Log_AUC)\n",
    "print(RF_AUC)\n",
    "print(SVC_AUC)\n",
    "print(NB_AUC)\n",
    "print(KNN_AUC)\n"
   ]
  },
  {
   "cell_type": "code",
   "execution_count": 559,
   "metadata": {
    "collapsed": false
   },
   "outputs": [],
   "source": [
    "Odds = [1.511677, 1.436724, 0.766312, 0.444722, 0.217422, 0.122201, 0.085269, 0.046631,\n",
    "        0.005882, -0.086025, -0.110575, -0.118443, -0.209237, -0.235727, -0.235823, -0.283504, -0.441232,-1.536005]\n"
   ]
  },
  {
   "cell_type": "code",
   "execution_count": 562,
   "metadata": {
    "collapsed": false
   },
   "outputs": [
    {
     "name": "stdout",
     "output_type": "stream",
     "text": [
      "3.0748209055394566\n",
      "2.67784120854362\n",
      "0.48504510504850873\n",
      "0.11051120592049465\n",
      "0.015798116820578103\n",
      "0.0032992374869831244\n",
      "0.001240483582896938\n",
      "0.00024048342152652164\n",
      "8.64857332487449e-07\n",
      "(-0.0008046140353015665+0.000983382374103351j)\n",
      "(-0.0015920908044952478+0.0019458199415150106j)\n",
      "(-0.0019191775477463379+0.002345578489096692j)\n",
      "(-0.009013245597305793+0.011015799457852051j)\n",
      "(-0.012462605750267836+0.015231534987603264j)\n",
      "(-0.012476406951609146+0.01524840252600683j)\n",
      "(-0.020581575779325144+0.025154369629004882j)\n",
      "(-0.06849856017926709+0.08371750153041083j)\n",
      "(-2.033496278501561+2.4852964407136047j)\n"
     ]
    }
   ],
   "source": [
    "for x in Odds:\n",
    "    print(x**e)"
   ]
  },
  {
   "cell_type": "code",
   "execution_count": 53,
   "metadata": {
    "collapsed": false
   },
   "outputs": [
    {
     "data": {
      "text/plain": [
       "25.738800561279668"
      ]
     },
     "execution_count": 53,
     "metadata": {},
     "output_type": "execute_result"
    }
   ],
   "source": [
    "df1['BMI'].mean()"
   ]
  },
  {
   "cell_type": "code",
   "execution_count": 52,
   "metadata": {
    "collapsed": false
   },
   "outputs": [
    {
     "data": {
      "text/plain": [
       "32.03467091352307"
      ]
     },
     "execution_count": 52,
     "metadata": {},
     "output_type": "execute_result"
    }
   ],
   "source": [
    "DIABETIC['BMI'].mean()"
   ]
  },
  {
   "cell_type": "code",
   "execution_count": 51,
   "metadata": {
    "collapsed": false
   },
   "outputs": [
    {
     "data": {
      "text/plain": [
       "32.03467091352307"
      ]
     },
     "execution_count": 51,
     "metadata": {},
     "output_type": "execute_result"
    }
   ],
   "source": [
    "DIABETIC['BMI'].mean()"
   ]
  },
  {
   "cell_type": "code",
   "execution_count": 87,
   "metadata": {
    "collapsed": false
   },
   "outputs": [
    {
     "data": {
      "text/plain": [
       "25.678244064053406"
      ]
     },
     "execution_count": 87,
     "metadata": {},
     "output_type": "execute_result"
    }
   ],
   "source": [
    "df['BMI'].mean()"
   ]
  },
  {
   "cell_type": "code",
   "execution_count": null,
   "metadata": {
    "collapsed": true
   },
   "outputs": [],
   "source": []
  }
 ],
 "metadata": {
  "kernelspec": {
   "display_name": "Python 3",
   "language": "python",
   "name": "python3"
  },
  "language_info": {
   "codemirror_mode": {
    "name": "ipython",
    "version": 3
   },
   "file_extension": ".py",
   "mimetype": "text/x-python",
   "name": "python",
   "nbconvert_exporter": "python",
   "pygments_lexer": "ipython3",
   "version": "3.6.0"
  }
 },
 "nbformat": 4,
 "nbformat_minor": 2
}
