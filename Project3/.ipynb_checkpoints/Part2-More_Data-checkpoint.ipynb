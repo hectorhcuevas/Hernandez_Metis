{
 "cells": [
  {
   "cell_type": "code",
   "execution_count": 2,
   "metadata": {
    "collapsed": true
   },
   "outputs": [],
   "source": [
    "import pandas as pd\n",
    "import numpy as np\n",
    "import matplotlib.pyplot as plt\n",
    "import seaborn as sns\n",
    "from sklearn import metrics\n",
    "from sklearn import preprocessing\n",
    "from sklearn.ensemble import RandomForestClassifier\n",
    "import xport\n",
    "import math\n",
    "%matplotlib inline"
   ]
  },
  {
   "cell_type": "markdown",
   "metadata": {},
   "source": [
    "### Loading & Merging Datasets"
   ]
  },
  {
   "cell_type": "code",
   "execution_count": 101,
   "metadata": {
    "collapsed": true
   },
   "outputs": [],
   "source": [
    "df_ = pd.read_csv('/Users/hector/Downloads/2012/DR1TOT_G.csv')"
   ]
  },
  {
   "cell_type": "code",
   "execution_count": 102,
   "metadata": {
    "collapsed": false
   },
   "outputs": [
    {
     "data": {
      "text/plain": [
       "253.39269042794172"
      ]
     },
     "execution_count": 102,
     "metadata": {},
     "output_type": "execute_result"
    }
   ],
   "source": [
    "df_['DR1TCARB'].mean()"
   ]
  },
  {
   "cell_type": "code",
   "execution_count": 103,
   "metadata": {
    "collapsed": false
   },
   "outputs": [],
   "source": [
    "df_2 = pd.read_csv('/Users/hector/Downloads/2012/DR2TOT_G.csv')"
   ]
  },
  {
   "cell_type": "code",
   "execution_count": 104,
   "metadata": {
    "collapsed": false
   },
   "outputs": [
    {
     "data": {
      "text/plain": [
       "86.29502401280686"
      ]
     },
     "execution_count": 104,
     "metadata": {},
     "output_type": "execute_result"
    }
   ],
   "source": [
    "df_2['DR2TVC'].mean()"
   ]
  },
  {
   "cell_type": "code",
   "execution_count": 105,
   "metadata": {
    "collapsed": false
   },
   "outputs": [],
   "source": [
    "df = pd.merge(df_,df_2,on='SEQN') #MERGING 2 DIET DATASETS ON INDIVIDUALS"
   ]
  },
  {
   "cell_type": "markdown",
   "metadata": {},
   "source": [
    "### Averaging nutrition across the two days diet was tracked"
   ]
  },
  {
   "cell_type": "code",
   "execution_count": 106,
   "metadata": {
    "collapsed": false
   },
   "outputs": [],
   "source": [
    "\n",
    "df['DLYFAT'] = (df['DR2TTFAT']+df['DR1TTFAT'])/2 \n",
    "df['DLYCARB'] = (df['DR1TCARB']+df['DR2TCARB'])/2\n",
    "df['DLYKCAL'] = (df['DR1TKCAL']+df['DR2TKCAL'])/2\n",
    "df['DLYSGR'] = (df['DR1TSUGR']+df['DR2TSUGR'])/2\n",
    "df['DLYFBR'] = (df['DR1TFIBE']+df['DR2TFIBE'])/2\n",
    "df['DLYSFAT'] = (df['DR1TSFAT']+df['DR2TSFAT'])/2\n",
    "df['DLYPFAT'] = (df['DR1TPFAT']+df['DR2TPFAT'])/2\n",
    "df['DLYMFAT'] = (df['DR1TMFAT']+df['DR2TMFAT'])/2\n",
    "df['DLYCHOL'] = (df['DR1TCHOL']+df['DR2TCHOL'])/2\n",
    "df['DLYVB12'] = (df['DR1TVB12']+df['DR2TVB12'])/2\n",
    "df['DLYVD'] = (df['DR1TVD']+df['DR2TVD'])/2\n",
    "df['DLYPRT'] = (df['DR1TPROT']+df['DR2TPROT'])/2\n",
    "\n",
    "df['DLYVC'] = (df['DR1TVC']+df['DR2TVC'])/2\n",
    "df['DLYMAGN'] = (df['DR1TMAGN']+df['DR1TMAGN'])/2\n",
    "df['DLYIRON'] = (df['DR1TIRON']+df['DR2TIRON'])/2\n",
    "df['DLYCALC'] = (df['DR1TCALC']+df['DR2TCALC'])/2\n",
    "df['DLYPHOS'] = (df['DR1TPHOS']+df['DR2TPHOS'])/2\n",
    "df['DLYZINC'] = (df['DR1TZINC']+df['DR2TZINC'])/2     \n",
    "df['DLYCOPP'] = (df['DR1TCOPP']+df['DR2TCOPP'])/2\n",
    "df['DLYSODI'] = (df['DR1TSODI']+df['DR2TSODI'])/2\n",
    "df['DLYPOTA'] = (df['DR1TPOTA']+df['DR2TPOTA'])/2\n",
    "df['DLYCAFF'] = (df['DR1TCAFF']+df['DR2TCAFF'])/2\n",
    "\n",
    "df['DLYBCAR'] = (df['DR1TBCAR']+df['DR2TBCAR'])/2\n",
    "df['DLYACAR'] = (df['DR1TACAR']+df['DR2TACAR'])/2\n",
    "df['DLYCRYP'] = (df['DR1TCRYP']+df['DR2TCRYP'])/2\n",
    "df['DLYVARA'] = (df['DR1TVARA']+df['DR2TVARA'])/2\n",
    "df['DLYRET'] = (df['DR1TRET']+df['DR2TRET'])/2\n",
    "df['DLYATOA'] = (df['DR1TATOA']+df['DR2TATOA'])/2\n",
    "\n",
    "df['DLYATOC'] = (df['DR1TATOC']+df['DR2TATOC'])/2\n",
    "df['DLYLYCO'] = (df['DR1TLYCO']+df['DR2TLYCO'])/2\n",
    "df['DLYLZ'] = (df['DR1TLZ']+df['DR2TLZ'])/2\n",
    "df['DLYVB1'] = (df['DR1TVB1']+df['DR2TVB1'])/2\n",
    "df['DLYVB2'] = (df['DR1TVB2']+df['DR2TVB2'])/2\n",
    "df['DLYNIAC'] = (df['DR1TNIAC']+df['DR2TNIAC'])/2\n",
    "\n",
    "df['DLYVB6'] = (df['DR1TVB6']+df['DR2TVB6'])/2\n",
    "df['DLYFOLA'] = (df['DR1TFOLA']+df['DR2TFOLA'])/2\n",
    "df['DLYB12A'] = (df['DR1TB12A']+df['DR2TB12A'])/2\n",
    "df['DLYFDFE'] = (df['DR1TFDFE']+df['DR2TFDFE'])/2\n",
    "df['DLYCHL'] = (df['DR1TCHL']+df['DR2TCHL'])/2\n",
    "df['DLYALCO'] = (df['DR1TALCO']+df['DR2TALCO'])/2\n",
    "\n"
   ]
  },
  {
   "cell_type": "markdown",
   "metadata": {},
   "source": [
    "### Filling null values with averages"
   ]
  },
  {
   "cell_type": "code",
   "execution_count": 107,
   "metadata": {
    "collapsed": false
   },
   "outputs": [],
   "source": [
    "df['DLYKCAL'] = df['DLYKCAL'].fillna(value=1922.573069730163)\n",
    "df['DLYPRT'] = df['DLYPRT'].fillna(value=73.37452711728567)\n",
    "df['DLYCARB'] = df['DLYCARB'].fillna(value=244.69370090836205)\n",
    "df['DLYFAT'] = df['DLYFAT'].fillna(value=71.30237042479298)\n",
    "\n",
    "\n",
    "\n",
    "df['DLYSGR'] = df['DLYSGR'].fillna(value=110.43290408763079)\n",
    "df['DLYFBR'] = df['DLYFBR'].fillna(value=15.5787269569864)\n",
    "df['DLYSFAT'] = df['DLYSFAT'].fillna(value=23.42120718674856)\n",
    "df['DLYPFAT'] = df['DLYPFAT'].fillna(value=16.801623296820775)\n",
    "df['DLYMFAT'] = df['DLYMFAT'].fillna(value=25.225938819129006)\n",
    "df['DLYCHOL'] = df['DLYCHOL'].fillna(value=247.98143200641198)\n",
    "df['DLYVB12'] = df['DLYVB12'].fillna(value=4.7946212930804055)\n",
    "df['DLYVD'] = df['DLYVD'].fillna(value=5.281325140261836)\n",
    "\n",
    "\n",
    "df['DLYMAGN'] = df['DLYMAGN'].fillna(value=267.09238288234593)\n",
    "df['DLYIRON'] = df['DLYIRON'].fillna(value=14.496503473149918)\n",
    "df['DLYCALC'] = df['DLYCALC'].fillna(value=943.6775981832754)\n",
    "df['DLYPHOS'] = df['DLYPHOS'].fillna(value=1267.0305904354796)\n",
    "df['DLYZINC'] = df['DLYZINC'].fillna(value=10.224765562383132)\n",
    "df['DLYCOPP'] = df['DLYCOPP'].fillna(value=1.1178726956986358)\n",
    "df['DLYSODI'] = df['DLYSODI'].fillna(value=3135.162503339567)\n",
    "df['DLYPOTA'] = df['DLYPOTA'].fillna(value=2421.867018434411)\n",
    "df['DLYCAFF'] = df['DLYCAFF'].fillna(value=84.87109270638526)\n",
    "\n",
    "df['DLYBCAR'] = df['DLYBCAR'].fillna(value=1904.8177932139995)\n",
    "df['DLYACAR'] = df['DLYACAR'].fillna(value=362.9207854662036)\n",
    "df['DLYCRYP'] = df['DLYCRYP'].fillna(value=81.48817793213999)\n",
    "df['DLYVARA'] = df['DLYVARA'].fillna(value=603.8861207587497)\n",
    "df['DLYRET'] = df['DLYRET'].fillna(value=426.8956051295752)\n",
    "df['DLYATOA'] = df['DLYATOA'].fillna(value=0.753600721346511)\n",
    "\n",
    "df['DLYATOC'] = df['DLYATOC'].fillna(value=7.601106064654022)\n",
    "df['DLYLYCO'] = df['DLYLYCO'].fillna(value=4593.141998397008)\n",
    "df['DLYLZ'] = df['DLYLZ'].fillna(value=1350.0444830349986)\n",
    "df['DLYVB1'] = df['DLYVB1'].fillna(value=1.5146941624365493)\n",
    "df['DLYVB2'] = df['DLYVB2'].fillna(value=1.9225999866417294)\n",
    "df['DLYNIAC'] = df['DLYNIAC'].fillna(value=22.834809043548038)\n",
    "\n",
    "df['DLYVB6'] = df['DLYVB6'].fillna(value=1.8985641196900873)\n",
    "df['DLYFOLA'] = df['DLYFOLA'].fillna(value=380.4688752337697)\n",
    "df['DLYB12A'] = df['DLYB12A'].fillna(value=1.023773043013628)\n",
    "df['DLYFDFE'] = df['DLYFDFE'].fillna(value=513.640195030724)\n",
    "df['DLYCHL'] = df['DLYCHL'].fillna(value=288.83434410900253)\n",
    "df['DLYALCO'] = df['DLYALCO'].fillna(value=4.626255677264222)\n",
    "df['DLYVC'] = df['DLYVC'].fillna(value=86.29502401280686)"
   ]
  },
  {
   "cell_type": "code",
   "execution_count": 108,
   "metadata": {
    "collapsed": false
   },
   "outputs": [
    {
     "data": {
      "text/plain": [
       "1922.573069730193"
      ]
     },
     "execution_count": 108,
     "metadata": {},
     "output_type": "execute_result"
    }
   ],
   "source": [
    "df['DLYKCAL'].mean()"
   ]
  },
  {
   "cell_type": "code",
   "execution_count": 109,
   "metadata": {
    "collapsed": false
   },
   "outputs": [
    {
     "data": {
      "text/plain": [
       "244.69370090836563"
      ]
     },
     "execution_count": 109,
     "metadata": {},
     "output_type": "execute_result"
    }
   ],
   "source": [
    "df['DLYCARB'].mean()"
   ]
  },
  {
   "cell_type": "code",
   "execution_count": 110,
   "metadata": {
    "collapsed": false
   },
   "outputs": [
    {
     "data": {
      "text/plain": [
       "71.30237042479504"
      ]
     },
     "execution_count": 110,
     "metadata": {},
     "output_type": "execute_result"
    }
   ],
   "source": [
    "df['DLYFAT'].mean()"
   ]
  },
  {
   "cell_type": "code",
   "execution_count": 111,
   "metadata": {
    "collapsed": false
   },
   "outputs": [
    {
     "data": {
      "text/plain": [
       "73.37452711728436"
      ]
     },
     "execution_count": 111,
     "metadata": {},
     "output_type": "execute_result"
    }
   ],
   "source": [
    "df['DLYPRT'].mean()\n"
   ]
  },
  {
   "cell_type": "code",
   "execution_count": 112,
   "metadata": {
    "collapsed": false
   },
   "outputs": [
    {
     "data": {
      "text/plain": [
       "5.281325140261895"
      ]
     },
     "execution_count": 112,
     "metadata": {},
     "output_type": "execute_result"
    }
   ],
   "source": [
    "df['DLYVD'].mean()"
   ]
  },
  {
   "cell_type": "markdown",
   "metadata": {},
   "source": [
    "### Loading Data on Physical Activity & Creating New Variables"
   ]
  },
  {
   "cell_type": "code",
   "execution_count": 113,
   "metadata": {
    "collapsed": false
   },
   "outputs": [],
   "source": [
    "df_PA = pd.read_csv('/Users/hector/Downloads/2012/PAQ_G.csv')\n",
    "df_demo = pd.read_csv('/Users/hector/Downloads/2012/DEMO_G.csv')\n",
    "df_ = pd.merge(df_PA,df_demo,on='SEQN')\n",
    "#df_['DYSVWRK'].value_counts()"
   ]
  },
  {
   "cell_type": "code",
   "execution_count": 114,
   "metadata": {
    "collapsed": false
   },
   "outputs": [],
   "source": [
    "WALKBIKE = []\n",
    "for row in df_['PAQ605']:\n",
    "    if row == 1:\n",
    "        WALKBIKE.append(1)\n",
    "    elif row == 2:\n",
    "        WALKBIKE.append(0)\n",
    "    else:\n",
    "        WALKBIKE.append(0)\n",
    "df_['WALKBIKE'] = pd.Series(WALKBIKE)\n",
    "\n",
    "DYSVWRK = []\n",
    "for row in df_['PAQ610']:\n",
    "    if 0 < row < 8:\n",
    "        DYSVWRK.append(row)\n",
    "    else:\n",
    "        DYSVWRK.append(0)\n",
    "df_['DYSVWRK'] = pd.Series(DYSVWRK)\n",
    "\n",
    "DYSMWRK = []\n",
    "for row in df_['PAQ620']:\n",
    "    if row == 1:\n",
    "        DYSMWRK.append(1)   \n",
    "    elif row == 2:\n",
    "        DYSMWRK.append(0)\n",
    "        \n",
    "DYSMWRK = []\n",
    "for row in df_['PAQ625']:\n",
    "    if 0 < row < 8:\n",
    "        DYSMWRK.append(row)\n",
    "    else:\n",
    "        DYSMWRK.append(0)\n",
    "df_['DYSMWRK'] = pd.Series(DYSMWRK)\n",
    "\n",
    "MNVWRK= []\n",
    "for row in df_['PAD615']:\n",
    "    if 9 < row < 9999:\n",
    "        MNVWRK.append(row)\n",
    "    else:\n",
    "        MNVWRK.append(0)\n",
    "df_['MNVWRK'] = pd.Series(MNVWRK)\n",
    "\n",
    "\n",
    "\n",
    "MNMWRK= []\n",
    "for row in df_['PAD630']:\n",
    "    if 9 < row < 9999:\n",
    "        MNMWRK.append(row)\n",
    "    else:\n",
    "        MNMWRK.append(0)\n",
    "df_['MNMWRK'] = pd.Series(MNMWRK)\n",
    "\n",
    "\n",
    "DYSWLKBK = []\n",
    "for row in df_['PAQ640']:\n",
    "    if 0 < row < 8:\n",
    "        DYSWLKBK.append(row)\n",
    "    else:\n",
    "        DYSWLKBK.append(0)\n",
    "df_['DYSWLKBK'] = pd.Series(DYSWLKBK)\n",
    "\n",
    "MNWLKBK= []\n",
    "for row in df_['PAD645']:\n",
    "    if 9 < row < 9999:\n",
    "        MNWLKBK.append(row)\n",
    "    else:\n",
    "        MNWLKBK.append(0)\n",
    "df_['MNWLKBK'] = pd.Series(MNWLKBK)\n",
    "\n",
    "VREC = []\n",
    "for row in df_['PAQ650']:\n",
    "    if row == 1:\n",
    "        VREC.append(1)\n",
    "    elif row == 2:\n",
    "        VREC.append(0)\n",
    "df_['VREC'] = pd.Series(VREC)\n",
    "\n",
    "DYSVREC = []\n",
    "for row in df_['PAQ655']:\n",
    "    if 0 < row < 8:\n",
    "        DYSVREC.append(row)\n",
    "    else:\n",
    "        DYSVREC.append(0)\n",
    "df_['DYSVREC'] = pd.Series(DYSVREC)\n",
    "\n",
    "MNVREC= []\n",
    "for row in df_['PAD660']:\n",
    "    if 9 < row < 9999:\n",
    "        MNVREC.append(row)\n",
    "    else:\n",
    "        MNVREC.append(0)\n",
    "df_['MNVREC'] = pd.Series(MNVREC)\n",
    "\n",
    "\n",
    "\n",
    "MREC = []\n",
    "for row in df_['PAQ665']:\n",
    "    if row == 1:\n",
    "        MREC.append(1)\n",
    "    elif row == 2:\n",
    "        MREC.append(0)\n",
    "df_['MREC'] = pd.Series(MREC)\n",
    "\n",
    "DYSMREC = []\n",
    "for row in df_['PAQ670']:\n",
    "    if 0 < row < 8:\n",
    "        DYSMREC.append(row)\n",
    "    else:\n",
    "        DYSMREC.append(0)\n",
    "df_['DYSMREC'] = pd.Series(DYSMREC)\n",
    "\n",
    "MNMREC= []\n",
    "for row in df_['PAD675']:\n",
    "    if 9 < row < 9999:\n",
    "        MNMREC.append(row)\n",
    "    else:\n",
    "        MNMREC.append(0)\n",
    "df_['MNMREC'] = pd.Series(MNMREC)\n",
    "\n",
    "\n",
    "SDNTRY= []\n",
    "for row in df_['PAD680']:\n",
    "    if 0 < row < 1200:\n",
    "        SDNTRY.append(row)\n",
    "df_['SDNTRY'] = pd.Series(SDNTRY)\n",
    "df_['SDNTRY'] = df_['SDNTRY'].fillna(value = 383.45265657465126)\n",
    "\n",
    "HRSTV = []\n",
    "for row in df_['PAQ710']:\n",
    "    if row < 8:\n",
    "        HRSTV.append(row)\n",
    "    elif row == 8:\n",
    "        HRSTV.append(0)\n",
    "df_['HRSTV'] = pd.Series(HRSTV)\n",
    "\n",
    "\n",
    "HRSCOMP= []\n",
    "for row in df_['PAQ715']:\n",
    "    if  row < 8:\n",
    "        HRSCOMP.append(row)\n",
    "    elif row == 8:\n",
    "        HRSCOMP.append(0)\n",
    "df_['HRSCOMP'] = pd.Series(HRSCOMP)\n",
    "\n",
    "GNDR = []\n",
    "for row in df_['RIAGENDR']:\n",
    "    if  row == 1:\n",
    "        GNDR.append(row)\n",
    "    elif row == 2:\n",
    "        GNDR.append(0)\n",
    "df_['GNDR'] = pd.Series(GNDR)\n",
    "\n",
    "\n",
    "MXA = []\n",
    "HISP =[]\n",
    "WHT = []\n",
    "BLK = []\n",
    "ASN = []\n",
    "OTHR = []\n",
    "for row in df_['RIDRETH3']:\n",
    "    if  row == 1:\n",
    "        MXA.append(1)\n",
    "    else:\n",
    "        MXA.append(0)\n",
    "df_['MXA'] = pd.Series(MXA)\n",
    "\n",
    "for row in df_['RIDRETH3']:\n",
    "    if  row == 2:\n",
    "        HISP.append(1)\n",
    "    else:\n",
    "        HISP.append(0)\n",
    "df_['HISP'] = pd.Series(HISP)\n",
    "\n",
    "for row in df_['RIDRETH3']:\n",
    "    if  row == 3:\n",
    "        WHT.append(1)\n",
    "    else:\n",
    "        WHT.append(0)\n",
    "df_['WHT'] = pd.Series(WHT)\n",
    "\n",
    "for row in df_['RIDRETH3']:\n",
    "    if  row == 4:\n",
    "        BLK.append(1)\n",
    "    else:\n",
    "        BLK.append(0)\n",
    "df_['BLK'] = pd.Series(BLK)\n",
    "\n",
    "for row in df_['RIDRETH3']:\n",
    "    if  row == 6:\n",
    "        ASN.append(1)\n",
    "    else:\n",
    "        ASN.append(0)\n",
    "df_['ASN'] = pd.Series(ASN)\n",
    "\n",
    "FRGN = []\n",
    "for row in df_['DMDBORN4']:\n",
    "    if  row == 2:\n",
    "        FRGN.append(1)\n",
    "    else:\n",
    "        FRGN.append(0)\n",
    "df_['FRGN'] = pd.Series(FRGN)\n",
    "\n",
    "CTZN = []\n",
    "for row in df_['DMDBORN4']:\n",
    "    if  row == 1:\n",
    "        CTZN.append(1)\n",
    "    elif row == 2:\n",
    "        CTZN.append(0)\n",
    "df_['CTZN'] = pd.Series(CTZN)\n",
    "\n",
    "VET = []\n",
    "for row in df_['DMQMILIZ']:\n",
    "    if  row == 1:\n",
    "        VET.append(1)\n",
    "    else:\n",
    "        VET.append(0)\n",
    "df_['VET'] = pd.Series(VET)\n",
    "\n",
    "VET = []\n",
    "for row in df_['DMQMILIZ']:\n",
    "    if  row == 1:\n",
    "        VET.append(1)\n",
    "    else:\n",
    "        VET.append(0)\n",
    "df_['VET'] = pd.Series(VET)\n",
    "\n",
    "NOHS = []\n",
    "for row in df_['DMDEDUC2']:\n",
    "    if  row == 1:\n",
    "        NOHS.append(1)\n",
    "    else:\n",
    "        NOHS.append(0)\n",
    "df_['NOHS'] = pd.Series(NOHS)\n",
    "\n",
    "SMHS = []\n",
    "for row in df_['DMDEDUC2']:\n",
    "    if  row == 2:\n",
    "        SMHS.append(1)\n",
    "    else:\n",
    "        SMHS.append(0)\n",
    "df_['SMHS'] = pd.Series(SMHS)\n",
    "\n",
    "HSGRAD = []\n",
    "for row in df_['DMDEDUC2']:\n",
    "    if  row == 3:\n",
    "        HSGRAD.append(1)\n",
    "    else:\n",
    "        HSGRAD.append(0)\n",
    "df_['HSGRAD'] = pd.Series(HSGRAD)\n",
    "\n",
    "SMCOL = [] \n",
    "for row in df_['DMDEDUC2']:\n",
    "    if  row == 4:\n",
    "        SMCOL.append(1)\n",
    "    else:\n",
    "        SMCOL.append(0)\n",
    "df_['SMCOL'] = pd.Series(SMCOL)\n",
    "\n",
    "COLGRAD = []                        \n",
    "for row in df_['DMDEDUC2']:\n",
    "    if  row == 5:\n",
    "        COLGRAD.append(1)\n",
    "    else:\n",
    "        COLGRAD.append(0)\n",
    "df_['COLGRAD'] = pd.Series(COLGRAD)\n",
    "\n",
    "#GRDSCHL = []\n",
    "#MDSCHL = []\n",
    "#HSCHL = []\n",
    "#RCNTGRAD = []\n",
    "#for row in df_['DMDEDUC3']:\n",
    "#    if  row < 6 :\n",
    "#        GRDSCHL.append(1)\n",
    "#        MDSCHL.append(0)\n",
    "#        HSCHL.append(0)\n",
    "#        RCNTGRAD.append(0)\n",
    "#    elif 6 <= row <= 8:\n",
    "#        GRDSCHL.append(0)\n",
    "#        MDSCHL.append(1)\n",
    "#        HSCHL.append(0)\n",
    "#        RCNTGRAD.append(0)\n",
    "#    elif 8 < row < 13:\n",
    "#        HSCHL.append(0)\n",
    "#        MDSCHL.append(0)\n",
    "#        HSCHL.append(1)\n",
    "#        RCNTGRAD.append(0)\n",
    "#    elif 12 < row < 16:\n",
    "#        HSCHL.append(0)\n",
    "#        MDSCHL.append(0)\n",
    "#        HSCHL.append(0)\n",
    "#        RCNTGRAD.append(1)\n",
    "#    else:\n",
    "#        GRDSCHL.append(0)\n",
    "#        MDSCHL.append(0)\n",
    "#        HSCHL.append(0)\n",
    "#        RCNTGRAD.append(0)\n",
    "#df_['GRDSCHL'] = pd.Series(GRDSCHL)\n",
    "#df_['MDSCHL'] = pd.Series(MDSCHL)\n",
    "#df_['HSCHL'] = pd.Series(HSCHL)\n",
    "#df_['RCNTGRAD'] = pd.Series(RCNTGRAD)\n",
    "\n",
    "SEPERATED = []\n",
    "DIVORCED = []\n",
    "MARRIED = []\n",
    "WIDOWED = []\n",
    "PARTNER = []\n",
    "for row in df_['DMDMARTL']:\n",
    "    if  row == 1 :\n",
    "        MARRIED.append(1)\n",
    "        DIVORCED.append(0)\n",
    "        SEPERATED.append(0)\n",
    "        WIDOWED.append(0)\n",
    "        PARTNER.append(0)\n",
    "    elif row == 2:\n",
    "        MARRIED.append(0)\n",
    "        DIVORCED.append(0)\n",
    "        SEPERATED.append(0)\n",
    "        WIDOWED.append(1)\n",
    "        PARTNER.append(0)\n",
    "    elif row == 3:\n",
    "        MARRIED.append(0)\n",
    "        DIVORCED.append(1)\n",
    "        SEPERATED.append(0)\n",
    "        WIDOWED.append(0)\n",
    "        PARTNER.append(0)\n",
    "    elif row == 4:\n",
    "        MARRIED.append(0)\n",
    "        DIVORCED.append(0)\n",
    "        SEPERATED.append(1)\n",
    "        WIDOWED.append(0)\n",
    "        PARTNER.append(0)\n",
    "    elif row == 6:\n",
    "        MARRIED.append(0)\n",
    "        DIVORCED.append(0)\n",
    "        SEPERATED.append(0)\n",
    "        WIDOWED.append(0)\n",
    "        PARTNER.append(1)\n",
    "    else:\n",
    "        MARRIED.append(0)\n",
    "        DIVORCED.append(0)\n",
    "        SEPERATED.append(0)\n",
    "        WIDOWED.append(0) \n",
    "        PARTNER.append(0)\n",
    "\n",
    "df_['MARRIED'] = pd.Series(MARRIED)\n",
    "df_['WIDOWED'] = pd.Series(WIDOWED)\n",
    "df_['DIVORCED'] = pd.Series(DIVORCED)\n",
    "df_['SEPERATED'] = pd.Series(SEPERATED)\n",
    "df_['PARTNER'] = pd.Series(PARTNER)        \n",
    "\n",
    "\n",
    "\n",
    "\n",
    "INCOME = []                        \n",
    "for row in df_['INDHHIN2']:\n",
    "    if  row < 16:\n",
    "        INCOME.append(row)\n",
    "df_['INCOME'] = pd.Series(INCOME)\n",
    "\n",
    "\n"
   ]
  },
  {
   "cell_type": "code",
   "execution_count": 115,
   "metadata": {
    "collapsed": true
   },
   "outputs": [],
   "source": [
    "INCOME1 = []   \n",
    "INCOME2 = []                        \n",
    "INCOME3 = []                        \n",
    "INCOME4 = []\n",
    "INCOME5 = []   \n",
    "INCOME6 = []                        \n",
    "INCOME7 = []                        \n",
    "INCOME8 = []\n",
    "INCOME9 = []   \n",
    "INCOME10 = []                        \n",
    "INCOME11 = []                        \n",
    "INCOME12 = []\n",
    "for row in df_['INDHHIN2']:\n",
    "    if  row == 1:\n",
    "        INCOME1.append(1)\n",
    "        INCOME2.append(0)\n",
    "        INCOME3.append(0)\n",
    "        INCOME4.append(0)\n",
    "        INCOME5.append(0)\n",
    "        INCOME6.append(0)\n",
    "        INCOME7.append(0)\n",
    "        INCOME8.append(0)\n",
    "        INCOME9.append(0)\n",
    "        INCOME10.append(0)\n",
    "        INCOME11.append(0)\n",
    "        INCOME12.append(0)\n",
    "    elif row ==2:\n",
    "        INCOME1.append(0)\n",
    "        INCOME2.append(1)\n",
    "        INCOME3.append(0)\n",
    "        INCOME4.append(0)\n",
    "        INCOME5.append(0)\n",
    "        INCOME6.append(0)\n",
    "        INCOME7.append(0)\n",
    "        INCOME8.append(0)\n",
    "        INCOME9.append(0)\n",
    "        INCOME10.append(0)\n",
    "        INCOME11.append(0)\n",
    "        INCOME12.append(0)\n",
    "    elif row ==3:\n",
    "        INCOME1.append(0)\n",
    "        INCOME2.append(0)\n",
    "        INCOME3.append(1)\n",
    "        INCOME4.append(0)\n",
    "        INCOME5.append(0)\n",
    "        INCOME6.append(0)\n",
    "        INCOME7.append(0)\n",
    "        INCOME8.append(0)\n",
    "        INCOME9.append(0)\n",
    "        INCOME10.append(0)\n",
    "        INCOME11.append(0)\n",
    "        INCOME12.append(0)\n",
    "    elif row ==4:\n",
    "        INCOME1.append(0)\n",
    "        INCOME2.append(0)\n",
    "        INCOME3.append(0)\n",
    "        INCOME4.append(1)\n",
    "        INCOME5.append(0)\n",
    "        INCOME6.append(0)\n",
    "        INCOME7.append(0)\n",
    "        INCOME8.append(0)\n",
    "        INCOME9.append(0)\n",
    "        INCOME10.append(0)\n",
    "        INCOME11.append(0)\n",
    "        INCOME12.append(0)\n",
    "    elif row ==5 :\n",
    "        INCOME1.append(1)\n",
    "        INCOME1.append(0)\n",
    "        INCOME2.append(0)\n",
    "        INCOME3.append(0)\n",
    "        INCOME4.append(0)\n",
    "        INCOME5.append(1)\n",
    "        INCOME6.append(0)\n",
    "        INCOME7.append(0)\n",
    "        INCOME8.append(0)\n",
    "        INCOME9.append(0)\n",
    "        INCOME10.append(0)\n",
    "        INCOME11.append(0)\n",
    "        INCOME12.append(0)\n",
    "    elif row == 6:\n",
    "        INCOME1.append(0)\n",
    "        INCOME2.append(0)\n",
    "        INCOME3.append(0)\n",
    "        INCOME4.append(0)\n",
    "        INCOME5.append(0)\n",
    "        INCOME6.append(1)\n",
    "        INCOME7.append(0)\n",
    "        INCOME8.append(0)\n",
    "        INCOME9.append(0)\n",
    "        INCOME10.append(0)\n",
    "        INCOME11.append(0)\n",
    "        INCOME12.append(0)\n",
    "    elif row == 7:\n",
    "        INCOME1.append(0)\n",
    "        INCOME2.append(0)\n",
    "        INCOME3.append(0)\n",
    "        INCOME4.append(0)\n",
    "        INCOME5.append(0)\n",
    "        INCOME6.append(0)\n",
    "        INCOME7.append(1)\n",
    "        INCOME8.append(0)\n",
    "        INCOME9.append(0)\n",
    "        INCOME10.append(0)\n",
    "        INCOME11.append(0)\n",
    "        INCOME12.append(0)\n",
    "    elif row == 8:\n",
    "        INCOME1.append(0)\n",
    "        INCOME2.append(0)\n",
    "        INCOME3.append(0)\n",
    "        INCOME4.append(0)\n",
    "        INCOME5.append(0)\n",
    "        INCOME6.append(0)\n",
    "        INCOME7.append(0)\n",
    "        INCOME8.append(1)\n",
    "        INCOME9.append(0)\n",
    "        INCOME10.append(0)\n",
    "        INCOME11.append(0)\n",
    "        INCOME12.append(0)\n",
    "    elif row ==9:\n",
    "        INCOME1.append(0)\n",
    "        INCOME2.append(0)\n",
    "        INCOME3.append(0)\n",
    "        INCOME4.append(0)\n",
    "        INCOME5.append(0)\n",
    "        INCOME6.append(0)\n",
    "        INCOME7.append(0)\n",
    "        INCOME8.append(0)\n",
    "        INCOME9.append(1)\n",
    "        INCOME10.append(0)\n",
    "        INCOME11.append(0)\n",
    "        INCOME12.append(0)\n",
    "    elif row ==10:\n",
    "        INCOME1.append(0)\n",
    "        INCOME2.append(0)\n",
    "        INCOME3.append(0)\n",
    "        INCOME4.append(0)\n",
    "        INCOME5.append(0)\n",
    "        INCOME6.append(0)\n",
    "        INCOME7.append(0)\n",
    "        INCOME8.append(0)\n",
    "        INCOME9.append(0)\n",
    "        INCOME10.append(1)\n",
    "        INCOME11.append(0)\n",
    "        INCOME12.append(0)\n",
    "    elif row ==14:\n",
    "        INCOME1.append(0)\n",
    "        INCOME2.append(0)\n",
    "        INCOME3.append(0)\n",
    "        INCOME4.append(0)\n",
    "        INCOME5.append(0)\n",
    "        INCOME6.append(0)\n",
    "        INCOME7.append(0)\n",
    "        INCOME8.append(0)\n",
    "        INCOME9.append(0)\n",
    "        INCOME10.append(0)\n",
    "        INCOME11.append(1)\n",
    "        INCOME12.append(0)\n",
    "    elif row ==15:\n",
    "        INCOME1.append(0)\n",
    "        INCOME2.append(0)\n",
    "        INCOME3.append(0)\n",
    "        INCOME4.append(0)\n",
    "        INCOME5.append(0)\n",
    "        INCOME6.append(0)\n",
    "        INCOME7.append(0)\n",
    "        INCOME8.append(0)\n",
    "        INCOME9.append(0)\n",
    "        INCOME10.append(0)\n",
    "        INCOME11.append(0)\n",
    "        INCOME12.append(1)\n",
    "df_['INCOME1'] = pd.Series(INCOME1)\n",
    "df_['INCOME2'] = pd.Series(INCOME2)\n",
    "df_['INCOME3'] = pd.Series(INCOME3)\n",
    "df_['INCOME4'] = pd.Series(INCOME4)\n",
    "df_['INCOME5'] = pd.Series(INCOME5)\n",
    "df_['INCOME6'] = pd.Series(INCOME6)\n",
    "df_['INCOME7'] = pd.Series(INCOME7)\n",
    "df_['INCOME8'] = pd.Series(INCOME8)\n",
    "df_['INCOME9'] = pd.Series(INCOME9)\n",
    "df_['INCOME10'] = pd.Series(INCOME10)\n",
    "df_['INCOME11'] = pd.Series(INCOME11)\n",
    "df_['INCOME12'] = pd.Series(INCOME12)"
   ]
  },
  {
   "cell_type": "markdown",
   "metadata": {},
   "source": [
    "### Loading & Merging More Data "
   ]
  },
  {
   "cell_type": "code",
   "execution_count": 116,
   "metadata": {
    "collapsed": false
   },
   "outputs": [],
   "source": [
    "df_SLP = pd.read_csv('/Users/hector/Downloads/2012/SLQ_G.csv')"
   ]
  },
  {
   "cell_type": "code",
   "execution_count": 117,
   "metadata": {
    "collapsed": false
   },
   "outputs": [],
   "source": [
    "df_1 = pd.merge(df_,df,on='SEQN')"
   ]
  },
  {
   "cell_type": "code",
   "execution_count": 118,
   "metadata": {
    "collapsed": true
   },
   "outputs": [],
   "source": [
    "df_ = pd.merge(df_1,df_SLP,on='SEQN')"
   ]
  },
  {
   "cell_type": "code",
   "execution_count": 119,
   "metadata": {
    "collapsed": false
   },
   "outputs": [],
   "source": [
    "SLEEP = []\n",
    "for row in df_['SLD010H']:\n",
    "    if 1 < row <= 12:\n",
    "        SLEEP.append(row)\n",
    "df_['SLEEPHRS'] =  pd.Series(SLEEP)\n",
    "\n",
    "\n",
    "\n",
    "SLEEPP = []\n",
    "for row in df_['SLQ050']:\n",
    "    if row == 1:\n",
    "        SLEEPP.append(row)\n",
    "    elif row == 2:\n",
    "        SLEEPP.append(0)\n",
    "    else:\n",
    "        SLEEPP.append(0)\n",
    "df_['SLEEPPROB'] =  pd.Series(SLEEPP)\n",
    "\n",
    "\n",
    "\n",
    "\n",
    "SLEEPDIS = []\n",
    "for row in df_['SLQ060']:\n",
    "    if row == 1:\n",
    "        SLEEPDIS.append(row)\n",
    "    elif row == 2:\n",
    "        SLEEPDIS.append(0)\n",
    "    else:\n",
    "        SLEEPDIS.append(0)\n",
    "df_['SLEEPDIS'] =  pd.Series(SLEEPDIS)"
   ]
  },
  {
   "cell_type": "code",
   "execution_count": 120,
   "metadata": {
    "collapsed": false
   },
   "outputs": [
    {
     "ename": "KeyError",
     "evalue": "\"['GRPSTR'] not in index\"",
     "output_type": "error",
     "traceback": [
      "\u001b[0;31m---------------------------------------------------------------------------\u001b[0m",
      "\u001b[0;31mKeyError\u001b[0m                                  Traceback (most recent call last)",
      "\u001b[0;32m<ipython-input-120-9e9fe99d8480>\u001b[0m in \u001b[0;36m<module>\u001b[0;34m()\u001b[0m\n\u001b[1;32m      1\u001b[0m df_[['GRPSTR','INCOME','DYSVWRK','WALKBIKE','DLYKCAL','DLYCARB','DLYSGR','DLYFAT','DLYPRT','DYSWLKBK','MNWLKBK','VREC','DYSVREC','MNVREC','MREC','DYSMREC','MNMREC','SDNTRY','MXA','WHT','BLK','ASN','HRSTV','HRSCOMP','SMHS', 'HSGRAD','SMCOL','COLGRAD','HISP','FRGN','GNDR','CTZN','VET','SEPERATED','DIVORCED','PARTNER','WIDOWED','MARRIED','DLYMFAT','DLYPFAT','DLYSFAT','DLYFBR','DLYMAGN','DLYSODI','DLYIRON',\n\u001b[0;32m----> 2\u001b[0;31m 'DLYZINC','DLYCOPP','DLYCAFF','DLYBCAR','DLYACAR','DLYPHOS','DLYVARA','DLYRET','DLYATOA','DLYATOC','DLYLYCO','DLYLZ','DLYVB12','DLYVB6','DLYB12A','DLYVC','DLYVD','DLYVB1','DLYPOTA','DLYNIAC','DLYFDFE','DLYVB2','DLYCHL','DLYALCO','DLYFOLA','DLYCRYP','SLEEPHRS','SLEEPPROB','SLEEPDIS']].dropna(axis=0,how='any')\n\u001b[0m",
      "\u001b[0;32m/Users/hector/anaconda/lib/python3.6/site-packages/pandas/core/frame.py\u001b[0m in \u001b[0;36m__getitem__\u001b[0;34m(self, key)\u001b[0m\n\u001b[1;32m   1956\u001b[0m         \u001b[0;32mif\u001b[0m \u001b[0misinstance\u001b[0m\u001b[0;34m(\u001b[0m\u001b[0mkey\u001b[0m\u001b[0;34m,\u001b[0m \u001b[0;34m(\u001b[0m\u001b[0mSeries\u001b[0m\u001b[0;34m,\u001b[0m \u001b[0mnp\u001b[0m\u001b[0;34m.\u001b[0m\u001b[0mndarray\u001b[0m\u001b[0;34m,\u001b[0m \u001b[0mIndex\u001b[0m\u001b[0;34m,\u001b[0m \u001b[0mlist\u001b[0m\u001b[0;34m)\u001b[0m\u001b[0;34m)\u001b[0m\u001b[0;34m:\u001b[0m\u001b[0;34m\u001b[0m\u001b[0m\n\u001b[1;32m   1957\u001b[0m             \u001b[0;31m# either boolean or fancy integer index\u001b[0m\u001b[0;34m\u001b[0m\u001b[0;34m\u001b[0m\u001b[0m\n\u001b[0;32m-> 1958\u001b[0;31m             \u001b[0;32mreturn\u001b[0m \u001b[0mself\u001b[0m\u001b[0;34m.\u001b[0m\u001b[0m_getitem_array\u001b[0m\u001b[0;34m(\u001b[0m\u001b[0mkey\u001b[0m\u001b[0;34m)\u001b[0m\u001b[0;34m\u001b[0m\u001b[0m\n\u001b[0m\u001b[1;32m   1959\u001b[0m         \u001b[0;32melif\u001b[0m \u001b[0misinstance\u001b[0m\u001b[0;34m(\u001b[0m\u001b[0mkey\u001b[0m\u001b[0;34m,\u001b[0m \u001b[0mDataFrame\u001b[0m\u001b[0;34m)\u001b[0m\u001b[0;34m:\u001b[0m\u001b[0;34m\u001b[0m\u001b[0m\n\u001b[1;32m   1960\u001b[0m             \u001b[0;32mreturn\u001b[0m \u001b[0mself\u001b[0m\u001b[0;34m.\u001b[0m\u001b[0m_getitem_frame\u001b[0m\u001b[0;34m(\u001b[0m\u001b[0mkey\u001b[0m\u001b[0;34m)\u001b[0m\u001b[0;34m\u001b[0m\u001b[0m\n",
      "\u001b[0;32m/Users/hector/anaconda/lib/python3.6/site-packages/pandas/core/frame.py\u001b[0m in \u001b[0;36m_getitem_array\u001b[0;34m(self, key)\u001b[0m\n\u001b[1;32m   2000\u001b[0m             \u001b[0;32mreturn\u001b[0m \u001b[0mself\u001b[0m\u001b[0;34m.\u001b[0m\u001b[0mtake\u001b[0m\u001b[0;34m(\u001b[0m\u001b[0mindexer\u001b[0m\u001b[0;34m,\u001b[0m \u001b[0maxis\u001b[0m\u001b[0;34m=\u001b[0m\u001b[0;36m0\u001b[0m\u001b[0;34m,\u001b[0m \u001b[0mconvert\u001b[0m\u001b[0;34m=\u001b[0m\u001b[0;32mFalse\u001b[0m\u001b[0;34m)\u001b[0m\u001b[0;34m\u001b[0m\u001b[0m\n\u001b[1;32m   2001\u001b[0m         \u001b[0;32melse\u001b[0m\u001b[0;34m:\u001b[0m\u001b[0;34m\u001b[0m\u001b[0m\n\u001b[0;32m-> 2002\u001b[0;31m             \u001b[0mindexer\u001b[0m \u001b[0;34m=\u001b[0m \u001b[0mself\u001b[0m\u001b[0;34m.\u001b[0m\u001b[0mloc\u001b[0m\u001b[0;34m.\u001b[0m\u001b[0m_convert_to_indexer\u001b[0m\u001b[0;34m(\u001b[0m\u001b[0mkey\u001b[0m\u001b[0;34m,\u001b[0m \u001b[0maxis\u001b[0m\u001b[0;34m=\u001b[0m\u001b[0;36m1\u001b[0m\u001b[0;34m)\u001b[0m\u001b[0;34m\u001b[0m\u001b[0m\n\u001b[0m\u001b[1;32m   2003\u001b[0m             \u001b[0;32mreturn\u001b[0m \u001b[0mself\u001b[0m\u001b[0;34m.\u001b[0m\u001b[0mtake\u001b[0m\u001b[0;34m(\u001b[0m\u001b[0mindexer\u001b[0m\u001b[0;34m,\u001b[0m \u001b[0maxis\u001b[0m\u001b[0;34m=\u001b[0m\u001b[0;36m1\u001b[0m\u001b[0;34m,\u001b[0m \u001b[0mconvert\u001b[0m\u001b[0;34m=\u001b[0m\u001b[0;32mTrue\u001b[0m\u001b[0;34m)\u001b[0m\u001b[0;34m\u001b[0m\u001b[0m\n\u001b[1;32m   2004\u001b[0m \u001b[0;34m\u001b[0m\u001b[0m\n",
      "\u001b[0;32m/Users/hector/anaconda/lib/python3.6/site-packages/pandas/core/indexing.py\u001b[0m in \u001b[0;36m_convert_to_indexer\u001b[0;34m(self, obj, axis, is_setter)\u001b[0m\n\u001b[1;32m   1229\u001b[0m                 \u001b[0mmask\u001b[0m \u001b[0;34m=\u001b[0m \u001b[0mcheck\u001b[0m \u001b[0;34m==\u001b[0m \u001b[0;34m-\u001b[0m\u001b[0;36m1\u001b[0m\u001b[0;34m\u001b[0m\u001b[0m\n\u001b[1;32m   1230\u001b[0m                 \u001b[0;32mif\u001b[0m \u001b[0mmask\u001b[0m\u001b[0;34m.\u001b[0m\u001b[0many\u001b[0m\u001b[0;34m(\u001b[0m\u001b[0;34m)\u001b[0m\u001b[0;34m:\u001b[0m\u001b[0;34m\u001b[0m\u001b[0m\n\u001b[0;32m-> 1231\u001b[0;31m                     \u001b[0;32mraise\u001b[0m \u001b[0mKeyError\u001b[0m\u001b[0;34m(\u001b[0m\u001b[0;34m'%s not in index'\u001b[0m \u001b[0;34m%\u001b[0m \u001b[0mobjarr\u001b[0m\u001b[0;34m[\u001b[0m\u001b[0mmask\u001b[0m\u001b[0;34m]\u001b[0m\u001b[0;34m)\u001b[0m\u001b[0;34m\u001b[0m\u001b[0m\n\u001b[0m\u001b[1;32m   1232\u001b[0m \u001b[0;34m\u001b[0m\u001b[0m\n\u001b[1;32m   1233\u001b[0m                 \u001b[0;32mreturn\u001b[0m \u001b[0m_values_from_object\u001b[0m\u001b[0;34m(\u001b[0m\u001b[0mindexer\u001b[0m\u001b[0;34m)\u001b[0m\u001b[0;34m\u001b[0m\u001b[0m\n",
      "\u001b[0;31mKeyError\u001b[0m: \"['GRPSTR'] not in index\""
     ]
    }
   ],
   "source": [
    "df_[['GRPSTR','INCOME','DYSVWRK','WALKBIKE','DLYKCAL','DLYCARB','DLYSGR','DLYFAT','DLYPRT','DYSWLKBK','MNWLKBK','VREC','DYSVREC','MNVREC','MREC','DYSMREC','MNMREC','SDNTRY','MXA','WHT','BLK','ASN','HRSTV','HRSCOMP','SMHS', 'HSGRAD','SMCOL','COLGRAD','HISP','FRGN','GNDR','CTZN','VET','SEPERATED','DIVORCED','PARTNER','WIDOWED','MARRIED','DLYMFAT','DLYPFAT','DLYSFAT','DLYFBR','DLYMAGN','DLYSODI','DLYIRON',\n",
    "'DLYZINC','DLYCOPP','DLYCAFF','DLYBCAR','DLYACAR','DLYPHOS','DLYVARA','DLYRET','DLYATOA','DLYATOC','DLYLYCO','DLYLZ','DLYVB12','DLYVB6','DLYB12A','DLYVC','DLYVD','DLYVB1','DLYPOTA','DLYNIAC','DLYFDFE','DLYVB2','DLYCHL','DLYALCO','DLYFOLA','DLYCRYP','SLEEPHRS','SLEEPPROB','SLEEPDIS']].dropna(axis=0,how='any')"
   ]
  },
  {
   "cell_type": "code",
   "execution_count": 57,
   "metadata": {
    "collapsed": false
   },
   "outputs": [],
   "source": [
    "df_ = pd.merge(df3,df4,on='SEQN')"
   ]
  },
  {
   "cell_type": "code",
   "execution_count": 58,
   "metadata": {
    "collapsed": true
   },
   "outputs": [],
   "source": [
    "df5 = pd.read_csv('/Users/hector/Downloads/nhsurvey-2013-2014/questionnaire.csv')"
   ]
  },
  {
   "cell_type": "code",
   "execution_count": 1,
   "metadata": {
    "collapsed": false
   },
   "outputs": [
    {
     "ename": "NameError",
     "evalue": "name 'df_' is not defined",
     "output_type": "error",
     "traceback": [
      "\u001b[0;31m---------------------------------------------------------------------------\u001b[0m",
      "\u001b[0;31mNameError\u001b[0m                                 Traceback (most recent call last)",
      "\u001b[0;32m<ipython-input-1-9541065db823>\u001b[0m in \u001b[0;36m<module>\u001b[0;34m()\u001b[0m\n\u001b[0;32m----> 1\u001b[0;31m \u001b[0mdf_\u001b[0m\u001b[0;34m[\u001b[0m\u001b[0;34m'BMXBMI'\u001b[0m\u001b[0;34m]\u001b[0m\u001b[0;34m.\u001b[0m\u001b[0mmean\u001b[0m\u001b[0;34m(\u001b[0m\u001b[0;34m)\u001b[0m\u001b[0;34m\u001b[0m\u001b[0m\n\u001b[0m",
      "\u001b[0;31mNameError\u001b[0m: name 'df_' is not defined"
     ]
    }
   ],
   "source": [
    "df_['BMXBMI'].mean()"
   ]
  },
  {
   "cell_type": "code",
   "execution_count": 81,
   "metadata": {
    "collapsed": false
   },
   "outputs": [],
   "source": [
    "## CREATING OUR LABELS FOR PREDICTIONS\n",
    "bmi = []\n",
    "for row in df_['BMXBMI']:\n",
    "    if 0 < row < 100\n",
    "        bmi.append(row)\n",
    "    else:\n",
    "        bmi.append()        \n",
    "df_['WEIGHT'] = pd.Series(WEIGHT)"
   ]
  },
  {
   "cell_type": "code",
   "execution_count": 578,
   "metadata": {
    "collapsed": false
   },
   "outputs": [],
   "source": [
    "## CREATING OUR LABELS FOR PREDICTIONS\n",
    "WEIGHT = []\n",
    "for row in df_['BMXBMI']:\n",
    "    if row >= 25:\n",
    "        WEIGHT.append(1)\n",
    "    elif row< 25:\n",
    "        WEIGHT.append(0)\n",
    "df_['WEIGHT'] = pd.Series(WEIGHT)"
   ]
  },
  {
   "cell_type": "code",
   "execution_count": 70,
   "metadata": {
    "collapsed": false,
    "scrolled": true
   },
   "outputs": [
    {
     "data": {
      "image/png": "[encoded data removed]",
      "text/plain": [
       "<matplotlib.figure.Figure at 0x110d40f98>"
      ]
     },
     "metadata": {},
     "output_type": "display_data"
    }
   ],
   "source": [
    "sns.lmplot(x=\"MGDCGSZ\", y=\"OBESE\", data=df_);"
   ]
  },
  {
   "cell_type": "code",
   "execution_count": 319,
   "metadata": {
    "collapsed": false
   },
   "outputs": [],
   "source": [
    "dfSTR = df_[['OBESE','MGDCGSZ','INCOME']].dropna(axis=0,how='any')"
   ]
  },
  {
   "cell_type": "code",
   "execution_count": 320,
   "metadata": {
    "collapsed": false
   },
   "outputs": [
    {
     "data": {
      "text/html": [
       "<div>\n",
       "<style>\n",
       "    .dataframe thead tr:only-child th {\n",
       "        text-align: right;\n",
       "    }\n",
       "\n",
       "    .dataframe thead th {\n",
       "        text-align: left;\n",
       "    }\n",
       "\n",
       "    .dataframe tbody tr th {\n",
       "        vertical-align: top;\n",
       "    }\n",
       "</style>\n",
       "<table border=\"1\" class=\"dataframe\">\n",
       "  <thead>\n",
       "    <tr style=\"text-align: right;\">\n",
       "      <th></th>\n",
       "      <th>OBESE</th>\n",
       "      <th>MGDCGSZ</th>\n",
       "      <th>INCOME</th>\n",
       "    </tr>\n",
       "  </thead>\n",
       "  <tbody>\n",
       "    <tr>\n",
       "      <th>OBESE</th>\n",
       "      <td>1.000000</td>\n",
       "      <td>-0.006756</td>\n",
       "      <td>0.012713</td>\n",
       "    </tr>\n",
       "    <tr>\n",
       "      <th>MGDCGSZ</th>\n",
       "      <td>-0.006756</td>\n",
       "      <td>1.000000</td>\n",
       "      <td>0.017149</td>\n",
       "    </tr>\n",
       "    <tr>\n",
       "      <th>INCOME</th>\n",
       "      <td>0.012713</td>\n",
       "      <td>0.017149</td>\n",
       "      <td>1.000000</td>\n",
       "    </tr>\n",
       "  </tbody>\n",
       "</table>\n",
       "</div>"
      ],
      "text/plain": [
       "            OBESE   MGDCGSZ    INCOME\n",
       "OBESE    1.000000 -0.006756  0.012713\n",
       "MGDCGSZ -0.006756  1.000000  0.017149\n",
       "INCOME   0.012713  0.017149  1.000000"
      ]
     },
     "execution_count": 320,
     "metadata": {},
     "output_type": "execute_result"
    }
   ],
   "source": [
    "dfSTR.corr()"
   ]
  },
  {
   "cell_type": "code",
   "execution_count": 323,
   "metadata": {
    "collapsed": false,
    "scrolled": true
   },
   "outputs": [
    {
     "data": {
      "image/png": "[encoded data removed]",
      "text/plain": [
       "<matplotlib.figure.Figure at 0x11e6cc908>"
      ]
     },
     "metadata": {},
     "output_type": "display_data"
    }
   ],
   "source": [
    "sns.distplot(df_['INCOME'].dropna(axis=0,how='any'));"
   ]
  },
  {
   "cell_type": "code",
   "execution_count": 549,
   "metadata": {
    "collapsed": false
   },
   "outputs": [
    {
     "data": {
      "text/plain": [
       "0       0\n",
       "1       0\n",
       "2       0\n",
       "3       0\n",
       "4       0\n",
       "5       0\n",
       "6       0\n",
       "7       0\n",
       "8       0\n",
       "9       0\n",
       "10      0\n",
       "11      0\n",
       "12      0\n",
       "13      0\n",
       "14      0\n",
       "15      0\n",
       "16      0\n",
       "17      0\n",
       "18      1\n",
       "19      0\n",
       "20      0\n",
       "21      0\n",
       "22      0\n",
       "23      1\n",
       "24      0\n",
       "25      0\n",
       "26      0\n",
       "27      0\n",
       "28      0\n",
       "29      0\n",
       "       ..\n",
       "9783    0\n",
       "9784    0\n",
       "9785    0\n",
       "9786    1\n",
       "9787    0\n",
       "9788    0\n",
       "9789    0\n",
       "9790    0\n",
       "9791    0\n",
       "9792    0\n",
       "9793    0\n",
       "9794    0\n",
       "9795    0\n",
       "9796    0\n",
       "9797    0\n",
       "9798    0\n",
       "9799    0\n",
       "9800    0\n",
       "9801    0\n",
       "9802    0\n",
       "9803    0\n",
       "9804    0\n",
       "9805    0\n",
       "9806    0\n",
       "9807    0\n",
       "9808    0\n",
       "9809    0\n",
       "9810    0\n",
       "9811    0\n",
       "9812    0\n",
       "Name: PARTNER, Length: 9813, dtype: int64"
      ]
     },
     "execution_count": 549,
     "metadata": {},
     "output_type": "execute_result"
    }
   ],
   "source": [
    "df_['PARTNER']"
   ]
  },
  {
   "cell_type": "code",
   "execution_count": 541,
   "metadata": {
    "collapsed": false
   },
   "outputs": [],
   "source": []
  },
  {
   "cell_type": "code",
   "execution_count": 352,
   "metadata": {
    "collapsed": false
   },
   "outputs": [],
   "source": [
    "MILK = []\n",
    "for row in df_['DBQ223A']:\n",
    "    if row == 10:\n",
    "        MILK.append(1)\n",
    "    else:\n",
    "        MILK.append(0)\n",
    "df_['WHLMLK'] = pd.Series(MILK)"
   ]
  },
  {
   "cell_type": "code",
   "execution_count": 561,
   "metadata": {
    "collapsed": false
   },
   "outputs": [],
   "source": [
    "NONFOOD = []\n",
    "for row in df_['CBD090']:\n",
    "    if  0 <= row < 4000:\n",
    "        NONFOOD.append(row)\n",
    "df_['NONFOOD'] = pd.Series(NONFOOD)\n",
    "\n",
    "CARRYOUT = []\n",
    "for row in df_['CBD130']:\n",
    "    if  0 <= row < 4000:\n",
    "        CARRYOUT.append(row)\n",
    "df_['CARRYOUT'] = pd.Series(CARRYOUT)\n",
    "\n",
    "\n",
    "GROCERIES = []\n",
    "for row in df_['CBD070']:\n",
    "    if  0 <= row < 4290:\n",
    "        GROCERIES.append(row)\n",
    "\n",
    "df_['GROCERIES'] = pd.Series(GROCERIES)"
   ]
  },
  {
   "cell_type": "code",
   "execution_count": 562,
   "metadata": {
    "collapsed": false
   },
   "outputs": [],
   "source": [
    "\n",
    "FOODOTHER = []\n",
    "for row in df_['CBD110']:\n",
    "    if  0 <= row < 4000:\n",
    "        FOODOTHER.append(row)\n",
    "df_['FOODOTHER'] = pd.Series(FOODOTHER)\n",
    "\n",
    "\n",
    "ATEOUT = []\n",
    "for row in df_['CBD120']:\n",
    "    if  0 <= row < 4000:\n",
    "        ATEOUT.append(row)\n",
    "df_['ATEOUT'] = pd.Series(ATEOUT)"
   ]
  },
  {
   "cell_type": "code",
   "execution_count": 566,
   "metadata": {
    "collapsed": false
   },
   "outputs": [],
   "source": [
    "df_ ['GROCERIES'] = df_['GROCERIES'].fillna(value=478.83807922664704)\n",
    "df_ ['ATEOUT'] = df_['ATEOUT'].fillna(value=145.574955352453)\n",
    "df_ ['CARRYOUT'] = df_['CARRYOUT'].fillna(value=24.600912673719144)\n",
    "df_ ['FOODOTHER'] = df_['FOODOTHER'].fillna(value=89.50663900414938)\n",
    "df_ ['NONFOOD'] = df_['NONFOOD'].fillna(value=39.34282700421941)"
   ]
  },
  {
   "cell_type": "code",
   "execution_count": 565,
   "metadata": {
    "collapsed": false
   },
   "outputs": [
    {
     "data": {
      "text/plain": [
       "39.34282700421941"
      ]
     },
     "execution_count": 565,
     "metadata": {},
     "output_type": "execute_result"
    }
   ],
   "source": [
    "df_['NONFOOD'].mean()"
   ]
  },
  {
   "cell_type": "code",
   "execution_count": 441,
   "metadata": {
    "collapsed": true
   },
   "outputs": [],
   "source": [
    "\n",
    "ATEOUT = []\n",
    "for row in df_['CBD120']:\n",
    "    if  0 <= row < 4000:\n",
    "        ATEOUT.append(row)\n",
    "df_['ATEOUT'] = pd.Series(ATEOUT)"
   ]
  },
  {
   "cell_type": "code",
   "execution_count": 556,
   "metadata": {
    "collapsed": false
   },
   "outputs": [
    {
     "data": {
      "text/plain": [
       "0        50.0\n",
       "1       128.0\n",
       "2         0.0\n",
       "3        50.0\n",
       "4        40.0\n",
       "5         0.0\n",
       "6         0.0\n",
       "7        60.0\n",
       "8       200.0\n",
       "9         0.0\n",
       "10        0.0\n",
       "11      214.0\n",
       "12        0.0\n",
       "13       50.0\n",
       "14      200.0\n",
       "15        0.0\n",
       "16       30.0\n",
       "17        0.0\n",
       "18      200.0\n",
       "19        0.0\n",
       "20      150.0\n",
       "21        0.0\n",
       "22        0.0\n",
       "23        0.0\n",
       "24        0.0\n",
       "25       30.0\n",
       "26        0.0\n",
       "27        0.0\n",
       "28      100.0\n",
       "29      200.0\n",
       "        ...  \n",
       "9610    171.0\n",
       "9611     15.0\n",
       "9612      0.0\n",
       "9613      0.0\n",
       "9614    400.0\n",
       "9615      0.0\n",
       "9616      0.0\n",
       "9617      0.0\n",
       "9618     50.0\n",
       "9619      0.0\n",
       "9620    300.0\n",
       "9621      0.0\n",
       "9622      0.0\n",
       "9623    200.0\n",
       "9624     30.0\n",
       "9625      0.0\n",
       "9626      0.0\n",
       "9627    100.0\n",
       "9628    214.0\n",
       "9629      0.0\n",
       "9630     20.0\n",
       "9631    214.0\n",
       "9632      0.0\n",
       "9633    100.0\n",
       "9634     42.0\n",
       "9635      0.0\n",
       "9636    200.0\n",
       "9637      0.0\n",
       "9638      0.0\n",
       "9639    100.0\n",
       "Name: FOODOTHER, Length: 9640, dtype: float64"
      ]
     },
     "execution_count": 556,
     "metadata": {},
     "output_type": "execute_result"
    }
   ],
   "source": [
    "df_['FOODOTHER'].dropna(axis=0,how='any')"
   ]
  },
  {
   "cell_type": "code",
   "execution_count": 481,
   "metadata": {
    "collapsed": false
   },
   "outputs": [
    {
     "data": {
      "text/plain": [
       "0        7.0\n",
       "1        9.0\n",
       "2        8.0\n",
       "3        9.0\n",
       "4        5.0\n",
       "5        9.0\n",
       "6        6.0\n",
       "7        7.0\n",
       "8        8.0\n",
       "9        6.0\n",
       "10       8.0\n",
       "11       7.0\n",
       "12       8.0\n",
       "13       8.0\n",
       "14       8.0\n",
       "15       7.0\n",
       "16       9.0\n",
       "17       6.0\n",
       "18       7.0\n",
       "19       8.0\n",
       "20       8.0\n",
       "21       6.0\n",
       "22       7.0\n",
       "23       6.0\n",
       "24      10.0\n",
       "25       7.0\n",
       "26       7.0\n",
       "27       8.0\n",
       "28       7.0\n",
       "29       6.0\n",
       "        ... \n",
       "9783     NaN\n",
       "9784     NaN\n",
       "9785     NaN\n",
       "9786     NaN\n",
       "9787     NaN\n",
       "9788     NaN\n",
       "9789     NaN\n",
       "9790     NaN\n",
       "9791     NaN\n",
       "9792     NaN\n",
       "9793     NaN\n",
       "9794     NaN\n",
       "9795     NaN\n",
       "9796     NaN\n",
       "9797     NaN\n",
       "9798     NaN\n",
       "9799     NaN\n",
       "9800     NaN\n",
       "9801     NaN\n",
       "9802     NaN\n",
       "9803     NaN\n",
       "9804     NaN\n",
       "9805     NaN\n",
       "9806     NaN\n",
       "9807     NaN\n",
       "9808     NaN\n",
       "9809     NaN\n",
       "9810     NaN\n",
       "9811     NaN\n",
       "9812     NaN\n",
       "Name: SLEEPHRS, Length: 9813, dtype: float64"
      ]
     },
     "execution_count": 481,
     "metadata": {},
     "output_type": "execute_result"
    }
   ],
   "source": [
    "df_['SLEEPHRS']"
   ]
  },
  {
   "cell_type": "code",
   "execution_count": 482,
   "metadata": {
    "collapsed": false
   },
   "outputs": [],
   "source": [
    "df_['SLEEPHRS'] = df_['SLEEPHRS'].fillna(value=6.914225941422594)"
   ]
  },
  {
   "cell_type": "code",
   "execution_count": 489,
   "metadata": {
    "collapsed": false
   },
   "outputs": [],
   "source": [
    "df_['DLYCARB'] = df_['DLYCARB'].fillna(value=236.7161444489192)\n",
    "df_['GRPSTR'] = df_['GRPSTR'].fillna(value=63.054891233554876)\n",
    "df_['DLYPRT'] = df_['DLYPRT'].fillna(value=74.03213115854453)"
   ]
  },
  {
   "cell_type": "code",
   "execution_count": 487,
   "metadata": {
    "collapsed": false
   },
   "outputs": [
    {
     "data": {
      "text/plain": [
       "0        84.205\n",
       "1       223.820\n",
       "2        62.560\n",
       "3        55.990\n",
       "4        59.695\n",
       "5           NaN\n",
       "6           NaN\n",
       "7        68.100\n",
       "8           NaN\n",
       "9           NaN\n",
       "10      120.415\n",
       "11       67.175\n",
       "12       64.055\n",
       "13       78.935\n",
       "14          NaN\n",
       "15      190.425\n",
       "16          NaN\n",
       "17          NaN\n",
       "18          NaN\n",
       "19       60.870\n",
       "20       95.410\n",
       "21          NaN\n",
       "22       85.585\n",
       "23          NaN\n",
       "24       59.030\n",
       "25       30.660\n",
       "26          NaN\n",
       "27       39.710\n",
       "28       36.475\n",
       "29       70.285\n",
       "         ...   \n",
       "9783     83.390\n",
       "9784     43.785\n",
       "9785        NaN\n",
       "9786     65.875\n",
       "9787        NaN\n",
       "9788        NaN\n",
       "9789    108.560\n",
       "9790     78.720\n",
       "9791     15.600\n",
       "9792     35.640\n",
       "9793     79.545\n",
       "9794     90.200\n",
       "9795     48.605\n",
       "9796        NaN\n",
       "9797    196.360\n",
       "9798     55.735\n",
       "9799        NaN\n",
       "9800        NaN\n",
       "9801        NaN\n",
       "9802     40.610\n",
       "9803        NaN\n",
       "9804     76.480\n",
       "9805     69.515\n",
       "9806        NaN\n",
       "9807        NaN\n",
       "9808    208.775\n",
       "9809     36.150\n",
       "9810     61.440\n",
       "9811        NaN\n",
       "9812     63.875\n",
       "Name: DLYPRT, Length: 9813, dtype: float64"
      ]
     },
     "execution_count": 487,
     "metadata": {},
     "output_type": "execute_result"
    }
   ],
   "source": [
    "df_['DLYPRT']"
   ]
  },
  {
   "cell_type": "code",
   "execution_count": 579,
   "metadata": {
    "collapsed": true
   },
   "outputs": [],
   "source": [
    "df_.to_csv('2013.csv')"
   ]
  },
  {
   "cell_type": "code",
   "execution_count": 577,
   "metadata": {
    "collapsed": false
   },
   "outputs": [
    {
     "data": {
      "text/plain": [
       "0       2.0\n",
       "1       2.0\n",
       "2       2.0\n",
       "3       0.0\n",
       "4       1.0\n",
       "5       3.0\n",
       "6       3.0\n",
       "7       2.0\n",
       "8       1.0\n",
       "9       1.0\n",
       "10      0.0\n",
       "11      3.0\n",
       "12      1.0\n",
       "13      1.0\n",
       "14      1.0\n",
       "15      1.0\n",
       "16      2.0\n",
       "17      3.0\n",
       "18      0.0\n",
       "19      3.0\n",
       "20      1.0\n",
       "21      1.0\n",
       "22      0.0\n",
       "23      2.0\n",
       "24      3.0\n",
       "25      0.0\n",
       "26      3.0\n",
       "27      0.0\n",
       "28      2.0\n",
       "29      0.0\n",
       "       ... \n",
       "9783    NaN\n",
       "9784    NaN\n",
       "9785    NaN\n",
       "9786    NaN\n",
       "9787    NaN\n",
       "9788    NaN\n",
       "9789    NaN\n",
       "9790    NaN\n",
       "9791    NaN\n",
       "9792    NaN\n",
       "9793    NaN\n",
       "9794    NaN\n",
       "9795    NaN\n",
       "9796    NaN\n",
       "9797    NaN\n",
       "9798    NaN\n",
       "9799    NaN\n",
       "9800    NaN\n",
       "9801    NaN\n",
       "9802    NaN\n",
       "9803    NaN\n",
       "9804    NaN\n",
       "9805    NaN\n",
       "9806    NaN\n",
       "9807    NaN\n",
       "9808    NaN\n",
       "9809    NaN\n",
       "9810    NaN\n",
       "9811    NaN\n",
       "9812    NaN\n",
       "Name: WEIGHT, Length: 9813, dtype: float64"
      ]
     },
     "execution_count": 577,
     "metadata": {},
     "output_type": "execute_result"
    }
   ],
   "source": [
    "df_['WEIGHT']"
   ]
  },
  {
   "cell_type": "code",
   "execution_count": 95,
   "metadata": {
    "collapsed": false
   },
   "outputs": [
    {
     "data": {
      "text/plain": [
       "0       8.0\n",
       "1       8.0\n",
       "2       8.0\n",
       "3       8.0\n",
       "4       9.0\n",
       "5       7.0\n",
       "6       8.0\n",
       "7       6.0\n",
       "8       8.0\n",
       "9       7.0\n",
       "10      8.0\n",
       "11      8.0\n",
       "12      8.0\n",
       "13      7.0\n",
       "14      7.0\n",
       "15      9.0\n",
       "16      7.0\n",
       "17      4.0\n",
       "18      5.0\n",
       "19      8.0\n",
       "20      6.0\n",
       "21      6.0\n",
       "22      8.0\n",
       "23      6.0\n",
       "24      7.0\n",
       "25      5.0\n",
       "26      6.0\n",
       "27      3.0\n",
       "28      6.0\n",
       "29      6.0\n",
       "       ... \n",
       "6145    7.0\n",
       "6146    5.0\n",
       "6147    8.0\n",
       "6148    8.0\n",
       "6149    6.0\n",
       "6150    6.0\n",
       "6151    8.0\n",
       "6152    6.0\n",
       "6153    7.0\n",
       "6154    7.0\n",
       "6155    8.0\n",
       "6156    7.0\n",
       "6157    8.0\n",
       "6158    6.0\n",
       "6159    7.0\n",
       "6160    8.0\n",
       "6161    5.0\n",
       "6162    8.0\n",
       "6163    7.0\n",
       "6164    4.0\n",
       "6165    6.0\n",
       "6166    8.0\n",
       "6167    5.0\n",
       "6168    6.0\n",
       "6169    6.0\n",
       "6170    6.0\n",
       "6171    8.0\n",
       "6172    9.0\n",
       "6173    6.0\n",
       "6174    8.0\n",
       "Name: SLD010H, Length: 6175, dtype: float64"
      ]
     },
     "execution_count": 95,
     "metadata": {},
     "output_type": "execute_result"
    }
   ],
   "source": [
    "df_SLP['SLD010H']"
   ]
  },
  {
   "cell_type": "code",
   "execution_count": null,
   "metadata": {
    "collapsed": true
   },
   "outputs": [],
   "source": []
  }
 ],
 "metadata": {
  "kernelspec": {
   "display_name": "Python 3",
   "language": "python",
   "name": "python3"
  },
  "language_info": {
   "codemirror_mode": {
    "name": "ipython",
    "version": 3
   },
   "file_extension": ".py",
   "mimetype": "text/x-python",
   "name": "python",
   "nbconvert_exporter": "python",
   "pygments_lexer": "ipython3",
   "version": "3.6.0"
  }
 },
 "nbformat": 4,
 "nbformat_minor": 2
}
