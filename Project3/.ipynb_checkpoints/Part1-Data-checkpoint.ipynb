{
 "cells": [
  {
   "cell_type": "code",
   "execution_count": 349,
   "metadata": {
    "collapsed": true
   },
   "outputs": [],
   "source": [
    "import pandas as pd\n",
    "import numpy as np\n",
    "import matplotlib.pyplot as plt\n",
    "import seaborn as sns\n",
    "from sklearn import metrics\n",
    "from sklearn import preprocessing\n",
    "from sklearn.ensemble import RandomForestClassifier\n",
    "import xport\n",
    "import math\n",
    "%matplotlib inline"
   ]
  },
  {
   "cell_type": "code",
   "execution_count": 3,
   "metadata": {
    "collapsed": true
   },
   "outputs": [],
   "source": [
    "#df_ = pd.read_csv('/Users/hector/Downloads/nhsurvey-2013-2014/diet-day1.csv')"
   ]
  },
  {
   "cell_type": "code",
   "execution_count": 4,
   "metadata": {
    "collapsed": false
   },
   "outputs": [
    {
     "data": {
      "text/plain": [
       "242.7371410151213"
      ]
     },
     "execution_count": 4,
     "metadata": {},
     "output_type": "execute_result"
    }
   ],
   "source": [
    "#df_['DR1TCARB'].mean()"
   ]
  },
  {
   "cell_type": "code",
   "execution_count": 5,
   "metadata": {
    "collapsed": false
   },
   "outputs": [],
   "source": [
    "#df_2 = pd.read_csv('/Users/hector/Downloads/nhsurvey-2013-2014/diet-day2.csv')"
   ]
  },
  {
   "cell_type": "code",
   "execution_count": 6,
   "metadata": {
    "collapsed": false
   },
   "outputs": [
    {
     "data": {
      "text/plain": [
       "230.43010063061917"
      ]
     },
     "execution_count": 6,
     "metadata": {},
     "output_type": "execute_result"
    }
   ],
   "source": [
    "#df_2['DR2TCARB'].mean()"
   ]
  },
  {
   "cell_type": "code",
   "execution_count": 7,
   "metadata": {
    "collapsed": false
   },
   "outputs": [],
   "source": [
    "#df = pd.merge(df_,df_2,on='SEQN')"
   ]
  },
  {
   "cell_type": "code",
   "execution_count": 171,
   "metadata": {
    "collapsed": false
   },
   "outputs": [],
   "source": [
    "\n",
    "#Averaging nutrition across the two days diet was tracked\n",
    "#df['DLYFAT'] = (df['DR2TTFAT']+df['DR1TTFAT'])/2 \n",
    "#df['DLYCARB'] = (df['DR1TCARB']+df['DR2TCARB'])/2\n",
    "#df['DLYKCAL'] = (df['DR1TKCAL']+df['DR2TKCAL'])/2\n",
    "#df['DLYSGR'] = (df['DR1TSUGR']+df['DR2TSUGR'])/2\n",
    "#df['DLYFBR'] = (df['DR1TFIBE']+df['DR2TFIBE'])/2\n",
    "#df['DLYSFAT'] = (df['DR1TSFAT']+df['DR2TSFAT'])/2\n",
    "#df['DLYPFAT'] = (df['DR1TPFAT']+df['DR2TPFAT'])/2\n",
    "#df['DLYMFAT'] = (df['DR1TMFAT']+df['DR2TMFAT'])/2\n",
    "#df['DLYCHOL'] = (df['DR1TCHOL']+df['DR2TCHOL'])/2\n",
    "#df['DLYVB12'] = (df['DR1TVB12']+df['DR2TVB12'])/2\n",
    "#df['DLYVD'] = (df['DR1TVD']+df['DR2TVD'])/2\n",
    "#df['DLYPRT'] = (df['DR1TPROT']+df['DR2TPROT'])/2\n",
    "\n",
    "#df['DLYMAGN'] = (df['DR1TMAGN']+df['DR1TMAGN'])/2\n",
    "#df['DLYIRON'] = (df['DR1TIRON']+df['DR2TIRON'])/2\n",
    "#df['DLYCALC'] = (df['DR1TCALC']+df['DR2TCALC'])/2\n",
    "#df['DLYPHOS'] = (df['DR1TPHOS']+df['DR2TPHOS'])/2\n",
    "#df['DLYZINC'] = (df['DR1TZINC']+df['DR2TZINC'])/2     \n",
    "#df['DLYCOPP'] = (df['DR1TCOPP']+df['DR2TCOPP'])/2\n",
    "#df['DLYSODI'] = (df['DR1TSODI']+df['DR2TSODI'])/2\n",
    "#df['DLYPOTA'] = (df['DR1TPOTA']+df['DR2TPOTA'])/2\n",
    "#df['DLYCAFF'] = (df['DR1TCAFF']+df['DR2TCAFF'])/2\n",
    "\n",
    "#df['DLYBCAR'] = (df['DR1TBCAR']+df['DR2TBCAR'])/2\n",
    "#df['DLYACAR'] = (df['DR1TACAR']+df['DR2TACAR'])/2\n",
    "#df['DLYCRYP'] = (df['DR1TCRYP']+df['DR2TCRYP'])/2\n",
    "#df['DLYVARA'] = (df['DR1TVARA']+df['DR2TVARA'])/2\n",
    "#df['DLYRET'] = (df['DR1TRET']+df['DR2TRET'])/2\n",
    "#df['DLYATOA'] = (df['DR1TATOA']+df['DR2TATOA'])/2\n",
    "\n",
    "#df['DLYATOC'] = (df['DR1TATOC']+df['DR2TATOC'])/2\n",
    "#df['DLYLYCO'] = (df['DR1TLYCO']+df['DR2TLYCO'])/2\n",
    "#df['DLYLZ'] = (df['DR1TLZ']+df['DR2TLZ'])/2\n",
    "#df['DLYVB1'] = (df['DR1TVB1']+df['DR2TVB1'])/2\n",
    "#df['DLYVB2'] = (df['DR1TVB2']+df['DR2TVB2'])/2\n",
    "#df['DLYNIAC'] = (df['DR1TNIAC']+df['DR2TNIAC'])/2\n",
    "\n",
    "#df['DLYVB6'] = (df['DR1TVB6']+df['DR2TVB6'])/2\n",
    "#df['DLYFOLA'] = (df['DR1TFOLA']+df['DR2TFOLA'])/2\n",
    "#df['DLYB12A'] = (df['DR1TB12A']+df['DR2TB12A'])/2\n",
    "#df['DLYFDFE'] = (df['DR1TFDFE']+df['DR2TFDFE'])/2\n",
    "#df['DLYCHL'] = (df['DR1TCHL']+df['DR2TCHL'])/2\n",
    "#df['DLYALCO'] = (df['DR1TALCO']+df['DR2TALCO'])/2\n",
    "\n"
   ]
  },
  {
   "cell_type": "code",
   "execution_count": 612,
   "metadata": {
    "collapsed": false
   },
   "outputs": [],
   "source": [
    "df_['DLYKCAL'] = df_['DLYKCAL'].fillna(value=1904.0667874882536)\n",
    "df_['DLYSGR'] = df_['DLYSGR'].fillna(value=105.33994026043733)\n",
    "df_['DLYFBR'] = df_['DLYFBR'].fillna(value=15.434749630822896)\n",
    "df_['DLYSFAT'] = df_['DLYSFAT'].fillna(value=23.941559605316066)\n",
    "df_['DLYPFAT'] = df_['DLYPFAT'].fillna(value=16.59619714055573)\n",
    "df_['DLYMFAT'] = df_['DLYMFAT'].fillna(value=24.881336018257528)\n",
    "df_['DLYCHOL'] = df_['DLYCHOL'].fillna(value=256.6333736071956)\n",
    "df_['DLYVB12'] = df_['DLYVB12'].fillna(value=4.646692173446118)\n",
    "df_['DLYVD'] = df_['DLYVD'].fillna(value=5.084273056786128)\n",
    "df_['DLYVC'] = df_['DLYVC'].fillna(value=80.4924419385149)\n",
    "\n",
    "\n",
    "\n",
    "df_['DLYMAGN'] = df_['DLYMAGN'].fillna(value=264.46125893799086)\n",
    "df_['DLYIRON'] = df_['DLYIRON'].fillna(value=14.197298295073193)\n",
    "df_['DLYCALC'] = df_['DLYCALC'].fillna(value=934.3935427574171)\n",
    "df_['DLYPHOS'] = df_['DLYPHOS'].fillna(value=1266.3053429990603)\n",
    "df_['DLYZINC'] = df_['DLYZINC'].fillna(value=10.311629748959573)\n",
    "df_['DLYCOPP'] = df_['DLYCOPP'].fillna(value=1.0689228755537692)\n",
    "df_['DLYSODI'] = df_['DLYSODI'].fillna(value=3119.818364881192)\n",
    "df_['DLYPOTA'] = df_['DLYPOTA'].fillna(value=2360.9847630554436)\n",
    "df_['DLYCAFF'] = df_['DLYCAFF'].fillna(value=90.3016512283528)\n",
    "\n",
    "df_['DLYBCAR'] = df_['DLYBCAR'].fillna(value=1899.6159887233187)\n",
    "df_['DLYACAR'] = df_['DLYACAR'].fillna(value=367.86555242314404)\n",
    "df_['DLYCRYP'] = df_['DLYCRYP'].fillna(value=82.79641562625856)\n",
    "df_['DLYVARA'] = df_['DLYVARA'].fillna(value=604.709893945496)\n",
    "df_['DLYRET'] = df_['DLYRET'].fillna(value=428.3266210229561)\n",
    "df_['DLYATOA'] = df_['DLYATOA'].fillna(value=0.9186420996106877)\n",
    "\n",
    "df_['DLYATOC'] = df_['DLYATOC'].fillna(value=7.990151026983488)\n",
    "df_['DLYLYCO'] = df_['DLYLYCO'].fillna(value=4440.153577661431)\n",
    "df_['DLYLZ'] = df_['DLYLZ'].fillna(value=1322.3840783997853)\n",
    "df_['DLYVB1'] = df_['DLYVB1'].fillna(value=1.5306422338568848)\n",
    "df_['DLYVB2'] = df_['DLYVB2'].fillna(value=1.9589009934219392)\n",
    "df_['DLYNIAC'] = df_['DLYNIAC'].fillna(value=23.42248610551743)\n",
    "\n",
    "df_['DLYVB6'] = df_['DLYVB6'].fillna(value=1.9425990737011707)\n",
    "df_['DLYFOLA'] = df_['DLYFOLA'].fillna(value=374.23942811115586)\n",
    "df_['DLYB12A'] = df_['DLYB12A'].fillna(value=1.1187011679420056)\n",
    "df_['DLYFDFE'] = df_['DLYFDFE'].fillna(value=502.665391327695)\n",
    "df_['DLYCHL'] = df_['DLYCHL'].fillna(value=293.2945026178016)\n",
    "df_['DLYALCO'] = df_['DLYALCO'].fillna(value=4.765230232245931)"
   ]
  },
  {
   "cell_type": "code",
   "execution_count": 626,
   "metadata": {
    "collapsed": false
   },
   "outputs": [
    {
     "data": {
      "text/plain": [
       "1904.0667874882984"
      ]
     },
     "execution_count": 626,
     "metadata": {},
     "output_type": "execute_result"
    }
   ],
   "source": [
    "df_['DLYKCAL'].mean()"
   ]
  },
  {
   "cell_type": "code",
   "execution_count": 627,
   "metadata": {
    "collapsed": false
   },
   "outputs": [
    {
     "data": {
      "text/plain": [
       "236.7161444489192"
      ]
     },
     "execution_count": 627,
     "metadata": {},
     "output_type": "execute_result"
    }
   ],
   "source": [
    "df['DLYCARB'].mean()"
   ]
  },
  {
   "cell_type": "code",
   "execution_count": 628,
   "metadata": {
    "collapsed": false
   },
   "outputs": [
    {
     "data": {
      "text/plain": [
       "72.30358840112734"
      ]
     },
     "execution_count": 628,
     "metadata": {},
     "output_type": "execute_result"
    }
   ],
   "source": [
    "df['DLYFAT'].mean()"
   ]
  },
  {
   "cell_type": "code",
   "execution_count": 629,
   "metadata": {
    "collapsed": false
   },
   "outputs": [
    {
     "data": {
      "text/plain": [
       "74.03213115854453"
      ]
     },
     "execution_count": 629,
     "metadata": {},
     "output_type": "execute_result"
    }
   ],
   "source": [
    "df['DLYPRT'].mean()\n"
   ]
  },
  {
   "cell_type": "code",
   "execution_count": 630,
   "metadata": {
    "collapsed": false
   },
   "outputs": [
    {
     "data": {
      "text/plain": [
       "5.0842730567863175"
      ]
     },
     "execution_count": 630,
     "metadata": {},
     "output_type": "execute_result"
    }
   ],
   "source": [
    "df['DLYVD'].mean()"
   ]
  },
  {
   "cell_type": "code",
   "execution_count": 367,
   "metadata": {
    "collapsed": false
   },
   "outputs": [
    {
     "data": {
      "text/plain": [
       "0.0    8672\n",
       "5.0     364\n",
       "3.0     179\n",
       "2.0     163\n",
       "1.0     125\n",
       "4.0     109\n",
       "7.0     108\n",
       "6.0      93\n",
       "Name: DYSVWRK, dtype: int64"
      ]
     },
     "execution_count": 367,
     "metadata": {},
     "output_type": "execute_result"
    }
   ],
   "source": [
    "#df2 = pd.read_csv('/Users/hector/Downloads/nhsurvey-2013-2014/examination.csv')\n",
    "df_['DYSVWRK'].value_counts()"
   ]
  },
  {
   "cell_type": "code",
   "execution_count": 621,
   "metadata": {
    "collapsed": false
   },
   "outputs": [],
   "source": [
    "WALKBIKE = []\n",
    "for row in df_['PAQ635']:\n",
    "    if row == 1:\n",
    "        WALKBIKE.append(1)\n",
    "    else:\n",
    "        WALKBIKE.append(0)\n",
    "df_['WALKBIKE'] = pd.Series(WALKBIKE)\n",
    "\n",
    "VWRK = []\n",
    "for row in df_['PAQ605']:\n",
    "    if row ==1:\n",
    "        VWRK.append(row)\n",
    "    else:\n",
    "        VWRK.append(0)\n",
    "df_['VWRK'] = pd.Series(VWRK)\n",
    "\n",
    "MWRK = []\n",
    "for row in df_['PAQ620']:\n",
    "    if row ==1:\n",
    "        MWRK.append(row)\n",
    "    else:\n",
    "        MWRK.append(0)\n",
    "df_['MWRK'] = pd.Series(MWRK) \n",
    "\n",
    "\n",
    "\n",
    "#DYSVWRK = []\n",
    "#for row in df_['PAQ610']:\n",
    "#    if 0 < row < 8:\n",
    "#        DYSVWRK.append(row)\n",
    "#    else:\n",
    "#        DYSVWRK.append(0)\n",
    "#df_['DYSVWRK'] = pd.Series(DYSVWRK)\n",
    "\n",
    "DYSMWRK = []\n",
    "for row in df_['PAQ625']:\n",
    "    if row == 1:\n",
    "        DYSMWRK.append(1)   \n",
    "    else:\n",
    "        DYSMWRK.append(0)\n",
    "df_['DYSMWRK'] = pd.Series(DYSMWRK)        \n",
    "#DYSMWRK = []\n",
    "#for row in df_['PAQ625']:\n",
    "#    if 0 < row < 8:\n",
    "#        DYSMWRK.append(row)\n",
    "#    else:\n",
    "#        DYSMWRK.append(0)\n",
    "#df_['DYSMWRK'] = pd.Series(DYSMWRK)\n",
    "\n",
    "#MNVWRK= []\n",
    "#for row in df_['PAD615']:\n",
    "#    if 9 < row < 9999:\n",
    "#        MNVWRK.append(row)\n",
    "#    else:\n",
    "#        MNVWRK.append(0)\n",
    "#df_['MNVWRK'] = pd.Series(MNVWRK)\n",
    "\n",
    "\n",
    "\n",
    "#MNMWRK= []\n",
    "#for row in df_['PAD630']:\n",
    "#    if 9 < row < 9999:\n",
    "#        MNMWRK.append(row)\n",
    "#    else:\n",
    "#        MNMWRK.append(0)\n",
    "#df_['MNMWRK'] = pd.Series(MNMWRK)\n",
    "\n",
    "\n",
    "#DYSWLKBK = []\n",
    "#for row in df_['PAQ640']:\n",
    "#    if 0 < row < 8:\n",
    "#        DYSWLKBK.append(row)\n",
    "#    else:\n",
    "#        DYSWLKBK.append(0)\n",
    "#df_['DYSWLKBK'] = pd.Series(DYSWLKBK)\n",
    "\n",
    "#MNWLKBK= []\n",
    "#for row in df_['PAD645']:\n",
    "#    if 9 < row < 9999:\n",
    "#        MNWLKBK.append(row)\n",
    "#    else:\n",
    "#        MNWLKBK.append(0)\n",
    "#df_['MNWLKBK'] = pd.Series(MNWLKBK)\n",
    "\n",
    "VREC = []\n",
    "for row in df_['PAQ650']:\n",
    "    if row == 1:\n",
    "        VREC.append(1)\n",
    "    else:\n",
    "        VREC.append(0)\n",
    "df_['VREC'] = pd.Series(VREC)\n",
    "\n",
    "#DYSVREC = []\n",
    "#for row in df_['PAQ655']:\n",
    "#    if 0 < row < 8:\n",
    "#        DYSVREC.append(row)\n",
    "#    else:\n",
    "#        DYSVREC.append(0)\n",
    "#df_['DYSVREC'] = pd.Series(DYSVREC)\n",
    "\n",
    "#MNVREC= []\n",
    "#for row in df_['PAD660']:\n",
    "#    if 9 < row < 9999:\n",
    "#        MNVREC.append(row)\n",
    "#    else:\n",
    "#        MNVREC.append(0)\n",
    "#df_['MNVREC'] = pd.Series(MNVREC)\n",
    "\n",
    "#for row in df_['PAD615'] \n",
    "\n",
    "\n",
    "MREC = []\n",
    "for row in df_['PAQ665']:\n",
    "    if row == 1:\n",
    "        MREC.append(1)\n",
    "    else:\n",
    "        MREC.append(0)\n",
    "df_['MREC'] = pd.Series(MREC)\n",
    "\n",
    "#DYSMREC = []\n",
    "#for row in df_['PAQ670']:\n",
    "#    if 0 < row < 8:\n",
    "#        DYSMREC.append(row)\n",
    "#    else:\n",
    "#        DYSMREC.append(0)\n",
    "#df_['DYSMREC'] = pd.Series(DYSMREC)\n",
    "\n",
    "#MNMREC= []\n",
    "#for row in df_['PAD675']:\n",
    "#    if 9 < row < 9999:\n",
    "#        MNMREC.append(row)\n",
    "#    else:\n",
    "#        MNMREC.append(0)\n",
    "#df_['MNMREC'] = pd.Series(MNMREC)\n",
    "\n",
    "\n",
    "SDNTRY= []\n",
    "for row in df_['PAD680']:\n",
    "    if 0 < row < 1200:\n",
    "        SDNTRY.append(row)\n",
    "df_['SDNTRY'] = pd.Series(SDNTRY)\n",
    "df_['SDNTRY'] = df_['SDNTRY'].fillna(value=439.330920671685)\n",
    "\n",
    "#HRSTV = []\n",
    "#for row in df_['PAQ710']:\n",
    "#    if row < 8:\n",
    "#        HRSTV.append(row)\n",
    "#    elif row == 8:\n",
    "#        HRSTV.append(0)\n",
    "#df_['HRSTV'] = pd.Series(HRSTV)\n",
    "\n",
    "\n",
    "#HRSCOMP= []\n",
    "#for row in df_['PAQ715']:\n",
    "#    if  row < 8:\n",
    "#        HRSCOMP.append(row)\n",
    "#    elif row == 8:\n",
    "#        HRSCOMP.append(0)\n",
    "#df_['HRSCOMP'] = pd.Series(HRSCOMP)\n",
    "\n",
    "#GNDR = []\n",
    "#for row in df_['RIAGENDR']:\n",
    "#    if  row == 1:\n",
    "#        GNDR.append(row)\n",
    "#    elif row == 2:\n",
    "#        GNDR.append(0)\n",
    "#df_['GNDR'] = pd.Series(GNDR)\n",
    "\n",
    "\n",
    "#MXA = []\n",
    "#HISP =[]\n",
    "#WHT = []\n",
    "#BLK = []\n",
    "#ASN = []\n",
    "#OTHR = []\n",
    "#for row in df_['RIDRETH3']:\n",
    "#    if  row == 1:\n",
    "#        MXA.append(1)\n",
    "#    else:\n",
    "#        MXA.append(0)\n",
    "#df_['MXA'] = pd.Series(MXA)\n",
    "\n",
    "#for row in df_['RIDRETH3']:\n",
    "#    if  row == 2:\n",
    "#        HISP.append(1)\n",
    "#    else:\n",
    "#        HISP.append(0)\n",
    "#df_['HISP'] = pd.Series(HISP)\n",
    "\n",
    "#for row in df_['RIDRETH3']:\n",
    "#    if  row == 3:\n",
    "#        WHT.append(1)\n",
    "#    else:\n",
    "#        WHT.append(0)\n",
    "#df_['WHT'] = pd.Series(WHT)\n",
    "\n",
    "#for row in df_['RIDRETH3']:\n",
    "#    if  row == 4:\n",
    "#        BLK.append(1)\n",
    "#    else:\n",
    "#        BLK.append(0)\n",
    "#df_['BLK'] = pd.Series(BLK)\n",
    "\n",
    "#for row in df_['RIDRETH3']:\n",
    "#    if  row == 6:\n",
    "#        ASN.append(1)\n",
    "#    else:\n",
    "#        ASN.append(0)\n",
    "#df_['ASN'] = pd.Series(ASN)\n",
    "\n",
    "#FRGN = []\n",
    "#for row in df_['DMDBORN4']:\n",
    "#    if  row == 2:\n",
    "#        FRGN.append(1)\n",
    "#    else:\n",
    "#        FRGN.append(0)\n",
    "#df_['FRGN'] = pd.Series(FRGN)\n",
    "\n",
    "#CTZN = []\n",
    "#for row in df_['DMDBORN4']:\n",
    "#    if  row == 1:\n",
    "#        CTZN.append(1)\n",
    "#    elif row == 2:\n",
    "#        CTZN.append(0)\n",
    "#df_['CTZN'] = pd.Series(CTZN)\n",
    "\n",
    "#VET = []\n",
    "#for row in df_['DMQMILIZ']:\n",
    "#    if  row == 1:\n",
    "#        VET.append(1)\n",
    "#    else:\n",
    "#        VET.append(0)\n",
    "#df_['VET'] = pd.Series(VET)\n",
    "\n",
    "#VET = []\n",
    "#for row in df_['DMQMILIZ']:\n",
    "#    if  row == 1:\n",
    "#        VET.append(1)\n",
    "#    else:\n",
    "#        VET.append(0)\n",
    "#df_['VET'] = pd.Series(VET)\n",
    "\n",
    "#NOHS = []\n",
    "#for row in df_['DMDEDUC2']:\n",
    "#    if  row == 1:\n",
    "#        NOHS.append(1)\n",
    "#    else:\n",
    "#        NOHS.append(0)\n",
    "#df_['NOHS'] = pd.Series(NOHS)\n",
    "\n",
    "#SMHS = []\n",
    "#for row in df_['DMDEDUC2']:\n",
    "#    if  row == 2:\n",
    "#        SMHS.append(1)\n",
    "#    else:\n",
    "#        SMHS.append(0)\n",
    "#df_['SMHS'] = pd.Series(SMHS)\n",
    "\n",
    "#HSGRAD = []\n",
    "#for row in df_['DMDEDUC2']:\n",
    "#    if  row == 3:\n",
    "#        HSGRAD.append(1)\n",
    "#    else:\n",
    "#        HSGRAD.append(0)\n",
    "#df_['HSGRAD'] = pd.Series(HSGRAD)\n",
    "\n",
    "#SMCOL = [] \n",
    "#for row in df_['DMDEDUC2']:\n",
    "#    if  row == 4:\n",
    "#        SMCOL.append(1)\n",
    "#    else:\n",
    "#        SMCOL.append(0)\n",
    "#df_['SMCOL'] = pd.Series(SMCOL)\n",
    "\n",
    "#COLGRAD = []                        \n",
    "#for row in df_['DMDEDUC2']:\n",
    "#    if  row == 5:\n",
    "#        COLGRAD.append(1)\n",
    "#    else:\n",
    "#        COLGRAD.append(0)\n",
    "#df_['COLGRAD'] = pd.Series(COLGRAD)\n",
    "\n",
    "#GRDSCHL = []\n",
    "#MDSCHL = []\n",
    "#HSCHL = []\n",
    "#RCNTGRAD = []\n",
    "#for row in df_['DMDEDUC3']:\n",
    "#    if  row < 6 :\n",
    "#        GRDSCHL.append(1)\n",
    "#        MDSCHL.append(0)\n",
    "#        HSCHL.append(0)\n",
    "#        RCNTGRAD.append(0)\n",
    "#    elif 6 <= row <= 8:\n",
    "#        GRDSCHL.append(0)\n",
    "#        MDSCHL.append(1)\n",
    "#        HSCHL.append(0)\n",
    "#        RCNTGRAD.append(0)\n",
    "#    elif 8 < row < 13:\n",
    "#        HSCHL.append(0)\n",
    "#        MDSCHL.append(0)\n",
    "#        HSCHL.append(1)\n",
    "#        RCNTGRAD.append(0)\n",
    "#    elif 12 < row < 16:\n",
    "#        HSCHL.append(0)\n",
    "#        MDSCHL.append(0)\n",
    "#        HSCHL.append(0)\n",
    "#        RCNTGRAD.append(1)\n",
    "#    else:\n",
    "#        GRDSCHL.append(0)\n",
    "#        MDSCHL.append(0)\n",
    "#        HSCHL.append(0)\n",
    "#        RCNTGRAD.append(0)\n",
    "#df_['GRDSCHL'] = pd.Series(GRDSCHL)\n",
    "#df_['MDSCHL'] = pd.Series(MDSCHL)\n",
    "#df_['HSCHL'] = pd.Series(HSCHL)\n",
    "#df_['RCNTGRAD'] = pd.Series(RCNTGRAD)\n",
    "\n",
    "SEPERATED = []\n",
    "DIVORCED = []\n",
    "MARRIED = []\n",
    "WIDOWED = []\n",
    "PARTNER = []\n",
    "for row in df_['DMDMARTL']:\n",
    "    if  row == 1 :\n",
    "        MARRIED.append(1)\n",
    "        DIVORCED.append(0)\n",
    "        SEPERATED.append(0)\n",
    "        WIDOWED.append(0)\n",
    "        PARTNER.append(0)\n",
    "    elif row == 2:\n",
    "        MARRIED.append(0)\n",
    "        DIVORCED.append(0)\n",
    "        SEPERATED.append(0)\n",
    "        WIDOWED.append(1)\n",
    "        PARTNER.append(0)\n",
    "    elif row == 3:\n",
    "        MARRIED.append(0)\n",
    "        DIVORCED.append(1)\n",
    "        SEPERATED.append(0)\n",
    "        WIDOWED.append(0)\n",
    "        PARTNER.append(0)\n",
    "    elif row == 4:\n",
    "        MARRIED.append(0)\n",
    "        DIVORCED.append(0)\n",
    "        SEPERATED.append(1)\n",
    "        WIDOWED.append(0)\n",
    "        PARTNER.append(0)\n",
    "    elif row == 6:\n",
    "        MARRIED.append(0)\n",
    "        DIVORCED.append(0)\n",
    "        SEPERATED.append(0)\n",
    "        WIDOWED.append(0)\n",
    "        PARTNER.append(1)\n",
    "    else:\n",
    "        MARRIED.append(0)\n",
    "        DIVORCED.append(0)\n",
    "        SEPERATED.append(0)\n",
    "        WIDOWED.append(0) \n",
    "        PARTNER.append(0)\n",
    "\n",
    "#df_['MARRIED'] = pd.Series(MARRIED)\n",
    "#df_['WIDOWED'] = pd.Series(WIDOWED)\n",
    "#df_['DIVORCED'] = pd.Series(DIVORCED)\n",
    "#df_['SEPERATED'] = pd.Series(SEPERATED)\n",
    "df_['PARTNER'] = pd.Series(PARTNER)        \n",
    "\n",
    "\n",
    "\n",
    "\n",
    "#INCOME = []                        \n",
    "#for row in df_['INDHHIN2']:\n",
    "#    if  row < 16:\n",
    "#        INCOME.append(row)\n",
    "#df_['INCOME'] = pd.Series(INCOME)\n",
    "\n",
    "\n"
   ]
  },
  {
   "cell_type": "code",
   "execution_count": 449,
   "metadata": {
    "collapsed": true
   },
   "outputs": [],
   "source": [
    "INCOME1 = []   \n",
    "INCOME2 = []                        \n",
    "INCOME3 = []                        \n",
    "INCOME4 = []\n",
    "INCOME5 = []   \n",
    "INCOME6 = []                        \n",
    "INCOME7 = []                        \n",
    "INCOME8 = []\n",
    "INCOME9 = []   \n",
    "INCOME10 = []                        \n",
    "INCOME11 = []                        \n",
    "INCOME12 = []\n",
    "for row in df_['INDHHIN2']:\n",
    "    if  row == 1:\n",
    "        INCOME1.append(1)\n",
    "        INCOME2.append(0)\n",
    "        INCOME3.append(0)\n",
    "        INCOME4.append(0)\n",
    "        INCOME5.append(0)\n",
    "        INCOME6.append(0)\n",
    "        INCOME7.append(0)\n",
    "        INCOME8.append(0)\n",
    "        INCOME9.append(0)\n",
    "        INCOME10.append(0)\n",
    "        INCOME11.append(0)\n",
    "        INCOME12.append(0)\n",
    "    elif row ==2:\n",
    "        INCOME1.append(0)\n",
    "        INCOME2.append(1)\n",
    "        INCOME3.append(0)\n",
    "        INCOME4.append(0)\n",
    "        INCOME5.append(0)\n",
    "        INCOME6.append(0)\n",
    "        INCOME7.append(0)\n",
    "        INCOME8.append(0)\n",
    "        INCOME9.append(0)\n",
    "        INCOME10.append(0)\n",
    "        INCOME11.append(0)\n",
    "        INCOME12.append(0)\n",
    "    elif row ==3:\n",
    "        INCOME1.append(0)\n",
    "        INCOME2.append(0)\n",
    "        INCOME3.append(1)\n",
    "        INCOME4.append(0)\n",
    "        INCOME5.append(0)\n",
    "        INCOME6.append(0)\n",
    "        INCOME7.append(0)\n",
    "        INCOME8.append(0)\n",
    "        INCOME9.append(0)\n",
    "        INCOME10.append(0)\n",
    "        INCOME11.append(0)\n",
    "        INCOME12.append(0)\n",
    "    elif row ==4:\n",
    "        INCOME1.append(0)\n",
    "        INCOME2.append(0)\n",
    "        INCOME3.append(0)\n",
    "        INCOME4.append(1)\n",
    "        INCOME5.append(0)\n",
    "        INCOME6.append(0)\n",
    "        INCOME7.append(0)\n",
    "        INCOME8.append(0)\n",
    "        INCOME9.append(0)\n",
    "        INCOME10.append(0)\n",
    "        INCOME11.append(0)\n",
    "        INCOME12.append(0)\n",
    "    elif row ==5 :\n",
    "        INCOME1.append(1)\n",
    "        INCOME1.append(0)\n",
    "        INCOME2.append(0)\n",
    "        INCOME3.append(0)\n",
    "        INCOME4.append(0)\n",
    "        INCOME5.append(1)\n",
    "        INCOME6.append(0)\n",
    "        INCOME7.append(0)\n",
    "        INCOME8.append(0)\n",
    "        INCOME9.append(0)\n",
    "        INCOME10.append(0)\n",
    "        INCOME11.append(0)\n",
    "        INCOME12.append(0)\n",
    "    elif row == 6:\n",
    "        INCOME1.append(0)\n",
    "        INCOME2.append(0)\n",
    "        INCOME3.append(0)\n",
    "        INCOME4.append(0)\n",
    "        INCOME5.append(0)\n",
    "        INCOME6.append(1)\n",
    "        INCOME7.append(0)\n",
    "        INCOME8.append(0)\n",
    "        INCOME9.append(0)\n",
    "        INCOME10.append(0)\n",
    "        INCOME11.append(0)\n",
    "        INCOME12.append(0)\n",
    "    elif row == 7:\n",
    "        INCOME1.append(0)\n",
    "        INCOME2.append(0)\n",
    "        INCOME3.append(0)\n",
    "        INCOME4.append(0)\n",
    "        INCOME5.append(0)\n",
    "        INCOME6.append(0)\n",
    "        INCOME7.append(1)\n",
    "        INCOME8.append(0)\n",
    "        INCOME9.append(0)\n",
    "        INCOME10.append(0)\n",
    "        INCOME11.append(0)\n",
    "        INCOME12.append(0)\n",
    "    elif row == 8:\n",
    "        INCOME1.append(0)\n",
    "        INCOME2.append(0)\n",
    "        INCOME3.append(0)\n",
    "        INCOME4.append(0)\n",
    "        INCOME5.append(0)\n",
    "        INCOME6.append(0)\n",
    "        INCOME7.append(0)\n",
    "        INCOME8.append(1)\n",
    "        INCOME9.append(0)\n",
    "        INCOME10.append(0)\n",
    "        INCOME11.append(0)\n",
    "        INCOME12.append(0)\n",
    "    elif row ==9:\n",
    "        INCOME1.append(0)\n",
    "        INCOME2.append(0)\n",
    "        INCOME3.append(0)\n",
    "        INCOME4.append(0)\n",
    "        INCOME5.append(0)\n",
    "        INCOME6.append(0)\n",
    "        INCOME7.append(0)\n",
    "        INCOME8.append(0)\n",
    "        INCOME9.append(1)\n",
    "        INCOME10.append(0)\n",
    "        INCOME11.append(0)\n",
    "        INCOME12.append(0)\n",
    "    elif row ==10:\n",
    "        INCOME1.append(0)\n",
    "        INCOME2.append(0)\n",
    "        INCOME3.append(0)\n",
    "        INCOME4.append(0)\n",
    "        INCOME5.append(0)\n",
    "        INCOME6.append(0)\n",
    "        INCOME7.append(0)\n",
    "        INCOME8.append(0)\n",
    "        INCOME9.append(0)\n",
    "        INCOME10.append(1)\n",
    "        INCOME11.append(0)\n",
    "        INCOME12.append(0)\n",
    "    elif row ==14:\n",
    "        INCOME1.append(0)\n",
    "        INCOME2.append(0)\n",
    "        INCOME3.append(0)\n",
    "        INCOME4.append(0)\n",
    "        INCOME5.append(0)\n",
    "        INCOME6.append(0)\n",
    "        INCOME7.append(0)\n",
    "        INCOME8.append(0)\n",
    "        INCOME9.append(0)\n",
    "        INCOME10.append(0)\n",
    "        INCOME11.append(1)\n",
    "        INCOME12.append(0)\n",
    "    elif row ==15:\n",
    "        INCOME1.append(0)\n",
    "        INCOME2.append(0)\n",
    "        INCOME3.append(0)\n",
    "        INCOME4.append(0)\n",
    "        INCOME5.append(0)\n",
    "        INCOME6.append(0)\n",
    "        INCOME7.append(0)\n",
    "        INCOME8.append(0)\n",
    "        INCOME9.append(0)\n",
    "        INCOME10.append(0)\n",
    "        INCOME11.append(0)\n",
    "        INCOME12.append(1)\n",
    "df_['INCOME1'] = pd.Series(INCOME1)\n",
    "df_['INCOME2'] = pd.Series(INCOME2)\n",
    "df_['INCOME3'] = pd.Series(INCOME3)\n",
    "df_['INCOME4'] = pd.Series(INCOME4)\n",
    "df_['INCOME5'] = pd.Series(INCOME5)\n",
    "df_['INCOME6'] = pd.Series(INCOME6)\n",
    "df_['INCOME7'] = pd.Series(INCOME7)\n",
    "df_['INCOME8'] = pd.Series(INCOME8)\n",
    "df_['INCOME9'] = pd.Series(INCOME9)\n",
    "df_['INCOME10'] = pd.Series(INCOME10)\n",
    "df_['INCOME11'] = pd.Series(INCOME11)\n",
    "df_['INCOME12'] = pd.Series(INCOME12)"
   ]
  },
  {
   "cell_type": "code",
   "execution_count": 450,
   "metadata": {
    "collapsed": false
   },
   "outputs": [
    {
     "data": {
      "text/plain": [
       "0       0\n",
       "1       0\n",
       "2       0\n",
       "3       0\n",
       "4       0\n",
       "5       0\n",
       "6       0\n",
       "7       0\n",
       "8       0\n",
       "9       0\n",
       "10      0\n",
       "11      1\n",
       "12      0\n",
       "13      0\n",
       "14      0\n",
       "15      0\n",
       "16      0\n",
       "17      0\n",
       "18      0\n",
       "19      1\n",
       "20      0\n",
       "21      1\n",
       "22      0\n",
       "23      0\n",
       "24      0\n",
       "25      0\n",
       "26      0\n",
       "27      0\n",
       "28      0\n",
       "29      0\n",
       "       ..\n",
       "9783    0\n",
       "9784    1\n",
       "9785    0\n",
       "9786    0\n",
       "9787    0\n",
       "9788    0\n",
       "9789    0\n",
       "9790    1\n",
       "9791    0\n",
       "9792    0\n",
       "9793    1\n",
       "9794    0\n",
       "9795    0\n",
       "9796    1\n",
       "9797    0\n",
       "9798    0\n",
       "9799    0\n",
       "9800    0\n",
       "9801    0\n",
       "9802    0\n",
       "9803    0\n",
       "9804    0\n",
       "9805    0\n",
       "9806    0\n",
       "9807    0\n",
       "9808    0\n",
       "9809    0\n",
       "9810    0\n",
       "9811    0\n",
       "9812    0\n",
       "Name: INCOME1, Length: 9813, dtype: int64"
      ]
     },
     "execution_count": 450,
     "metadata": {},
     "output_type": "execute_result"
    }
   ],
   "source": [
    "df_['INCOME1']"
   ]
  },
  {
   "cell_type": "code",
   "execution_count": 614,
   "metadata": {
    "collapsed": false
   },
   "outputs": [
    {
     "data": {
      "text/plain": [
       "439.330920671685"
      ]
     },
     "execution_count": 614,
     "metadata": {},
     "output_type": "execute_result"
    }
   ],
   "source": [
    "df_['SDNTRY'].mean()"
   ]
  },
  {
   "cell_type": "code",
   "execution_count": 57,
   "metadata": {
    "collapsed": false
   },
   "outputs": [],
   "source": [
    "df_ = pd.merge(df3,df4,on='SEQN')"
   ]
  },
  {
   "cell_type": "code",
   "execution_count": 58,
   "metadata": {
    "collapsed": true
   },
   "outputs": [],
   "source": [
    "df5 = pd.read_csv('/Users/hector/Downloads/nhsurvey-2013-2014/questionnaire.csv')"
   ]
  },
  {
   "cell_type": "code",
   "execution_count": 590,
   "metadata": {
    "collapsed": false
   },
   "outputs": [
    {
     "data": {
      "text/plain": [
       "0       26.700000\n",
       "1       28.600000\n",
       "2       28.900000\n",
       "3       17.100000\n",
       "4       19.700000\n",
       "5       41.700000\n",
       "6       25.678244\n",
       "7       35.700000\n",
       "8       26.500000\n",
       "9       22.000000\n",
       "10      20.300000\n",
       "11      17.400000\n",
       "12      34.400000\n",
       "13      19.700000\n",
       "14      20.000000\n",
       "15      22.800000\n",
       "16      25.678244\n",
       "17      23.200000\n",
       "18      28.900000\n",
       "19      35.600000\n",
       "20      15.500000\n",
       "21      35.900000\n",
       "22      23.600000\n",
       "23      18.600000\n",
       "24      14.400000\n",
       "25      25.300000\n",
       "26      30.100000\n",
       "27      15.500000\n",
       "28      38.700000\n",
       "29      15.700000\n",
       "          ...    \n",
       "9783    27.900000\n",
       "9784    35.200000\n",
       "9785    39.300000\n",
       "9786    25.600000\n",
       "9787    14.400000\n",
       "9788    22.500000\n",
       "9789    49.400000\n",
       "9790    24.300000\n",
       "9791    16.400000\n",
       "9792    33.500000\n",
       "9793    30.000000\n",
       "9794    23.700000\n",
       "9795    28.100000\n",
       "9796    26.300000\n",
       "9797    24.100000\n",
       "9798    21.300000\n",
       "9799    27.400000\n",
       "9800    14.600000\n",
       "9801    23.900000\n",
       "9802    25.600000\n",
       "9803    25.678244\n",
       "9804    33.100000\n",
       "9805    24.900000\n",
       "9806    16.200000\n",
       "9807    26.800000\n",
       "9808    24.500000\n",
       "9809    15.900000\n",
       "9810    34.000000\n",
       "9811    16.100000\n",
       "9812    19.300000\n",
       "Name: BMI, Length: 9813, dtype: float64"
      ]
     },
     "execution_count": 590,
     "metadata": {},
     "output_type": "execute_result"
    }
   ],
   "source": [
    "df_['BMI']"
   ]
  },
  {
   "cell_type": "code",
   "execution_count": 587,
   "metadata": {
    "collapsed": false
   },
   "outputs": [],
   "source": [
    "## CREATING OUR LABELS FOR PREDICTIONS\n",
    "bmi = []\n",
    "for row in df_['BMXBMI']:\n",
    "    if 0 < row < 100:\n",
    "        bmi.append(row)\n",
    "    else:\n",
    "        bmi.append(25.678244064052894)        \n",
    "df_['BMI'] = pd.Series(bmi)"
   ]
  },
  {
   "cell_type": "code",
   "execution_count": 596,
   "metadata": {
    "collapsed": false
   },
   "outputs": [],
   "source": [
    "## CREATING OUR LABELS FOR PREDICTIONS\n",
    "WEIGHT = []\n",
    "for row in df_['BMXBMI']:\n",
    "    if row >= 30:\n",
    "        WEIGHT.append(4)\n",
    "    elif 25 <= row < 30:\n",
    "        WEIGHT.append(3)\n",
    "    elif 18.5 <= row < 25:\n",
    "        WEIGHT.append(2)\n",
    "    elif row < 18.5: \n",
    "        WEIGHT.append(1)\n",
    "df_['WEIGHT'] = pd.Series(WEIGHT)"
   ]
  },
  {
   "cell_type": "code",
   "execution_count": 70,
   "metadata": {
    "collapsed": false,
    "scrolled": true
   },
   "outputs": [
    {
     "data": {
      "image/png": "[encoded data removed]",
      "text/plain": [
       "<matplotlib.figure.Figure at 0x110d40f98>"
      ]
     },
     "metadata": {},
     "output_type": "display_data"
    }
   ],
   "source": [
    "sns.lmplot(x=\"MGDCGSZ\", y=\"OBESE\", data=df_);"
   ]
  },
  {
   "cell_type": "code",
   "execution_count": 319,
   "metadata": {
    "collapsed": false
   },
   "outputs": [],
   "source": [
    "dfSTR = df_[['OBESE','MGDCGSZ','INCOME']].dropna(axis=0,how='any')"
   ]
  },
  {
   "cell_type": "code",
   "execution_count": 320,
   "metadata": {
    "collapsed": false
   },
   "outputs": [
    {
     "data": {
      "text/html": [
       "<div>\n",
       "<style>\n",
       "    .dataframe thead tr:only-child th {\n",
       "        text-align: right;\n",
       "    }\n",
       "\n",
       "    .dataframe thead th {\n",
       "        text-align: left;\n",
       "    }\n",
       "\n",
       "    .dataframe tbody tr th {\n",
       "        vertical-align: top;\n",
       "    }\n",
       "</style>\n",
       "<table border=\"1\" class=\"dataframe\">\n",
       "  <thead>\n",
       "    <tr style=\"text-align: right;\">\n",
       "      <th></th>\n",
       "      <th>OBESE</th>\n",
       "      <th>MGDCGSZ</th>\n",
       "      <th>INCOME</th>\n",
       "    </tr>\n",
       "  </thead>\n",
       "  <tbody>\n",
       "    <tr>\n",
       "      <th>OBESE</th>\n",
       "      <td>1.000000</td>\n",
       "      <td>-0.006756</td>\n",
       "      <td>0.012713</td>\n",
       "    </tr>\n",
       "    <tr>\n",
       "      <th>MGDCGSZ</th>\n",
       "      <td>-0.006756</td>\n",
       "      <td>1.000000</td>\n",
       "      <td>0.017149</td>\n",
       "    </tr>\n",
       "    <tr>\n",
       "      <th>INCOME</th>\n",
       "      <td>0.012713</td>\n",
       "      <td>0.017149</td>\n",
       "      <td>1.000000</td>\n",
       "    </tr>\n",
       "  </tbody>\n",
       "</table>\n",
       "</div>"
      ],
      "text/plain": [
       "            OBESE   MGDCGSZ    INCOME\n",
       "OBESE    1.000000 -0.006756  0.012713\n",
       "MGDCGSZ -0.006756  1.000000  0.017149\n",
       "INCOME   0.012713  0.017149  1.000000"
      ]
     },
     "execution_count": 320,
     "metadata": {},
     "output_type": "execute_result"
    }
   ],
   "source": [
    "dfSTR.corr()"
   ]
  },
  {
   "cell_type": "code",
   "execution_count": 323,
   "metadata": {
    "collapsed": false,
    "scrolled": true
   },
   "outputs": [
    {
     "data": {
      "image/png": "[encoded data removed]",
      "text/plain": [
       "<matplotlib.figure.Figure at 0x11e6cc908>"
      ]
     },
     "metadata": {},
     "output_type": "display_data"
    }
   ],
   "source": [
    "sns.distplot(df_['INCOME'].dropna(axis=0,how='any'));"
   ]
  },
  {
   "cell_type": "code",
   "execution_count": 549,
   "metadata": {
    "collapsed": false
   },
   "outputs": [
    {
     "data": {
      "text/plain": [
       "0       0\n",
       "1       0\n",
       "2       0\n",
       "3       0\n",
       "4       0\n",
       "5       0\n",
       "6       0\n",
       "7       0\n",
       "8       0\n",
       "9       0\n",
       "10      0\n",
       "11      0\n",
       "12      0\n",
       "13      0\n",
       "14      0\n",
       "15      0\n",
       "16      0\n",
       "17      0\n",
       "18      1\n",
       "19      0\n",
       "20      0\n",
       "21      0\n",
       "22      0\n",
       "23      1\n",
       "24      0\n",
       "25      0\n",
       "26      0\n",
       "27      0\n",
       "28      0\n",
       "29      0\n",
       "       ..\n",
       "9783    0\n",
       "9784    0\n",
       "9785    0\n",
       "9786    1\n",
       "9787    0\n",
       "9788    0\n",
       "9789    0\n",
       "9790    0\n",
       "9791    0\n",
       "9792    0\n",
       "9793    0\n",
       "9794    0\n",
       "9795    0\n",
       "9796    0\n",
       "9797    0\n",
       "9798    0\n",
       "9799    0\n",
       "9800    0\n",
       "9801    0\n",
       "9802    0\n",
       "9803    0\n",
       "9804    0\n",
       "9805    0\n",
       "9806    0\n",
       "9807    0\n",
       "9808    0\n",
       "9809    0\n",
       "9810    0\n",
       "9811    0\n",
       "9812    0\n",
       "Name: PARTNER, Length: 9813, dtype: int64"
      ]
     },
     "execution_count": 549,
     "metadata": {},
     "output_type": "execute_result"
    }
   ],
   "source": [
    "df_['PARTNER']"
   ]
  },
  {
   "cell_type": "code",
   "execution_count": 541,
   "metadata": {
    "collapsed": false
   },
   "outputs": [],
   "source": [
    "#SLEEP = []\n",
    "#for row in df_['SLD010H']:\n",
    "#    if 1 < row < 12:\n",
    "#        SLEEP.append(row)\n",
    "#df_['SLEEPHRS'] =  pd.Series(SLEEP)\n",
    "\n",
    "\n",
    "\n",
    "SLEEPP = []\n",
    "for row in df_['SLQ050']:\n",
    "    if row == 1:\n",
    "        SLEEPP.append(row)\n",
    "    elif row == 2:\n",
    "        SLEEPP.append(0)\n",
    "    else:\n",
    "        SLEEPP.append(0)\n",
    "df_['SLEEPPROB'] =  pd.Series(SLEEPP)\n",
    "\n",
    "\n",
    "\n",
    "\n",
    "SLEEPDIS = []\n",
    "for row in df_['SLQ060']:\n",
    "    if row == 1:\n",
    "        SLEEPDIS.append(row)\n",
    "    elif row == 2:\n",
    "        SLEEPDIS.append(0)\n",
    "    else:\n",
    "        SLEEPDIS.append(0)\n",
    "df_['SLEEPDIS'] =  pd.Series(SLEEPDIS)"
   ]
  },
  {
   "cell_type": "code",
   "execution_count": 352,
   "metadata": {
    "collapsed": false
   },
   "outputs": [],
   "source": [
    "MILK = []\n",
    "for row in df_['DBQ223A']:\n",
    "    if row == 10:\n",
    "        MILK.append(1)\n",
    "    else:\n",
    "        MILK.append(0)\n",
    "df_['WHLMLK'] = pd.Series(MILK)"
   ]
  },
  {
   "cell_type": "code",
   "execution_count": 561,
   "metadata": {
    "collapsed": false
   },
   "outputs": [],
   "source": [
    "NONFOOD = []\n",
    "for row in df_['CBD090']:\n",
    "    if  0 <= row < 4000:\n",
    "        NONFOOD.append(row)\n",
    "df_['NONFOOD'] = pd.Series(NONFOOD)\n",
    "\n",
    "CARRYOUT = []\n",
    "for row in df_['CBD130']:\n",
    "    if  0 <= row < 4000:\n",
    "        CARRYOUT.append(row)\n",
    "df_['CARRYOUT'] = pd.Series(CARRYOUT)\n",
    "\n",
    "\n",
    "GROCERIES = []\n",
    "for row in df_['CBD070']:\n",
    "    if  0 <= row < 4290:\n",
    "        GROCERIES.append(row)\n",
    "\n",
    "df_['GROCERIES'] = pd.Series(GROCERIES)"
   ]
  },
  {
   "cell_type": "code",
   "execution_count": 562,
   "metadata": {
    "collapsed": false
   },
   "outputs": [],
   "source": [
    "\n",
    "FOODOTHER = []\n",
    "for row in df_['CBD110']:\n",
    "    if  0 <= row < 4000:\n",
    "        FOODOTHER.append(row)\n",
    "df_['FOODOTHER'] = pd.Series(FOODOTHER)\n",
    "\n",
    "\n",
    "ATEOUT = []\n",
    "for row in df_['CBD120']:\n",
    "    if  0 <= row < 4000:\n",
    "        ATEOUT.append(row)\n",
    "df_['ATEOUT'] = pd.Series(ATEOUT)"
   ]
  },
  {
   "cell_type": "code",
   "execution_count": 566,
   "metadata": {
    "collapsed": false
   },
   "outputs": [],
   "source": [
    "df_ ['GROCERIES'] = df_['GROCERIES'].fillna(value=478.83807922664704)\n",
    "df_ ['ATEOUT'] = df_['ATEOUT'].fillna(value=145.574955352453)\n",
    "df_ ['CARRYOUT'] = df_['CARRYOUT'].fillna(value=24.600912673719144)\n",
    "df_ ['FOODOTHER'] = df_['FOODOTHER'].fillna(value=89.50663900414938)\n",
    "df_ ['NONFOOD'] = df_['NONFOOD'].fillna(value=39.34282700421941)"
   ]
  },
  {
   "cell_type": "code",
   "execution_count": 565,
   "metadata": {
    "collapsed": false
   },
   "outputs": [
    {
     "data": {
      "text/plain": [
       "39.34282700421941"
      ]
     },
     "execution_count": 565,
     "metadata": {},
     "output_type": "execute_result"
    }
   ],
   "source": [
    "df_['NONFOOD'].mean()"
   ]
  },
  {
   "cell_type": "code",
   "execution_count": 441,
   "metadata": {
    "collapsed": true
   },
   "outputs": [],
   "source": [
    "\n",
    "ATEOUT = []\n",
    "for row in df_['CBD120']:\n",
    "    if  0 <= row < 4000:\n",
    "        ATEOUT.append(row)\n",
    "df_['ATEOUT'] = pd.Series(ATEOUT)"
   ]
  },
  {
   "cell_type": "code",
   "execution_count": 556,
   "metadata": {
    "collapsed": false
   },
   "outputs": [
    {
     "data": {
      "text/plain": [
       "0        50.0\n",
       "1       128.0\n",
       "2         0.0\n",
       "3        50.0\n",
       "4        40.0\n",
       "5         0.0\n",
       "6         0.0\n",
       "7        60.0\n",
       "8       200.0\n",
       "9         0.0\n",
       "10        0.0\n",
       "11      214.0\n",
       "12        0.0\n",
       "13       50.0\n",
       "14      200.0\n",
       "15        0.0\n",
       "16       30.0\n",
       "17        0.0\n",
       "18      200.0\n",
       "19        0.0\n",
       "20      150.0\n",
       "21        0.0\n",
       "22        0.0\n",
       "23        0.0\n",
       "24        0.0\n",
       "25       30.0\n",
       "26        0.0\n",
       "27        0.0\n",
       "28      100.0\n",
       "29      200.0\n",
       "        ...  \n",
       "9610    171.0\n",
       "9611     15.0\n",
       "9612      0.0\n",
       "9613      0.0\n",
       "9614    400.0\n",
       "9615      0.0\n",
       "9616      0.0\n",
       "9617      0.0\n",
       "9618     50.0\n",
       "9619      0.0\n",
       "9620    300.0\n",
       "9621      0.0\n",
       "9622      0.0\n",
       "9623    200.0\n",
       "9624     30.0\n",
       "9625      0.0\n",
       "9626      0.0\n",
       "9627    100.0\n",
       "9628    214.0\n",
       "9629      0.0\n",
       "9630     20.0\n",
       "9631    214.0\n",
       "9632      0.0\n",
       "9633    100.0\n",
       "9634     42.0\n",
       "9635      0.0\n",
       "9636    200.0\n",
       "9637      0.0\n",
       "9638      0.0\n",
       "9639    100.0\n",
       "Name: FOODOTHER, Length: 9640, dtype: float64"
      ]
     },
     "execution_count": 556,
     "metadata": {},
     "output_type": "execute_result"
    }
   ],
   "source": [
    "df_['FOODOTHER'].dropna(axis=0,how='any')"
   ]
  },
  {
   "cell_type": "code",
   "execution_count": 481,
   "metadata": {
    "collapsed": false
   },
   "outputs": [
    {
     "data": {
      "text/plain": [
       "0        7.0\n",
       "1        9.0\n",
       "2        8.0\n",
       "3        9.0\n",
       "4        5.0\n",
       "5        9.0\n",
       "6        6.0\n",
       "7        7.0\n",
       "8        8.0\n",
       "9        6.0\n",
       "10       8.0\n",
       "11       7.0\n",
       "12       8.0\n",
       "13       8.0\n",
       "14       8.0\n",
       "15       7.0\n",
       "16       9.0\n",
       "17       6.0\n",
       "18       7.0\n",
       "19       8.0\n",
       "20       8.0\n",
       "21       6.0\n",
       "22       7.0\n",
       "23       6.0\n",
       "24      10.0\n",
       "25       7.0\n",
       "26       7.0\n",
       "27       8.0\n",
       "28       7.0\n",
       "29       6.0\n",
       "        ... \n",
       "9783     NaN\n",
       "9784     NaN\n",
       "9785     NaN\n",
       "9786     NaN\n",
       "9787     NaN\n",
       "9788     NaN\n",
       "9789     NaN\n",
       "9790     NaN\n",
       "9791     NaN\n",
       "9792     NaN\n",
       "9793     NaN\n",
       "9794     NaN\n",
       "9795     NaN\n",
       "9796     NaN\n",
       "9797     NaN\n",
       "9798     NaN\n",
       "9799     NaN\n",
       "9800     NaN\n",
       "9801     NaN\n",
       "9802     NaN\n",
       "9803     NaN\n",
       "9804     NaN\n",
       "9805     NaN\n",
       "9806     NaN\n",
       "9807     NaN\n",
       "9808     NaN\n",
       "9809     NaN\n",
       "9810     NaN\n",
       "9811     NaN\n",
       "9812     NaN\n",
       "Name: SLEEPHRS, Length: 9813, dtype: float64"
      ]
     },
     "execution_count": 481,
     "metadata": {},
     "output_type": "execute_result"
    }
   ],
   "source": [
    "df_['SLEEPHRS']"
   ]
  },
  {
   "cell_type": "code",
   "execution_count": 482,
   "metadata": {
    "collapsed": false
   },
   "outputs": [],
   "source": [
    "df_['SLEEPHRS'] = df_['SLEEPHRS'].fillna(value=6.914225941422594)"
   ]
  },
  {
   "cell_type": "code",
   "execution_count": 489,
   "metadata": {
    "collapsed": false
   },
   "outputs": [],
   "source": [
    "df_['DLYCARB'] = df_['DLYCARB'].fillna(value=236.7161444489192)\n",
    "df_['GRPSTR'] = df_['GRPSTR'].fillna(value=63.054891233554876)\n",
    "df_['DLYPRT'] = df_['DLYPRT'].fillna(value=74.03213115854453)"
   ]
  },
  {
   "cell_type": "code",
   "execution_count": 625,
   "metadata": {
    "collapsed": false
   },
   "outputs": [
    {
     "data": {
      "text/plain": [
       "0.0    8671\n",
       "1.0    1142\n",
       "Name: VWRK, dtype: int64"
      ]
     },
     "execution_count": 625,
     "metadata": {},
     "output_type": "execute_result"
    }
   ],
   "source": [
    "df_['VWRK'].value_counts()"
   ]
  },
  {
   "cell_type": "code",
   "execution_count": 624,
   "metadata": {
    "collapsed": true
   },
   "outputs": [],
   "source": [
    "df_.to_csv('2013.csv')"
   ]
  },
  {
   "cell_type": "code",
   "execution_count": 583,
   "metadata": {
    "collapsed": false
   },
   "outputs": [],
   "source": [
    "DIABETIC = []\n",
    "for row in df_['DIQ010']:\n",
    "    if row == 1 or row ==3:\n",
    "        DIABETIC.append(1)\n",
    "    else:\n",
    "        DIABETIC.append(0)        \n",
    "df_['DIAB'] = pd.Series(DIABETIC)"
   ]
  },
  {
   "cell_type": "code",
   "execution_count": 617,
   "metadata": {
    "collapsed": false
   },
   "outputs": [
    {
     "data": {
      "text/plain": [
       "0        600.000000\n",
       "1        540.000000\n",
       "2        300.000000\n",
       "3        480.000000\n",
       "4        360.000000\n",
       "5         60.000000\n",
       "6         30.000000\n",
       "7        480.000000\n",
       "8        600.000000\n",
       "9        600.000000\n",
       "10       480.000000\n",
       "11       360.000000\n",
       "12       120.000000\n",
       "13       360.000000\n",
       "14       480.000000\n",
       "15       240.000000\n",
       "16       480.000000\n",
       "17       480.000000\n",
       "18       360.000000\n",
       "19       480.000000\n",
       "20       600.000000\n",
       "21       300.000000\n",
       "22       720.000000\n",
       "23       480.000000\n",
       "24       480.000000\n",
       "25       600.000000\n",
       "26      1080.000000\n",
       "27       360.000000\n",
       "28       540.000000\n",
       "29       600.000000\n",
       "           ...     \n",
       "9783     439.330921\n",
       "9784     439.330921\n",
       "9785     439.330921\n",
       "9786     439.330921\n",
       "9787     439.330921\n",
       "9788     439.330921\n",
       "9789     439.330921\n",
       "9790     439.330921\n",
       "9791     439.330921\n",
       "9792     439.330921\n",
       "9793     439.330921\n",
       "9794     439.330921\n",
       "9795     439.330921\n",
       "9796     439.330921\n",
       "9797     439.330921\n",
       "9798     439.330921\n",
       "9799     439.330921\n",
       "9800     439.330921\n",
       "9801     439.330921\n",
       "9802     439.330921\n",
       "9803     439.330921\n",
       "9804     439.330921\n",
       "9805     439.330921\n",
       "9806     439.330921\n",
       "9807     439.330921\n",
       "9808     439.330921\n",
       "9809     439.330921\n",
       "9810     439.330921\n",
       "9811     439.330921\n",
       "9812     439.330921\n",
       "Name: SDNTRY, Length: 9813, dtype: float64"
      ]
     },
     "execution_count": 617,
     "metadata": {},
     "output_type": "execute_result"
    }
   ],
   "source": [
    "df_['SDNTRY']"
   ]
  },
  {
   "cell_type": "code",
   "execution_count": 631,
   "metadata": {
    "collapsed": false
   },
   "outputs": [
    {
     "data": {
      "text/plain": [
       "0.0    6708\n",
       "1.0    2347\n",
       "Name: OBESE, dtype: int64"
      ]
     },
     "execution_count": 631,
     "metadata": {},
     "output_type": "execute_result"
    }
   ],
   "source": [
    "df_.OBESE.value_counts()"
   ]
  },
  {
   "cell_type": "code",
   "execution_count": null,
   "metadata": {
    "collapsed": true
   },
   "outputs": [],
   "source": []
  }
 ],
 "metadata": {
  "kernelspec": {
   "display_name": "Python 3",
   "language": "python",
   "name": "python3"
  },
  "language_info": {
   "codemirror_mode": {
    "name": "ipython",
    "version": 3
   },
   "file_extension": ".py",
   "mimetype": "text/x-python",
   "name": "python",
   "nbconvert_exporter": "python",
   "pygments_lexer": "ipython3",
   "version": "3.6.0"
  }
 },
 "nbformat": 4,
 "nbformat_minor": 2
}
