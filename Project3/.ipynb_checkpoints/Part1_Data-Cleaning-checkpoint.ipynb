{
 "cells": [
  {
   "cell_type": "code",
   "execution_count": 43,
   "metadata": {
    "collapsed": false
   },
   "outputs": [],
   "source": [
    "import pandas as pd\n",
    "import numpy as np\n",
    "import matplotlib.pyplot as plt\n",
    "import seaborn as sns\n",
    "from sklearn import metrics\n",
    "from sklearn import preprocessing\n",
    "\n",
    "\n",
    "%matplotlib inline"
   ]
  },
  {
   "cell_type": "code",
   "execution_count": 44,
   "metadata": {
    "collapsed": true
   },
   "outputs": [],
   "source": [
    "df_ = pd.read_csv('/Users/hector/Downloads/behavioral-risk-factor-surveillance-system/2015.csv')"
   ]
  },
  {
   "cell_type": "code",
   "execution_count": 45,
   "metadata": {
    "collapsed": false
   },
   "outputs": [],
   "source": [
    "STR = []\n",
    "for row in df_['STRENGTH']:\n",
    "    if 100 < row < 107: ## If responded in 100's, this is a weekly frequency hence we subtract 100\n",
    "        STR.append(row-100)\n",
    "    elif 107 < row < 199: # If responded > 100, we assume they strength train daily and replace value as 7 \n",
    "        STR.append(7)\n",
    "    elif 200 < row <= 228: ## answers in 200s were monthly, so we want to subtract 200 and divide by 4(weeks in a month)\n",
    "        STR.append((row-200)/4) ## This gives us weekly values\n",
    "    elif 228 < row < 300:\n",
    "        STR.append(7)\n",
    "    elif row > 300:\n",
    "        STR.append(0) ## if responded 777 or 888, replace as 0 because they never str train or refused to respond \n",
    "df_['STRENGTH'] = pd.Series(STR)"
   ]
  },
  {
   "cell_type": "code",
   "execution_count": 46,
   "metadata": {
    "collapsed": true
   },
   "outputs": [],
   "source": [
    "BMI = []\n",
    "for row in df_['_BMI5']:\n",
    "    BMI.append((row//100))    \n",
    "df_['BMI'] = pd.Series(BMI)"
   ]
  },
  {
   "cell_type": "code",
   "execution_count": 50,
   "metadata": {
    "collapsed": true
   },
   "outputs": [],
   "source": [
    "OBESE = []\n",
    "OVERWEIGHT = []\n",
    "for row in df_['_BMI5CAT']:\n",
    "    if  row ==4:\n",
    "        OBESE.append(1)  ##Categorical variables for obese and overweight, 1 for both if obese\n",
    "        OVERWEIGHT.append(1)\n",
    "    elif row == 3:\n",
    "        OBESE.append(0) \n",
    "        OVERWEIGHT.append(1)\n",
    "    elif row == 2 or row ==1:\n",
    "        OBESE.append(0)\n",
    "        OVERWEIGHT.append(0)\n",
    "df_['OBESE'] = pd.Series(OBESE)\n",
    "df_['OVERWEIGHT'] = pd.Series(OVERWEIGHT)"
   ]
  },
  {
   "cell_type": "code",
   "execution_count": 58,
   "metadata": {
    "collapsed": false
   },
   "outputs": [
    {
     "data": {
      "text/plain": [
       "1.0    266928\n",
       "0.0    138130\n",
       "Name: OVERWEIGHT, dtype: int64"
      ]
     },
     "execution_count": 58,
     "metadata": {},
     "output_type": "execute_result"
    }
   ],
   "source": [
    "#df_ = df_[pd.notnull(df_['STRENGTH'])]\n",
    "df_['OVERWEIGHT'].value_counts()"
   ]
  },
  {
   "cell_type": "code",
   "execution_count": 10,
   "metadata": {
    "collapsed": false
   },
   "outputs": [],
   "source": [
    "STR = []\n",
    "for row in df_['_PASTRNG']:\n",
    "    if row == 1:\n",
    "        STR.append(1)\n",
    "    elif  row == 2: ## If responded meets requirements, 1, else, 0\n",
    "        STR.append(0)\n",
    "df_['STR_REQ'] = pd.Series(STR)"
   ]
  },
  {
   "cell_type": "code",
   "execution_count": 13,
   "metadata": {
    "collapsed": false
   },
   "outputs": [],
   "source": [
    "df_ = df_[pd.notnull(df_['STR_REQ'])]"
   ]
  },
  {
   "cell_type": "code",
   "execution_count": 16,
   "metadata": {
    "collapsed": false
   },
   "outputs": [
    {
     "data": {
      "text/plain": [
       "0.0    253722\n",
       "1.0     97781\n",
       "Name: STR_REQ, dtype: int64"
      ]
     },
     "execution_count": 16,
     "metadata": {},
     "output_type": "execute_result"
    }
   ],
   "source": [
    "df_['STR_REQ'].value_counts()"
   ]
  },
  {
   "cell_type": "code",
   "execution_count": 23,
   "metadata": {
    "collapsed": false
   },
   "outputs": [
    {
     "data": {
      "text/html": [
       "<div>\n",
       "<style>\n",
       "    .dataframe thead tr:only-child th {\n",
       "        text-align: right;\n",
       "    }\n",
       "\n",
       "    .dataframe thead th {\n",
       "        text-align: left;\n",
       "    }\n",
       "\n",
       "    .dataframe tbody tr th {\n",
       "        vertical-align: top;\n",
       "    }\n",
       "</style>\n",
       "<table border=\"1\" class=\"dataframe\">\n",
       "  <thead>\n",
       "    <tr style=\"text-align: right;\">\n",
       "      <th></th>\n",
       "      <th>STR_REQ</th>\n",
       "      <th>_BMI5</th>\n",
       "    </tr>\n",
       "  </thead>\n",
       "  <tbody>\n",
       "    <tr>\n",
       "      <th>STR_REQ</th>\n",
       "      <td>1.000000</td>\n",
       "      <td>-0.004022</td>\n",
       "    </tr>\n",
       "    <tr>\n",
       "      <th>_BMI5</th>\n",
       "      <td>-0.004022</td>\n",
       "      <td>1.000000</td>\n",
       "    </tr>\n",
       "  </tbody>\n",
       "</table>\n",
       "</div>"
      ],
      "text/plain": [
       "          STR_REQ     _BMI5\n",
       "STR_REQ  1.000000 -0.004022\n",
       "_BMI5   -0.004022  1.000000"
      ]
     },
     "execution_count": 23,
     "metadata": {},
     "output_type": "execute_result"
    }
   ],
   "source": [
    "df_[['STR_REQ','_BMI5']].corr()"
   ]
  },
  {
   "cell_type": "code",
   "execution_count": 22,
   "metadata": {
    "collapsed": false
   },
   "outputs": [
    {
     "data": {
      "text/html": [
       "<div>\n",
       "<style>\n",
       "    .dataframe thead tr:only-child th {\n",
       "        text-align: right;\n",
       "    }\n",
       "\n",
       "    .dataframe thead th {\n",
       "        text-align: left;\n",
       "    }\n",
       "\n",
       "    .dataframe tbody tr th {\n",
       "        vertical-align: top;\n",
       "    }\n",
       "</style>\n",
       "<table border=\"1\" class=\"dataframe\">\n",
       "  <thead>\n",
       "    <tr style=\"text-align: right;\">\n",
       "      <th></th>\n",
       "      <th>STRENGTH</th>\n",
       "      <th>_BMI5</th>\n",
       "    </tr>\n",
       "  </thead>\n",
       "  <tbody>\n",
       "    <tr>\n",
       "      <th>STRENGTH</th>\n",
       "      <td>1.000000</td>\n",
       "      <td>-0.003616</td>\n",
       "    </tr>\n",
       "    <tr>\n",
       "      <th>_BMI5</th>\n",
       "      <td>-0.003616</td>\n",
       "      <td>1.000000</td>\n",
       "    </tr>\n",
       "  </tbody>\n",
       "</table>\n",
       "</div>"
      ],
      "text/plain": [
       "          STRENGTH     _BMI5\n",
       "STRENGTH  1.000000 -0.003616\n",
       "_BMI5    -0.003616  1.000000"
      ]
     },
     "execution_count": 22,
     "metadata": {},
     "output_type": "execute_result"
    }
   ],
   "source": [
    "df_[['STRENGTH','_BMI5']].corr()"
   ]
  },
  {
   "cell_type": "code",
   "execution_count": 26,
   "metadata": {
    "collapsed": false
   },
   "outputs": [],
   "source": [
    "BMI = []\n",
    "for row in df_['_BMI5']:\n",
    "    BMI.append((row//100))    \n",
    "df_['BMI'] = pd.Series(BMI)"
   ]
  },
  {
   "cell_type": "code",
   "execution_count": 42,
   "metadata": {
    "collapsed": false
   },
   "outputs": [
    {
     "data": {
      "text/plain": [
       "0         4.0\n",
       "1         3.0\n",
       "2         2.0\n",
       "3         3.0\n",
       "4         2.0\n",
       "5         3.0\n",
       "6         2.0\n",
       "7         4.0\n",
       "8         1.0\n",
       "9         3.0\n",
       "10        4.0\n",
       "11        3.0\n",
       "12        NaN\n",
       "13        2.0\n",
       "14        3.0\n",
       "15        3.0\n",
       "16        4.0\n",
       "17        3.0\n",
       "18        3.0\n",
       "19        2.0\n",
       "20        3.0\n",
       "21        2.0\n",
       "22        4.0\n",
       "23        4.0\n",
       "24        3.0\n",
       "25        3.0\n",
       "26        2.0\n",
       "27        4.0\n",
       "28        2.0\n",
       "29        1.0\n",
       "         ... \n",
       "351473    3.0\n",
       "351474    1.0\n",
       "351475    4.0\n",
       "351476    3.0\n",
       "351477    2.0\n",
       "351478    4.0\n",
       "351479    4.0\n",
       "351480    2.0\n",
       "351481    4.0\n",
       "351482    4.0\n",
       "351483    3.0\n",
       "351484    2.0\n",
       "351485    4.0\n",
       "351486    2.0\n",
       "351487    3.0\n",
       "351488    3.0\n",
       "351489    2.0\n",
       "351490    2.0\n",
       "351491    3.0\n",
       "351492    3.0\n",
       "351493    2.0\n",
       "351494    2.0\n",
       "351495    4.0\n",
       "351496    NaN\n",
       "351497    3.0\n",
       "351498    3.0\n",
       "351499    3.0\n",
       "351500    3.0\n",
       "351501    3.0\n",
       "351502    3.0\n",
       "Name: _BMI5CAT, Length: 351503, dtype: float64"
      ]
     },
     "execution_count": 42,
     "metadata": {},
     "output_type": "execute_result"
    }
   ],
   "source": [
    "df_['_BMI5CAT']"
   ]
  },
  {
   "cell_type": "code",
   "execution_count": 40,
   "metadata": {
    "collapsed": false
   },
   "outputs": [
    {
     "data": {
      "text/html": [
       "<div>\n",
       "<style>\n",
       "    .dataframe thead tr:only-child th {\n",
       "        text-align: right;\n",
       "    }\n",
       "\n",
       "    .dataframe thead th {\n",
       "        text-align: left;\n",
       "    }\n",
       "\n",
       "    .dataframe tbody tr th {\n",
       "        vertical-align: top;\n",
       "    }\n",
       "</style>\n",
       "<table border=\"1\" class=\"dataframe\">\n",
       "  <thead>\n",
       "    <tr style=\"text-align: right;\">\n",
       "      <th></th>\n",
       "      <th>STR_REQ</th>\n",
       "      <th>BMI</th>\n",
       "    </tr>\n",
       "  </thead>\n",
       "  <tbody>\n",
       "    <tr>\n",
       "      <th>STR_REQ</th>\n",
       "      <td>1.000000</td>\n",
       "      <td>-0.003906</td>\n",
       "    </tr>\n",
       "    <tr>\n",
       "      <th>BMI</th>\n",
       "      <td>-0.003906</td>\n",
       "      <td>1.000000</td>\n",
       "    </tr>\n",
       "  </tbody>\n",
       "</table>\n",
       "</div>"
      ],
      "text/plain": [
       "          STR_REQ       BMI\n",
       "STR_REQ  1.000000 -0.003906\n",
       "BMI     -0.003906  1.000000"
      ]
     },
     "execution_count": 40,
     "metadata": {},
     "output_type": "execute_result"
    }
   ],
   "source": [
    "df_[['STR_REQ','BMI']].corr()"
   ]
  },
  {
   "cell_type": "code",
   "execution_count": null,
   "metadata": {
    "collapsed": true
   },
   "outputs": [],
   "source": []
  }
 ],
 "metadata": {
  "kernelspec": {
   "display_name": "Python 3",
   "language": "python",
   "name": "python3"
  },
  "language_info": {
   "codemirror_mode": {
    "name": "ipython",
    "version": 3
   },
   "file_extension": ".py",
   "mimetype": "text/x-python",
   "name": "python",
   "nbconvert_exporter": "python",
   "pygments_lexer": "ipython3",
   "version": "3.6.0"
  }
 },
 "nbformat": 4,
 "nbformat_minor": 2
}
