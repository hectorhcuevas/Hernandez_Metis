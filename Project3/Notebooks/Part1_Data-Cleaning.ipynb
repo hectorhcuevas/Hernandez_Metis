{
 "cells": [
  {
   "cell_type": "code",
   "execution_count": 43,
   "metadata": {
    "collapsed": false
   },
   "outputs": [],
   "source": [
    "import pandas as pd\n",
    "import numpy as np\n",
    "import matplotlib.pyplot as plt\n",
    "import seaborn as sns\n",
    "from sklearn import metrics\n",
    "from sklearn import preprocessing\n",
    "\n",
    "\n",
    "%matplotlib inline"
   ]
  },
  {
   "cell_type": "code",
   "execution_count": 44,
   "metadata": {
    "collapsed": true
   },
   "outputs": [],
   "source": [
    "df_ = pd.read_csv('/Users/hector/Downloads/behavioral-risk-factor-surveillance-system/2015.csv')"
   ]
  },
  {
   "cell_type": "code",
   "execution_count": 45,
   "metadata": {
    "collapsed": false
   },
   "outputs": [],
   "source": [
    "STR = []\n",
    "for row in df_['STRENGTH']:\n",
    "    if 100 < row < 107: ## If responded in 100's, this is a weekly frequency hence we subtract 100\n",
    "        STR.append(row-100)\n",
    "    elif 107 < row < 199: # If responded > 100, we assume they strength train daily and replace value as 7 \n",
    "        STR.append(7)\n",
    "    elif 200 < row <= 228: ## answers in 200s were monthly, so we want to subtract 200 and divide by 4(weeks in a month)\n",
    "        STR.append((row-200)/4) ## This gives us weekly values\n",
    "    elif 228 < row < 300:\n",
    "        STR.append(7)\n",
    "    elif row > 300:\n",
    "        STR.append(0) ## if responded 777 or 888, replace as 0 because they never str train or refused to respond \n",
    "df_['STRENGTH'] = pd.Series(STR)"
   ]
  },
  {
   "cell_type": "code",
   "execution_count": 46,
   "metadata": {
    "collapsed": true
   },
   "outputs": [],
   "source": [
    "BMI = []\n",
    "for row in df_['_BMI5']:\n",
    "    BMI.append((row//100))    \n",
    "df_['BMI'] = pd.Series(BMI)"
   ]
  },
  {
   "cell_type": "code",
   "execution_count": 50,
   "metadata": {
    "collapsed": true
   },
   "outputs": [],
   "source": [
    "OBESE = []\n",
    "OVERWEIGHT = []\n",
    "for row in df_['_BMI5CAT']:\n",
    "    if  row ==4:\n",
    "        OBESE.append(1)  ##Categorical variables for obese and overweight, 1 for both if obese\n",
    "        OVERWEIGHT.append(1)\n",
    "    elif row == 3:\n",
    "        OBESE.append(0) \n",
    "        OVERWEIGHT.append(1)\n",
    "    elif row == 2 or row ==1:\n",
    "        OBESE.append(0)\n",
    "        OVERWEIGHT.append(0)\n",
    "df_['OBESE'] = pd.Series(OBESE)\n",
    "df_['OVERWEIGHT'] = pd.Series(OVERWEIGHT)"
   ]
  },
  {
   "cell_type": "code",
   "execution_count": 93,
   "metadata": {
    "collapsed": false
   },
   "outputs": [],
   "source": [
    "FRUIT = []\n",
    "for row in df_['_FRUTSUM']:\n",
    "    if  100 <  row < 200:\n",
    "        FRUIT.append(row/100)\n",
    "df_['FRUIT'] = pd.Series(FRUIT)"
   ]
  },
  {
   "cell_type": "code",
   "execution_count": 99,
   "metadata": {
    "collapsed": true
   },
   "outputs": [],
   "source": [
    "VEG = []\n",
    "for row in df_['_VEGESUM']:\n",
    "    if  100 <  row < 200:\n",
    "        VEG.append(row/100)\n",
    "df_['VEG'] = pd.Series(VEG)"
   ]
  },
  {
   "cell_type": "code",
   "execution_count": 100,
   "metadata": {
    "collapsed": false
   },
   "outputs": [
    {
     "data": {
      "text/plain": [
       "1.476795492448075"
      ]
     },
     "execution_count": 100,
     "metadata": {},
     "output_type": "execute_result"
    }
   ],
   "source": [
    "#df_ = df_[pd.notnull(df_['STRENGTH'])]\n",
    "df_['VEG'].mean()"
   ]
  },
  {
   "cell_type": "code",
   "execution_count": 60,
   "metadata": {
    "collapsed": false
   },
   "outputs": [],
   "source": [
    "STR = []\n",
    "for row in df_['_PASTRNG']:\n",
    "    if row == 1:\n",
    "        STR.append(1)\n",
    "    elif  row == 2: ## If responded meets requirements, 1, else, 0\n",
    "        STR.append(0)\n",
    "df_['STR_REQ'] = pd.Series(STR)"
   ]
  },
  {
   "cell_type": "code",
   "execution_count": 68,
   "metadata": {
    "collapsed": false
   },
   "outputs": [],
   "source": [
    "PAREQ = []\n",
    "for row in df_['_PASTAE1']:\n",
    "    if row == 1:\n",
    "        PAREQ.append(1)\n",
    "    elif  row == 2: ## If responded meets requirements, 1, else, 0\n",
    "        PAREQ.append(0)\n",
    "df_['PAREQ'] = pd.Series(PAREQ)"
   ]
  },
  {
   "cell_type": "code",
   "execution_count": 69,
   "metadata": {
    "collapsed": false
   },
   "outputs": [
    {
     "data": {
      "text/plain": [
       "0.0    309251\n",
       "1.0     74696\n",
       "Name: PAREQ, dtype: int64"
      ]
     },
     "execution_count": 69,
     "metadata": {},
     "output_type": "execute_result"
    }
   ],
   "source": [
    "df_['PAREQ'].value_counts()"
   ]
  },
  {
   "cell_type": "code",
   "execution_count": 103,
   "metadata": {
    "collapsed": false
   },
   "outputs": [
    {
     "data": {
      "text/html": [
       "<div>\n",
       "<style>\n",
       "    .dataframe thead tr:only-child th {\n",
       "        text-align: right;\n",
       "    }\n",
       "\n",
       "    .dataframe thead th {\n",
       "        text-align: left;\n",
       "    }\n",
       "\n",
       "    .dataframe tbody tr th {\n",
       "        vertical-align: top;\n",
       "    }\n",
       "</style>\n",
       "<table border=\"1\" class=\"dataframe\">\n",
       "  <thead>\n",
       "    <tr style=\"text-align: right;\">\n",
       "      <th></th>\n",
       "      <th>FRUIT</th>\n",
       "      <th>OBESE</th>\n",
       "    </tr>\n",
       "  </thead>\n",
       "  <tbody>\n",
       "    <tr>\n",
       "      <th>FRUIT</th>\n",
       "      <td>1.000000</td>\n",
       "      <td>0.002973</td>\n",
       "    </tr>\n",
       "    <tr>\n",
       "      <th>OBESE</th>\n",
       "      <td>0.002973</td>\n",
       "      <td>1.000000</td>\n",
       "    </tr>\n",
       "  </tbody>\n",
       "</table>\n",
       "</div>"
      ],
      "text/plain": [
       "          FRUIT     OBESE\n",
       "FRUIT  1.000000  0.002973\n",
       "OBESE  0.002973  1.000000"
      ]
     },
     "execution_count": 103,
     "metadata": {},
     "output_type": "execute_result"
    }
   ],
   "source": [
    "df_[['FRUIT','OBESE']].corr()"
   ]
  },
  {
   "cell_type": "code",
   "execution_count": 107,
   "metadata": {
    "collapsed": false
   },
   "outputs": [
    {
     "data": {
      "text/html": [
       "<div>\n",
       "<style>\n",
       "    .dataframe thead tr:only-child th {\n",
       "        text-align: right;\n",
       "    }\n",
       "\n",
       "    .dataframe thead th {\n",
       "        text-align: left;\n",
       "    }\n",
       "\n",
       "    .dataframe tbody tr th {\n",
       "        vertical-align: top;\n",
       "    }\n",
       "</style>\n",
       "<table border=\"1\" class=\"dataframe\">\n",
       "  <thead>\n",
       "    <tr style=\"text-align: right;\">\n",
       "      <th></th>\n",
       "      <th>VEG</th>\n",
       "      <th>OBESE</th>\n",
       "    </tr>\n",
       "  </thead>\n",
       "  <tbody>\n",
       "    <tr>\n",
       "      <th>VEG</th>\n",
       "      <td>1.000000</td>\n",
       "      <td>0.001287</td>\n",
       "    </tr>\n",
       "    <tr>\n",
       "      <th>OBESE</th>\n",
       "      <td>0.001287</td>\n",
       "      <td>1.000000</td>\n",
       "    </tr>\n",
       "  </tbody>\n",
       "</table>\n",
       "</div>"
      ],
      "text/plain": [
       "            VEG     OBESE\n",
       "VEG    1.000000  0.001287\n",
       "OBESE  0.001287  1.000000"
      ]
     },
     "execution_count": 107,
     "metadata": {},
     "output_type": "execute_result"
    }
   ],
   "source": [
    "df_[['VEG','OBESE']].corr()"
   ]
  },
  {
   "cell_type": "code",
   "execution_count": 111,
   "metadata": {
    "collapsed": false
   },
   "outputs": [
    {
     "data": {
      "text/plain": [
       "1.3111007171003362"
      ]
     },
     "execution_count": 111,
     "metadata": {},
     "output_type": "execute_result"
    }
   ],
   "source": [
    "df_['FRUIT'].mean()"
   ]
  },
  {
   "cell_type": "code",
   "execution_count": null,
   "metadata": {
    "collapsed": false
   },
   "outputs": [],
   "source": []
  },
  {
   "cell_type": "code",
   "execution_count": null,
   "metadata": {
    "collapsed": false
   },
   "outputs": [],
   "source": []
  },
  {
   "cell_type": "code",
   "execution_count": null,
   "metadata": {
    "collapsed": true
   },
   "outputs": [],
   "source": [
    "#df_ = df_[pd.notnull(df_['STR_REQ'])]\n"
   ]
  }
 ],
 "metadata": {
  "kernelspec": {
   "display_name": "Python 3",
   "language": "python",
   "name": "python3"
  },
  "language_info": {
   "codemirror_mode": {
    "name": "ipython",
    "version": 3
   },
   "file_extension": ".py",
   "mimetype": "text/x-python",
   "name": "python",
   "nbconvert_exporter": "python",
   "pygments_lexer": "ipython3",
   "version": "3.6.0"
  }
 },
 "nbformat": 4,
 "nbformat_minor": 2
}
