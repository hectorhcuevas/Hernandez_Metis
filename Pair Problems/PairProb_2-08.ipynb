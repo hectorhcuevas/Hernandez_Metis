{
 "cells": [
  {
   "cell_type": "code",
   "execution_count": 14,
   "metadata": {
    "collapsed": true
   },
   "outputs": [],
   "source": [
    "def Way(n,d):\n",
    "    if d > n:\n",
    "        return('no way')\n",
    "    else:\n",
    "        way = 1\n",
    "        for k in range(0,d):\n",
    "            way += n-k\n",
    "        return(way)"
   ]
  },
  {
   "cell_type": "code",
   "execution_count": 17,
   "metadata": {
    "collapsed": false
   },
   "outputs": [],
   "source": [
    "import itertools"
   ]
  },
  {
   "cell_type": "code",
   "execution_count": 21,
   "metadata": {
    "collapsed": false
   },
   "outputs": [
    {
     "ename": "SyntaxError",
     "evalue": "invalid syntax (<ipython-input-21-f86d429289d9>, line 3)",
     "output_type": "error",
     "traceback": [
      "\u001b[0;36m  File \u001b[0;32m\"<ipython-input-21-f86d429289d9>\"\u001b[0;36m, line \u001b[0;32m3\u001b[0m\n\u001b[0;31m    S = Ways += 0\u001b[0m\n\u001b[0m              ^\u001b[0m\n\u001b[0;31mSyntaxError\u001b[0m\u001b[0;31m:\u001b[0m invalid syntax\n"
     ]
    }
   ],
   "source": [
    "def Ways(n,d):\n",
    "    Ways = 0\n",
    "    S = Ways += 0\n",
    "    F = Ways -= 1\n",
    "    F = Ways += 1 \n",
    "    moves = set(itertools.permutations([F,B,S]))\n",
    "    if d > n: \n",
    "        return('no way')\n",
    "    else:\n",
    "        list(itertools.permutations(enumerate(d)))"
   ]
  },
  {
   "cell_type": "code",
   "execution_count": 31,
   "metadata": {
    "collapsed": false
   },
   "outputs": [],
   "source": [
    "def ways2(N,D):\n",
    "    if D > N:\n",
    "        return('No way')\n",
    "    else:\n",
    "        way = 1\n",
    "        for k in range(0,D):\n",
    "            way *= N-k\n",
    "        for k in range(0,D):\n",
    "            way = way/(k+1)\n",
    "        return(way)\n"
   ]
  },
  {
   "cell_type": "code",
   "execution_count": 36,
   "metadata": {
    "collapsed": false
   },
   "outputs": [
    {
     "ename": "IndentationError",
     "evalue": "unindent does not match any outer indentation level (<ipython-input-36-7392618c4f40>, line 11)",
     "output_type": "error",
     "traceback": [
      "\u001b[0;36m  File \u001b[0;32m\"<ipython-input-36-7392618c4f40>\"\u001b[0;36m, line \u001b[0;32m11\u001b[0m\n\u001b[0;31m    for _ in range(1,F+1):\u001b[0m\n\u001b[0m                          ^\u001b[0m\n\u001b[0;31mIndentationError\u001b[0m\u001b[0;31m:\u001b[0m unindent does not match any outer indentation level\n"
     ]
    }
   ],
   "source": [
    "import numpy as np\n",
    "import itertools\n",
    "def ways3(N,D):\n",
    "    ways = []\n",
    "    for S in range(N-D):\n",
    "        way = []\n",
    "        if (N+D-S)%2 == 0:\n",
    "            F = (N+D-S)//2\n",
    "            B = (N-D+S)//2\n",
    "           \n",
    "           for _ in range(1,F+1):\n",
    "                way.append(1.0)\n",
    "            for _ in range(1,B+1):\n",
    "                way.append(-1.0)\n",
    "           \n",
    "           ways.append(list(itertools.permutations(way)))\n",
    "   \n",
    "   return(ways)"
   ]
  },
  {
   "cell_type": "code",
   "execution_count": null,
   "metadata": {
    "collapsed": true
   },
   "outputs": [],
   "source": []
  }
 ],
 "metadata": {
  "kernelspec": {
   "display_name": "Python 3",
   "language": "python",
   "name": "python3"
  },
  "language_info": {
   "codemirror_mode": {
    "name": "ipython",
    "version": 3
   },
   "file_extension": ".py",
   "mimetype": "text/x-python",
   "name": "python",
   "nbconvert_exporter": "python",
   "pygments_lexer": "ipython3",
   "version": "3.6.0"
  }
 },
 "nbformat": 4,
 "nbformat_minor": 2
}
