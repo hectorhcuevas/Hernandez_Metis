{
 "cells": [
  {
   "cell_type": "code",
   "execution_count": 1,
   "metadata": {
    "collapsed": true
   },
   "outputs": [],
   "source": [
    "import random"
   ]
  },
  {
   "cell_type": "code",
   "execution_count": 2,
   "metadata": {
    "collapsed": true
   },
   "outputs": [],
   "source": [
    "def eggdrop(floors):\n",
    "    n = 2\n",
    "    k = random.randint(1,floors)\n",
    "    increments = []\n",
    "    for i in range(1, floors, (n+1)):\n",
    "        increments.append(i)\n",
    "    print(increments)\n",
    "    for j in range(len(increments)):\n",
    "        if increments[j] == k:\n",
    "            print(\"was one of the increments\")\n",
    "            return increments[j]\n",
    "        elif increments[j] < k:\n",
    "            print(\"didnt break!\")\n",
    "            pass\n",
    "        elif increments[j] > k:\n",
    "            if increments[j-1] == k:\n",
    "                print(\"Broke. trying one below\")\n",
    "                return increments[j-1]\n",
    "            else:\n",
    "                print(\"found optimal floor by deduction\")\n",
    "                return increments[j-2]"
   ]
  },
  {
   "cell_type": "code",
   "execution_count": null,
   "metadata": {
    "collapsed": true
   },
   "outputs": [],
   "source": []
  }
 ],
 "metadata": {
  "kernelspec": {
   "display_name": "Python 3",
   "language": "python",
   "name": "python3"
  },
  "language_info": {
   "codemirror_mode": {
    "name": "ipython",
    "version": 3
   },
   "file_extension": ".py",
   "mimetype": "text/x-python",
   "name": "python",
   "nbconvert_exporter": "python",
   "pygments_lexer": "ipython3",
   "version": "3.6.0"
  }
 },
 "nbformat": 4,
 "nbformat_minor": 2
}
