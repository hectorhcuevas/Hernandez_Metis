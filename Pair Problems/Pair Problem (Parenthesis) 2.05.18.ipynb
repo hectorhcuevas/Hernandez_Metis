{
 "cells": [
  {
   "cell_type": "code",
   "execution_count": 3,
   "metadata": {
    "collapsed": false
   },
   "outputs": [
    {
     "data": {
      "text/plain": [
       "'\\'\\nIn programming languages, and especially in Lisps, there can be a lot of parentheses. The parentheses have to be \"balanced\" to be valid. For example, ()(()) is balanced, but ()()) is not balanced. Also, )((()) is not balanced.\\n\\nWrite a function that takes a string and returns True if the string\\'s parentheses are balanced, False if they are not.\\n\\nThis is fairly easy. Once you are finished, see if you can come up with a second way to solve the problem.\\n\\nHere are examples to test your function with:\\n\\n(()()()()) should return True\\n(((()))) should return True\\n(()((())())) should return True\\n((((((()) should return False\\n())) should return False\\n(()()))(() should return False\\n'"
      ]
     },
     "execution_count": 3,
     "metadata": {},
     "output_type": "execute_result"
    }
   ],
   "source": [
    "''''''''''\n",
    "In programming languages, and especially in Lisps, there can be a lot of parentheses. The parentheses have to be \"balanced\" to be valid. For example, ()(()) is balanced, but ()()) is not balanced. Also, )((()) is not balanced.\n",
    "\n",
    "Write a function that takes a string and returns True if the string's parentheses are balanced, False if they are not.\n",
    "\n",
    "This is fairly easy. Once you are finished, see if you can come up with a second way to solve the problem.\n",
    "\n",
    "Here are examples to test your function with:\n",
    "\n",
    "(()()()()) should return True\n",
    "(((()))) should return True\n",
    "(()((())())) should return True\n",
    "((((((()) should return False\n",
    "())) should return False\n",
    "(()()))(() should return False\n",
    "'''''''''\n"
   ]
  },
  {
   "cell_type": "code",
   "execution_count": 4,
   "metadata": {
    "collapsed": true
   },
   "outputs": [],
   "source": [
    "\n",
    "def brackets():\n",
    "    openers = [\"(\", \"{\", \"[\"]\n",
    "    closers = {\"}\":\"{\", \"]\":\"[\", \")\":\"(\"}\n",
    "    stack =[]\n",
    "    s = raw_input().strip()\n",
    "    for i in s:\n",
    "        if i in openers:\n",
    "            stack.append(i)\n",
    "        else:\n",
    "            try:\n",
    "                if stack.pop() != closers[i]:\n",
    "                    # something wasn't paired\n",
    "                    return False\n",
    "            except:\n",
    "                # there was a surplus of closers\n",
    "                return False\n",
    "    if stack:\n",
    "        # there was a surplus of openers\n",
    "        return False\n",
    "    # no fail condidtions met; string is balanced\n",
    "    return True"
   ]
  },
  {
   "cell_type": "code",
   "execution_count": null,
   "metadata": {
    "collapsed": true
   },
   "outputs": [],
   "source": []
  }
 ],
 "metadata": {
  "kernelspec": {
   "display_name": "Python 3",
   "language": "python",
   "name": "python3"
  },
  "language_info": {
   "codemirror_mode": {
    "name": "ipython",
    "version": 3
   },
   "file_extension": ".py",
   "mimetype": "text/x-python",
   "name": "python",
   "nbconvert_exporter": "python",
   "pygments_lexer": "ipython3",
   "version": "3.6.0"
  }
 },
 "nbformat": 4,
 "nbformat_minor": 2
}
