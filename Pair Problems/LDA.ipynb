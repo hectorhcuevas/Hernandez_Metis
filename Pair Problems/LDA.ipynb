{
 "cells": [
  {
   "cell_type": "code",
   "execution_count": 15,
   "metadata": {
    "collapsed": true
   },
   "outputs": [],
   "source": [
    "import pandas as pd \n",
    "import numpy as np\n",
    "import random"
   ]
  },
  {
   "cell_type": "code",
   "execution_count": 25,
   "metadata": {
    "collapsed": false
   },
   "outputs": [],
   "source": [
    "def make_doc(topic_probs, n_words):\n",
    "    tops = random.choices(topics, weights=topic_probs, k=n_words)\n",
    "    doc = [random.choices(words, weights=top, k=1)[0] for top in tops]\n",
    "    return doc\n",
    "    \n"
   ]
  },
  {
   "cell_type": "code",
   "execution_count": 26,
   "metadata": {
    "collapsed": true
   },
   "outputs": [],
   "source": [
    "docs = [[0.98, 0.01, 0.01],\n",
    "        [0.01, 0.98, 0.01],\n",
    "        [0.01, 0.01, 0.98]]\n",
    "topics = [[ 0.4,      0.4,   0.01,        0.01,    0.01,       0.01,\n",
    "            0.1,     0.04,   0.01,        0.01],\n",
    "          [0.01,     0.01,    0.4,         0.4,    0.01,       0.01,\n",
    "            0.1,     0.04,   0.01,        0.01],\n",
    "          [0.02,     0.02,   0.01,        0.01,     0.4,        0.4,\n",
    "           0.02,      0.1,   0.01,        0.01]]\n",
    "words =  ['cat', 'kitten',  'dog',     'puppy',  'deep', 'learning',\n",
    "          'fur',  'image',  'GPU', 'asparagus']"
   ]
  },
  {
   "cell_type": "code",
   "execution_count": 27,
   "metadata": {
    "collapsed": false
   },
   "outputs": [
    {
     "name": "stdout",
     "output_type": "stream",
     "text": [
      "['cat', 'kitten', 'kitten', 'cat', 'kitten', 'kitten', 'kitten', 'kitten', 'image', 'cat']\n",
      "['puppy', 'image', 'puppy', 'dog', 'dog', 'puppy', 'dog', 'dog', 'dog', 'dog']\n",
      "['learning', 'deep', 'learning', 'learning', 'learning', 'deep', 'deep', 'learning', 'deep', 'learning']\n"
     ]
    }
   ],
   "source": [
    "for doc in docs:\n",
    "    print(make_doc(topic_probs=doc, n_words=10))"
   ]
  },
  {
   "cell_type": "code",
   "execution_count": null,
   "metadata": {
    "collapsed": true
   },
   "outputs": [],
   "source": []
  }
 ],
 "metadata": {
  "kernelspec": {
   "display_name": "Python 3",
   "language": "python",
   "name": "python3"
  },
  "language_info": {
   "codemirror_mode": {
    "name": "ipython",
    "version": 3
   },
   "file_extension": ".py",
   "mimetype": "text/x-python",
   "name": "python",
   "nbconvert_exporter": "python",
   "pygments_lexer": "ipython3",
   "version": "3.6.0"
  }
 },
 "nbformat": 4,
 "nbformat_minor": 2
}
